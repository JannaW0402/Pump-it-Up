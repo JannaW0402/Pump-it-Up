{
 "cells": [
  {
   "cell_type": "code",
   "execution_count": 7,
   "metadata": {},
   "outputs": [],
   "source": [
    "import pandas as pd\n",
    "import numpy as np\n",
    "import seaborn as sns\n",
    "import scipy.stats as stats\n",
    "import statsmodels.api as sm\n",
    "# This allows Jupyter-inlined plots.\n",
    "import matplotlib.pyplot as plt\n",
    "%matplotlib inline "
   ]
  },
  {
   "cell_type": "code",
   "execution_count": 300,
   "metadata": {},
   "outputs": [],
   "source": [
    "df = pd.read_csv(\"Train value with labels_original_07.07.2021.csv\")"
   ]
  },
  {
   "cell_type": "code",
   "execution_count": 301,
   "metadata": {
    "scrolled": true
   },
   "outputs": [
    {
     "name": "stdout",
     "output_type": "stream",
     "text": [
      "<class 'pandas.core.frame.DataFrame'>\n",
      "RangeIndex: 59400 entries, 0 to 59399\n",
      "Data columns (total 41 columns):\n",
      " #   Column                 Non-Null Count  Dtype  \n",
      "---  ------                 --------------  -----  \n",
      " 0   id                     59400 non-null  int64  \n",
      " 1   amount_tsh             59400 non-null  float64\n",
      " 2   date_recorded          59400 non-null  object \n",
      " 3   funder                 55765 non-null  object \n",
      " 4   gps_height             59400 non-null  int64  \n",
      " 5   installer              55745 non-null  object \n",
      " 6   longitude              59400 non-null  float64\n",
      " 7   latitude               59400 non-null  float64\n",
      " 8   wpt_name               59400 non-null  object \n",
      " 9   num_private            59400 non-null  int64  \n",
      " 10  basin                  59400 non-null  object \n",
      " 11  subvillage             59029 non-null  object \n",
      " 12  region                 59400 non-null  object \n",
      " 13  region_code            59400 non-null  int64  \n",
      " 14  district_code          59400 non-null  int64  \n",
      " 15  lga                    59400 non-null  object \n",
      " 16  ward                   59400 non-null  object \n",
      " 17  population             59400 non-null  int64  \n",
      " 18  public_meeting         56066 non-null  object \n",
      " 19  recorded_by            59400 non-null  object \n",
      " 20  scheme_management      55523 non-null  object \n",
      " 21  scheme_name            31234 non-null  object \n",
      " 22  permit                 56344 non-null  object \n",
      " 23  construction_year      59400 non-null  int64  \n",
      " 24  extraction_type        59400 non-null  object \n",
      " 25  extraction_type_group  59400 non-null  object \n",
      " 26  extraction_type_class  59400 non-null  object \n",
      " 27  management             59400 non-null  object \n",
      " 28  management_group       59400 non-null  object \n",
      " 29  payment                59400 non-null  object \n",
      " 30  payment_type           59400 non-null  object \n",
      " 31  water_quality          59400 non-null  object \n",
      " 32  quality_group          59400 non-null  object \n",
      " 33  quantity               59400 non-null  object \n",
      " 34  quantity_group         59400 non-null  object \n",
      " 35  source                 59400 non-null  object \n",
      " 36  source_type            59400 non-null  object \n",
      " 37  source_class           59400 non-null  object \n",
      " 38  waterpoint_type        59400 non-null  object \n",
      " 39  waterpoint_type_group  59400 non-null  object \n",
      " 40  status_group           59400 non-null  object \n",
      "dtypes: float64(3), int64(7), object(31)\n",
      "memory usage: 18.6+ MB\n"
     ]
    }
   ],
   "source": [
    "df.info()"
   ]
  },
  {
   "cell_type": "markdown",
   "metadata": {},
   "source": [
    "Funder and Installer have missing values"
   ]
  },
  {
   "cell_type": "markdown",
   "metadata": {},
   "source": [
    "# Treating Outliers"
   ]
  },
  {
   "cell_type": "markdown",
   "metadata": {},
   "source": [
    "## amount_tsh"
   ]
  },
  {
   "cell_type": "code",
   "execution_count": 302,
   "metadata": {
    "scrolled": true
   },
   "outputs": [
    {
     "name": "stderr",
     "output_type": "stream",
     "text": [
      "C:\\Users\\deepa\\anaconda3\\lib\\site-packages\\seaborn\\_decorators.py:36: FutureWarning: Pass the following variable as a keyword arg: x. From version 0.12, the only valid positional argument will be `data`, and passing other arguments without an explicit keyword will result in an error or misinterpretation.\n",
      "  warnings.warn(\n"
     ]
    },
    {
     "data": {
      "text/plain": [
       "<AxesSubplot:xlabel='amount_tsh'>"
      ]
     },
     "execution_count": 302,
     "metadata": {},
     "output_type": "execute_result"
    },
    {
     "data": {
      "image/png": "[encoded data removed]",
      "text/plain": [
       "<Figure size 432x288 with 1 Axes>"
      ]
     },
     "metadata": {
      "needs_background": "light"
     },
     "output_type": "display_data"
    }
   ],
   "source": [
    "sns.boxplot(df['amount_tsh']) #outliers exist"
   ]
  },
  {
   "cell_type": "code",
   "execution_count": 303,
   "metadata": {
    "scrolled": false
   },
   "outputs": [
    {
     "data": {
      "image/png": "[encoded data removed]",
      "text/plain": [
       "<Figure size 432x288 with 1 Axes>"
      ]
     },
     "execution_count": 303,
     "metadata": {},
     "output_type": "execute_result"
    },
    {
     "data": {
      "image/png": "[encoded data removed]",
      "text/plain": [
       "<Figure size 432x288 with 1 Axes>"
      ]
     },
     "metadata": {
      "needs_background": "light"
     },
     "output_type": "display_data"
    }
   ],
   "source": [
    "sm.qqplot(df['amount_tsh'],line='s')"
   ]
  },
  {
   "cell_type": "markdown",
   "metadata": {},
   "source": [
    "In statistics, skewness is a measure of the asymmetry of the probability distribution of a random variable about its mean. In other words, skewness tells you the amount and direction of skew (departure from horizontal symmetry). The skewness value can be positive or negative, or even undefined. If skewness is 0, the data are perfectly symmetrical, although it is quite unlikely for real-world data. As a general rule of thumb:\n",
    "\n",
    "    If skewness is less than -1 or greater than 1, the distribution is highly skewed.\n",
    "    If skewness is between -1 and -0.5 or between 0.5 and 1, the distribution is moderately skewed.\n",
    "    If skewness is between -0.5 and 0.5, the distribution is approximately symmetric."
   ]
  },
  {
   "cell_type": "code",
   "execution_count": 304,
   "metadata": {},
   "outputs": [
    {
     "name": "stdout",
     "output_type": "stream",
     "text": [
      "57.8077999458852\n"
     ]
    }
   ],
   "source": [
    "print(df['amount_tsh'].skew()) #skewness"
   ]
  },
  {
   "cell_type": "code",
   "execution_count": 305,
   "metadata": {
    "scrolled": true
   },
   "outputs": [
    {
     "name": "stdout",
     "output_type": "stream",
     "text": [
      "count     59400.000000\n",
      "mean        317.650385\n",
      "std        2997.574558\n",
      "min           0.000000\n",
      "25%           0.000000\n",
      "50%           0.000000\n",
      "75%          20.000000\n",
      "max      350000.000000\n",
      "Name: amount_tsh, dtype: float64\n"
     ]
    }
   ],
   "source": [
    "print(df['amount_tsh'].describe())"
   ]
  },
  {
   "cell_type": "code",
   "execution_count": 306,
   "metadata": {
    "scrolled": true
   },
   "outputs": [
    {
     "name": "stdout",
     "output_type": "stream",
     "text": [
      "10812    350000.0\n",
      "22191    250000.0\n",
      "22817    200000.0\n",
      "45067    170000.0\n",
      "9961     138000.0\n",
      "Name: amount_tsh, dtype: float64\n",
      "\n",
      "\n",
      "29699    0.0\n",
      "36128    0.0\n",
      "36129    0.0\n",
      "36131    0.0\n",
      "36132    0.0\n",
      "Name: amount_tsh, dtype: float64\n"
     ]
    }
   ],
   "source": [
    "print(df['amount_tsh'].sort_values(ascending=False)[:5])\n",
    "print(\"\\n\")\n",
    "print(df['amount_tsh'].sort_values(ascending=True)[:5])"
   ]
  },
  {
   "cell_type": "code",
   "execution_count": 307,
   "metadata": {
    "scrolled": true
   },
   "outputs": [
    {
     "name": "stderr",
     "output_type": "stream",
     "text": [
      "C:\\Users\\deepa\\anaconda3\\lib\\site-packages\\seaborn\\distributions.py:2551: FutureWarning: `distplot` is a deprecated function and will be removed in a future version. Please adapt your code to use either `displot` (a figure-level function with similar flexibility) or `histplot` (an axes-level function for histograms).\n",
      "  warnings.warn(msg, FutureWarning)\n"
     ]
    },
    {
     "data": {
      "text/plain": [
       "<AxesSubplot:xlabel='amount_tsh', ylabel='Density'>"
      ]
     },
     "execution_count": 307,
     "metadata": {},
     "output_type": "execute_result"
    },
    {
     "data": {
      "image/png": "[encoded data removed]",
      "text/plain": [
       "<Figure size 432x288 with 1 Axes>"
      ]
     },
     "metadata": {
      "needs_background": "light"
     },
     "output_type": "display_data"
    }
   ],
   "source": [
    "sns.distplot(df['amount_tsh'])"
   ]
  },
  {
   "cell_type": "markdown",
   "metadata": {},
   "source": [
    "## gps_height"
   ]
  },
  {
   "cell_type": "code",
   "execution_count": 308,
   "metadata": {},
   "outputs": [
    {
     "data": {
      "text/plain": [
       "Index(['id', 'amount_tsh', 'date_recorded', 'funder', 'gps_height',\n",
       "       'installer', 'longitude', 'latitude', 'wpt_name', 'num_private',\n",
       "       'basin', 'subvillage', 'region', 'region_code', 'district_code', 'lga',\n",
       "       'ward', 'population', 'public_meeting', 'recorded_by',\n",
       "       'scheme_management', 'scheme_name', 'permit', 'construction_year',\n",
       "       'extraction_type', 'extraction_type_group', 'extraction_type_class',\n",
       "       'management', 'management_group', 'payment', 'payment_type',\n",
       "       'water_quality', 'quality_group', 'quantity', 'quantity_group',\n",
       "       'source', 'source_type', 'source_class', 'waterpoint_type',\n",
       "       'waterpoint_type_group', 'status_group'],\n",
       "      dtype='object')"
      ]
     },
     "execution_count": 308,
     "metadata": {},
     "output_type": "execute_result"
    }
   ],
   "source": [
    "df.columns"
   ]
  },
  {
   "cell_type": "code",
   "execution_count": 309,
   "metadata": {
    "scrolled": false
   },
   "outputs": [
    {
     "name": "stderr",
     "output_type": "stream",
     "text": [
      "C:\\Users\\deepa\\anaconda3\\lib\\site-packages\\seaborn\\_decorators.py:36: FutureWarning: Pass the following variable as a keyword arg: x. From version 0.12, the only valid positional argument will be `data`, and passing other arguments without an explicit keyword will result in an error or misinterpretation.\n",
      "  warnings.warn(\n"
     ]
    },
    {
     "data": {
      "text/plain": [
       "<AxesSubplot:xlabel='gps_height'>"
      ]
     },
     "execution_count": 309,
     "metadata": {},
     "output_type": "execute_result"
    },
    {
     "data": {
      "image/png": "[encoded data removed]",
      "text/plain": [
       "<Figure size 432x288 with 1 Axes>"
      ]
     },
     "metadata": {
      "needs_background": "light"
     },
     "output_type": "display_data"
    }
   ],
   "source": [
    "sns.boxplot(df['gps_height']) #outliers do not exist"
   ]
  },
  {
   "cell_type": "code",
   "execution_count": 310,
   "metadata": {},
   "outputs": [
    {
     "name": "stdout",
     "output_type": "stream",
     "text": [
      "0.4624020849809572\n"
     ]
    }
   ],
   "source": [
    "print(df['gps_height'].skew()) #skewness - looks good!"
   ]
  },
  {
   "cell_type": "code",
   "execution_count": 311,
   "metadata": {},
   "outputs": [
    {
     "name": "stderr",
     "output_type": "stream",
     "text": [
      "C:\\Users\\deepa\\anaconda3\\lib\\site-packages\\seaborn\\distributions.py:2551: FutureWarning: `distplot` is a deprecated function and will be removed in a future version. Please adapt your code to use either `displot` (a figure-level function with similar flexibility) or `histplot` (an axes-level function for histograms).\n",
      "  warnings.warn(msg, FutureWarning)\n"
     ]
    },
    {
     "data": {
      "text/plain": [
       "<AxesSubplot:xlabel='gps_height', ylabel='Density'>"
      ]
     },
     "execution_count": 311,
     "metadata": {},
     "output_type": "execute_result"
    },
    {
     "data": {
      "image/png": "[encoded data removed]",
      "text/plain": [
       "<Figure size 432x288 with 1 Axes>"
      ]
     },
     "metadata": {
      "needs_background": "light"
     },
     "output_type": "display_data"
    }
   ],
   "source": [
    "sns.distplot(df['gps_height'])"
   ]
  },
  {
   "cell_type": "markdown",
   "metadata": {},
   "source": [
    "___________________"
   ]
  },
  {
   "cell_type": "markdown",
   "metadata": {},
   "source": [
    "## Handling Outliers"
   ]
  },
  {
   "cell_type": "code",
   "execution_count": 312,
   "metadata": {},
   "outputs": [],
   "source": [
    "df1 = df.copy() #SCALING"
   ]
  },
  {
   "cell_type": "markdown",
   "metadata": {},
   "source": [
    "#### Scaling"
   ]
  },
  {
   "cell_type": "code",
   "execution_count": 313,
   "metadata": {},
   "outputs": [
    {
     "data": {
      "text/plain": [
       "(array([5.9367e+04, 1.6000e+01, 4.0000e+00, 9.0000e+00, 1.0000e+00,\n",
       "        1.0000e+00, 0.0000e+00, 1.0000e+00, 0.0000e+00, 1.0000e+00]),\n",
       " array([-1.05970028e-01,  1.15702348e+01,  2.32464397e+01,  3.49226445e+01,\n",
       "         4.65988494e+01,  5.82750543e+01,  6.99512591e+01,  8.16274640e+01,\n",
       "         9.33036688e+01,  1.04979874e+02,  1.16656079e+02]),\n",
       " <BarContainer object of 10 artists>)"
      ]
     },
     "execution_count": 313,
     "metadata": {},
     "output_type": "execute_result"
    },
    {
     "data": {
      "image/png": "[encoded data removed]",
      "text/plain": [
       "<Figure size 432x288 with 1 Axes>"
      ]
     },
     "metadata": {
      "needs_background": "light"
     },
     "output_type": "display_data"
    }
   ],
   "source": [
    "from sklearn import preprocessing\n",
    "scaler = preprocessing.StandardScaler()\n",
    "df1['amount_tsh'] = scaler.fit_transform(df['amount_tsh'].values.reshape(-1,1))\n",
    "plt.hist(df1['amount_tsh'])"
   ]
  },
  {
   "cell_type": "code",
   "execution_count": 314,
   "metadata": {},
   "outputs": [
    {
     "name": "stdout",
     "output_type": "stream",
     "text": [
      "57.8077999458852\n"
     ]
    },
    {
     "data": {
      "image/png": "[encoded data removed]",
      "text/plain": [
       "<Figure size 432x288 with 1 Axes>"
      ]
     },
     "execution_count": 314,
     "metadata": {},
     "output_type": "execute_result"
    },
    {
     "data": {
      "image/png": "[encoded data removed]",
      "text/plain": [
       "<Figure size 432x288 with 1 Axes>"
      ]
     },
     "metadata": {
      "needs_background": "light"
     },
     "output_type": "display_data"
    }
   ],
   "source": [
    "print(df1['amount_tsh'].skew()) #skewness\n",
    "sm.qqplot(df1['amount_tsh'],line='s')"
   ]
  },
  {
   "cell_type": "markdown",
   "metadata": {},
   "source": [
    "#### Log Transformation"
   ]
  },
  {
   "cell_type": "code",
   "execution_count": 315,
   "metadata": {},
   "outputs": [],
   "source": [
    "df2 = df.copy()"
   ]
  },
  {
   "cell_type": "code",
   "execution_count": 316,
   "metadata": {
    "scrolled": true
   },
   "outputs": [],
   "source": [
    "df2[\"amount_tsh\"] = df[\"amount_tsh\"].map(lambda i: np.log(i) if i > 0 else 0) "
   ]
  },
  {
   "cell_type": "code",
   "execution_count": 317,
   "metadata": {},
   "outputs": [
    {
     "name": "stdout",
     "output_type": "stream",
     "text": [
      "1.3459919707512598\n"
     ]
    },
    {
     "data": {
      "image/png": "[encoded data removed]",
      "text/plain": [
       "<Figure size 432x288 with 1 Axes>"
      ]
     },
     "execution_count": 317,
     "metadata": {},
     "output_type": "execute_result"
    },
    {
     "data": {
      "image/png": "[encoded data removed]",
      "text/plain": [
       "<Figure size 432x288 with 1 Axes>"
      ]
     },
     "metadata": {
      "needs_background": "light"
     },
     "output_type": "display_data"
    }
   ],
   "source": [
    "print(df2['amount_tsh'].skew()) #skewness\n",
    "sm.qqplot(df2['amount_tsh'],line='s')"
   ]
  },
  {
   "cell_type": "code",
   "execution_count": 318,
   "metadata": {},
   "outputs": [
    {
     "name": "stdout",
     "output_type": "stream",
     "text": [
      "count    59400.000000\n",
      "mean         1.578688\n",
      "std          2.633716\n",
      "min         -1.609438\n",
      "25%          0.000000\n",
      "50%          0.000000\n",
      "75%          2.995732\n",
      "max         12.765688\n",
      "Name: amount_tsh, dtype: float64\n"
     ]
    },
    {
     "name": "stderr",
     "output_type": "stream",
     "text": [
      "C:\\Users\\deepa\\anaconda3\\lib\\site-packages\\seaborn\\distributions.py:2551: FutureWarning: `distplot` is a deprecated function and will be removed in a future version. Please adapt your code to use either `displot` (a figure-level function with similar flexibility) or `histplot` (an axes-level function for histograms).\n",
      "  warnings.warn(msg, FutureWarning)\n"
     ]
    },
    {
     "data": {
      "text/plain": [
       "<AxesSubplot:xlabel='amount_tsh', ylabel='Density'>"
      ]
     },
     "execution_count": 318,
     "metadata": {},
     "output_type": "execute_result"
    },
    {
     "data": {
      "image/png": "[encoded data removed]",
      "text/plain": [
       "<Figure size 432x288 with 1 Axes>"
      ]
     },
     "metadata": {
      "needs_background": "light"
     },
     "output_type": "display_data"
    }
   ],
   "source": [
    "print(df2['amount_tsh'].describe())\n",
    "sns.distplot(df2['amount_tsh'])"
   ]
  },
  {
   "cell_type": "markdown",
   "metadata": {},
   "source": [
    "#### Median Transformation"
   ]
  },
  {
   "cell_type": "markdown",
   "metadata": {},
   "source": [
    "#### 1. With Log Data"
   ]
  },
  {
   "cell_type": "code",
   "execution_count": 319,
   "metadata": {},
   "outputs": [],
   "source": [
    "df3 = df2.copy()"
   ]
  },
  {
   "cell_type": "code",
   "execution_count": 320,
   "metadata": {},
   "outputs": [
    {
     "name": "stderr",
     "output_type": "stream",
     "text": [
      "C:\\Users\\deepa\\anaconda3\\lib\\site-packages\\seaborn\\_decorators.py:36: FutureWarning: Pass the following variable as a keyword arg: x. From version 0.12, the only valid positional argument will be `data`, and passing other arguments without an explicit keyword will result in an error or misinterpretation.\n",
      "  warnings.warn(\n"
     ]
    },
    {
     "data": {
      "text/plain": [
       "<AxesSubplot:xlabel='amount_tsh'>"
      ]
     },
     "execution_count": 320,
     "metadata": {},
     "output_type": "execute_result"
    },
    {
     "data": {
      "image/png": "[encoded data removed]",
      "text/plain": [
       "<Figure size 432x288 with 1 Axes>"
      ]
     },
     "metadata": {
      "needs_background": "light"
     },
     "output_type": "display_data"
    }
   ],
   "source": [
    "sns.boxplot(df3['amount_tsh'])"
   ]
  },
  {
   "cell_type": "code",
   "execution_count": 321,
   "metadata": {},
   "outputs": [
    {
     "name": "stdout",
     "output_type": "stream",
     "text": [
      "0.0\n",
      "7.090076835776092\n"
     ]
    }
   ],
   "source": [
    "print(df3['amount_tsh'].quantile(0.50)) \n",
    "print(df3['amount_tsh'].quantile(0.95)) "
   ]
  },
  {
   "cell_type": "code",
   "execution_count": 322,
   "metadata": {},
   "outputs": [
    {
     "name": "stdout",
     "output_type": "stream",
     "text": [
      "0.0\n",
      "2.995732273553991\n",
      "2.995732273553991\n"
     ]
    }
   ],
   "source": [
    "Q1=df3['amount_tsh'].quantile(0.25)\n",
    "Q3=df3['amount_tsh'].quantile(0.75)\n",
    "IQR=Q3-Q1\n",
    "print(Q1)\n",
    "print(Q3)\n",
    "print(IQR)"
   ]
  },
  {
   "cell_type": "code",
   "execution_count": 323,
   "metadata": {},
   "outputs": [
    {
     "name": "stdout",
     "output_type": "stream",
     "text": [
      "-4.4935984103309865 7.489330683884978\n"
     ]
    }
   ],
   "source": [
    "Lower_Whisker = Q1-1.5*IQR\n",
    "Upper_Whisker = Q3+1.5*IQR\n",
    "print(Lower_Whisker, Upper_Whisker)"
   ]
  },
  {
   "cell_type": "code",
   "execution_count": 324,
   "metadata": {},
   "outputs": [],
   "source": [
    "df3_transf = df3[df3['amount_tsh']< Upper_Whisker]"
   ]
  },
  {
   "cell_type": "code",
   "execution_count": 325,
   "metadata": {},
   "outputs": [
    {
     "data": {
      "text/html": [
       "<div>\n",
       "<style scoped>\n",
       "    .dataframe tbody tr th:only-of-type {\n",
       "        vertical-align: middle;\n",
       "    }\n",
       "\n",
       "    .dataframe tbody tr th {\n",
       "        vertical-align: top;\n",
       "    }\n",
       "\n",
       "    .dataframe thead th {\n",
       "        text-align: right;\n",
       "    }\n",
       "</style>\n",
       "<table border=\"1\" class=\"dataframe\">\n",
       "  <thead>\n",
       "    <tr style=\"text-align: right;\">\n",
       "      <th></th>\n",
       "      <th>id</th>\n",
       "      <th>amount_tsh</th>\n",
       "      <th>gps_height</th>\n",
       "      <th>longitude</th>\n",
       "      <th>latitude</th>\n",
       "      <th>num_private</th>\n",
       "      <th>region_code</th>\n",
       "      <th>district_code</th>\n",
       "      <th>population</th>\n",
       "      <th>construction_year</th>\n",
       "    </tr>\n",
       "  </thead>\n",
       "  <tbody>\n",
       "    <tr>\n",
       "      <th>count</th>\n",
       "      <td>56885.000000</td>\n",
       "      <td>56885.000000</td>\n",
       "      <td>56885.000000</td>\n",
       "      <td>56885.000000</td>\n",
       "      <td>5.688500e+04</td>\n",
       "      <td>56885.000000</td>\n",
       "      <td>56885.000000</td>\n",
       "      <td>56885.000000</td>\n",
       "      <td>56885.000000</td>\n",
       "      <td>56885.000000</td>\n",
       "    </tr>\n",
       "    <tr>\n",
       "      <th>mean</th>\n",
       "      <td>37128.478492</td>\n",
       "      <td>1.284810</td>\n",
       "      <td>641.641663</td>\n",
       "      <td>34.036595</td>\n",
       "      <td>-5.624905e+00</td>\n",
       "      <td>0.464340</td>\n",
       "      <td>15.463532</td>\n",
       "      <td>5.732689</td>\n",
       "      <td>179.242542</td>\n",
       "      <td>1273.829023</td>\n",
       "    </tr>\n",
       "    <tr>\n",
       "      <th>std</th>\n",
       "      <td>21456.217749</td>\n",
       "      <td>2.276537</td>\n",
       "      <td>687.975463</td>\n",
       "      <td>6.692415</td>\n",
       "      <td>2.945270e+00</td>\n",
       "      <td>12.378933</td>\n",
       "      <td>17.887936</td>\n",
       "      <td>9.769133</td>\n",
       "      <td>474.917900</td>\n",
       "      <td>959.752365</td>\n",
       "    </tr>\n",
       "    <tr>\n",
       "      <th>min</th>\n",
       "      <td>0.000000</td>\n",
       "      <td>-1.609438</td>\n",
       "      <td>-90.000000</td>\n",
       "      <td>0.000000</td>\n",
       "      <td>-1.158630e+01</td>\n",
       "      <td>0.000000</td>\n",
       "      <td>1.000000</td>\n",
       "      <td>0.000000</td>\n",
       "      <td>0.000000</td>\n",
       "      <td>0.000000</td>\n",
       "    </tr>\n",
       "    <tr>\n",
       "      <th>25%</th>\n",
       "      <td>18545.000000</td>\n",
       "      <td>0.000000</td>\n",
       "      <td>0.000000</td>\n",
       "      <td>33.066612</td>\n",
       "      <td>-8.451821e+00</td>\n",
       "      <td>0.000000</td>\n",
       "      <td>5.000000</td>\n",
       "      <td>2.000000</td>\n",
       "      <td>0.000000</td>\n",
       "      <td>0.000000</td>\n",
       "    </tr>\n",
       "    <tr>\n",
       "      <th>50%</th>\n",
       "      <td>37061.000000</td>\n",
       "      <td>0.000000</td>\n",
       "      <td>328.000000</td>\n",
       "      <td>34.880939</td>\n",
       "      <td>-4.917751e+00</td>\n",
       "      <td>0.000000</td>\n",
       "      <td>12.000000</td>\n",
       "      <td>3.000000</td>\n",
       "      <td>20.000000</td>\n",
       "      <td>1985.000000</td>\n",
       "    </tr>\n",
       "    <tr>\n",
       "      <th>75%</th>\n",
       "      <td>55685.000000</td>\n",
       "      <td>2.302585</td>\n",
       "      <td>1300.000000</td>\n",
       "      <td>37.208764</td>\n",
       "      <td>-3.310177e+00</td>\n",
       "      <td>0.000000</td>\n",
       "      <td>17.000000</td>\n",
       "      <td>5.000000</td>\n",
       "      <td>210.000000</td>\n",
       "      <td>2004.000000</td>\n",
       "    </tr>\n",
       "    <tr>\n",
       "      <th>max</th>\n",
       "      <td>74247.000000</td>\n",
       "      <td>7.313220</td>\n",
       "      <td>2770.000000</td>\n",
       "      <td>40.345193</td>\n",
       "      <td>-2.000000e-08</td>\n",
       "      <td>1776.000000</td>\n",
       "      <td>99.000000</td>\n",
       "      <td>80.000000</td>\n",
       "      <td>30500.000000</td>\n",
       "      <td>2013.000000</td>\n",
       "    </tr>\n",
       "  </tbody>\n",
       "</table>\n",
       "</div>"
      ],
      "text/plain": [
       "                 id    amount_tsh    gps_height     longitude      latitude  \\\n",
       "count  56885.000000  56885.000000  56885.000000  56885.000000  5.688500e+04   \n",
       "mean   37128.478492      1.284810    641.641663     34.036595 -5.624905e+00   \n",
       "std    21456.217749      2.276537    687.975463      6.692415  2.945270e+00   \n",
       "min        0.000000     -1.609438    -90.000000      0.000000 -1.158630e+01   \n",
       "25%    18545.000000      0.000000      0.000000     33.066612 -8.451821e+00   \n",
       "50%    37061.000000      0.000000    328.000000     34.880939 -4.917751e+00   \n",
       "75%    55685.000000      2.302585   1300.000000     37.208764 -3.310177e+00   \n",
       "max    74247.000000      7.313220   2770.000000     40.345193 -2.000000e-08   \n",
       "\n",
       "        num_private   region_code  district_code    population  \\\n",
       "count  56885.000000  56885.000000   56885.000000  56885.000000   \n",
       "mean       0.464340     15.463532       5.732689    179.242542   \n",
       "std       12.378933     17.887936       9.769133    474.917900   \n",
       "min        0.000000      1.000000       0.000000      0.000000   \n",
       "25%        0.000000      5.000000       2.000000      0.000000   \n",
       "50%        0.000000     12.000000       3.000000     20.000000   \n",
       "75%        0.000000     17.000000       5.000000    210.000000   \n",
       "max     1776.000000     99.000000      80.000000  30500.000000   \n",
       "\n",
       "       construction_year  \n",
       "count       56885.000000  \n",
       "mean         1273.829023  \n",
       "std           959.752365  \n",
       "min             0.000000  \n",
       "25%             0.000000  \n",
       "50%          1985.000000  \n",
       "75%          2004.000000  \n",
       "max          2013.000000  "
      ]
     },
     "execution_count": 325,
     "metadata": {},
     "output_type": "execute_result"
    }
   ],
   "source": [
    "df3_transf.describe()"
   ]
  },
  {
   "cell_type": "code",
   "execution_count": 326,
   "metadata": {
    "scrolled": true
   },
   "outputs": [
    {
     "name": "stderr",
     "output_type": "stream",
     "text": [
      "C:\\Users\\deepa\\anaconda3\\lib\\site-packages\\seaborn\\_decorators.py:36: FutureWarning: Pass the following variable as a keyword arg: x. From version 0.12, the only valid positional argument will be `data`, and passing other arguments without an explicit keyword will result in an error or misinterpretation.\n",
      "  warnings.warn(\n"
     ]
    },
    {
     "data": {
      "text/plain": [
       "<AxesSubplot:xlabel='amount_tsh'>"
      ]
     },
     "execution_count": 326,
     "metadata": {},
     "output_type": "execute_result"
    },
    {
     "data": {
      "image/png": "[encoded data removed]",
      "text/plain": [
       "<Figure size 432x288 with 1 Axes>"
      ]
     },
     "metadata": {
      "needs_background": "light"
     },
     "output_type": "display_data"
    }
   ],
   "source": [
    "sns.boxplot(df3_transf['amount_tsh'])"
   ]
  },
  {
   "cell_type": "code",
   "execution_count": 327,
   "metadata": {},
   "outputs": [
    {
     "name": "stdout",
     "output_type": "stream",
     "text": [
      "1.4279349589943495\n"
     ]
    },
    {
     "data": {
      "image/png": "[encoded data removed]",
      "text/plain": [
       "<Figure size 432x288 with 1 Axes>"
      ]
     },
     "execution_count": 327,
     "metadata": {},
     "output_type": "execute_result"
    },
    {
     "data": {
      "image/png": "[encoded data removed]",
      "text/plain": [
       "<Figure size 432x288 with 1 Axes>"
      ]
     },
     "metadata": {
      "needs_background": "light"
     },
     "output_type": "display_data"
    }
   ],
   "source": [
    "print(df3_transf['amount_tsh'].skew()) #skewness increased after median transformation...\n",
    "sm.qqplot(df3_transf['amount_tsh'],line='s')"
   ]
  },
  {
   "cell_type": "code",
   "execution_count": 328,
   "metadata": {},
   "outputs": [
    {
     "name": "stdout",
     "output_type": "stream",
     "text": [
      "count    56885.000000\n",
      "mean         1.284810\n",
      "std          2.276537\n",
      "min         -1.609438\n",
      "25%          0.000000\n",
      "50%          0.000000\n",
      "75%          2.302585\n",
      "max          7.313220\n",
      "Name: amount_tsh, dtype: float64\n",
      "AxesSubplot(0.125,0.125;0.775x0.755)\n"
     ]
    },
    {
     "name": "stderr",
     "output_type": "stream",
     "text": [
      "C:\\Users\\deepa\\anaconda3\\lib\\site-packages\\seaborn\\distributions.py:2551: FutureWarning: `distplot` is a deprecated function and will be removed in a future version. Please adapt your code to use either `displot` (a figure-level function with similar flexibility) or `histplot` (an axes-level function for histograms).\n",
      "  warnings.warn(msg, FutureWarning)\n"
     ]
    },
    {
     "data": {
      "image/png": "[encoded data removed]",
      "text/plain": [
       "<Figure size 432x288 with 1 Axes>"
      ]
     },
     "metadata": {
      "needs_background": "light"
     },
     "output_type": "display_data"
    }
   ],
   "source": [
    "print(df3_transf['amount_tsh'].describe())\n",
    "print(sns.distplot(df3_transf['amount_tsh']))"
   ]
  },
  {
   "cell_type": "code",
   "execution_count": 370,
   "metadata": {},
   "outputs": [],
   "source": [
    "df3_transf.shape\n",
    "df3_transf.to_excel('Train value with labels_edit_07.18.2021.xlsx', engine='xlsxwriter')"
   ]
  },
  {
   "cell_type": "markdown",
   "metadata": {},
   "source": [
    "#### 2. With Original Data"
   ]
  },
  {
   "cell_type": "code",
   "execution_count": 331,
   "metadata": {},
   "outputs": [
    {
     "name": "stdout",
     "output_type": "stream",
     "text": [
      "Q1: 0.0\n",
      "Q3: 20.0\n",
      "IQR: 20.0\n",
      "lower whisker: -30.0 \n",
      "Upper Whisker: 50.0\n"
     ]
    },
    {
     "name": "stderr",
     "output_type": "stream",
     "text": [
      "C:\\Users\\deepa\\anaconda3\\lib\\site-packages\\seaborn\\_decorators.py:36: FutureWarning: Pass the following variable as a keyword arg: x. From version 0.12, the only valid positional argument will be `data`, and passing other arguments without an explicit keyword will result in an error or misinterpretation.\n",
      "  warnings.warn(\n"
     ]
    },
    {
     "data": {
      "image/png": "[encoded data removed]",
      "text/plain": [
       "<Figure size 432x288 with 1 Axes>"
      ]
     },
     "metadata": {
      "needs_background": "light"
     },
     "output_type": "display_data"
    }
   ],
   "source": [
    "df4 = df.copy()\n",
    "\n",
    "sns.boxplot(df4['amount_tsh'])\n",
    "Q1=df4['amount_tsh'].quantile(0.25)\n",
    "Q3=df4['amount_tsh'].quantile(0.75)\n",
    "IQR=Q3-Q1\n",
    "\n",
    "print(f'Q1: {Q1}')\n",
    "print(f'Q3: {Q3}')\n",
    "print(f'IQR: {IQR}')\n",
    "\n",
    "\n",
    "Lower_Whisker = Q1-1.5*IQR\n",
    "Upper_Whisker = Q3+1.5*IQR\n",
    "\n",
    "print(f\"lower whisker: {Lower_Whisker} \\nUpper Whisker: {Upper_Whisker}\")\n"
   ]
  },
  {
   "cell_type": "code",
   "execution_count": 332,
   "metadata": {},
   "outputs": [
    {
     "name": "stdout",
     "output_type": "stream",
     "text": [
      "3.774520201448999\n"
     ]
    },
    {
     "data": {
      "image/png": "[encoded data removed]",
      "text/plain": [
       "<Figure size 432x288 with 1 Axes>"
      ]
     },
     "execution_count": 332,
     "metadata": {},
     "output_type": "execute_result"
    },
    {
     "data": {
      "image/png": "[encoded data removed]",
      "text/plain": [
       "<Figure size 432x288 with 1 Axes>"
      ]
     },
     "metadata": {
      "needs_background": "light"
     },
     "output_type": "display_data"
    }
   ],
   "source": [
    "df4 = df4[df4['amount_tsh']< Upper_Whisker]\n",
    "df4.describe()\n",
    "\n",
    "print(df4['amount_tsh'].skew()) #skewness is reduced from 50+ to 3.7\n",
    "sm.qqplot(df4['amount_tsh'],line='s')"
   ]
  },
  {
   "cell_type": "code",
   "execution_count": 333,
   "metadata": {},
   "outputs": [
    {
     "name": "stdout",
     "output_type": "stream",
     "text": [
      "count    45767.00000\n",
      "mean         1.65217\n",
      "std          5.87939\n",
      "min          0.00000\n",
      "25%          0.00000\n",
      "50%          0.00000\n",
      "75%          0.00000\n",
      "max         40.00000\n",
      "Name: amount_tsh, dtype: float64\n"
     ]
    },
    {
     "name": "stderr",
     "output_type": "stream",
     "text": [
      "C:\\Users\\deepa\\anaconda3\\lib\\site-packages\\seaborn\\distributions.py:2551: FutureWarning: `distplot` is a deprecated function and will be removed in a future version. Please adapt your code to use either `displot` (a figure-level function with similar flexibility) or `histplot` (an axes-level function for histograms).\n",
      "  warnings.warn(msg, FutureWarning)\n"
     ]
    },
    {
     "name": "stdout",
     "output_type": "stream",
     "text": [
      "AxesSubplot(0.125,0.125;0.775x0.755)\n"
     ]
    },
    {
     "data": {
      "image/png": "[encoded data removed]",
      "text/plain": [
       "<Figure size 432x288 with 1 Axes>"
      ]
     },
     "metadata": {
      "needs_background": "light"
     },
     "output_type": "display_data"
    }
   ],
   "source": [
    "print(df4['amount_tsh'].describe())\n",
    "print(sns.distplot(df4['amount_tsh']))"
   ]
  },
  {
   "cell_type": "markdown",
   "metadata": {},
   "source": [
    "#### CubeRoot Transformation"
   ]
  },
  {
   "cell_type": "markdown",
   "metadata": {},
   "source": [
    "# funder and installer fixing corrupt text"
   ]
  },
  {
   "cell_type": "code",
   "execution_count": 334,
   "metadata": {},
   "outputs": [],
   "source": [
    "df5 = df.copy()"
   ]
  },
  {
   "cell_type": "markdown",
   "metadata": {},
   "source": [
    "###### lets try to identify the common companies between funder and installer"
   ]
  },
  {
   "cell_type": "code",
   "execution_count": 336,
   "metadata": {},
   "outputs": [],
   "source": [
    "import pandas as pd \n",
    "from fuzzywuzzy import fuzz \n",
    "from fuzzywuzzy import process\n",
    "\n",
    "def checker(wrong_options,correct_options):\n",
    "    names_array=[]\n",
    "    ratio_array=[]    \n",
    "    for wrong_option in wrong_options:\n",
    "        if wrong_option in correct_options:\n",
    "           names_array.append(wrong_option)\n",
    "           ratio_array.append('100')\n",
    "        else:   \n",
    "            x=process.extractOne(wrong_option,correct_options,scorer=fuzz.token_set_ratio)\n",
    "            names_array.append(x[0])\n",
    "            ratio_array.append(x[1])\n",
    "    return names_array,ratio_array"
   ]
  },
  {
   "cell_type": "markdown",
   "metadata": {},
   "source": [
    "##### Unique list of values...."
   ]
  },
  {
   "cell_type": "code",
   "execution_count": 337,
   "metadata": {},
   "outputs": [],
   "source": [
    "def unique(list1):\n",
    "    # intilize a null list\n",
    "    unique_list = []\n",
    "    # traverse for all elements\n",
    "    for x in list1:\n",
    "        # check if exists in unique_list or not\n",
    "        if x not in unique_list:\n",
    "            unique_list.append(x)\n",
    "    return unique_list"
   ]
  },
  {
   "cell_type": "code",
   "execution_count": 338,
   "metadata": {},
   "outputs": [],
   "source": [
    "funder = unique(df5['funder'])\n",
    "installer = unique(df5['installer'])"
   ]
  },
  {
   "cell_type": "code",
   "execution_count": 339,
   "metadata": {},
   "outputs": [
    {
     "name": "stdout",
     "output_type": "stream",
     "text": [
      "Funder: \n",
      "['Roman', 'Grumeti', 'Lottery Club', 'Unicef', 'Action In A']\n",
      "1898\n",
      "\n",
      "\n",
      "Installer: \n",
      "['Roman', 'GRUMETI', 'World vision', 'UNICEF', 'Artisan']\n",
      "2146\n"
     ]
    }
   ],
   "source": [
    "print('Funder: ')\n",
    "print(funder[:5])\n",
    "print(len(funder))\n",
    "print('\\n')\n",
    "print('Installer: ')\n",
    "print(installer[:5])\n",
    "print(len(installer))"
   ]
  },
  {
   "cell_type": "markdown",
   "metadata": {},
   "source": [
    "##### Fuzzy Matching the features"
   ]
  },
  {
   "cell_type": "code",
   "execution_count": 340,
   "metadata": {},
   "outputs": [],
   "source": [
    "funder_full = df5['funder'].fillna('#####').tolist()\n",
    "installer_full = df5['installer'].fillna('#####').tolist()"
   ]
  },
  {
   "cell_type": "code",
   "execution_count": null,
   "metadata": {},
   "outputs": [],
   "source": [
    "#full values matching\n",
    "name_match,ratio_match=checker(funder_full,installer_full)"
   ]
  },
  {
   "cell_type": "code",
   "execution_count": null,
   "metadata": {},
   "outputs": [],
   "source": [
    "df_fz_full = pd.DataFrame()\n",
    "df_fz_full['id'] = pd.Series(original['id'])\n",
    "df_fz_full['funder']=pd.Series(funder_full)\n",
    "df_fz_full['installer']=pd.Series(name_match)\n",
    "df_fz_full['correct_ratio']=pd.Series(ratio_match)"
   ]
  },
  {
   "cell_type": "code",
   "execution_count": 270,
   "metadata": {
    "scrolled": true
   },
   "outputs": [],
   "source": [
    "#unique values matching\n",
    "name_match,ratio_match=checker(funder,installer)\n",
    "\n",
    "df_fz = pd.DataFrame()\n",
    "df_fz['funder']=pd.Series(funder)\n",
    "df_fz['installer']=pd.Series(name_match)\n",
    "df_fz['correct_ratio']=pd.Series(ratio_match)"
   ]
  },
  {
   "cell_type": "code",
   "execution_count": 271,
   "metadata": {},
   "outputs": [],
   "source": [
    "df_fz['correct_ratio']=df_fz['correct_ratio'].astype(str).astype(int)"
   ]
  },
  {
   "cell_type": "code",
   "execution_count": 341,
   "metadata": {},
   "outputs": [
    {
     "name": "stdout",
     "output_type": "stream",
     "text": [
      "<class 'pandas.core.frame.DataFrame'>\n",
      "RangeIndex: 1898 entries, 0 to 1897\n",
      "Data columns (total 3 columns):\n",
      " #   Column         Non-Null Count  Dtype \n",
      "---  ------         --------------  ----- \n",
      " 0   funder         1897 non-null   object\n",
      " 1   installer      1897 non-null   object\n",
      " 2   correct_ratio  1898 non-null   int32 \n",
      "dtypes: int32(1), object(2)\n",
      "memory usage: 37.2+ KB\n"
     ]
    }
   ],
   "source": [
    "df_fz.info()"
   ]
  },
  {
   "cell_type": "code",
   "execution_count": 273,
   "metadata": {},
   "outputs": [],
   "source": [
    "df_fz.to_excel('matched_names.xlsx', engine='xlsxwriter')"
   ]
  },
  {
   "cell_type": "markdown",
   "metadata": {},
   "source": [
    "### Once the fuzzy match is exported, I identified all account matches less than 89% ratio and index-matched them to original dataset and set them as \"other\""
   ]
  },
  {
   "cell_type": "code",
   "execution_count": 297,
   "metadata": {},
   "outputs": [],
   "source": [
    "df6 = pd.read_csv(\"Train value with labels_edit_07.18.2021.csv\")"
   ]
  },
  {
   "cell_type": "markdown",
   "metadata": {},
   "source": [
    "### Imputing the Missing Values - funder and installer"
   ]
  },
  {
   "cell_type": "code",
   "execution_count": 344,
   "metadata": {
    "scrolled": false
   },
   "outputs": [
    {
     "data": {
      "text/plain": [
       "<AxesSubplot:>"
      ]
     },
     "execution_count": 344,
     "metadata": {},
     "output_type": "execute_result"
    },
    {
     "data": {
      "image/png": "[encoded data removed]",
      "text/plain": [
       "<Figure size 720x360 with 2 Axes>"
      ]
     },
     "metadata": {
      "needs_background": "light"
     },
     "output_type": "display_data"
    }
   ],
   "source": [
    "plt.figure(figsize=(10,5))\n",
    "sns.heatmap(df6.isna()) #data is not missing at random, we can imputate it."
   ]
  },
  {
   "cell_type": "code",
   "execution_count": 355,
   "metadata": {},
   "outputs": [],
   "source": [
    "def othertransf(lst,dataframe):\n",
    "    for x in lst:\n",
    "        dataframe[x]=dataframe[x].fillna(\"other\")"
   ]
  },
  {
   "cell_type": "code",
   "execution_count": 349,
   "metadata": {},
   "outputs": [
    {
     "name": "stdout",
     "output_type": "stream",
     "text": [
      "['funder', 'installer']\n"
     ]
    }
   ],
   "source": [
    "cols_to_impute = list(df6.select_dtypes(np.object).loc[: ,df6.isna().sum()> 0].columns)[:2]\n",
    "print(cols_to_impute)"
   ]
  },
  {
   "cell_type": "code",
   "execution_count": 354,
   "metadata": {},
   "outputs": [
    {
     "name": "stdout",
     "output_type": "stream",
     "text": [
      "NULL values for 'funder': 3635\n",
      "NULL values for 'installer': 3655\n"
     ]
    }
   ],
   "source": [
    "#BEFORE\n",
    "print(f\"NULL values for 'funder': {df6['funder'].isnull().sum()}\")\n",
    "print(f\"NULL values for 'installer': {df6['installer'].isnull().sum()}\")"
   ]
  },
  {
   "cell_type": "code",
   "execution_count": 356,
   "metadata": {},
   "outputs": [],
   "source": [
    "#Imputing\n",
    "othertransf(cols_to_impute,df6)\n"
   ]
  },
  {
   "cell_type": "code",
   "execution_count": 357,
   "metadata": {},
   "outputs": [
    {
     "name": "stdout",
     "output_type": "stream",
     "text": [
      "NULL values for 'funder': 0\n",
      "NULL values for 'installer': 0\n"
     ]
    }
   ],
   "source": [
    "#AFTER\n",
    "print(f\"NULL values for 'funder': {df6['funder'].isnull().sum()}\")\n",
    "print(f\"NULL values for 'installer': {df6['installer'].isnull().sum()}\")"
   ]
  },
  {
   "cell_type": "code",
   "execution_count": 369,
   "metadata": {},
   "outputs": [
    {
     "data": {
      "text/plain": [
       "other                31664\n",
       "Government            1825\n",
       "RWE                   1206\n",
       "Commu                 1060\n",
       "KKKT                   898\n",
       "                     ...  \n",
       "Humfreys Co              1\n",
       "JALCA                    1\n",
       "Centra Government        1\n",
       "Baadela                  1\n",
       "Mwita Mahiti             1\n",
       "Name: installer, Length: 1776, dtype: int64"
      ]
     },
     "execution_count": 369,
     "metadata": {},
     "output_type": "execute_result"
    }
   ],
   "source": [
    "df6['installer'].value_counts()"
   ]
  },
  {
   "cell_type": "code",
   "execution_count": 368,
   "metadata": {},
   "outputs": [
    {
     "name": "stdout",
     "output_type": "stream",
     "text": [
      "funder has # of other: 6389\n",
      "installer has # of other: 31664\n"
     ]
    }
   ],
   "source": [
    "print(f\"funder has # of other: {df6.loc[df6['funder']=='other'].count()['funder']}\")\n",
    "print(f\"installer has # of other: {df6.loc[df6['installer']=='other'].count()['installer']}\") #31,664 are a lot of Other values...."
   ]
  },
  {
   "cell_type": "markdown",
   "metadata": {},
   "source": [
    "________"
   ]
  },
  {
   "cell_type": "code",
   "execution_count": 371,
   "metadata": {},
   "outputs": [
    {
     "data": {
      "text/html": [
       "<div>\n",
       "<style scoped>\n",
       "    .dataframe tbody tr th:only-of-type {\n",
       "        vertical-align: middle;\n",
       "    }\n",
       "\n",
       "    .dataframe tbody tr th {\n",
       "        vertical-align: top;\n",
       "    }\n",
       "\n",
       "    .dataframe thead th {\n",
       "        text-align: right;\n",
       "    }\n",
       "</style>\n",
       "<table border=\"1\" class=\"dataframe\">\n",
       "  <thead>\n",
       "    <tr style=\"text-align: right;\">\n",
       "      <th></th>\n",
       "      <th>id</th>\n",
       "      <th>amount_tsh</th>\n",
       "      <th>date_recorded</th>\n",
       "      <th>funder</th>\n",
       "      <th>gps_height</th>\n",
       "      <th>installer</th>\n",
       "      <th>longitude</th>\n",
       "      <th>latitude</th>\n",
       "      <th>wpt_name</th>\n",
       "      <th>num_private</th>\n",
       "      <th>...</th>\n",
       "      <th>water_quality</th>\n",
       "      <th>quality_group</th>\n",
       "      <th>quantity</th>\n",
       "      <th>quantity_group</th>\n",
       "      <th>source</th>\n",
       "      <th>source_type</th>\n",
       "      <th>source_class</th>\n",
       "      <th>waterpoint_type</th>\n",
       "      <th>waterpoint_type_group</th>\n",
       "      <th>status_group</th>\n",
       "    </tr>\n",
       "  </thead>\n",
       "  <tbody>\n",
       "    <tr>\n",
       "      <th>id</th>\n",
       "      <td>1.000000</td>\n",
       "      <td>0.000649</td>\n",
       "      <td>0.009890</td>\n",
       "      <td>0.042891</td>\n",
       "      <td>0.045361</td>\n",
       "      <td>0.054809</td>\n",
       "      <td>0.940508</td>\n",
       "      <td>0.940546</td>\n",
       "      <td>0.552522</td>\n",
       "      <td>0.010082</td>\n",
       "      <td>...</td>\n",
       "      <td>-0.006593</td>\n",
       "      <td>-0.003624</td>\n",
       "      <td>-0.001629</td>\n",
       "      <td>-0.001629</td>\n",
       "      <td>-0.002486</td>\n",
       "      <td>-0.000839</td>\n",
       "      <td>0.005235</td>\n",
       "      <td>-0.001689</td>\n",
       "      <td>0.000231</td>\n",
       "      <td>-0.001624</td>\n",
       "    </tr>\n",
       "    <tr>\n",
       "      <th>amount_tsh</th>\n",
       "      <td>0.000649</td>\n",
       "      <td>1.000000</td>\n",
       "      <td>-0.038765</td>\n",
       "      <td>-0.016469</td>\n",
       "      <td>0.225565</td>\n",
       "      <td>-0.007004</td>\n",
       "      <td>0.022839</td>\n",
       "      <td>0.022769</td>\n",
       "      <td>-0.018613</td>\n",
       "      <td>0.018267</td>\n",
       "      <td>...</td>\n",
       "      <td>-0.069713</td>\n",
       "      <td>-0.075785</td>\n",
       "      <td>-0.129677</td>\n",
       "      <td>-0.129677</td>\n",
       "      <td>-0.014484</td>\n",
       "      <td>-0.014478</td>\n",
       "      <td>0.085647</td>\n",
       "      <td>-0.167683</td>\n",
       "      <td>-0.167616</td>\n",
       "      <td>-0.125189</td>\n",
       "    </tr>\n",
       "    <tr>\n",
       "      <th>date_recorded</th>\n",
       "      <td>0.009890</td>\n",
       "      <td>-0.038765</td>\n",
       "      <td>1.000000</td>\n",
       "      <td>0.013710</td>\n",
       "      <td>-0.061653</td>\n",
       "      <td>0.013121</td>\n",
       "      <td>0.001527</td>\n",
       "      <td>0.001609</td>\n",
       "      <td>0.019261</td>\n",
       "      <td>-0.012446</td>\n",
       "      <td>...</td>\n",
       "      <td>-0.031733</td>\n",
       "      <td>-0.027252</td>\n",
       "      <td>0.011861</td>\n",
       "      <td>0.011861</td>\n",
       "      <td>0.000278</td>\n",
       "      <td>-0.001530</td>\n",
       "      <td>0.000740</td>\n",
       "      <td>0.005475</td>\n",
       "      <td>0.011004</td>\n",
       "      <td>-0.005932</td>\n",
       "    </tr>\n",
       "    <tr>\n",
       "      <th>funder</th>\n",
       "      <td>0.042891</td>\n",
       "      <td>-0.016469</td>\n",
       "      <td>0.013710</td>\n",
       "      <td>1.000000</td>\n",
       "      <td>0.037415</td>\n",
       "      <td>0.528245</td>\n",
       "      <td>0.046856</td>\n",
       "      <td>0.047047</td>\n",
       "      <td>0.024354</td>\n",
       "      <td>-0.004859</td>\n",
       "      <td>...</td>\n",
       "      <td>-0.001215</td>\n",
       "      <td>0.001119</td>\n",
       "      <td>0.001695</td>\n",
       "      <td>0.001695</td>\n",
       "      <td>-0.002916</td>\n",
       "      <td>-0.000542</td>\n",
       "      <td>0.018238</td>\n",
       "      <td>0.038773</td>\n",
       "      <td>0.038296</td>\n",
       "      <td>-0.036631</td>\n",
       "    </tr>\n",
       "    <tr>\n",
       "      <th>gps_height</th>\n",
       "      <td>0.045361</td>\n",
       "      <td>0.225565</td>\n",
       "      <td>-0.061653</td>\n",
       "      <td>0.037415</td>\n",
       "      <td>1.000000</td>\n",
       "      <td>0.032532</td>\n",
       "      <td>0.091864</td>\n",
       "      <td>0.091743</td>\n",
       "      <td>-0.019089</td>\n",
       "      <td>0.045389</td>\n",
       "      <td>...</td>\n",
       "      <td>-0.058767</td>\n",
       "      <td>-0.057158</td>\n",
       "      <td>-0.088681</td>\n",
       "      <td>-0.088681</td>\n",
       "      <td>-0.082731</td>\n",
       "      <td>-0.089103</td>\n",
       "      <td>0.055094</td>\n",
       "      <td>-0.154355</td>\n",
       "      <td>-0.136941</td>\n",
       "      <td>-0.048207</td>\n",
       "    </tr>\n",
       "    <tr>\n",
       "      <th>installer</th>\n",
       "      <td>0.054809</td>\n",
       "      <td>-0.007004</td>\n",
       "      <td>0.013121</td>\n",
       "      <td>0.528245</td>\n",
       "      <td>0.032532</td>\n",
       "      <td>1.000000</td>\n",
       "      <td>0.061039</td>\n",
       "      <td>0.061016</td>\n",
       "      <td>0.033759</td>\n",
       "      <td>-0.001652</td>\n",
       "      <td>...</td>\n",
       "      <td>0.009430</td>\n",
       "      <td>0.016178</td>\n",
       "      <td>0.011151</td>\n",
       "      <td>0.011151</td>\n",
       "      <td>0.002973</td>\n",
       "      <td>0.002625</td>\n",
       "      <td>0.024710</td>\n",
       "      <td>0.037828</td>\n",
       "      <td>0.031438</td>\n",
       "      <td>-0.027423</td>\n",
       "    </tr>\n",
       "    <tr>\n",
       "      <th>longitude</th>\n",
       "      <td>0.940508</td>\n",
       "      <td>0.022839</td>\n",
       "      <td>0.001527</td>\n",
       "      <td>0.046856</td>\n",
       "      <td>0.091864</td>\n",
       "      <td>0.061039</td>\n",
       "      <td>1.000000</td>\n",
       "      <td>0.999900</td>\n",
       "      <td>0.542144</td>\n",
       "      <td>0.014313</td>\n",
       "      <td>...</td>\n",
       "      <td>-0.035684</td>\n",
       "      <td>-0.019167</td>\n",
       "      <td>-0.000906</td>\n",
       "      <td>-0.000906</td>\n",
       "      <td>-0.035108</td>\n",
       "      <td>-0.033626</td>\n",
       "      <td>0.018191</td>\n",
       "      <td>-0.038435</td>\n",
       "      <td>-0.028578</td>\n",
       "      <td>-0.018156</td>\n",
       "    </tr>\n",
       "    <tr>\n",
       "      <th>latitude</th>\n",
       "      <td>0.940546</td>\n",
       "      <td>0.022769</td>\n",
       "      <td>0.001609</td>\n",
       "      <td>0.047047</td>\n",
       "      <td>0.091743</td>\n",
       "      <td>0.061016</td>\n",
       "      <td>0.999900</td>\n",
       "      <td>1.000000</td>\n",
       "      <td>0.542269</td>\n",
       "      <td>0.014368</td>\n",
       "      <td>...</td>\n",
       "      <td>-0.035440</td>\n",
       "      <td>-0.019127</td>\n",
       "      <td>-0.000801</td>\n",
       "      <td>-0.000801</td>\n",
       "      <td>-0.035087</td>\n",
       "      <td>-0.033603</td>\n",
       "      <td>0.018242</td>\n",
       "      <td>-0.038376</td>\n",
       "      <td>-0.028512</td>\n",
       "      <td>-0.018109</td>\n",
       "    </tr>\n",
       "    <tr>\n",
       "      <th>wpt_name</th>\n",
       "      <td>0.552522</td>\n",
       "      <td>-0.018613</td>\n",
       "      <td>0.019261</td>\n",
       "      <td>0.024354</td>\n",
       "      <td>-0.019089</td>\n",
       "      <td>0.033759</td>\n",
       "      <td>0.542144</td>\n",
       "      <td>0.542269</td>\n",
       "      <td>1.000000</td>\n",
       "      <td>0.025529</td>\n",
       "      <td>...</td>\n",
       "      <td>-0.011955</td>\n",
       "      <td>-0.010076</td>\n",
       "      <td>-0.016745</td>\n",
       "      <td>-0.016745</td>\n",
       "      <td>0.043993</td>\n",
       "      <td>0.047462</td>\n",
       "      <td>0.004679</td>\n",
       "      <td>0.037357</td>\n",
       "      <td>0.039989</td>\n",
       "      <td>0.011926</td>\n",
       "    </tr>\n",
       "    <tr>\n",
       "      <th>num_private</th>\n",
       "      <td>0.010082</td>\n",
       "      <td>0.018267</td>\n",
       "      <td>-0.012446</td>\n",
       "      <td>-0.004859</td>\n",
       "      <td>0.045389</td>\n",
       "      <td>-0.001652</td>\n",
       "      <td>0.014313</td>\n",
       "      <td>0.014368</td>\n",
       "      <td>0.025529</td>\n",
       "      <td>1.000000</td>\n",
       "      <td>...</td>\n",
       "      <td>-0.012167</td>\n",
       "      <td>-0.011056</td>\n",
       "      <td>-0.025757</td>\n",
       "      <td>-0.025757</td>\n",
       "      <td>-0.004469</td>\n",
       "      <td>-0.003768</td>\n",
       "      <td>0.038189</td>\n",
       "      <td>-0.045921</td>\n",
       "      <td>-0.041747</td>\n",
       "      <td>-0.007243</td>\n",
       "    </tr>\n",
       "    <tr>\n",
       "      <th>basin</th>\n",
       "      <td>0.000509</td>\n",
       "      <td>0.097373</td>\n",
       "      <td>-0.015736</td>\n",
       "      <td>0.005409</td>\n",
       "      <td>0.089855</td>\n",
       "      <td>0.005480</td>\n",
       "      <td>0.052439</td>\n",
       "      <td>0.052505</td>\n",
       "      <td>0.000080</td>\n",
       "      <td>-0.041436</td>\n",
       "      <td>...</td>\n",
       "      <td>0.020866</td>\n",
       "      <td>0.029922</td>\n",
       "      <td>0.004846</td>\n",
       "      <td>0.004846</td>\n",
       "      <td>0.241000</td>\n",
       "      <td>0.244420</td>\n",
       "      <td>0.133758</td>\n",
       "      <td>0.004052</td>\n",
       "      <td>-0.007917</td>\n",
       "      <td>0.009175</td>\n",
       "    </tr>\n",
       "    <tr>\n",
       "      <th>subvillage</th>\n",
       "      <td>0.318649</td>\n",
       "      <td>-0.048411</td>\n",
       "      <td>0.029229</td>\n",
       "      <td>0.021411</td>\n",
       "      <td>-0.031605</td>\n",
       "      <td>0.022197</td>\n",
       "      <td>0.284527</td>\n",
       "      <td>0.284542</td>\n",
       "      <td>0.265002</td>\n",
       "      <td>0.014193</td>\n",
       "      <td>...</td>\n",
       "      <td>0.006264</td>\n",
       "      <td>0.010282</td>\n",
       "      <td>0.004918</td>\n",
       "      <td>0.004918</td>\n",
       "      <td>0.024788</td>\n",
       "      <td>0.028441</td>\n",
       "      <td>-0.040450</td>\n",
       "      <td>0.113515</td>\n",
       "      <td>0.112726</td>\n",
       "      <td>0.007465</td>\n",
       "    </tr>\n",
       "    <tr>\n",
       "      <th>region</th>\n",
       "      <td>0.001175</td>\n",
       "      <td>-0.066614</td>\n",
       "      <td>-0.010948</td>\n",
       "      <td>-0.053262</td>\n",
       "      <td>-0.082175</td>\n",
       "      <td>-0.029497</td>\n",
       "      <td>0.009045</td>\n",
       "      <td>0.009152</td>\n",
       "      <td>0.092432</td>\n",
       "      <td>-0.051569</td>\n",
       "      <td>...</td>\n",
       "      <td>0.073083</td>\n",
       "      <td>0.072055</td>\n",
       "      <td>0.094505</td>\n",
       "      <td>0.094505</td>\n",
       "      <td>0.097848</td>\n",
       "      <td>0.122671</td>\n",
       "      <td>0.041678</td>\n",
       "      <td>-0.024325</td>\n",
       "      <td>-0.021727</td>\n",
       "      <td>0.075149</td>\n",
       "    </tr>\n",
       "    <tr>\n",
       "      <th>region_code</th>\n",
       "      <td>-0.000218</td>\n",
       "      <td>-0.040975</td>\n",
       "      <td>-0.016947</td>\n",
       "      <td>-0.038867</td>\n",
       "      <td>-0.044155</td>\n",
       "      <td>-0.015340</td>\n",
       "      <td>0.014896</td>\n",
       "      <td>0.014998</td>\n",
       "      <td>0.089332</td>\n",
       "      <td>-0.049439</td>\n",
       "      <td>...</td>\n",
       "      <td>0.079717</td>\n",
       "      <td>0.082462</td>\n",
       "      <td>0.101111</td>\n",
       "      <td>0.101111</td>\n",
       "      <td>0.125013</td>\n",
       "      <td>0.151205</td>\n",
       "      <td>0.056925</td>\n",
       "      <td>-0.037729</td>\n",
       "      <td>-0.045512</td>\n",
       "      <td>0.066039</td>\n",
       "    </tr>\n",
       "    <tr>\n",
       "      <th>district_code</th>\n",
       "      <td>-0.005105</td>\n",
       "      <td>-0.077150</td>\n",
       "      <td>0.017586</td>\n",
       "      <td>0.030561</td>\n",
       "      <td>-0.048708</td>\n",
       "      <td>0.046433</td>\n",
       "      <td>-0.006607</td>\n",
       "      <td>-0.006647</td>\n",
       "      <td>0.011956</td>\n",
       "      <td>0.012700</td>\n",
       "      <td>...</td>\n",
       "      <td>0.024923</td>\n",
       "      <td>0.038838</td>\n",
       "      <td>0.042836</td>\n",
       "      <td>0.042836</td>\n",
       "      <td>-0.003339</td>\n",
       "      <td>-0.000609</td>\n",
       "      <td>-0.018465</td>\n",
       "      <td>0.045426</td>\n",
       "      <td>0.037503</td>\n",
       "      <td>0.046310</td>\n",
       "    </tr>\n",
       "    <tr>\n",
       "      <th>lga</th>\n",
       "      <td>-0.002869</td>\n",
       "      <td>0.024900</td>\n",
       "      <td>-0.001915</td>\n",
       "      <td>0.055333</td>\n",
       "      <td>-0.031432</td>\n",
       "      <td>0.056705</td>\n",
       "      <td>0.022956</td>\n",
       "      <td>0.022981</td>\n",
       "      <td>0.009325</td>\n",
       "      <td>0.060201</td>\n",
       "      <td>...</td>\n",
       "      <td>0.027996</td>\n",
       "      <td>0.036732</td>\n",
       "      <td>0.019894</td>\n",
       "      <td>0.019894</td>\n",
       "      <td>0.115655</td>\n",
       "      <td>0.110658</td>\n",
       "      <td>-0.042610</td>\n",
       "      <td>0.078049</td>\n",
       "      <td>0.046462</td>\n",
       "      <td>0.048828</td>\n",
       "    </tr>\n",
       "    <tr>\n",
       "      <th>ward</th>\n",
       "      <td>0.037114</td>\n",
       "      <td>-0.031300</td>\n",
       "      <td>0.083789</td>\n",
       "      <td>0.093938</td>\n",
       "      <td>-0.048848</td>\n",
       "      <td>0.086668</td>\n",
       "      <td>0.036376</td>\n",
       "      <td>0.036481</td>\n",
       "      <td>0.018028</td>\n",
       "      <td>0.027687</td>\n",
       "      <td>...</td>\n",
       "      <td>0.033412</td>\n",
       "      <td>0.038915</td>\n",
       "      <td>0.037526</td>\n",
       "      <td>0.037526</td>\n",
       "      <td>0.002378</td>\n",
       "      <td>-0.002819</td>\n",
       "      <td>-0.069282</td>\n",
       "      <td>0.129577</td>\n",
       "      <td>0.105256</td>\n",
       "      <td>0.040207</td>\n",
       "    </tr>\n",
       "    <tr>\n",
       "      <th>population</th>\n",
       "      <td>0.033092</td>\n",
       "      <td>0.111484</td>\n",
       "      <td>-0.034509</td>\n",
       "      <td>0.067157</td>\n",
       "      <td>0.168467</td>\n",
       "      <td>0.062842</td>\n",
       "      <td>0.053131</td>\n",
       "      <td>0.053122</td>\n",
       "      <td>0.004200</td>\n",
       "      <td>-0.004085</td>\n",
       "      <td>...</td>\n",
       "      <td>-0.023740</td>\n",
       "      <td>-0.018347</td>\n",
       "      <td>-0.009850</td>\n",
       "      <td>-0.009850</td>\n",
       "      <td>0.004158</td>\n",
       "      <td>0.007451</td>\n",
       "      <td>0.057664</td>\n",
       "      <td>-0.027350</td>\n",
       "      <td>-0.033896</td>\n",
       "      <td>-0.019909</td>\n",
       "    </tr>\n",
       "    <tr>\n",
       "      <th>public_meeting</th>\n",
       "      <td>-0.001936</td>\n",
       "      <td>-0.004879</td>\n",
       "      <td>0.006441</td>\n",
       "      <td>-0.020173</td>\n",
       "      <td>-0.008090</td>\n",
       "      <td>-0.006985</td>\n",
       "      <td>0.016653</td>\n",
       "      <td>0.016667</td>\n",
       "      <td>0.004175</td>\n",
       "      <td>-0.004212</td>\n",
       "      <td>...</td>\n",
       "      <td>-0.058198</td>\n",
       "      <td>-0.043034</td>\n",
       "      <td>-0.000260</td>\n",
       "      <td>-0.000260</td>\n",
       "      <td>0.027008</td>\n",
       "      <td>0.034805</td>\n",
       "      <td>0.071904</td>\n",
       "      <td>0.017641</td>\n",
       "      <td>0.022745</td>\n",
       "      <td>0.042963</td>\n",
       "    </tr>\n",
       "    <tr>\n",
       "      <th>recorded_by</th>\n",
       "      <td>NaN</td>\n",
       "      <td>NaN</td>\n",
       "      <td>NaN</td>\n",
       "      <td>NaN</td>\n",
       "      <td>NaN</td>\n",
       "      <td>NaN</td>\n",
       "      <td>NaN</td>\n",
       "      <td>NaN</td>\n",
       "      <td>NaN</td>\n",
       "      <td>NaN</td>\n",
       "      <td>...</td>\n",
       "      <td>NaN</td>\n",
       "      <td>NaN</td>\n",
       "      <td>NaN</td>\n",
       "      <td>NaN</td>\n",
       "      <td>NaN</td>\n",
       "      <td>NaN</td>\n",
       "      <td>NaN</td>\n",
       "      <td>NaN</td>\n",
       "      <td>NaN</td>\n",
       "      <td>NaN</td>\n",
       "    </tr>\n",
       "    <tr>\n",
       "      <th>scheme_management</th>\n",
       "      <td>0.003053</td>\n",
       "      <td>0.088885</td>\n",
       "      <td>-0.013378</td>\n",
       "      <td>0.031798</td>\n",
       "      <td>0.068104</td>\n",
       "      <td>0.031225</td>\n",
       "      <td>-0.007133</td>\n",
       "      <td>-0.007089</td>\n",
       "      <td>0.017945</td>\n",
       "      <td>-0.017811</td>\n",
       "      <td>...</td>\n",
       "      <td>-0.066626</td>\n",
       "      <td>-0.092898</td>\n",
       "      <td>-0.040995</td>\n",
       "      <td>-0.040995</td>\n",
       "      <td>-0.014473</td>\n",
       "      <td>-0.012126</td>\n",
       "      <td>0.204084</td>\n",
       "      <td>-0.174048</td>\n",
       "      <td>-0.166714</td>\n",
       "      <td>-0.028901</td>\n",
       "    </tr>\n",
       "    <tr>\n",
       "      <th>scheme_name</th>\n",
       "      <td>0.059295</td>\n",
       "      <td>0.073606</td>\n",
       "      <td>0.006956</td>\n",
       "      <td>0.068898</td>\n",
       "      <td>0.120176</td>\n",
       "      <td>0.065192</td>\n",
       "      <td>0.077376</td>\n",
       "      <td>0.077322</td>\n",
       "      <td>0.009299</td>\n",
       "      <td>0.030272</td>\n",
       "      <td>...</td>\n",
       "      <td>-0.059112</td>\n",
       "      <td>-0.052463</td>\n",
       "      <td>-0.073878</td>\n",
       "      <td>-0.073878</td>\n",
       "      <td>-0.206681</td>\n",
       "      <td>-0.210577</td>\n",
       "      <td>0.075887</td>\n",
       "      <td>-0.328501</td>\n",
       "      <td>-0.331793</td>\n",
       "      <td>-0.005942</td>\n",
       "    </tr>\n",
       "    <tr>\n",
       "      <th>permit</th>\n",
       "      <td>-0.000650</td>\n",
       "      <td>0.082611</td>\n",
       "      <td>0.014447</td>\n",
       "      <td>0.055619</td>\n",
       "      <td>0.038948</td>\n",
       "      <td>0.034188</td>\n",
       "      <td>0.016481</td>\n",
       "      <td>0.016526</td>\n",
       "      <td>0.030839</td>\n",
       "      <td>0.015779</td>\n",
       "      <td>...</td>\n",
       "      <td>-0.092666</td>\n",
       "      <td>-0.077991</td>\n",
       "      <td>-0.042478</td>\n",
       "      <td>-0.042478</td>\n",
       "      <td>0.030291</td>\n",
       "      <td>0.031209</td>\n",
       "      <td>0.090210</td>\n",
       "      <td>-0.052330</td>\n",
       "      <td>-0.053185</td>\n",
       "      <td>-0.028971</td>\n",
       "    </tr>\n",
       "    <tr>\n",
       "      <th>construction_year</th>\n",
       "      <td>0.000490</td>\n",
       "      <td>0.123520</td>\n",
       "      <td>-0.018494</td>\n",
       "      <td>-0.000807</td>\n",
       "      <td>0.334910</td>\n",
       "      <td>-0.015414</td>\n",
       "      <td>0.039090</td>\n",
       "      <td>0.039162</td>\n",
       "      <td>-0.011426</td>\n",
       "      <td>0.028544</td>\n",
       "      <td>...</td>\n",
       "      <td>-0.019219</td>\n",
       "      <td>-0.004798</td>\n",
       "      <td>-0.009302</td>\n",
       "      <td>-0.009302</td>\n",
       "      <td>-0.010227</td>\n",
       "      <td>-0.003763</td>\n",
       "      <td>0.045977</td>\n",
       "      <td>-0.047430</td>\n",
       "      <td>-0.045956</td>\n",
       "      <td>0.063023</td>\n",
       "    </tr>\n",
       "    <tr>\n",
       "      <th>extraction_type</th>\n",
       "      <td>0.000608</td>\n",
       "      <td>-0.102274</td>\n",
       "      <td>-0.009524</td>\n",
       "      <td>0.054684</td>\n",
       "      <td>-0.138417</td>\n",
       "      <td>0.065044</td>\n",
       "      <td>-0.028721</td>\n",
       "      <td>-0.028675</td>\n",
       "      <td>0.012670</td>\n",
       "      <td>-0.031078</td>\n",
       "      <td>...</td>\n",
       "      <td>0.154627</td>\n",
       "      <td>0.160631</td>\n",
       "      <td>0.013984</td>\n",
       "      <td>0.013984</td>\n",
       "      <td>0.327374</td>\n",
       "      <td>0.315602</td>\n",
       "      <td>-0.197166</td>\n",
       "      <td>0.449053</td>\n",
       "      <td>0.378384</td>\n",
       "      <td>0.062201</td>\n",
       "    </tr>\n",
       "    <tr>\n",
       "      <th>extraction_type_group</th>\n",
       "      <td>-0.000853</td>\n",
       "      <td>-0.119237</td>\n",
       "      <td>-0.001930</td>\n",
       "      <td>0.053690</td>\n",
       "      <td>-0.149121</td>\n",
       "      <td>0.058199</td>\n",
       "      <td>-0.031070</td>\n",
       "      <td>-0.031019</td>\n",
       "      <td>0.010777</td>\n",
       "      <td>-0.030529</td>\n",
       "      <td>...</td>\n",
       "      <td>0.164733</td>\n",
       "      <td>0.169643</td>\n",
       "      <td>0.036526</td>\n",
       "      <td>0.036526</td>\n",
       "      <td>0.328094</td>\n",
       "      <td>0.317400</td>\n",
       "      <td>-0.268883</td>\n",
       "      <td>0.528670</td>\n",
       "      <td>0.456744</td>\n",
       "      <td>0.068842</td>\n",
       "    </tr>\n",
       "    <tr>\n",
       "      <th>extraction_type_class</th>\n",
       "      <td>-0.004088</td>\n",
       "      <td>-0.136671</td>\n",
       "      <td>-0.009362</td>\n",
       "      <td>0.040956</td>\n",
       "      <td>-0.156496</td>\n",
       "      <td>0.051525</td>\n",
       "      <td>-0.035881</td>\n",
       "      <td>-0.035827</td>\n",
       "      <td>0.007409</td>\n",
       "      <td>-0.025124</td>\n",
       "      <td>...</td>\n",
       "      <td>0.182969</td>\n",
       "      <td>0.188522</td>\n",
       "      <td>0.057328</td>\n",
       "      <td>0.057328</td>\n",
       "      <td>0.391129</td>\n",
       "      <td>0.379374</td>\n",
       "      <td>-0.283066</td>\n",
       "      <td>0.546329</td>\n",
       "      <td>0.468021</td>\n",
       "      <td>0.089811</td>\n",
       "    </tr>\n",
       "    <tr>\n",
       "      <th>management</th>\n",
       "      <td>-0.001139</td>\n",
       "      <td>0.045760</td>\n",
       "      <td>-0.018075</td>\n",
       "      <td>0.060373</td>\n",
       "      <td>0.070697</td>\n",
       "      <td>0.069672</td>\n",
       "      <td>0.004882</td>\n",
       "      <td>0.004932</td>\n",
       "      <td>0.013190</td>\n",
       "      <td>-0.006527</td>\n",
       "      <td>...</td>\n",
       "      <td>0.014619</td>\n",
       "      <td>0.009769</td>\n",
       "      <td>0.073278</td>\n",
       "      <td>0.073278</td>\n",
       "      <td>-0.057276</td>\n",
       "      <td>-0.062893</td>\n",
       "      <td>0.174778</td>\n",
       "      <td>-0.147751</td>\n",
       "      <td>-0.125512</td>\n",
       "      <td>-0.048152</td>\n",
       "    </tr>\n",
       "    <tr>\n",
       "      <th>management_group</th>\n",
       "      <td>-0.001553</td>\n",
       "      <td>-0.024967</td>\n",
       "      <td>-0.005350</td>\n",
       "      <td>0.104416</td>\n",
       "      <td>0.028939</td>\n",
       "      <td>0.114993</td>\n",
       "      <td>0.006123</td>\n",
       "      <td>0.006115</td>\n",
       "      <td>-0.019492</td>\n",
       "      <td>0.011049</td>\n",
       "      <td>...</td>\n",
       "      <td>0.054083</td>\n",
       "      <td>0.050047</td>\n",
       "      <td>0.139557</td>\n",
       "      <td>0.139557</td>\n",
       "      <td>-0.041954</td>\n",
       "      <td>-0.049816</td>\n",
       "      <td>0.133911</td>\n",
       "      <td>-0.064263</td>\n",
       "      <td>-0.049732</td>\n",
       "      <td>-0.017379</td>\n",
       "    </tr>\n",
       "    <tr>\n",
       "      <th>payment</th>\n",
       "      <td>-0.001560</td>\n",
       "      <td>0.108294</td>\n",
       "      <td>0.013144</td>\n",
       "      <td>-0.009174</td>\n",
       "      <td>0.083959</td>\n",
       "      <td>-0.011282</td>\n",
       "      <td>0.002333</td>\n",
       "      <td>0.002340</td>\n",
       "      <td>0.043634</td>\n",
       "      <td>-0.012531</td>\n",
       "      <td>...</td>\n",
       "      <td>-0.033161</td>\n",
       "      <td>-0.032874</td>\n",
       "      <td>-0.046304</td>\n",
       "      <td>-0.046304</td>\n",
       "      <td>0.042801</td>\n",
       "      <td>0.046499</td>\n",
       "      <td>0.078211</td>\n",
       "      <td>-0.092570</td>\n",
       "      <td>-0.092038</td>\n",
       "      <td>-0.049249</td>\n",
       "    </tr>\n",
       "    <tr>\n",
       "      <th>payment_type</th>\n",
       "      <td>-0.001560</td>\n",
       "      <td>0.108294</td>\n",
       "      <td>0.013144</td>\n",
       "      <td>-0.009174</td>\n",
       "      <td>0.083959</td>\n",
       "      <td>-0.011282</td>\n",
       "      <td>0.002333</td>\n",
       "      <td>0.002340</td>\n",
       "      <td>0.043634</td>\n",
       "      <td>-0.012531</td>\n",
       "      <td>...</td>\n",
       "      <td>-0.033161</td>\n",
       "      <td>-0.032874</td>\n",
       "      <td>-0.046304</td>\n",
       "      <td>-0.046304</td>\n",
       "      <td>0.042801</td>\n",
       "      <td>0.046499</td>\n",
       "      <td>0.078211</td>\n",
       "      <td>-0.092570</td>\n",
       "      <td>-0.092038</td>\n",
       "      <td>-0.049249</td>\n",
       "    </tr>\n",
       "    <tr>\n",
       "      <th>water_quality</th>\n",
       "      <td>-0.006593</td>\n",
       "      <td>-0.069713</td>\n",
       "      <td>-0.031733</td>\n",
       "      <td>-0.001215</td>\n",
       "      <td>-0.058767</td>\n",
       "      <td>0.009430</td>\n",
       "      <td>-0.035684</td>\n",
       "      <td>-0.035440</td>\n",
       "      <td>-0.011955</td>\n",
       "      <td>-0.012167</td>\n",
       "      <td>...</td>\n",
       "      <td>1.000000</td>\n",
       "      <td>0.907498</td>\n",
       "      <td>0.202381</td>\n",
       "      <td>0.202381</td>\n",
       "      <td>0.108484</td>\n",
       "      <td>0.109654</td>\n",
       "      <td>-0.069857</td>\n",
       "      <td>0.155900</td>\n",
       "      <td>0.143938</td>\n",
       "      <td>0.075322</td>\n",
       "    </tr>\n",
       "    <tr>\n",
       "      <th>quality_group</th>\n",
       "      <td>-0.003624</td>\n",
       "      <td>-0.075785</td>\n",
       "      <td>-0.027252</td>\n",
       "      <td>0.001119</td>\n",
       "      <td>-0.057158</td>\n",
       "      <td>0.016178</td>\n",
       "      <td>-0.019167</td>\n",
       "      <td>-0.019127</td>\n",
       "      <td>-0.010076</td>\n",
       "      <td>-0.011056</td>\n",
       "      <td>...</td>\n",
       "      <td>0.907498</td>\n",
       "      <td>1.000000</td>\n",
       "      <td>0.246021</td>\n",
       "      <td>0.246021</td>\n",
       "      <td>0.110056</td>\n",
       "      <td>0.110593</td>\n",
       "      <td>-0.060375</td>\n",
       "      <td>0.166839</td>\n",
       "      <td>0.155986</td>\n",
       "      <td>0.076252</td>\n",
       "    </tr>\n",
       "    <tr>\n",
       "      <th>quantity</th>\n",
       "      <td>-0.001629</td>\n",
       "      <td>-0.129677</td>\n",
       "      <td>0.011861</td>\n",
       "      <td>0.001695</td>\n",
       "      <td>-0.088681</td>\n",
       "      <td>0.011151</td>\n",
       "      <td>-0.000906</td>\n",
       "      <td>-0.000801</td>\n",
       "      <td>-0.016745</td>\n",
       "      <td>-0.025757</td>\n",
       "      <td>...</td>\n",
       "      <td>0.202381</td>\n",
       "      <td>0.246021</td>\n",
       "      <td>1.000000</td>\n",
       "      <td>1.000000</td>\n",
       "      <td>0.035101</td>\n",
       "      <td>0.042452</td>\n",
       "      <td>0.104609</td>\n",
       "      <td>0.040121</td>\n",
       "      <td>0.051515</td>\n",
       "      <td>0.188637</td>\n",
       "    </tr>\n",
       "    <tr>\n",
       "      <th>quantity_group</th>\n",
       "      <td>-0.001629</td>\n",
       "      <td>-0.129677</td>\n",
       "      <td>0.011861</td>\n",
       "      <td>0.001695</td>\n",
       "      <td>-0.088681</td>\n",
       "      <td>0.011151</td>\n",
       "      <td>-0.000906</td>\n",
       "      <td>-0.000801</td>\n",
       "      <td>-0.016745</td>\n",
       "      <td>-0.025757</td>\n",
       "      <td>...</td>\n",
       "      <td>0.202381</td>\n",
       "      <td>0.246021</td>\n",
       "      <td>1.000000</td>\n",
       "      <td>1.000000</td>\n",
       "      <td>0.035101</td>\n",
       "      <td>0.042452</td>\n",
       "      <td>0.104609</td>\n",
       "      <td>0.040121</td>\n",
       "      <td>0.051515</td>\n",
       "      <td>0.188637</td>\n",
       "    </tr>\n",
       "    <tr>\n",
       "      <th>source</th>\n",
       "      <td>-0.002486</td>\n",
       "      <td>-0.014484</td>\n",
       "      <td>0.000278</td>\n",
       "      <td>-0.002916</td>\n",
       "      <td>-0.082731</td>\n",
       "      <td>0.002973</td>\n",
       "      <td>-0.035108</td>\n",
       "      <td>-0.035087</td>\n",
       "      <td>0.043993</td>\n",
       "      <td>-0.004469</td>\n",
       "      <td>...</td>\n",
       "      <td>0.108484</td>\n",
       "      <td>0.110056</td>\n",
       "      <td>0.035101</td>\n",
       "      <td>0.035101</td>\n",
       "      <td>1.000000</td>\n",
       "      <td>0.973652</td>\n",
       "      <td>0.405209</td>\n",
       "      <td>0.303351</td>\n",
       "      <td>0.227160</td>\n",
       "      <td>0.072154</td>\n",
       "    </tr>\n",
       "    <tr>\n",
       "      <th>source_type</th>\n",
       "      <td>-0.000839</td>\n",
       "      <td>-0.014478</td>\n",
       "      <td>-0.001530</td>\n",
       "      <td>-0.000542</td>\n",
       "      <td>-0.089103</td>\n",
       "      <td>0.002625</td>\n",
       "      <td>-0.033626</td>\n",
       "      <td>-0.033603</td>\n",
       "      <td>0.047462</td>\n",
       "      <td>-0.003768</td>\n",
       "      <td>...</td>\n",
       "      <td>0.109654</td>\n",
       "      <td>0.110593</td>\n",
       "      <td>0.042452</td>\n",
       "      <td>0.042452</td>\n",
       "      <td>0.973652</td>\n",
       "      <td>1.000000</td>\n",
       "      <td>0.405895</td>\n",
       "      <td>0.297527</td>\n",
       "      <td>0.225964</td>\n",
       "      <td>0.073221</td>\n",
       "    </tr>\n",
       "    <tr>\n",
       "      <th>source_class</th>\n",
       "      <td>0.005235</td>\n",
       "      <td>0.085647</td>\n",
       "      <td>0.000740</td>\n",
       "      <td>0.018238</td>\n",
       "      <td>0.055094</td>\n",
       "      <td>0.024710</td>\n",
       "      <td>0.018191</td>\n",
       "      <td>0.018242</td>\n",
       "      <td>0.004679</td>\n",
       "      <td>0.038189</td>\n",
       "      <td>...</td>\n",
       "      <td>-0.069857</td>\n",
       "      <td>-0.060375</td>\n",
       "      <td>0.104609</td>\n",
       "      <td>0.104609</td>\n",
       "      <td>0.405209</td>\n",
       "      <td>0.405895</td>\n",
       "      <td>1.000000</td>\n",
       "      <td>-0.331829</td>\n",
       "      <td>-0.299726</td>\n",
       "      <td>0.032729</td>\n",
       "    </tr>\n",
       "    <tr>\n",
       "      <th>waterpoint_type</th>\n",
       "      <td>-0.001689</td>\n",
       "      <td>-0.167683</td>\n",
       "      <td>0.005475</td>\n",
       "      <td>0.038773</td>\n",
       "      <td>-0.154355</td>\n",
       "      <td>0.037828</td>\n",
       "      <td>-0.038435</td>\n",
       "      <td>-0.038376</td>\n",
       "      <td>0.037357</td>\n",
       "      <td>-0.045921</td>\n",
       "      <td>...</td>\n",
       "      <td>0.155900</td>\n",
       "      <td>0.166839</td>\n",
       "      <td>0.040121</td>\n",
       "      <td>0.040121</td>\n",
       "      <td>0.303351</td>\n",
       "      <td>0.297527</td>\n",
       "      <td>-0.331829</td>\n",
       "      <td>1.000000</td>\n",
       "      <td>0.953307</td>\n",
       "      <td>0.114303</td>\n",
       "    </tr>\n",
       "    <tr>\n",
       "      <th>waterpoint_type_group</th>\n",
       "      <td>0.000231</td>\n",
       "      <td>-0.167616</td>\n",
       "      <td>0.011004</td>\n",
       "      <td>0.038296</td>\n",
       "      <td>-0.136941</td>\n",
       "      <td>0.031438</td>\n",
       "      <td>-0.028578</td>\n",
       "      <td>-0.028512</td>\n",
       "      <td>0.039989</td>\n",
       "      <td>-0.041747</td>\n",
       "      <td>...</td>\n",
       "      <td>0.143938</td>\n",
       "      <td>0.155986</td>\n",
       "      <td>0.051515</td>\n",
       "      <td>0.051515</td>\n",
       "      <td>0.227160</td>\n",
       "      <td>0.225964</td>\n",
       "      <td>-0.299726</td>\n",
       "      <td>0.953307</td>\n",
       "      <td>1.000000</td>\n",
       "      <td>0.103556</td>\n",
       "    </tr>\n",
       "    <tr>\n",
       "      <th>status_group</th>\n",
       "      <td>-0.001624</td>\n",
       "      <td>-0.125189</td>\n",
       "      <td>-0.005932</td>\n",
       "      <td>-0.036631</td>\n",
       "      <td>-0.048207</td>\n",
       "      <td>-0.027423</td>\n",
       "      <td>-0.018156</td>\n",
       "      <td>-0.018109</td>\n",
       "      <td>0.011926</td>\n",
       "      <td>-0.007243</td>\n",
       "      <td>...</td>\n",
       "      <td>0.075322</td>\n",
       "      <td>0.076252</td>\n",
       "      <td>0.188637</td>\n",
       "      <td>0.188637</td>\n",
       "      <td>0.072154</td>\n",
       "      <td>0.073221</td>\n",
       "      <td>0.032729</td>\n",
       "      <td>0.114303</td>\n",
       "      <td>0.103556</td>\n",
       "      <td>1.000000</td>\n",
       "    </tr>\n",
       "  </tbody>\n",
       "</table>\n",
       "<p>41 rows × 41 columns</p>\n",
       "</div>"
      ],
      "text/plain": [
       "                             id  amount_tsh  date_recorded    funder  \\\n",
       "id                     1.000000    0.000649       0.009890  0.042891   \n",
       "amount_tsh             0.000649    1.000000      -0.038765 -0.016469   \n",
       "date_recorded          0.009890   -0.038765       1.000000  0.013710   \n",
       "funder                 0.042891   -0.016469       0.013710  1.000000   \n",
       "gps_height             0.045361    0.225565      -0.061653  0.037415   \n",
       "installer              0.054809   -0.007004       0.013121  0.528245   \n",
       "longitude              0.940508    0.022839       0.001527  0.046856   \n",
       "latitude               0.940546    0.022769       0.001609  0.047047   \n",
       "wpt_name               0.552522   -0.018613       0.019261  0.024354   \n",
       "num_private            0.010082    0.018267      -0.012446 -0.004859   \n",
       "basin                  0.000509    0.097373      -0.015736  0.005409   \n",
       "subvillage             0.318649   -0.048411       0.029229  0.021411   \n",
       "region                 0.001175   -0.066614      -0.010948 -0.053262   \n",
       "region_code           -0.000218   -0.040975      -0.016947 -0.038867   \n",
       "district_code         -0.005105   -0.077150       0.017586  0.030561   \n",
       "lga                   -0.002869    0.024900      -0.001915  0.055333   \n",
       "ward                   0.037114   -0.031300       0.083789  0.093938   \n",
       "population             0.033092    0.111484      -0.034509  0.067157   \n",
       "public_meeting        -0.001936   -0.004879       0.006441 -0.020173   \n",
       "recorded_by                 NaN         NaN            NaN       NaN   \n",
       "scheme_management      0.003053    0.088885      -0.013378  0.031798   \n",
       "scheme_name            0.059295    0.073606       0.006956  0.068898   \n",
       "permit                -0.000650    0.082611       0.014447  0.055619   \n",
       "construction_year      0.000490    0.123520      -0.018494 -0.000807   \n",
       "extraction_type        0.000608   -0.102274      -0.009524  0.054684   \n",
       "extraction_type_group -0.000853   -0.119237      -0.001930  0.053690   \n",
       "extraction_type_class -0.004088   -0.136671      -0.009362  0.040956   \n",
       "management            -0.001139    0.045760      -0.018075  0.060373   \n",
       "management_group      -0.001553   -0.024967      -0.005350  0.104416   \n",
       "payment               -0.001560    0.108294       0.013144 -0.009174   \n",
       "payment_type          -0.001560    0.108294       0.013144 -0.009174   \n",
       "water_quality         -0.006593   -0.069713      -0.031733 -0.001215   \n",
       "quality_group         -0.003624   -0.075785      -0.027252  0.001119   \n",
       "quantity              -0.001629   -0.129677       0.011861  0.001695   \n",
       "quantity_group        -0.001629   -0.129677       0.011861  0.001695   \n",
       "source                -0.002486   -0.014484       0.000278 -0.002916   \n",
       "source_type           -0.000839   -0.014478      -0.001530 -0.000542   \n",
       "source_class           0.005235    0.085647       0.000740  0.018238   \n",
       "waterpoint_type       -0.001689   -0.167683       0.005475  0.038773   \n",
       "waterpoint_type_group  0.000231   -0.167616       0.011004  0.038296   \n",
       "status_group          -0.001624   -0.125189      -0.005932 -0.036631   \n",
       "\n",
       "                       gps_height  installer  longitude  latitude  wpt_name  \\\n",
       "id                       0.045361   0.054809   0.940508  0.940546  0.552522   \n",
       "amount_tsh               0.225565  -0.007004   0.022839  0.022769 -0.018613   \n",
       "date_recorded           -0.061653   0.013121   0.001527  0.001609  0.019261   \n",
       "funder                   0.037415   0.528245   0.046856  0.047047  0.024354   \n",
       "gps_height               1.000000   0.032532   0.091864  0.091743 -0.019089   \n",
       "installer                0.032532   1.000000   0.061039  0.061016  0.033759   \n",
       "longitude                0.091864   0.061039   1.000000  0.999900  0.542144   \n",
       "latitude                 0.091743   0.061016   0.999900  1.000000  0.542269   \n",
       "wpt_name                -0.019089   0.033759   0.542144  0.542269  1.000000   \n",
       "num_private              0.045389  -0.001652   0.014313  0.014368  0.025529   \n",
       "basin                    0.089855   0.005480   0.052439  0.052505  0.000080   \n",
       "subvillage              -0.031605   0.022197   0.284527  0.284542  0.265002   \n",
       "region                  -0.082175  -0.029497   0.009045  0.009152  0.092432   \n",
       "region_code             -0.044155  -0.015340   0.014896  0.014998  0.089332   \n",
       "district_code           -0.048708   0.046433  -0.006607 -0.006647  0.011956   \n",
       "lga                     -0.031432   0.056705   0.022956  0.022981  0.009325   \n",
       "ward                    -0.048848   0.086668   0.036376  0.036481  0.018028   \n",
       "population               0.168467   0.062842   0.053131  0.053122  0.004200   \n",
       "public_meeting          -0.008090  -0.006985   0.016653  0.016667  0.004175   \n",
       "recorded_by                   NaN        NaN        NaN       NaN       NaN   \n",
       "scheme_management        0.068104   0.031225  -0.007133 -0.007089  0.017945   \n",
       "scheme_name              0.120176   0.065192   0.077376  0.077322  0.009299   \n",
       "permit                   0.038948   0.034188   0.016481  0.016526  0.030839   \n",
       "construction_year        0.334910  -0.015414   0.039090  0.039162 -0.011426   \n",
       "extraction_type         -0.138417   0.065044  -0.028721 -0.028675  0.012670   \n",
       "extraction_type_group   -0.149121   0.058199  -0.031070 -0.031019  0.010777   \n",
       "extraction_type_class   -0.156496   0.051525  -0.035881 -0.035827  0.007409   \n",
       "management               0.070697   0.069672   0.004882  0.004932  0.013190   \n",
       "management_group         0.028939   0.114993   0.006123  0.006115 -0.019492   \n",
       "payment                  0.083959  -0.011282   0.002333  0.002340  0.043634   \n",
       "payment_type             0.083959  -0.011282   0.002333  0.002340  0.043634   \n",
       "water_quality           -0.058767   0.009430  -0.035684 -0.035440 -0.011955   \n",
       "quality_group           -0.057158   0.016178  -0.019167 -0.019127 -0.010076   \n",
       "quantity                -0.088681   0.011151  -0.000906 -0.000801 -0.016745   \n",
       "quantity_group          -0.088681   0.011151  -0.000906 -0.000801 -0.016745   \n",
       "source                  -0.082731   0.002973  -0.035108 -0.035087  0.043993   \n",
       "source_type             -0.089103   0.002625  -0.033626 -0.033603  0.047462   \n",
       "source_class             0.055094   0.024710   0.018191  0.018242  0.004679   \n",
       "waterpoint_type         -0.154355   0.037828  -0.038435 -0.038376  0.037357   \n",
       "waterpoint_type_group   -0.136941   0.031438  -0.028578 -0.028512  0.039989   \n",
       "status_group            -0.048207  -0.027423  -0.018156 -0.018109  0.011926   \n",
       "\n",
       "                       num_private  ...  water_quality  quality_group  \\\n",
       "id                        0.010082  ...      -0.006593      -0.003624   \n",
       "amount_tsh                0.018267  ...      -0.069713      -0.075785   \n",
       "date_recorded            -0.012446  ...      -0.031733      -0.027252   \n",
       "funder                   -0.004859  ...      -0.001215       0.001119   \n",
       "gps_height                0.045389  ...      -0.058767      -0.057158   \n",
       "installer                -0.001652  ...       0.009430       0.016178   \n",
       "longitude                 0.014313  ...      -0.035684      -0.019167   \n",
       "latitude                  0.014368  ...      -0.035440      -0.019127   \n",
       "wpt_name                  0.025529  ...      -0.011955      -0.010076   \n",
       "num_private               1.000000  ...      -0.012167      -0.011056   \n",
       "basin                    -0.041436  ...       0.020866       0.029922   \n",
       "subvillage                0.014193  ...       0.006264       0.010282   \n",
       "region                   -0.051569  ...       0.073083       0.072055   \n",
       "region_code              -0.049439  ...       0.079717       0.082462   \n",
       "district_code             0.012700  ...       0.024923       0.038838   \n",
       "lga                       0.060201  ...       0.027996       0.036732   \n",
       "ward                      0.027687  ...       0.033412       0.038915   \n",
       "population               -0.004085  ...      -0.023740      -0.018347   \n",
       "public_meeting           -0.004212  ...      -0.058198      -0.043034   \n",
       "recorded_by                    NaN  ...            NaN            NaN   \n",
       "scheme_management        -0.017811  ...      -0.066626      -0.092898   \n",
       "scheme_name               0.030272  ...      -0.059112      -0.052463   \n",
       "permit                    0.015779  ...      -0.092666      -0.077991   \n",
       "construction_year         0.028544  ...      -0.019219      -0.004798   \n",
       "extraction_type          -0.031078  ...       0.154627       0.160631   \n",
       "extraction_type_group    -0.030529  ...       0.164733       0.169643   \n",
       "extraction_type_class    -0.025124  ...       0.182969       0.188522   \n",
       "management               -0.006527  ...       0.014619       0.009769   \n",
       "management_group          0.011049  ...       0.054083       0.050047   \n",
       "payment                  -0.012531  ...      -0.033161      -0.032874   \n",
       "payment_type             -0.012531  ...      -0.033161      -0.032874   \n",
       "water_quality            -0.012167  ...       1.000000       0.907498   \n",
       "quality_group            -0.011056  ...       0.907498       1.000000   \n",
       "quantity                 -0.025757  ...       0.202381       0.246021   \n",
       "quantity_group           -0.025757  ...       0.202381       0.246021   \n",
       "source                   -0.004469  ...       0.108484       0.110056   \n",
       "source_type              -0.003768  ...       0.109654       0.110593   \n",
       "source_class              0.038189  ...      -0.069857      -0.060375   \n",
       "waterpoint_type          -0.045921  ...       0.155900       0.166839   \n",
       "waterpoint_type_group    -0.041747  ...       0.143938       0.155986   \n",
       "status_group             -0.007243  ...       0.075322       0.076252   \n",
       "\n",
       "                       quantity  quantity_group    source  source_type  \\\n",
       "id                    -0.001629       -0.001629 -0.002486    -0.000839   \n",
       "amount_tsh            -0.129677       -0.129677 -0.014484    -0.014478   \n",
       "date_recorded          0.011861        0.011861  0.000278    -0.001530   \n",
       "funder                 0.001695        0.001695 -0.002916    -0.000542   \n",
       "gps_height            -0.088681       -0.088681 -0.082731    -0.089103   \n",
       "installer              0.011151        0.011151  0.002973     0.002625   \n",
       "longitude             -0.000906       -0.000906 -0.035108    -0.033626   \n",
       "latitude              -0.000801       -0.000801 -0.035087    -0.033603   \n",
       "wpt_name              -0.016745       -0.016745  0.043993     0.047462   \n",
       "num_private           -0.025757       -0.025757 -0.004469    -0.003768   \n",
       "basin                  0.004846        0.004846  0.241000     0.244420   \n",
       "subvillage             0.004918        0.004918  0.024788     0.028441   \n",
       "region                 0.094505        0.094505  0.097848     0.122671   \n",
       "region_code            0.101111        0.101111  0.125013     0.151205   \n",
       "district_code          0.042836        0.042836 -0.003339    -0.000609   \n",
       "lga                    0.019894        0.019894  0.115655     0.110658   \n",
       "ward                   0.037526        0.037526  0.002378    -0.002819   \n",
       "population            -0.009850       -0.009850  0.004158     0.007451   \n",
       "public_meeting        -0.000260       -0.000260  0.027008     0.034805   \n",
       "recorded_by                 NaN             NaN       NaN          NaN   \n",
       "scheme_management     -0.040995       -0.040995 -0.014473    -0.012126   \n",
       "scheme_name           -0.073878       -0.073878 -0.206681    -0.210577   \n",
       "permit                -0.042478       -0.042478  0.030291     0.031209   \n",
       "construction_year     -0.009302       -0.009302 -0.010227    -0.003763   \n",
       "extraction_type        0.013984        0.013984  0.327374     0.315602   \n",
       "extraction_type_group  0.036526        0.036526  0.328094     0.317400   \n",
       "extraction_type_class  0.057328        0.057328  0.391129     0.379374   \n",
       "management             0.073278        0.073278 -0.057276    -0.062893   \n",
       "management_group       0.139557        0.139557 -0.041954    -0.049816   \n",
       "payment               -0.046304       -0.046304  0.042801     0.046499   \n",
       "payment_type          -0.046304       -0.046304  0.042801     0.046499   \n",
       "water_quality          0.202381        0.202381  0.108484     0.109654   \n",
       "quality_group          0.246021        0.246021  0.110056     0.110593   \n",
       "quantity               1.000000        1.000000  0.035101     0.042452   \n",
       "quantity_group         1.000000        1.000000  0.035101     0.042452   \n",
       "source                 0.035101        0.035101  1.000000     0.973652   \n",
       "source_type            0.042452        0.042452  0.973652     1.000000   \n",
       "source_class           0.104609        0.104609  0.405209     0.405895   \n",
       "waterpoint_type        0.040121        0.040121  0.303351     0.297527   \n",
       "waterpoint_type_group  0.051515        0.051515  0.227160     0.225964   \n",
       "status_group           0.188637        0.188637  0.072154     0.073221   \n",
       "\n",
       "                       source_class  waterpoint_type  waterpoint_type_group  \\\n",
       "id                         0.005235        -0.001689               0.000231   \n",
       "amount_tsh                 0.085647        -0.167683              -0.167616   \n",
       "date_recorded              0.000740         0.005475               0.011004   \n",
       "funder                     0.018238         0.038773               0.038296   \n",
       "gps_height                 0.055094        -0.154355              -0.136941   \n",
       "installer                  0.024710         0.037828               0.031438   \n",
       "longitude                  0.018191        -0.038435              -0.028578   \n",
       "latitude                   0.018242        -0.038376              -0.028512   \n",
       "wpt_name                   0.004679         0.037357               0.039989   \n",
       "num_private                0.038189        -0.045921              -0.041747   \n",
       "basin                      0.133758         0.004052              -0.007917   \n",
       "subvillage                -0.040450         0.113515               0.112726   \n",
       "region                     0.041678        -0.024325              -0.021727   \n",
       "region_code                0.056925        -0.037729              -0.045512   \n",
       "district_code             -0.018465         0.045426               0.037503   \n",
       "lga                       -0.042610         0.078049               0.046462   \n",
       "ward                      -0.069282         0.129577               0.105256   \n",
       "population                 0.057664        -0.027350              -0.033896   \n",
       "public_meeting             0.071904         0.017641               0.022745   \n",
       "recorded_by                     NaN              NaN                    NaN   \n",
       "scheme_management          0.204084        -0.174048              -0.166714   \n",
       "scheme_name                0.075887        -0.328501              -0.331793   \n",
       "permit                     0.090210        -0.052330              -0.053185   \n",
       "construction_year          0.045977        -0.047430              -0.045956   \n",
       "extraction_type           -0.197166         0.449053               0.378384   \n",
       "extraction_type_group     -0.268883         0.528670               0.456744   \n",
       "extraction_type_class     -0.283066         0.546329               0.468021   \n",
       "management                 0.174778        -0.147751              -0.125512   \n",
       "management_group           0.133911        -0.064263              -0.049732   \n",
       "payment                    0.078211        -0.092570              -0.092038   \n",
       "payment_type               0.078211        -0.092570              -0.092038   \n",
       "water_quality             -0.069857         0.155900               0.143938   \n",
       "quality_group             -0.060375         0.166839               0.155986   \n",
       "quantity                   0.104609         0.040121               0.051515   \n",
       "quantity_group             0.104609         0.040121               0.051515   \n",
       "source                     0.405209         0.303351               0.227160   \n",
       "source_type                0.405895         0.297527               0.225964   \n",
       "source_class               1.000000        -0.331829              -0.299726   \n",
       "waterpoint_type           -0.331829         1.000000               0.953307   \n",
       "waterpoint_type_group     -0.299726         0.953307               1.000000   \n",
       "status_group               0.032729         0.114303               0.103556   \n",
       "\n",
       "                       status_group  \n",
       "id                        -0.001624  \n",
       "amount_tsh                -0.125189  \n",
       "date_recorded             -0.005932  \n",
       "funder                    -0.036631  \n",
       "gps_height                -0.048207  \n",
       "installer                 -0.027423  \n",
       "longitude                 -0.018156  \n",
       "latitude                  -0.018109  \n",
       "wpt_name                   0.011926  \n",
       "num_private               -0.007243  \n",
       "basin                      0.009175  \n",
       "subvillage                 0.007465  \n",
       "region                     0.075149  \n",
       "region_code                0.066039  \n",
       "district_code              0.046310  \n",
       "lga                        0.048828  \n",
       "ward                       0.040207  \n",
       "population                -0.019909  \n",
       "public_meeting             0.042963  \n",
       "recorded_by                     NaN  \n",
       "scheme_management         -0.028901  \n",
       "scheme_name               -0.005942  \n",
       "permit                    -0.028971  \n",
       "construction_year          0.063023  \n",
       "extraction_type            0.062201  \n",
       "extraction_type_group      0.068842  \n",
       "extraction_type_class      0.089811  \n",
       "management                -0.048152  \n",
       "management_group          -0.017379  \n",
       "payment                   -0.049249  \n",
       "payment_type              -0.049249  \n",
       "water_quality              0.075322  \n",
       "quality_group              0.076252  \n",
       "quantity                   0.188637  \n",
       "quantity_group             0.188637  \n",
       "source                     0.072154  \n",
       "source_type                0.073221  \n",
       "source_class               0.032729  \n",
       "waterpoint_type            0.114303  \n",
       "waterpoint_type_group      0.103556  \n",
       "status_group               1.000000  \n",
       "\n",
       "[41 rows x 41 columns]"
      ]
     },
     "execution_count": 371,
     "metadata": {},
     "output_type": "execute_result"
    }
   ],
   "source": [
    "df6.apply(lambda x : pd.factorize(x)[0]).corr(method='pearson', min_periods=1)"
   ]
  },
  {
   "cell_type": "code",
   "execution_count": null,
   "metadata": {},
   "outputs": [],
   "source": []
  }
 ],
 "metadata": {
  "kernelspec": {
   "display_name": "Python 3",
   "language": "python",
   "name": "python3"
  },
  "language_info": {
   "codemirror_mode": {
    "name": "ipython",
    "version": 3
   },
   "file_extension": ".py",
   "mimetype": "text/x-python",
   "name": "python",
   "nbconvert_exporter": "python",
   "pygments_lexer": "ipython3",
   "version": "3.8.5"
  }
 },
 "nbformat": 4,
 "nbformat_minor": 4
}
