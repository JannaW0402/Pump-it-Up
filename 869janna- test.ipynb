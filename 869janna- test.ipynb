{
 "cells": [
  {
   "cell_type": "code",
   "execution_count": 92,
   "id": "e4afcc6e-c926-417c-9c8b-2838256fd0f9",
   "metadata": {},
   "outputs": [
    {
     "name": "stdout",
     "output_type": "stream",
     "text": [
      "Requirement already satisfied: pandas in /srv/conda/envs/notebook/lib/python3.7/site-packages (1.3.0)\n",
      "Requirement already satisfied: numpy>=1.17.3 in /srv/conda/envs/notebook/lib/python3.7/site-packages (from pandas) (1.21.1)\n",
      "Requirement already satisfied: pytz>=2017.3 in /srv/conda/envs/notebook/lib/python3.7/site-packages (from pandas) (2021.1)\n",
      "Requirement already satisfied: python-dateutil>=2.7.3 in /srv/conda/envs/notebook/lib/python3.7/site-packages (from pandas) (2.8.1)\n",
      "Requirement already satisfied: six>=1.5 in /srv/conda/envs/notebook/lib/python3.7/site-packages (from python-dateutil>=2.7.3->pandas) (1.15.0)\n",
      "Requirement already satisfied: numpy in /srv/conda/envs/notebook/lib/python3.7/site-packages (1.21.1)\n",
      "Requirement already satisfied: pandas-profiling==2.7.1 in /srv/conda/envs/notebook/lib/python3.7/site-packages (2.7.1)\n",
      "Requirement already satisfied: tangled-up-in-unicode>=0.0.4 in /srv/conda/envs/notebook/lib/python3.7/site-packages (from pandas-profiling==2.7.1) (0.1.0)\n",
      "Requirement already satisfied: ipywidgets>=7.5.1 in /srv/conda/envs/notebook/lib/python3.7/site-packages (from pandas-profiling==2.7.1) (7.6.3)\n",
      "Requirement already satisfied: jinja2>=2.11.1 in /srv/conda/envs/notebook/lib/python3.7/site-packages (from pandas-profiling==2.7.1) (2.11.3)\n",
      "Requirement already satisfied: tqdm>=4.43.0 in /srv/conda/envs/notebook/lib/python3.7/site-packages (from pandas-profiling==2.7.1) (4.61.2)\n",
      "Requirement already satisfied: joblib in /srv/conda/envs/notebook/lib/python3.7/site-packages (from pandas-profiling==2.7.1) (1.0.1)\n",
      "Requirement already satisfied: phik>=0.9.10 in /srv/conda/envs/notebook/lib/python3.7/site-packages (from pandas-profiling==2.7.1) (0.11.2)\n",
      "Requirement already satisfied: visions[type_image_path]==0.4.1 in /srv/conda/envs/notebook/lib/python3.7/site-packages (from pandas-profiling==2.7.1) (0.4.1)\n",
      "Requirement already satisfied: confuse>=1.0.0 in /srv/conda/envs/notebook/lib/python3.7/site-packages (from pandas-profiling==2.7.1) (1.5.0)\n",
      "Requirement already satisfied: missingno>=0.4.2 in /srv/conda/envs/notebook/lib/python3.7/site-packages (from pandas-profiling==2.7.1) (0.5.0)\n",
      "Requirement already satisfied: scipy>=1.4.1 in /srv/conda/envs/notebook/lib/python3.7/site-packages (from pandas-profiling==2.7.1) (1.7.0)\n",
      "Requirement already satisfied: pandas!=1.0.0,!=1.0.1,!=1.0.2,>=0.25.3 in /srv/conda/envs/notebook/lib/python3.7/site-packages (from pandas-profiling==2.7.1) (1.3.0)\n",
      "Requirement already satisfied: matplotlib>=3.2.0 in /srv/conda/envs/notebook/lib/python3.7/site-packages (from pandas-profiling==2.7.1) (3.4.2)\n",
      "Requirement already satisfied: requests>=2.23.0 in /srv/conda/envs/notebook/lib/python3.7/site-packages (from pandas-profiling==2.7.1) (2.25.1)\n",
      "Requirement already satisfied: htmlmin>=0.1.12 in /srv/conda/envs/notebook/lib/python3.7/site-packages (from pandas-profiling==2.7.1) (0.1.12)\n",
      "Requirement already satisfied: astropy>=4.0 in /srv/conda/envs/notebook/lib/python3.7/site-packages (from pandas-profiling==2.7.1) (4.2.1)\n",
      "Requirement already satisfied: numpy>=1.16.0 in /srv/conda/envs/notebook/lib/python3.7/site-packages (from pandas-profiling==2.7.1) (1.21.1)\n",
      "Requirement already satisfied: attrs>=19.3.0 in /srv/conda/envs/notebook/lib/python3.7/site-packages (from visions[type_image_path]==0.4.1->pandas-profiling==2.7.1) (20.3.0)\n",
      "Requirement already satisfied: networkx>=2.4 in /srv/conda/envs/notebook/lib/python3.7/site-packages (from visions[type_image_path]==0.4.1->pandas-profiling==2.7.1) (2.5.1)\n",
      "Requirement already satisfied: imagehash in /srv/conda/envs/notebook/lib/python3.7/site-packages (from visions[type_image_path]==0.4.1->pandas-profiling==2.7.1) (4.2.1)\n",
      "Requirement already satisfied: Pillow in /srv/conda/envs/notebook/lib/python3.7/site-packages (from visions[type_image_path]==0.4.1->pandas-profiling==2.7.1) (8.3.1)\n",
      "Requirement already satisfied: pyerfa in /srv/conda/envs/notebook/lib/python3.7/site-packages (from astropy>=4.0->pandas-profiling==2.7.1) (2.0.0)\n",
      "Requirement already satisfied: pyyaml in /srv/conda/envs/notebook/lib/python3.7/site-packages (from confuse>=1.0.0->pandas-profiling==2.7.1) (5.4.1)\n",
      "Requirement already satisfied: jupyterlab-widgets>=1.0.0 in /srv/conda/envs/notebook/lib/python3.7/site-packages (from ipywidgets>=7.5.1->pandas-profiling==2.7.1) (1.0.0)\n",
      "Requirement already satisfied: nbformat>=4.2.0 in /srv/conda/envs/notebook/lib/python3.7/site-packages (from ipywidgets>=7.5.1->pandas-profiling==2.7.1) (5.1.2)\n",
      "Requirement already satisfied: widgetsnbextension~=3.5.0 in /srv/conda/envs/notebook/lib/python3.7/site-packages (from ipywidgets>=7.5.1->pandas-profiling==2.7.1) (3.5.1)\n",
      "Requirement already satisfied: ipython>=4.0.0 in /srv/conda/envs/notebook/lib/python3.7/site-packages (from ipywidgets>=7.5.1->pandas-profiling==2.7.1) (7.21.0)\n",
      "Requirement already satisfied: ipykernel>=4.5.1 in /srv/conda/envs/notebook/lib/python3.7/site-packages (from ipywidgets>=7.5.1->pandas-profiling==2.7.1) (5.5.0)\n",
      "Requirement already satisfied: traitlets>=4.3.1 in /srv/conda/envs/notebook/lib/python3.7/site-packages (from ipywidgets>=7.5.1->pandas-profiling==2.7.1) (5.0.5)\n",
      "Requirement already satisfied: jupyter-client in /srv/conda/envs/notebook/lib/python3.7/site-packages (from ipykernel>=4.5.1->ipywidgets>=7.5.1->pandas-profiling==2.7.1) (6.1.11)\n",
      "Requirement already satisfied: tornado>=4.2 in /srv/conda/envs/notebook/lib/python3.7/site-packages (from ipykernel>=4.5.1->ipywidgets>=7.5.1->pandas-profiling==2.7.1) (6.1)\n",
      "Requirement already satisfied: pickleshare in /srv/conda/envs/notebook/lib/python3.7/site-packages (from ipython>=4.0.0->ipywidgets>=7.5.1->pandas-profiling==2.7.1) (0.7.5)\n",
      "Requirement already satisfied: backcall in /srv/conda/envs/notebook/lib/python3.7/site-packages (from ipython>=4.0.0->ipywidgets>=7.5.1->pandas-profiling==2.7.1) (0.2.0)\n",
      "Requirement already satisfied: decorator in /srv/conda/envs/notebook/lib/python3.7/site-packages (from ipython>=4.0.0->ipywidgets>=7.5.1->pandas-profiling==2.7.1) (4.4.2)\n",
      "Requirement already satisfied: pexpect>4.3 in /srv/conda/envs/notebook/lib/python3.7/site-packages (from ipython>=4.0.0->ipywidgets>=7.5.1->pandas-profiling==2.7.1) (4.8.0)\n",
      "Requirement already satisfied: pygments in /srv/conda/envs/notebook/lib/python3.7/site-packages (from ipython>=4.0.0->ipywidgets>=7.5.1->pandas-profiling==2.7.1) (2.8.0)\n",
      "Requirement already satisfied: prompt-toolkit!=3.0.0,!=3.0.1,<3.1.0,>=2.0.0 in /srv/conda/envs/notebook/lib/python3.7/site-packages (from ipython>=4.0.0->ipywidgets>=7.5.1->pandas-profiling==2.7.1) (3.0.16)\n",
      "Requirement already satisfied: jedi>=0.16 in /srv/conda/envs/notebook/lib/python3.7/site-packages (from ipython>=4.0.0->ipywidgets>=7.5.1->pandas-profiling==2.7.1) (0.18.0)\n",
      "Requirement already satisfied: setuptools>=18.5 in /srv/conda/envs/notebook/lib/python3.7/site-packages (from ipython>=4.0.0->ipywidgets>=7.5.1->pandas-profiling==2.7.1) (49.6.0.post20210108)\n",
      "Requirement already satisfied: parso<0.9.0,>=0.8.0 in /srv/conda/envs/notebook/lib/python3.7/site-packages (from jedi>=0.16->ipython>=4.0.0->ipywidgets>=7.5.1->pandas-profiling==2.7.1) (0.8.1)\n",
      "Requirement already satisfied: MarkupSafe>=0.23 in /srv/conda/envs/notebook/lib/python3.7/site-packages (from jinja2>=2.11.1->pandas-profiling==2.7.1) (1.1.1)\n",
      "Requirement already satisfied: cycler>=0.10 in /srv/conda/envs/notebook/lib/python3.7/site-packages (from matplotlib>=3.2.0->pandas-profiling==2.7.1) (0.10.0)\n",
      "Requirement already satisfied: pyparsing>=2.2.1 in /srv/conda/envs/notebook/lib/python3.7/site-packages (from matplotlib>=3.2.0->pandas-profiling==2.7.1) (2.4.7)\n",
      "Requirement already satisfied: python-dateutil>=2.7 in /srv/conda/envs/notebook/lib/python3.7/site-packages (from matplotlib>=3.2.0->pandas-profiling==2.7.1) (2.8.1)\n",
      "Requirement already satisfied: kiwisolver>=1.0.1 in /srv/conda/envs/notebook/lib/python3.7/site-packages (from matplotlib>=3.2.0->pandas-profiling==2.7.1) (1.3.1)\n",
      "Requirement already satisfied: six in /srv/conda/envs/notebook/lib/python3.7/site-packages (from cycler>=0.10->matplotlib>=3.2.0->pandas-profiling==2.7.1) (1.15.0)\n",
      "Requirement already satisfied: seaborn in /srv/conda/envs/notebook/lib/python3.7/site-packages (from missingno>=0.4.2->pandas-profiling==2.7.1) (0.11.1)\n",
      "Requirement already satisfied: jsonschema!=2.5.0,>=2.4 in /srv/conda/envs/notebook/lib/python3.7/site-packages (from nbformat>=4.2.0->ipywidgets>=7.5.1->pandas-profiling==2.7.1) (3.2.0)\n",
      "Requirement already satisfied: ipython-genutils in /srv/conda/envs/notebook/lib/python3.7/site-packages (from nbformat>=4.2.0->ipywidgets>=7.5.1->pandas-profiling==2.7.1) (0.2.0)\n",
      "Requirement already satisfied: jupyter-core in /srv/conda/envs/notebook/lib/python3.7/site-packages (from nbformat>=4.2.0->ipywidgets>=7.5.1->pandas-profiling==2.7.1) (4.7.1)\n"
     ]
    },
    {
     "name": "stdout",
     "output_type": "stream",
     "text": [
      "Requirement already satisfied: pyrsistent>=0.14.0 in /srv/conda/envs/notebook/lib/python3.7/site-packages (from jsonschema!=2.5.0,>=2.4->nbformat>=4.2.0->ipywidgets>=7.5.1->pandas-profiling==2.7.1) (0.17.3)\n",
      "Requirement already satisfied: importlib-metadata in /srv/conda/envs/notebook/lib/python3.7/site-packages (from jsonschema!=2.5.0,>=2.4->nbformat>=4.2.0->ipywidgets>=7.5.1->pandas-profiling==2.7.1) (3.7.0)\n",
      "Requirement already satisfied: pytz>=2017.3 in /srv/conda/envs/notebook/lib/python3.7/site-packages (from pandas!=1.0.0,!=1.0.1,!=1.0.2,>=0.25.3->pandas-profiling==2.7.1) (2021.1)\n",
      "Requirement already satisfied: ptyprocess>=0.5 in /srv/conda/envs/notebook/lib/python3.7/site-packages (from pexpect>4.3->ipython>=4.0.0->ipywidgets>=7.5.1->pandas-profiling==2.7.1) (0.7.0)\n",
      "Requirement already satisfied: wcwidth in /srv/conda/envs/notebook/lib/python3.7/site-packages (from prompt-toolkit!=3.0.0,!=3.0.1,<3.1.0,>=2.0.0->ipython>=4.0.0->ipywidgets>=7.5.1->pandas-profiling==2.7.1) (0.2.5)\n",
      "Requirement already satisfied: urllib3<1.27,>=1.21.1 in /srv/conda/envs/notebook/lib/python3.7/site-packages (from requests>=2.23.0->pandas-profiling==2.7.1) (1.26.3)\n",
      "Requirement already satisfied: certifi>=2017.4.17 in /srv/conda/envs/notebook/lib/python3.7/site-packages (from requests>=2.23.0->pandas-profiling==2.7.1) (2020.12.5)\n",
      "Requirement already satisfied: idna<3,>=2.5 in /srv/conda/envs/notebook/lib/python3.7/site-packages (from requests>=2.23.0->pandas-profiling==2.7.1) (2.10)\n",
      "Requirement already satisfied: chardet<5,>=3.0.2 in /srv/conda/envs/notebook/lib/python3.7/site-packages (from requests>=2.23.0->pandas-profiling==2.7.1) (4.0.0)\n",
      "Requirement already satisfied: notebook>=4.4.1 in /srv/conda/envs/notebook/lib/python3.7/site-packages (from widgetsnbextension~=3.5.0->ipywidgets>=7.5.1->pandas-profiling==2.7.1) (6.2.0)\n",
      "Requirement already satisfied: prometheus-client in /srv/conda/envs/notebook/lib/python3.7/site-packages (from notebook>=4.4.1->widgetsnbextension~=3.5.0->ipywidgets>=7.5.1->pandas-profiling==2.7.1) (0.9.0)\n",
      "Requirement already satisfied: pyzmq>=17 in /srv/conda/envs/notebook/lib/python3.7/site-packages (from notebook>=4.4.1->widgetsnbextension~=3.5.0->ipywidgets>=7.5.1->pandas-profiling==2.7.1) (22.0.3)\n",
      "Requirement already satisfied: Send2Trash>=1.5.0 in /srv/conda/envs/notebook/lib/python3.7/site-packages (from notebook>=4.4.1->widgetsnbextension~=3.5.0->ipywidgets>=7.5.1->pandas-profiling==2.7.1) (1.5.0)\n",
      "Requirement already satisfied: nbconvert in /srv/conda/envs/notebook/lib/python3.7/site-packages (from notebook>=4.4.1->widgetsnbextension~=3.5.0->ipywidgets>=7.5.1->pandas-profiling==2.7.1) (6.0.7)\n",
      "Requirement already satisfied: terminado>=0.8.3 in /srv/conda/envs/notebook/lib/python3.7/site-packages (from notebook>=4.4.1->widgetsnbextension~=3.5.0->ipywidgets>=7.5.1->pandas-profiling==2.7.1) (0.9.2)\n",
      "Requirement already satisfied: argon2-cffi in /srv/conda/envs/notebook/lib/python3.7/site-packages (from notebook>=4.4.1->widgetsnbextension~=3.5.0->ipywidgets>=7.5.1->pandas-profiling==2.7.1) (20.1.0)\n",
      "Requirement already satisfied: cffi>=1.0.0 in /srv/conda/envs/notebook/lib/python3.7/site-packages (from argon2-cffi->notebook>=4.4.1->widgetsnbextension~=3.5.0->ipywidgets>=7.5.1->pandas-profiling==2.7.1) (1.14.5)\n",
      "Requirement already satisfied: pycparser in /srv/conda/envs/notebook/lib/python3.7/site-packages (from cffi>=1.0.0->argon2-cffi->notebook>=4.4.1->widgetsnbextension~=3.5.0->ipywidgets>=7.5.1->pandas-profiling==2.7.1) (2.20)\n",
      "Requirement already satisfied: PyWavelets in /srv/conda/envs/notebook/lib/python3.7/site-packages (from imagehash->visions[type_image_path]==0.4.1->pandas-profiling==2.7.1) (1.1.1)\n",
      "Requirement already satisfied: typing-extensions>=3.6.4 in /srv/conda/envs/notebook/lib/python3.7/site-packages (from importlib-metadata->jsonschema!=2.5.0,>=2.4->nbformat>=4.2.0->ipywidgets>=7.5.1->pandas-profiling==2.7.1) (3.7.4.3)\n",
      "Requirement already satisfied: zipp>=0.5 in /srv/conda/envs/notebook/lib/python3.7/site-packages (from importlib-metadata->jsonschema!=2.5.0,>=2.4->nbformat>=4.2.0->ipywidgets>=7.5.1->pandas-profiling==2.7.1) (3.4.0)\n",
      "Requirement already satisfied: pandocfilters>=1.4.1 in /srv/conda/envs/notebook/lib/python3.7/site-packages (from nbconvert->notebook>=4.4.1->widgetsnbextension~=3.5.0->ipywidgets>=7.5.1->pandas-profiling==2.7.1) (1.4.2)\n",
      "Requirement already satisfied: jupyterlab-pygments in /srv/conda/envs/notebook/lib/python3.7/site-packages (from nbconvert->notebook>=4.4.1->widgetsnbextension~=3.5.0->ipywidgets>=7.5.1->pandas-profiling==2.7.1) (0.1.2)\n",
      "Requirement already satisfied: nbclient<0.6.0,>=0.5.0 in /srv/conda/envs/notebook/lib/python3.7/site-packages (from nbconvert->notebook>=4.4.1->widgetsnbextension~=3.5.0->ipywidgets>=7.5.1->pandas-profiling==2.7.1) (0.5.3)\n",
      "Requirement already satisfied: entrypoints>=0.2.2 in /srv/conda/envs/notebook/lib/python3.7/site-packages (from nbconvert->notebook>=4.4.1->widgetsnbextension~=3.5.0->ipywidgets>=7.5.1->pandas-profiling==2.7.1) (0.3)\n",
      "Requirement already satisfied: bleach in /srv/conda/envs/notebook/lib/python3.7/site-packages (from nbconvert->notebook>=4.4.1->widgetsnbextension~=3.5.0->ipywidgets>=7.5.1->pandas-profiling==2.7.1) (3.3.0)\n",
      "Requirement already satisfied: testpath in /srv/conda/envs/notebook/lib/python3.7/site-packages (from nbconvert->notebook>=4.4.1->widgetsnbextension~=3.5.0->ipywidgets>=7.5.1->pandas-profiling==2.7.1) (0.4.4)\n",
      "Requirement already satisfied: mistune<2,>=0.8.1 in /srv/conda/envs/notebook/lib/python3.7/site-packages (from nbconvert->notebook>=4.4.1->widgetsnbextension~=3.5.0->ipywidgets>=7.5.1->pandas-profiling==2.7.1) (0.8.4)\n",
      "Requirement already satisfied: defusedxml in /srv/conda/envs/notebook/lib/python3.7/site-packages (from nbconvert->notebook>=4.4.1->widgetsnbextension~=3.5.0->ipywidgets>=7.5.1->pandas-profiling==2.7.1) (0.6.0)\n",
      "Requirement already satisfied: async-generator in /srv/conda/envs/notebook/lib/python3.7/site-packages (from nbclient<0.6.0,>=0.5.0->nbconvert->notebook>=4.4.1->widgetsnbextension~=3.5.0->ipywidgets>=7.5.1->pandas-profiling==2.7.1) (1.10)\n",
      "Requirement already satisfied: nest-asyncio in /srv/conda/envs/notebook/lib/python3.7/site-packages (from nbclient<0.6.0,>=0.5.0->nbconvert->notebook>=4.4.1->widgetsnbextension~=3.5.0->ipywidgets>=7.5.1->pandas-profiling==2.7.1) (1.4.3)\n",
      "Requirement already satisfied: packaging in /srv/conda/envs/notebook/lib/python3.7/site-packages (from bleach->nbconvert->notebook>=4.4.1->widgetsnbextension~=3.5.0->ipywidgets>=7.5.1->pandas-profiling==2.7.1) (20.9)\n",
      "Requirement already satisfied: webencodings in /srv/conda/envs/notebook/lib/python3.7/site-packages (from bleach->nbconvert->notebook>=4.4.1->widgetsnbextension~=3.5.0->ipywidgets>=7.5.1->pandas-profiling==2.7.1) (0.5.1)\n",
      "Requirement already satisfied: seaborn in /srv/conda/envs/notebook/lib/python3.7/site-packages (0.11.1)\n",
      "Requirement already satisfied: pandas>=0.23 in /srv/conda/envs/notebook/lib/python3.7/site-packages (from seaborn) (1.3.0)\n",
      "Requirement already satisfied: scipy>=1.0 in /srv/conda/envs/notebook/lib/python3.7/site-packages (from seaborn) (1.7.0)\n",
      "Requirement already satisfied: matplotlib>=2.2 in /srv/conda/envs/notebook/lib/python3.7/site-packages (from seaborn) (3.4.2)\n",
      "Requirement already satisfied: numpy>=1.15 in /srv/conda/envs/notebook/lib/python3.7/site-packages (from seaborn) (1.21.1)\n",
      "Requirement already satisfied: kiwisolver>=1.0.1 in /srv/conda/envs/notebook/lib/python3.7/site-packages (from matplotlib>=2.2->seaborn) (1.3.1)\n",
      "Requirement already satisfied: python-dateutil>=2.7 in /srv/conda/envs/notebook/lib/python3.7/site-packages (from matplotlib>=2.2->seaborn) (2.8.1)\n",
      "Requirement already satisfied: pillow>=6.2.0 in /srv/conda/envs/notebook/lib/python3.7/site-packages (from matplotlib>=2.2->seaborn) (8.3.1)\n",
      "Requirement already satisfied: pyparsing>=2.2.1 in /srv/conda/envs/notebook/lib/python3.7/site-packages (from matplotlib>=2.2->seaborn) (2.4.7)\n",
      "Requirement already satisfied: cycler>=0.10 in /srv/conda/envs/notebook/lib/python3.7/site-packages (from matplotlib>=2.2->seaborn) (0.10.0)\n",
      "Requirement already satisfied: six in /srv/conda/envs/notebook/lib/python3.7/site-packages (from cycler>=0.10->matplotlib>=2.2->seaborn) (1.15.0)\n",
      "Requirement already satisfied: pytz>=2017.3 in /srv/conda/envs/notebook/lib/python3.7/site-packages (from pandas>=0.23->seaborn) (2021.1)\n"
     ]
    }
   ],
   "source": [
    "!pip install pandas\n",
    "!pip install numpy\n",
    "!pip install pandas-profiling==2.7.1\n",
    "import pandas as pd\n",
    "import numpy as np  \n",
    "import matplotlib.pyplot as plt\n",
    "import os\n",
    "\n",
    "!pip install seaborn\n",
    "import seaborn as sns\n",
    "\n",
    "from pandas.api.types import CategoricalDtype\n",
    "#Test_value_label = pd.read_csv('Test_valueing set labels.csv')\n",
    "#Test_value_value = pd.read_csv('Test_valueing set values.csv')\n",
    "Test_value = pd.read_csv('Test set values.csv')\n",
    "#Test_value = pd.merge(Test_value_value,Test_value_label, how='inner',left_on='id',right_on='id', left_index=False)"
   ]
  },
  {
   "cell_type": "code",
   "execution_count": 93,
   "id": "danish-result",
   "metadata": {},
   "outputs": [],
   "source": [
    "# Function to set up # of category for features\n",
    "test_cat = 8\n",
    "def max_cat(col):\n",
    "    if len(Test_value[col].value_counts()) > (test_cat):\n",
    "        top_value = Test_value[col].value_counts()[:(test_cat)].index.tolist()\n",
    "        Test_value.loc[-Test_value[col].isin(top_value),col]='Others'\n",
    "                \n",
    "    return Test_value\n",
    "        "
   ]
  },
  {
   "cell_type": "code",
   "execution_count": 94,
   "id": "626cfa1b-2ba9-496a-adf2-d9262a73b1b9",
   "metadata": {},
   "outputs": [
    {
     "data": {
      "text/plain": [
       "(14850, 40)"
      ]
     },
     "execution_count": 94,
     "metadata": {},
     "output_type": "execute_result"
    }
   ],
   "source": [
    "Test_value.shape"
   ]
  },
  {
   "cell_type": "code",
   "execution_count": 95,
   "id": "first-solomon",
   "metadata": {},
   "outputs": [
    {
     "data": {
      "text/html": [
       "<div>\n",
       "<style scoped>\n",
       "    .dataframe tbody tr th:only-of-type {\n",
       "        vertical-align: middle;\n",
       "    }\n",
       "\n",
       "    .dataframe tbody tr th {\n",
       "        vertical-align: top;\n",
       "    }\n",
       "\n",
       "    .dataframe thead th {\n",
       "        text-align: right;\n",
       "    }\n",
       "</style>\n",
       "<table border=\"1\" class=\"dataframe\">\n",
       "  <thead>\n",
       "    <tr style=\"text-align: right;\">\n",
       "      <th></th>\n",
       "      <th>id</th>\n",
       "      <th>amount_tsh</th>\n",
       "      <th>date_recorded</th>\n",
       "      <th>funder</th>\n",
       "      <th>gps_height</th>\n",
       "      <th>installer</th>\n",
       "      <th>longitude</th>\n",
       "      <th>latitude</th>\n",
       "      <th>wpt_name</th>\n",
       "      <th>num_private</th>\n",
       "      <th>...</th>\n",
       "      <th>payment_type</th>\n",
       "      <th>water_quality</th>\n",
       "      <th>quality_group</th>\n",
       "      <th>quantity</th>\n",
       "      <th>quantity_group</th>\n",
       "      <th>source</th>\n",
       "      <th>source_type</th>\n",
       "      <th>source_class</th>\n",
       "      <th>waterpoint_type</th>\n",
       "      <th>waterpoint_type_group</th>\n",
       "    </tr>\n",
       "  </thead>\n",
       "  <tbody>\n",
       "    <tr>\n",
       "      <th>0</th>\n",
       "      <td>50785</td>\n",
       "      <td>0.0</td>\n",
       "      <td>2013-02-04</td>\n",
       "      <td>Dmdd</td>\n",
       "      <td>1996</td>\n",
       "      <td>DMDD</td>\n",
       "      <td>35.290799</td>\n",
       "      <td>-4.059696</td>\n",
       "      <td>Dinamu Secondary School</td>\n",
       "      <td>0</td>\n",
       "      <td>...</td>\n",
       "      <td>never pay</td>\n",
       "      <td>soft</td>\n",
       "      <td>good</td>\n",
       "      <td>seasonal</td>\n",
       "      <td>seasonal</td>\n",
       "      <td>rainwater harvesting</td>\n",
       "      <td>rainwater harvesting</td>\n",
       "      <td>surface</td>\n",
       "      <td>other</td>\n",
       "      <td>other</td>\n",
       "    </tr>\n",
       "    <tr>\n",
       "      <th>1</th>\n",
       "      <td>51630</td>\n",
       "      <td>0.0</td>\n",
       "      <td>2013-02-04</td>\n",
       "      <td>Government Of Tanzania</td>\n",
       "      <td>1569</td>\n",
       "      <td>DWE</td>\n",
       "      <td>36.656709</td>\n",
       "      <td>-3.309214</td>\n",
       "      <td>Kimnyak</td>\n",
       "      <td>0</td>\n",
       "      <td>...</td>\n",
       "      <td>never pay</td>\n",
       "      <td>soft</td>\n",
       "      <td>good</td>\n",
       "      <td>insufficient</td>\n",
       "      <td>insufficient</td>\n",
       "      <td>spring</td>\n",
       "      <td>spring</td>\n",
       "      <td>groundwater</td>\n",
       "      <td>communal standpipe</td>\n",
       "      <td>communal standpipe</td>\n",
       "    </tr>\n",
       "    <tr>\n",
       "      <th>2</th>\n",
       "      <td>17168</td>\n",
       "      <td>0.0</td>\n",
       "      <td>2013-02-01</td>\n",
       "      <td>NaN</td>\n",
       "      <td>1567</td>\n",
       "      <td>NaN</td>\n",
       "      <td>34.767863</td>\n",
       "      <td>-5.004344</td>\n",
       "      <td>Puma Secondary</td>\n",
       "      <td>0</td>\n",
       "      <td>...</td>\n",
       "      <td>never pay</td>\n",
       "      <td>soft</td>\n",
       "      <td>good</td>\n",
       "      <td>insufficient</td>\n",
       "      <td>insufficient</td>\n",
       "      <td>rainwater harvesting</td>\n",
       "      <td>rainwater harvesting</td>\n",
       "      <td>surface</td>\n",
       "      <td>other</td>\n",
       "      <td>other</td>\n",
       "    </tr>\n",
       "    <tr>\n",
       "      <th>3</th>\n",
       "      <td>45559</td>\n",
       "      <td>0.0</td>\n",
       "      <td>2013-01-22</td>\n",
       "      <td>Finn Water</td>\n",
       "      <td>267</td>\n",
       "      <td>FINN WATER</td>\n",
       "      <td>38.058046</td>\n",
       "      <td>-9.418672</td>\n",
       "      <td>Kwa Mzee Pange</td>\n",
       "      <td>0</td>\n",
       "      <td>...</td>\n",
       "      <td>unknown</td>\n",
       "      <td>soft</td>\n",
       "      <td>good</td>\n",
       "      <td>dry</td>\n",
       "      <td>dry</td>\n",
       "      <td>shallow well</td>\n",
       "      <td>shallow well</td>\n",
       "      <td>groundwater</td>\n",
       "      <td>other</td>\n",
       "      <td>other</td>\n",
       "    </tr>\n",
       "    <tr>\n",
       "      <th>4</th>\n",
       "      <td>49871</td>\n",
       "      <td>500.0</td>\n",
       "      <td>2013-03-27</td>\n",
       "      <td>Bruder</td>\n",
       "      <td>1260</td>\n",
       "      <td>BRUDER</td>\n",
       "      <td>35.006123</td>\n",
       "      <td>-10.950412</td>\n",
       "      <td>Kwa Mzee Turuka</td>\n",
       "      <td>0</td>\n",
       "      <td>...</td>\n",
       "      <td>monthly</td>\n",
       "      <td>soft</td>\n",
       "      <td>good</td>\n",
       "      <td>enough</td>\n",
       "      <td>enough</td>\n",
       "      <td>spring</td>\n",
       "      <td>spring</td>\n",
       "      <td>groundwater</td>\n",
       "      <td>communal standpipe</td>\n",
       "      <td>communal standpipe</td>\n",
       "    </tr>\n",
       "  </tbody>\n",
       "</table>\n",
       "<p>5 rows × 40 columns</p>\n",
       "</div>"
      ],
      "text/plain": [
       "      id  amount_tsh date_recorded                  funder  gps_height  \\\n",
       "0  50785         0.0    2013-02-04                    Dmdd        1996   \n",
       "1  51630         0.0    2013-02-04  Government Of Tanzania        1569   \n",
       "2  17168         0.0    2013-02-01                     NaN        1567   \n",
       "3  45559         0.0    2013-01-22              Finn Water         267   \n",
       "4  49871       500.0    2013-03-27                  Bruder        1260   \n",
       "\n",
       "    installer  longitude   latitude                 wpt_name  num_private  \\\n",
       "0        DMDD  35.290799  -4.059696  Dinamu Secondary School            0   \n",
       "1         DWE  36.656709  -3.309214                  Kimnyak            0   \n",
       "2         NaN  34.767863  -5.004344           Puma Secondary            0   \n",
       "3  FINN WATER  38.058046  -9.418672           Kwa Mzee Pange            0   \n",
       "4      BRUDER  35.006123 -10.950412          Kwa Mzee Turuka            0   \n",
       "\n",
       "   ... payment_type water_quality quality_group      quantity  quantity_group  \\\n",
       "0  ...    never pay          soft          good      seasonal        seasonal   \n",
       "1  ...    never pay          soft          good  insufficient    insufficient   \n",
       "2  ...    never pay          soft          good  insufficient    insufficient   \n",
       "3  ...      unknown          soft          good           dry             dry   \n",
       "4  ...      monthly          soft          good        enough          enough   \n",
       "\n",
       "                 source           source_type  source_class  \\\n",
       "0  rainwater harvesting  rainwater harvesting       surface   \n",
       "1                spring                spring   groundwater   \n",
       "2  rainwater harvesting  rainwater harvesting       surface   \n",
       "3          shallow well          shallow well   groundwater   \n",
       "4                spring                spring   groundwater   \n",
       "\n",
       "      waterpoint_type waterpoint_type_group  \n",
       "0               other                 other  \n",
       "1  communal standpipe    communal standpipe  \n",
       "2               other                 other  \n",
       "3               other                 other  \n",
       "4  communal standpipe    communal standpipe  \n",
       "\n",
       "[5 rows x 40 columns]"
      ]
     },
     "execution_count": 95,
     "metadata": {},
     "output_type": "execute_result"
    }
   ],
   "source": [
    "Test_value.head()"
   ]
  },
  {
   "cell_type": "code",
   "execution_count": 96,
   "id": "fossil-pastor",
   "metadata": {},
   "outputs": [
    {
     "data": {
      "text/plain": [
       "id                          0\n",
       "amount_tsh                  0\n",
       "date_recorded               0\n",
       "funder                    869\n",
       "gps_height                  0\n",
       "installer                 877\n",
       "longitude                   0\n",
       "latitude                    0\n",
       "wpt_name                    0\n",
       "num_private                 0\n",
       "basin                       0\n",
       "subvillage                 99\n",
       "region                      0\n",
       "region_code                 0\n",
       "district_code               0\n",
       "lga                         0\n",
       "ward                        0\n",
       "population                  0\n",
       "public_meeting            821\n",
       "recorded_by                 0\n",
       "scheme_management         969\n",
       "scheme_name              7092\n",
       "permit                    737\n",
       "construction_year           0\n",
       "extraction_type             0\n",
       "extraction_type_group       0\n",
       "extraction_type_class       0\n",
       "management                  0\n",
       "management_group            0\n",
       "payment                     0\n",
       "payment_type                0\n",
       "water_quality               0\n",
       "quality_group               0\n",
       "quantity                    0\n",
       "quantity_group              0\n",
       "source                      0\n",
       "source_type                 0\n",
       "source_class                0\n",
       "waterpoint_type             0\n",
       "waterpoint_type_group       0\n",
       "dtype: int64"
      ]
     },
     "execution_count": 96,
     "metadata": {},
     "output_type": "execute_result"
    }
   ],
   "source": [
    "Test_value.isnull().sum()"
   ]
  },
  {
   "cell_type": "code",
   "execution_count": 97,
   "id": "preliminary-acoustic",
   "metadata": {},
   "outputs": [
    {
     "data": {
      "text/plain": [
       "0"
      ]
     },
     "execution_count": 97,
     "metadata": {},
     "output_type": "execute_result"
    }
   ],
   "source": [
    "# Check for Duplicate values\n",
    "Test_value.duplicated().sum()"
   ]
  },
  {
   "cell_type": "code",
   "execution_count": 98,
   "id": "exceptional-vienna",
   "metadata": {},
   "outputs": [
    {
     "data": {
      "image/png": "[encoded data removed]",
      "text/plain": [
       "<Figure size 864x864 with 9 Axes>"
      ]
     },
     "metadata": {
      "needs_background": "light"
     },
     "output_type": "display_data"
    }
   ],
   "source": [
    "#Check the histogram for numeric features\n",
    "Test_value.iloc[:,1:].hist(figsize=(12,12))\n",
    "plt.show()"
   ]
  },
  {
   "cell_type": "markdown",
   "id": "overhead-truck",
   "metadata": {},
   "source": [
    "###  Clean All Numeric Features\n",
    "In statistics, skewness is a measure of the asymmetry of the probability distribution of a random variable about its mean. In other words, skewness tells you the amount and direction of skew (departure from horizontal symmetry). The skewness value can be positive or negative, or even undefined. If skewness is 0, the data are perfectly symmetrical, although it is quite unlikely for real-world data. As a general rule of thumb:\n",
    "\n",
    "If skewness is less than -1 or greater than 1, the distribution is highly skewed.\n",
    "If skewness is between -1 and -0.5 or between 0.5 and 1, the distribution is moderately skewed.\n",
    "If skewness is between -0.5 and 0.5, the distribution is approximately symmetric."
   ]
  },
  {
   "cell_type": "markdown",
   "id": "governing-developer",
   "metadata": {},
   "source": [
    "#### Cleanning - amount_tsh\n",
    "- Outlier"
   ]
  },
  {
   "cell_type": "code",
   "execution_count": 99,
   "id": "bottom-husband",
   "metadata": {},
   "outputs": [
    {
     "name": "stderr",
     "output_type": "stream",
     "text": [
      "/srv/conda/envs/notebook/lib/python3.7/site-packages/seaborn/_decorators.py:43: FutureWarning: Pass the following variable as a keyword arg: x. From version 0.12, the only valid positional argument will be `data`, and passing other arguments without an explicit keyword will result in an error or misinterpretation.\n",
      "  FutureWarning\n"
     ]
    },
    {
     "data": {
      "text/plain": [
       "count     14850.000000\n",
       "mean        322.826983\n",
       "std        2510.968644\n",
       "min           0.000000\n",
       "25%           0.000000\n",
       "50%           0.000000\n",
       "75%          25.000000\n",
       "max      200000.000000\n",
       "Name: amount_tsh, dtype: float64"
      ]
     },
     "execution_count": 99,
     "metadata": {},
     "output_type": "execute_result"
    },
    {
     "data": {
      "image/png": "[encoded data removed]",
      "text/plain": [
       "<Figure size 432x288 with 1 Axes>"
      ]
     },
     "metadata": {
      "needs_background": "light"
     },
     "output_type": "display_data"
    }
   ],
   "source": [
    "sns.boxplot(Test_value['amount_tsh'])\n",
    "Test_value['amount_tsh'].describe()"
   ]
  },
  {
   "cell_type": "code",
   "execution_count": 100,
   "id": "nasty-airline",
   "metadata": {},
   "outputs": [
    {
     "name": "stderr",
     "output_type": "stream",
     "text": [
      "/srv/conda/envs/notebook/lib/python3.7/site-packages/seaborn/_decorators.py:43: FutureWarning: Pass the following variable as a keyword arg: x. From version 0.12, the only valid positional argument will be `data`, and passing other arguments without an explicit keyword will result in an error or misinterpretation.\n",
      "  FutureWarning\n"
     ]
    },
    {
     "data": {
      "text/plain": [
       "count    14850.000000\n",
       "mean        15.189609\n",
       "std         25.353870\n",
       "min          0.000000\n",
       "25%          0.000000\n",
       "50%          0.000000\n",
       "75%         25.000000\n",
       "max         62.500000\n",
       "Name: amount_tsh, dtype: float64"
      ]
     },
     "execution_count": 100,
     "metadata": {},
     "output_type": "execute_result"
    },
    {
     "data": {
      "image/png": "[encoded data removed]",
      "text/plain": [
       "<Figure size 432x288 with 1 Axes>"
      ]
     },
     "metadata": {
      "needs_background": "light"
     },
     "output_type": "display_data"
    }
   ],
   "source": [
    "# Inter-Quartile Range (IQR) proximity rule\n",
    "percentile25 = Test_value['amount_tsh'].quantile(0.25)\n",
    "percentile75 = Test_value['amount_tsh'].quantile(0.75)\n",
    "iqr = percentile75 - percentile25\n",
    "upper_limit = percentile75 + 1.5 * iqr\n",
    "lower_limit = percentile25 - 1.5 * iqr\n",
    "\n",
    "# apply the Capping on Outliers\n",
    "Test_value['amount_tsh'] = np.where(Test_value['amount_tsh']>upper_limit,upper_limit,\n",
    "                      np.where(Test_value['amount_tsh']<lower_limit,lower_limit,Test_value['amount_tsh']))\n",
    "\n",
    "sns.boxplot(Test_value['amount_tsh'])\n",
    "\n",
    "Test_value['amount_tsh'].describe()"
   ]
  },
  {
   "cell_type": "code",
   "execution_count": 101,
   "id": "toxic-bruce",
   "metadata": {},
   "outputs": [
    {
     "name": "stdout",
     "output_type": "stream",
     "text": [
      "1.1920322332470166\n"
     ]
    }
   ],
   "source": [
    "print(Test_value['amount_tsh'].skew()) #skewness"
   ]
  },
  {
   "cell_type": "markdown",
   "id": "expected-gentleman",
   "metadata": {},
   "source": [
    "#### Cleanning - 'gps_height'\n",
    "After checking, nothing to be dealed with"
   ]
  },
  {
   "cell_type": "code",
   "execution_count": 102,
   "id": "little-intervention",
   "metadata": {},
   "outputs": [
    {
     "name": "stderr",
     "output_type": "stream",
     "text": [
      "/srv/conda/envs/notebook/lib/python3.7/site-packages/seaborn/_decorators.py:43: FutureWarning: Pass the following variable as a keyword arg: x. From version 0.12, the only valid positional argument will be `data`, and passing other arguments without an explicit keyword will result in an error or misinterpretation.\n",
      "  FutureWarning\n"
     ]
    },
    {
     "data": {
      "text/plain": [
       "count    14850.000000\n",
       "mean       655.147609\n",
       "std        691.261185\n",
       "min        -57.000000\n",
       "25%          0.000000\n",
       "50%        344.000000\n",
       "75%       1308.000000\n",
       "max       2777.000000\n",
       "Name: gps_height, dtype: float64"
      ]
     },
     "execution_count": 102,
     "metadata": {},
     "output_type": "execute_result"
    },
    {
     "data": {
      "image/png": "[encoded data removed]",
      "text/plain": [
       "<Figure size 432x288 with 1 Axes>"
      ]
     },
     "metadata": {
      "needs_background": "light"
     },
     "output_type": "display_data"
    }
   ],
   "source": [
    "sns.boxplot(Test_value['gps_height'])\n",
    "Test_value['gps_height'].describe()"
   ]
  },
  {
   "cell_type": "code",
   "execution_count": 105,
   "id": "relative-disease",
   "metadata": {},
   "outputs": [
    {
     "name": "stdout",
     "output_type": "stream",
     "text": [
      "0.497093589880279\n"
     ]
    }
   ],
   "source": [
    "print(Test_value['gps_height'].skew()) #skewness"
   ]
  },
  {
   "cell_type": "markdown",
   "id": "reported-catch",
   "metadata": {},
   "source": [
    "#### Cleanning - longitude | latitude\n",
    "Reference: https://worldpopulationreview.com/country-locations/where-is-tanzania    \n",
    "latitude :  00°59' - 11°45′ -> should be negative due South Lat  -> -0.59  ~ - 11.45\n",
    "longitude:  29°10' -  40°29′ East"
   ]
  },
  {
   "cell_type": "code",
   "execution_count": 106,
   "id": "leading-insured",
   "metadata": {},
   "outputs": [
    {
     "data": {
      "text/html": [
       "<div>\n",
       "<style scoped>\n",
       "    .dataframe tbody tr th:only-of-type {\n",
       "        vertical-align: middle;\n",
       "    }\n",
       "\n",
       "    .dataframe tbody tr th {\n",
       "        vertical-align: top;\n",
       "    }\n",
       "\n",
       "    .dataframe thead th {\n",
       "        text-align: right;\n",
       "    }\n",
       "</style>\n",
       "<table border=\"1\" class=\"dataframe\">\n",
       "  <thead>\n",
       "    <tr style=\"text-align: right;\">\n",
       "      <th></th>\n",
       "      <th>longitude</th>\n",
       "      <th>latitude</th>\n",
       "    </tr>\n",
       "  </thead>\n",
       "  <tbody>\n",
       "    <tr>\n",
       "      <th>count</th>\n",
       "      <td>14850.000000</td>\n",
       "      <td>1.485000e+04</td>\n",
       "    </tr>\n",
       "    <tr>\n",
       "      <th>mean</th>\n",
       "      <td>34.061605</td>\n",
       "      <td>-5.684724e+00</td>\n",
       "    </tr>\n",
       "    <tr>\n",
       "      <th>std</th>\n",
       "      <td>6.593034</td>\n",
       "      <td>2.940803e+00</td>\n",
       "    </tr>\n",
       "    <tr>\n",
       "      <th>min</th>\n",
       "      <td>0.000000</td>\n",
       "      <td>-1.156459e+01</td>\n",
       "    </tr>\n",
       "    <tr>\n",
       "      <th>25%</th>\n",
       "      <td>33.069455</td>\n",
       "      <td>-8.443970e+00</td>\n",
       "    </tr>\n",
       "    <tr>\n",
       "      <th>50%</th>\n",
       "      <td>34.901215</td>\n",
       "      <td>-5.049750e+00</td>\n",
       "    </tr>\n",
       "    <tr>\n",
       "      <th>75%</th>\n",
       "      <td>37.196594</td>\n",
       "      <td>-3.320594e+00</td>\n",
       "    </tr>\n",
       "    <tr>\n",
       "      <th>max</th>\n",
       "      <td>40.325016</td>\n",
       "      <td>-2.000000e-08</td>\n",
       "    </tr>\n",
       "  </tbody>\n",
       "</table>\n",
       "</div>"
      ],
      "text/plain": [
       "          longitude      latitude\n",
       "count  14850.000000  1.485000e+04\n",
       "mean      34.061605 -5.684724e+00\n",
       "std        6.593034  2.940803e+00\n",
       "min        0.000000 -1.156459e+01\n",
       "25%       33.069455 -8.443970e+00\n",
       "50%       34.901215 -5.049750e+00\n",
       "75%       37.196594 -3.320594e+00\n",
       "max       40.325016 -2.000000e-08"
      ]
     },
     "execution_count": 106,
     "metadata": {},
     "output_type": "execute_result"
    }
   ],
   "source": [
    "Test_value[['longitude','latitude']].describe()"
   ]
  },
  {
   "cell_type": "code",
   "execution_count": 107,
   "id": "ongoing-institute",
   "metadata": {},
   "outputs": [],
   "source": [
    "long_lat_error =Test_value[((Test_value['longitude'] < 29.10)  | (Test_value['longitude'] > 40.29)) | ((Test_value['latitude'] < -11.45)  | (Test_value['latitude'] > -0.59))] \n"
   ]
  },
  {
   "cell_type": "code",
   "execution_count": 108,
   "id": "noticed-institute",
   "metadata": {},
   "outputs": [],
   "source": [
    "# Correct long_lat_error using mean of corrected  long & lat\n",
    "long_mean = Test_value[(Test_value['longitude'] >= 29.10)  | (Test_value['longitude'] <= 40.29)]['longitude'].mean()\n",
    "lat_mean = Test_value[(Test_value['latitude'] >= -11.45)  | (Test_value['latitude'] <= -0.59)]['latitude'].mean()\n",
    "#long_mean: 34.077426692028794\n",
    "#lat_mean: -5.706032659626431\n",
    "                  "
   ]
  },
  {
   "cell_type": "code",
   "execution_count": 109,
   "id": "supposed-kitty",
   "metadata": {},
   "outputs": [],
   "source": [
    "Test_value['longitude'] = np.where(((Test_value.longitude <29.10 ) | (Test_value.longitude > 40.29)),long_mean,Test_value.longitude)\n",
    "Test_value['latitude'] = np.where(((Test_value.latitude < -11.45) | (Test_value.latitude > -0.59)),lat_mean,Test_value.latitude)"
   ]
  },
  {
   "cell_type": "code",
   "execution_count": 110,
   "id": "built-humanitarian",
   "metadata": {},
   "outputs": [
    {
     "data": {
      "text/html": [
       "<div>\n",
       "<style scoped>\n",
       "    .dataframe tbody tr th:only-of-type {\n",
       "        vertical-align: middle;\n",
       "    }\n",
       "\n",
       "    .dataframe tbody tr th {\n",
       "        vertical-align: top;\n",
       "    }\n",
       "\n",
       "    .dataframe thead th {\n",
       "        text-align: right;\n",
       "    }\n",
       "</style>\n",
       "<table border=\"1\" class=\"dataframe\">\n",
       "  <thead>\n",
       "    <tr style=\"text-align: right;\">\n",
       "      <th></th>\n",
       "      <th>longitude</th>\n",
       "      <th>latitude</th>\n",
       "    </tr>\n",
       "  </thead>\n",
       "  <tbody>\n",
       "    <tr>\n",
       "      <th>count</th>\n",
       "      <td>14850.000000</td>\n",
       "      <td>14850.000000</td>\n",
       "    </tr>\n",
       "    <tr>\n",
       "      <th>mean</th>\n",
       "      <td>35.107725</td>\n",
       "      <td>-5.853016</td>\n",
       "    </tr>\n",
       "    <tr>\n",
       "      <th>std</th>\n",
       "      <td>2.579501</td>\n",
       "      <td>2.754407</td>\n",
       "    </tr>\n",
       "    <tr>\n",
       "      <th>min</th>\n",
       "      <td>29.612776</td>\n",
       "      <td>-11.448590</td>\n",
       "    </tr>\n",
       "    <tr>\n",
       "      <th>25%</th>\n",
       "      <td>33.326568</td>\n",
       "      <td>-8.426434</td>\n",
       "    </tr>\n",
       "    <tr>\n",
       "      <th>50%</th>\n",
       "      <td>34.898943</td>\n",
       "      <td>-5.460249</td>\n",
       "    </tr>\n",
       "    <tr>\n",
       "      <th>75%</th>\n",
       "      <td>37.195307</td>\n",
       "      <td>-3.393220</td>\n",
       "    </tr>\n",
       "    <tr>\n",
       "      <th>max</th>\n",
       "      <td>40.278993</td>\n",
       "      <td>-0.998752</td>\n",
       "    </tr>\n",
       "  </tbody>\n",
       "</table>\n",
       "</div>"
      ],
      "text/plain": [
       "          longitude      latitude\n",
       "count  14850.000000  14850.000000\n",
       "mean      35.107725     -5.853016\n",
       "std        2.579501      2.754407\n",
       "min       29.612776    -11.448590\n",
       "25%       33.326568     -8.426434\n",
       "50%       34.898943     -5.460249\n",
       "75%       37.195307     -3.393220\n",
       "max       40.278993     -0.998752"
      ]
     },
     "execution_count": 110,
     "metadata": {},
     "output_type": "execute_result"
    }
   ],
   "source": [
    "# Test long_lat_error -> should be zero instance \n",
    "long_lat_error =Test_value[((Test_value['longitude'] < 29.10)  | (Test_value['longitude'] > 40.29)) | ((Test_value['latitude'] < -11.45)  | (Test_value['latitude'] > -0.59))] \n",
    "long_lat_error # zero instance\n",
    "Test_value[['longitude','latitude']].describe()"
   ]
  },
  {
   "cell_type": "markdown",
   "id": "fiscal-naples",
   "metadata": {},
   "source": [
    "#### Cleanning - 'num_private'\n",
    "-Outlier"
   ]
  },
  {
   "cell_type": "code",
   "execution_count": 111,
   "id": "incorporate-clearance",
   "metadata": {},
   "outputs": [
    {
     "name": "stderr",
     "output_type": "stream",
     "text": [
      "/srv/conda/envs/notebook/lib/python3.7/site-packages/seaborn/_decorators.py:43: FutureWarning: Pass the following variable as a keyword arg: x. From version 0.12, the only valid positional argument will be `data`, and passing other arguments without an explicit keyword will result in an error or misinterpretation.\n",
      "  FutureWarning\n"
     ]
    },
    {
     "data": {
      "text/plain": [
       "count    14850.000000\n",
       "mean         0.415084\n",
       "std          8.167910\n",
       "min          0.000000\n",
       "25%          0.000000\n",
       "50%          0.000000\n",
       "75%          0.000000\n",
       "max        669.000000\n",
       "Name: num_private, dtype: float64"
      ]
     },
     "execution_count": 111,
     "metadata": {},
     "output_type": "execute_result"
    },
    {
     "data": {
      "image/png": "[encoded data removed]",
      "text/plain": [
       "<Figure size 432x288 with 1 Axes>"
      ]
     },
     "metadata": {
      "needs_background": "light"
     },
     "output_type": "display_data"
    }
   ],
   "source": [
    "sns.boxplot(Test_value['num_private'])\n",
    "Test_value['num_private'].describe()"
   ]
  },
  {
   "cell_type": "code",
   "execution_count": 112,
   "id": "central-ottawa",
   "metadata": {},
   "outputs": [
    {
     "name": "stderr",
     "output_type": "stream",
     "text": [
      "/srv/conda/envs/notebook/lib/python3.7/site-packages/seaborn/_decorators.py:43: FutureWarning: Pass the following variable as a keyword arg: x. From version 0.12, the only valid positional argument will be `data`, and passing other arguments without an explicit keyword will result in an error or misinterpretation.\n",
      "  FutureWarning\n"
     ]
    },
    {
     "data": {
      "text/plain": [
       "count    14850.0\n",
       "mean         0.0\n",
       "std          0.0\n",
       "min          0.0\n",
       "25%          0.0\n",
       "50%          0.0\n",
       "75%          0.0\n",
       "max          0.0\n",
       "Name: num_private, dtype: float64"
      ]
     },
     "execution_count": 112,
     "metadata": {},
     "output_type": "execute_result"
    },
    {
     "data": {
      "image/png": "[encoded data removed]",
      "text/plain": [
       "<Figure size 432x288 with 1 Axes>"
      ]
     },
     "metadata": {
      "needs_background": "light"
     },
     "output_type": "display_data"
    }
   ],
   "source": [
    "# Inter-Quartile Range (IQR) proximity rule\n",
    "percentile25 = Test_value['num_private'].quantile(0.25)\n",
    "percentile75 = Test_value['num_private'].quantile(0.75)\n",
    "iqr = percentile75 - percentile25\n",
    "upper_limit = percentile75 + 1.5 * iqr\n",
    "lower_limit = percentile25 - 1.5 * iqr\n",
    "\n",
    "# apply the Capping on Outliers\n",
    "Test_value['num_private'] = np.where(Test_value['num_private']>upper_limit,upper_limit,\n",
    "                      np.where(Test_value['num_private']<lower_limit,lower_limit,Test_value['num_private']))\n",
    "\n",
    "sns.boxplot(Test_value['num_private'])\n",
    "\n",
    "Test_value['num_private'].describe()"
   ]
  },
  {
   "cell_type": "markdown",
   "id": "rolled-administration",
   "metadata": {},
   "source": [
    "#### Cleanning - region_code\n",
    "Reference : https://www.worldatlas.com/maps/tanzania\n",
    "Standerdize region code with region\n",
    "Reference: https://www.citypopulation.de/en/tanzania/admin/"
   ]
  },
  {
   "cell_type": "code",
   "execution_count": 113,
   "id": "passive-daniel",
   "metadata": {
    "scrolled": true
   },
   "outputs": [],
   "source": [
    "df_region_error = Test_value.pivot_table('id','region','region_code',aggfunc='count').fillna(0).astype(int)\n"
   ]
  },
  {
   "cell_type": "code",
   "execution_count": 114,
   "id": "southeast-isolation",
   "metadata": {},
   "outputs": [
    {
     "data": {
      "text/html": [
       "<div>\n",
       "<style scoped>\n",
       "    .dataframe tbody tr th:only-of-type {\n",
       "        vertical-align: middle;\n",
       "    }\n",
       "\n",
       "    .dataframe tbody tr th {\n",
       "        vertical-align: top;\n",
       "    }\n",
       "\n",
       "    .dataframe thead th {\n",
       "        text-align: right;\n",
       "    }\n",
       "</style>\n",
       "<table border=\"1\" class=\"dataframe\">\n",
       "  <thead>\n",
       "    <tr style=\"text-align: right;\">\n",
       "      <th>region_code</th>\n",
       "      <th>1</th>\n",
       "      <th>2</th>\n",
       "      <th>3</th>\n",
       "      <th>4</th>\n",
       "      <th>5</th>\n",
       "      <th>6</th>\n",
       "      <th>7</th>\n",
       "      <th>8</th>\n",
       "      <th>9</th>\n",
       "      <th>10</th>\n",
       "      <th>11</th>\n",
       "      <th>12</th>\n",
       "      <th>13</th>\n",
       "      <th>14</th>\n",
       "      <th>15</th>\n",
       "      <th>16</th>\n",
       "      <th>17</th>\n",
       "      <th>19</th>\n",
       "      <th>20</th>\n",
       "      <th>21</th>\n",
       "    </tr>\n",
       "    <tr>\n",
       "      <th>region</th>\n",
       "      <th></th>\n",
       "      <th></th>\n",
       "      <th></th>\n",
       "      <th></th>\n",
       "      <th></th>\n",
       "      <th></th>\n",
       "      <th></th>\n",
       "      <th></th>\n",
       "      <th></th>\n",
       "      <th></th>\n",
       "      <th></th>\n",
       "      <th></th>\n",
       "      <th></th>\n",
       "      <th></th>\n",
       "      <th></th>\n",
       "      <th></th>\n",
       "      <th></th>\n",
       "      <th></th>\n",
       "      <th></th>\n",
       "      <th></th>\n",
       "    </tr>\n",
       "  </thead>\n",
       "  <tbody>\n",
       "    <tr>\n",
       "      <th>Arusha</th>\n",
       "      <td>0</td>\n",
       "      <td>761</td>\n",
       "      <td>0</td>\n",
       "      <td>0</td>\n",
       "      <td>0</td>\n",
       "      <td>0</td>\n",
       "      <td>0</td>\n",
       "      <td>0</td>\n",
       "      <td>0</td>\n",
       "      <td>0</td>\n",
       "      <td>0</td>\n",
       "      <td>0</td>\n",
       "      <td>0</td>\n",
       "      <td>0</td>\n",
       "      <td>0</td>\n",
       "      <td>0</td>\n",
       "      <td>0</td>\n",
       "      <td>0</td>\n",
       "      <td>0</td>\n",
       "      <td>0</td>\n",
       "    </tr>\n",
       "    <tr>\n",
       "      <th>Dar es Salaam</th>\n",
       "      <td>0</td>\n",
       "      <td>0</td>\n",
       "      <td>0</td>\n",
       "      <td>0</td>\n",
       "      <td>0</td>\n",
       "      <td>0</td>\n",
       "      <td>215</td>\n",
       "      <td>0</td>\n",
       "      <td>0</td>\n",
       "      <td>0</td>\n",
       "      <td>0</td>\n",
       "      <td>0</td>\n",
       "      <td>0</td>\n",
       "      <td>0</td>\n",
       "      <td>0</td>\n",
       "      <td>0</td>\n",
       "      <td>0</td>\n",
       "      <td>0</td>\n",
       "      <td>0</td>\n",
       "      <td>0</td>\n",
       "    </tr>\n",
       "    <tr>\n",
       "      <th>Dodoma</th>\n",
       "      <td>578</td>\n",
       "      <td>0</td>\n",
       "      <td>0</td>\n",
       "      <td>0</td>\n",
       "      <td>0</td>\n",
       "      <td>0</td>\n",
       "      <td>0</td>\n",
       "      <td>0</td>\n",
       "      <td>0</td>\n",
       "      <td>0</td>\n",
       "      <td>0</td>\n",
       "      <td>0</td>\n",
       "      <td>0</td>\n",
       "      <td>0</td>\n",
       "      <td>0</td>\n",
       "      <td>0</td>\n",
       "      <td>0</td>\n",
       "      <td>0</td>\n",
       "      <td>0</td>\n",
       "      <td>0</td>\n",
       "    </tr>\n",
       "    <tr>\n",
       "      <th>Iringa</th>\n",
       "      <td>0</td>\n",
       "      <td>0</td>\n",
       "      <td>0</td>\n",
       "      <td>0</td>\n",
       "      <td>0</td>\n",
       "      <td>0</td>\n",
       "      <td>0</td>\n",
       "      <td>0</td>\n",
       "      <td>0</td>\n",
       "      <td>0</td>\n",
       "      <td>1305</td>\n",
       "      <td>0</td>\n",
       "      <td>0</td>\n",
       "      <td>0</td>\n",
       "      <td>0</td>\n",
       "      <td>0</td>\n",
       "      <td>0</td>\n",
       "      <td>0</td>\n",
       "      <td>0</td>\n",
       "      <td>0</td>\n",
       "    </tr>\n",
       "    <tr>\n",
       "      <th>Kagera</th>\n",
       "      <td>0</td>\n",
       "      <td>0</td>\n",
       "      <td>0</td>\n",
       "      <td>0</td>\n",
       "      <td>0</td>\n",
       "      <td>0</td>\n",
       "      <td>0</td>\n",
       "      <td>858</td>\n",
       "      <td>0</td>\n",
       "      <td>0</td>\n",
       "      <td>0</td>\n",
       "      <td>0</td>\n",
       "      <td>0</td>\n",
       "      <td>0</td>\n",
       "      <td>0</td>\n",
       "      <td>0</td>\n",
       "      <td>0</td>\n",
       "      <td>0</td>\n",
       "      <td>0</td>\n",
       "      <td>0</td>\n",
       "    </tr>\n",
       "    <tr>\n",
       "      <th>Kigoma</th>\n",
       "      <td>0</td>\n",
       "      <td>0</td>\n",
       "      <td>0</td>\n",
       "      <td>0</td>\n",
       "      <td>0</td>\n",
       "      <td>0</td>\n",
       "      <td>0</td>\n",
       "      <td>0</td>\n",
       "      <td>0</td>\n",
       "      <td>0</td>\n",
       "      <td>0</td>\n",
       "      <td>0</td>\n",
       "      <td>0</td>\n",
       "      <td>0</td>\n",
       "      <td>0</td>\n",
       "      <td>717</td>\n",
       "      <td>0</td>\n",
       "      <td>0</td>\n",
       "      <td>0</td>\n",
       "      <td>0</td>\n",
       "    </tr>\n",
       "    <tr>\n",
       "      <th>Kilimanjaro</th>\n",
       "      <td>0</td>\n",
       "      <td>0</td>\n",
       "      <td>1115</td>\n",
       "      <td>0</td>\n",
       "      <td>0</td>\n",
       "      <td>0</td>\n",
       "      <td>0</td>\n",
       "      <td>0</td>\n",
       "      <td>0</td>\n",
       "      <td>0</td>\n",
       "      <td>0</td>\n",
       "      <td>0</td>\n",
       "      <td>0</td>\n",
       "      <td>0</td>\n",
       "      <td>0</td>\n",
       "      <td>0</td>\n",
       "      <td>0</td>\n",
       "      <td>0</td>\n",
       "      <td>0</td>\n",
       "      <td>0</td>\n",
       "    </tr>\n",
       "    <tr>\n",
       "      <th>Lindi</th>\n",
       "      <td>0</td>\n",
       "      <td>0</td>\n",
       "      <td>0</td>\n",
       "      <td>0</td>\n",
       "      <td>0</td>\n",
       "      <td>0</td>\n",
       "      <td>0</td>\n",
       "      <td>374</td>\n",
       "      <td>0</td>\n",
       "      <td>0</td>\n",
       "      <td>0</td>\n",
       "      <td>0</td>\n",
       "      <td>0</td>\n",
       "      <td>0</td>\n",
       "      <td>0</td>\n",
       "      <td>0</td>\n",
       "      <td>0</td>\n",
       "      <td>0</td>\n",
       "      <td>0</td>\n",
       "      <td>0</td>\n",
       "    </tr>\n",
       "    <tr>\n",
       "      <th>Manyara</th>\n",
       "      <td>0</td>\n",
       "      <td>0</td>\n",
       "      <td>0</td>\n",
       "      <td>0</td>\n",
       "      <td>0</td>\n",
       "      <td>0</td>\n",
       "      <td>0</td>\n",
       "      <td>0</td>\n",
       "      <td>0</td>\n",
       "      <td>0</td>\n",
       "      <td>0</td>\n",
       "      <td>0</td>\n",
       "      <td>0</td>\n",
       "      <td>0</td>\n",
       "      <td>0</td>\n",
       "      <td>0</td>\n",
       "      <td>0</td>\n",
       "      <td>0</td>\n",
       "      <td>0</td>\n",
       "      <td>389</td>\n",
       "    </tr>\n",
       "    <tr>\n",
       "      <th>Mara</th>\n",
       "      <td>0</td>\n",
       "      <td>0</td>\n",
       "      <td>0</td>\n",
       "      <td>0</td>\n",
       "      <td>0</td>\n",
       "      <td>0</td>\n",
       "      <td>0</td>\n",
       "      <td>0</td>\n",
       "      <td>0</td>\n",
       "      <td>0</td>\n",
       "      <td>0</td>\n",
       "      <td>0</td>\n",
       "      <td>0</td>\n",
       "      <td>0</td>\n",
       "      <td>0</td>\n",
       "      <td>0</td>\n",
       "      <td>0</td>\n",
       "      <td>0</td>\n",
       "      <td>482</td>\n",
       "      <td>0</td>\n",
       "    </tr>\n",
       "    <tr>\n",
       "      <th>Mbeya</th>\n",
       "      <td>0</td>\n",
       "      <td>0</td>\n",
       "      <td>0</td>\n",
       "      <td>0</td>\n",
       "      <td>0</td>\n",
       "      <td>0</td>\n",
       "      <td>0</td>\n",
       "      <td>0</td>\n",
       "      <td>0</td>\n",
       "      <td>0</td>\n",
       "      <td>0</td>\n",
       "      <td>1119</td>\n",
       "      <td>0</td>\n",
       "      <td>0</td>\n",
       "      <td>0</td>\n",
       "      <td>0</td>\n",
       "      <td>0</td>\n",
       "      <td>0</td>\n",
       "      <td>0</td>\n",
       "      <td>0</td>\n",
       "    </tr>\n",
       "    <tr>\n",
       "      <th>Morogoro</th>\n",
       "      <td>0</td>\n",
       "      <td>0</td>\n",
       "      <td>0</td>\n",
       "      <td>0</td>\n",
       "      <td>1032</td>\n",
       "      <td>0</td>\n",
       "      <td>0</td>\n",
       "      <td>0</td>\n",
       "      <td>0</td>\n",
       "      <td>0</td>\n",
       "      <td>0</td>\n",
       "      <td>0</td>\n",
       "      <td>0</td>\n",
       "      <td>0</td>\n",
       "      <td>0</td>\n",
       "      <td>0</td>\n",
       "      <td>0</td>\n",
       "      <td>0</td>\n",
       "      <td>0</td>\n",
       "      <td>0</td>\n",
       "    </tr>\n",
       "    <tr>\n",
       "      <th>Mtwara</th>\n",
       "      <td>0</td>\n",
       "      <td>0</td>\n",
       "      <td>0</td>\n",
       "      <td>0</td>\n",
       "      <td>0</td>\n",
       "      <td>0</td>\n",
       "      <td>0</td>\n",
       "      <td>0</td>\n",
       "      <td>414</td>\n",
       "      <td>0</td>\n",
       "      <td>0</td>\n",
       "      <td>0</td>\n",
       "      <td>0</td>\n",
       "      <td>0</td>\n",
       "      <td>0</td>\n",
       "      <td>0</td>\n",
       "      <td>0</td>\n",
       "      <td>0</td>\n",
       "      <td>0</td>\n",
       "      <td>0</td>\n",
       "    </tr>\n",
       "    <tr>\n",
       "      <th>Mwanza</th>\n",
       "      <td>0</td>\n",
       "      <td>0</td>\n",
       "      <td>0</td>\n",
       "      <td>0</td>\n",
       "      <td>0</td>\n",
       "      <td>0</td>\n",
       "      <td>0</td>\n",
       "      <td>0</td>\n",
       "      <td>0</td>\n",
       "      <td>0</td>\n",
       "      <td>0</td>\n",
       "      <td>1</td>\n",
       "      <td>0</td>\n",
       "      <td>0</td>\n",
       "      <td>0</td>\n",
       "      <td>0</td>\n",
       "      <td>0</td>\n",
       "      <td>794</td>\n",
       "      <td>0</td>\n",
       "      <td>0</td>\n",
       "    </tr>\n",
       "    <tr>\n",
       "      <th>Pwani</th>\n",
       "      <td>0</td>\n",
       "      <td>0</td>\n",
       "      <td>0</td>\n",
       "      <td>0</td>\n",
       "      <td>0</td>\n",
       "      <td>696</td>\n",
       "      <td>0</td>\n",
       "      <td>0</td>\n",
       "      <td>0</td>\n",
       "      <td>0</td>\n",
       "      <td>0</td>\n",
       "      <td>0</td>\n",
       "      <td>0</td>\n",
       "      <td>0</td>\n",
       "      <td>0</td>\n",
       "      <td>0</td>\n",
       "      <td>0</td>\n",
       "      <td>0</td>\n",
       "      <td>0</td>\n",
       "      <td>0</td>\n",
       "    </tr>\n",
       "    <tr>\n",
       "      <th>Rukwa</th>\n",
       "      <td>0</td>\n",
       "      <td>0</td>\n",
       "      <td>0</td>\n",
       "      <td>0</td>\n",
       "      <td>0</td>\n",
       "      <td>0</td>\n",
       "      <td>0</td>\n",
       "      <td>0</td>\n",
       "      <td>0</td>\n",
       "      <td>0</td>\n",
       "      <td>0</td>\n",
       "      <td>0</td>\n",
       "      <td>0</td>\n",
       "      <td>0</td>\n",
       "      <td>434</td>\n",
       "      <td>0</td>\n",
       "      <td>0</td>\n",
       "      <td>0</td>\n",
       "      <td>0</td>\n",
       "      <td>0</td>\n",
       "    </tr>\n",
       "    <tr>\n",
       "      <th>Ruvuma</th>\n",
       "      <td>0</td>\n",
       "      <td>0</td>\n",
       "      <td>0</td>\n",
       "      <td>0</td>\n",
       "      <td>0</td>\n",
       "      <td>0</td>\n",
       "      <td>0</td>\n",
       "      <td>0</td>\n",
       "      <td>0</td>\n",
       "      <td>666</td>\n",
       "      <td>0</td>\n",
       "      <td>0</td>\n",
       "      <td>0</td>\n",
       "      <td>0</td>\n",
       "      <td>0</td>\n",
       "      <td>0</td>\n",
       "      <td>0</td>\n",
       "      <td>0</td>\n",
       "      <td>0</td>\n",
       "      <td>0</td>\n",
       "    </tr>\n",
       "    <tr>\n",
       "      <th>Shinyanga</th>\n",
       "      <td>0</td>\n",
       "      <td>0</td>\n",
       "      <td>0</td>\n",
       "      <td>0</td>\n",
       "      <td>0</td>\n",
       "      <td>0</td>\n",
       "      <td>0</td>\n",
       "      <td>0</td>\n",
       "      <td>0</td>\n",
       "      <td>0</td>\n",
       "      <td>0</td>\n",
       "      <td>0</td>\n",
       "      <td>0</td>\n",
       "      <td>0</td>\n",
       "      <td>0</td>\n",
       "      <td>0</td>\n",
       "      <td>1311</td>\n",
       "      <td>0</td>\n",
       "      <td>0</td>\n",
       "      <td>0</td>\n",
       "    </tr>\n",
       "    <tr>\n",
       "      <th>Singida</th>\n",
       "      <td>0</td>\n",
       "      <td>0</td>\n",
       "      <td>0</td>\n",
       "      <td>0</td>\n",
       "      <td>0</td>\n",
       "      <td>0</td>\n",
       "      <td>0</td>\n",
       "      <td>0</td>\n",
       "      <td>0</td>\n",
       "      <td>0</td>\n",
       "      <td>0</td>\n",
       "      <td>0</td>\n",
       "      <td>443</td>\n",
       "      <td>0</td>\n",
       "      <td>0</td>\n",
       "      <td>0</td>\n",
       "      <td>0</td>\n",
       "      <td>0</td>\n",
       "      <td>0</td>\n",
       "      <td>0</td>\n",
       "    </tr>\n",
       "    <tr>\n",
       "      <th>Tabora</th>\n",
       "      <td>0</td>\n",
       "      <td>0</td>\n",
       "      <td>0</td>\n",
       "      <td>0</td>\n",
       "      <td>0</td>\n",
       "      <td>0</td>\n",
       "      <td>0</td>\n",
       "      <td>0</td>\n",
       "      <td>0</td>\n",
       "      <td>0</td>\n",
       "      <td>0</td>\n",
       "      <td>0</td>\n",
       "      <td>0</td>\n",
       "      <td>507</td>\n",
       "      <td>0</td>\n",
       "      <td>0</td>\n",
       "      <td>0</td>\n",
       "      <td>0</td>\n",
       "      <td>0</td>\n",
       "      <td>0</td>\n",
       "    </tr>\n",
       "    <tr>\n",
       "      <th>Tanga</th>\n",
       "      <td>0</td>\n",
       "      <td>0</td>\n",
       "      <td>0</td>\n",
       "      <td>639</td>\n",
       "      <td>0</td>\n",
       "      <td>0</td>\n",
       "      <td>0</td>\n",
       "      <td>0</td>\n",
       "      <td>0</td>\n",
       "      <td>0</td>\n",
       "      <td>0</td>\n",
       "      <td>0</td>\n",
       "      <td>0</td>\n",
       "      <td>0</td>\n",
       "      <td>0</td>\n",
       "      <td>0</td>\n",
       "      <td>0</td>\n",
       "      <td>0</td>\n",
       "      <td>0</td>\n",
       "      <td>0</td>\n",
       "    </tr>\n",
       "  </tbody>\n",
       "</table>\n",
       "</div>"
      ],
      "text/plain": [
       "region_code     1    2     3    4     5    6    7    8    9    10    11    12  \\\n",
       "region                                                                          \n",
       "Arusha           0  761     0    0     0    0    0    0    0    0     0     0   \n",
       "Dar es Salaam    0    0     0    0     0    0  215    0    0    0     0     0   \n",
       "Dodoma         578    0     0    0     0    0    0    0    0    0     0     0   \n",
       "Iringa           0    0     0    0     0    0    0    0    0    0  1305     0   \n",
       "Kagera           0    0     0    0     0    0    0  858    0    0     0     0   \n",
       "Kigoma           0    0     0    0     0    0    0    0    0    0     0     0   \n",
       "Kilimanjaro      0    0  1115    0     0    0    0    0    0    0     0     0   \n",
       "Lindi            0    0     0    0     0    0    0  374    0    0     0     0   \n",
       "Manyara          0    0     0    0     0    0    0    0    0    0     0     0   \n",
       "Mara             0    0     0    0     0    0    0    0    0    0     0     0   \n",
       "Mbeya            0    0     0    0     0    0    0    0    0    0     0  1119   \n",
       "Morogoro         0    0     0    0  1032    0    0    0    0    0     0     0   \n",
       "Mtwara           0    0     0    0     0    0    0    0  414    0     0     0   \n",
       "Mwanza           0    0     0    0     0    0    0    0    0    0     0     1   \n",
       "Pwani            0    0     0    0     0  696    0    0    0    0     0     0   \n",
       "Rukwa            0    0     0    0     0    0    0    0    0    0     0     0   \n",
       "Ruvuma           0    0     0    0     0    0    0    0    0  666     0     0   \n",
       "Shinyanga        0    0     0    0     0    0    0    0    0    0     0     0   \n",
       "Singida          0    0     0    0     0    0    0    0    0    0     0     0   \n",
       "Tabora           0    0     0    0     0    0    0    0    0    0     0     0   \n",
       "Tanga            0    0     0  639     0    0    0    0    0    0     0     0   \n",
       "\n",
       "region_code     13   14   15   16    17   19   20   21  \n",
       "region                                                  \n",
       "Arusha           0    0    0    0     0    0    0    0  \n",
       "Dar es Salaam    0    0    0    0     0    0    0    0  \n",
       "Dodoma           0    0    0    0     0    0    0    0  \n",
       "Iringa           0    0    0    0     0    0    0    0  \n",
       "Kagera           0    0    0    0     0    0    0    0  \n",
       "Kigoma           0    0    0  717     0    0    0    0  \n",
       "Kilimanjaro      0    0    0    0     0    0    0    0  \n",
       "Lindi            0    0    0    0     0    0    0    0  \n",
       "Manyara          0    0    0    0     0    0    0  389  \n",
       "Mara             0    0    0    0     0    0  482    0  \n",
       "Mbeya            0    0    0    0     0    0    0    0  \n",
       "Morogoro         0    0    0    0     0    0    0    0  \n",
       "Mtwara           0    0    0    0     0    0    0    0  \n",
       "Mwanza           0    0    0    0     0  794    0    0  \n",
       "Pwani            0    0    0    0     0    0    0    0  \n",
       "Rukwa            0    0  434    0     0    0    0    0  \n",
       "Ruvuma           0    0    0    0     0    0    0    0  \n",
       "Shinyanga        0    0    0    0  1311    0    0    0  \n",
       "Singida        443    0    0    0     0    0    0    0  \n",
       "Tabora           0  507    0    0     0    0    0    0  \n",
       "Tanga            0    0    0    0     0    0    0    0  "
      ]
     },
     "execution_count": 114,
     "metadata": {},
     "output_type": "execute_result"
    }
   ],
   "source": [
    "df = Test_value.pivot_table('id','region','region_code',aggfunc='count').fillna(0).astype(int)\n",
    "df.to_csv('region_error.csv')\n",
    "Test_value.loc[Test_value['region_code'] == 24,'region_code'] = 2\n",
    "Test_value.loc[(Test_value['region_code'] == 18 )| (Test_value['region_code'] == 80),'region_code' ] = 8\n",
    "Test_value.loc[(Test_value['region_code'] == 90 )| (Test_value['region_code'] == 99),'region_code' ] = 9\n",
    "Test_value.loc[(Test_value['region_code'] == 17) & (Test_value['region'] == 'Mwanza'),'region_code'] = 19\n",
    "Test_value.loc[(Test_value['region_code'] == 60 )| (Test_value['region_code'] == 40),'region_code'] = 6\n",
    "Test_value.loc[(Test_value['region_code'] == 5)  & (Test_value['region'] == 'Tanga') ,'region_code' ] = 4\n",
    "Test_value.loc[(Test_value['region_code'] == 11) & (Test_value['region'] == 'Shinyanga'),'region_code'] = 17\n",
    "Test_value.loc[(Test_value['region_code'] == 14 )& (Test_value['region'] == 'Shinyanga'),'region_code'] = 17\n",
    "\n",
    "df = Test_value.pivot_table('id','region','region_code',aggfunc='count').fillna(0).astype(int)\n",
    "df\n",
    "                                    "
   ]
  },
  {
   "cell_type": "markdown",
   "id": "seventh-illinois",
   "metadata": {},
   "source": [
    "#### Cleanning - district_code\n",
    "code with 0 -> no sense"
   ]
  },
  {
   "cell_type": "code",
   "execution_count": 115,
   "id": "occasional-makeup",
   "metadata": {},
   "outputs": [
    {
     "data": {
      "text/plain": [
       "1     3096\n",
       "2     2756\n",
       "3     2523\n",
       "4     2254\n",
       "5     1072\n",
       "6     1034\n",
       "7      823\n",
       "30     261\n",
       "8      239\n",
       "33     189\n",
       "53     176\n",
       "43     148\n",
       "13     105\n",
       "63      69\n",
       "23      67\n",
       "62      18\n",
       "60      13\n",
       "0        4\n",
       "67       2\n",
       "80       1\n",
       "Name: district_code, dtype: int64"
      ]
     },
     "execution_count": 115,
     "metadata": {},
     "output_type": "execute_result"
    }
   ],
   "source": [
    "Test_value['district_code'].value_counts()"
   ]
  },
  {
   "cell_type": "code",
   "execution_count": 116,
   "id": "curious-johnson",
   "metadata": {},
   "outputs": [],
   "source": [
    "df_district_error = Test_value.pivot_table('id','region','district_code',aggfunc='count').fillna(0).astype(int)\n",
    "# district_code with 0 -> error   "
   ]
  },
  {
   "cell_type": "code",
   "execution_count": 117,
   "id": "extended-riding",
   "metadata": {},
   "outputs": [
    {
     "data": {
      "text/html": [
       "<div>\n",
       "<style scoped>\n",
       "    .dataframe tbody tr th:only-of-type {\n",
       "        vertical-align: middle;\n",
       "    }\n",
       "\n",
       "    .dataframe tbody tr th {\n",
       "        vertical-align: top;\n",
       "    }\n",
       "\n",
       "    .dataframe thead th {\n",
       "        text-align: right;\n",
       "    }\n",
       "</style>\n",
       "<table border=\"1\" class=\"dataframe\">\n",
       "  <thead>\n",
       "    <tr style=\"text-align: right;\">\n",
       "      <th>district_code</th>\n",
       "      <th>1</th>\n",
       "      <th>2</th>\n",
       "      <th>3</th>\n",
       "      <th>4</th>\n",
       "      <th>5</th>\n",
       "      <th>6</th>\n",
       "      <th>7</th>\n",
       "      <th>8</th>\n",
       "      <th>13</th>\n",
       "      <th>23</th>\n",
       "      <th>30</th>\n",
       "      <th>33</th>\n",
       "      <th>43</th>\n",
       "      <th>53</th>\n",
       "      <th>60</th>\n",
       "      <th>62</th>\n",
       "      <th>63</th>\n",
       "      <th>67</th>\n",
       "      <th>80</th>\n",
       "    </tr>\n",
       "    <tr>\n",
       "      <th>region</th>\n",
       "      <th></th>\n",
       "      <th></th>\n",
       "      <th></th>\n",
       "      <th></th>\n",
       "      <th></th>\n",
       "      <th></th>\n",
       "      <th></th>\n",
       "      <th></th>\n",
       "      <th></th>\n",
       "      <th></th>\n",
       "      <th></th>\n",
       "      <th></th>\n",
       "      <th></th>\n",
       "      <th></th>\n",
       "      <th></th>\n",
       "      <th></th>\n",
       "      <th></th>\n",
       "      <th></th>\n",
       "      <th></th>\n",
       "    </tr>\n",
       "  </thead>\n",
       "  <tbody>\n",
       "    <tr>\n",
       "      <th>Arusha</th>\n",
       "      <td>37</td>\n",
       "      <td>254</td>\n",
       "      <td>34</td>\n",
       "      <td>0</td>\n",
       "      <td>44</td>\n",
       "      <td>81</td>\n",
       "      <td>235</td>\n",
       "      <td>0</td>\n",
       "      <td>0</td>\n",
       "      <td>0</td>\n",
       "      <td>76</td>\n",
       "      <td>0</td>\n",
       "      <td>0</td>\n",
       "      <td>0</td>\n",
       "      <td>0</td>\n",
       "      <td>0</td>\n",
       "      <td>0</td>\n",
       "      <td>0</td>\n",
       "      <td>0</td>\n",
       "    </tr>\n",
       "    <tr>\n",
       "      <th>Dar es Salaam</th>\n",
       "      <td>28</td>\n",
       "      <td>136</td>\n",
       "      <td>51</td>\n",
       "      <td>0</td>\n",
       "      <td>0</td>\n",
       "      <td>0</td>\n",
       "      <td>0</td>\n",
       "      <td>0</td>\n",
       "      <td>0</td>\n",
       "      <td>0</td>\n",
       "      <td>0</td>\n",
       "      <td>0</td>\n",
       "      <td>0</td>\n",
       "      <td>0</td>\n",
       "      <td>0</td>\n",
       "      <td>0</td>\n",
       "      <td>0</td>\n",
       "      <td>0</td>\n",
       "      <td>0</td>\n",
       "    </tr>\n",
       "    <tr>\n",
       "      <th>Dodoma</th>\n",
       "      <td>223</td>\n",
       "      <td>0</td>\n",
       "      <td>99</td>\n",
       "      <td>92</td>\n",
       "      <td>109</td>\n",
       "      <td>55</td>\n",
       "      <td>0</td>\n",
       "      <td>0</td>\n",
       "      <td>0</td>\n",
       "      <td>0</td>\n",
       "      <td>0</td>\n",
       "      <td>0</td>\n",
       "      <td>0</td>\n",
       "      <td>0</td>\n",
       "      <td>0</td>\n",
       "      <td>0</td>\n",
       "      <td>0</td>\n",
       "      <td>0</td>\n",
       "      <td>0</td>\n",
       "    </tr>\n",
       "    <tr>\n",
       "      <th>Iringa</th>\n",
       "      <td>186</td>\n",
       "      <td>129</td>\n",
       "      <td>165</td>\n",
       "      <td>617</td>\n",
       "      <td>123</td>\n",
       "      <td>0</td>\n",
       "      <td>85</td>\n",
       "      <td>0</td>\n",
       "      <td>0</td>\n",
       "      <td>0</td>\n",
       "      <td>0</td>\n",
       "      <td>0</td>\n",
       "      <td>0</td>\n",
       "      <td>0</td>\n",
       "      <td>0</td>\n",
       "      <td>0</td>\n",
       "      <td>0</td>\n",
       "      <td>0</td>\n",
       "      <td>0</td>\n",
       "    </tr>\n",
       "    <tr>\n",
       "      <th>Kagera</th>\n",
       "      <td>196</td>\n",
       "      <td>135</td>\n",
       "      <td>103</td>\n",
       "      <td>98</td>\n",
       "      <td>0</td>\n",
       "      <td>24</td>\n",
       "      <td>65</td>\n",
       "      <td>52</td>\n",
       "      <td>0</td>\n",
       "      <td>0</td>\n",
       "      <td>185</td>\n",
       "      <td>0</td>\n",
       "      <td>0</td>\n",
       "      <td>0</td>\n",
       "      <td>0</td>\n",
       "      <td>0</td>\n",
       "      <td>0</td>\n",
       "      <td>0</td>\n",
       "      <td>0</td>\n",
       "    </tr>\n",
       "    <tr>\n",
       "      <th>Kigoma</th>\n",
       "      <td>227</td>\n",
       "      <td>299</td>\n",
       "      <td>170</td>\n",
       "      <td>21</td>\n",
       "      <td>0</td>\n",
       "      <td>0</td>\n",
       "      <td>0</td>\n",
       "      <td>0</td>\n",
       "      <td>0</td>\n",
       "      <td>0</td>\n",
       "      <td>0</td>\n",
       "      <td>0</td>\n",
       "      <td>0</td>\n",
       "      <td>0</td>\n",
       "      <td>0</td>\n",
       "      <td>0</td>\n",
       "      <td>0</td>\n",
       "      <td>0</td>\n",
       "      <td>0</td>\n",
       "    </tr>\n",
       "    <tr>\n",
       "      <th>Kilimanjaro</th>\n",
       "      <td>157</td>\n",
       "      <td>123</td>\n",
       "      <td>229</td>\n",
       "      <td>311</td>\n",
       "      <td>155</td>\n",
       "      <td>25</td>\n",
       "      <td>115</td>\n",
       "      <td>0</td>\n",
       "      <td>0</td>\n",
       "      <td>0</td>\n",
       "      <td>0</td>\n",
       "      <td>0</td>\n",
       "      <td>0</td>\n",
       "      <td>0</td>\n",
       "      <td>0</td>\n",
       "      <td>0</td>\n",
       "      <td>0</td>\n",
       "      <td>0</td>\n",
       "      <td>0</td>\n",
       "    </tr>\n",
       "    <tr>\n",
       "      <th>Lindi</th>\n",
       "      <td>0</td>\n",
       "      <td>1</td>\n",
       "      <td>75</td>\n",
       "      <td>0</td>\n",
       "      <td>0</td>\n",
       "      <td>0</td>\n",
       "      <td>0</td>\n",
       "      <td>0</td>\n",
       "      <td>105</td>\n",
       "      <td>67</td>\n",
       "      <td>0</td>\n",
       "      <td>0</td>\n",
       "      <td>51</td>\n",
       "      <td>57</td>\n",
       "      <td>0</td>\n",
       "      <td>18</td>\n",
       "      <td>0</td>\n",
       "      <td>0</td>\n",
       "      <td>0</td>\n",
       "    </tr>\n",
       "    <tr>\n",
       "      <th>Manyara</th>\n",
       "      <td>114</td>\n",
       "      <td>70</td>\n",
       "      <td>88</td>\n",
       "      <td>59</td>\n",
       "      <td>58</td>\n",
       "      <td>0</td>\n",
       "      <td>0</td>\n",
       "      <td>0</td>\n",
       "      <td>0</td>\n",
       "      <td>0</td>\n",
       "      <td>0</td>\n",
       "      <td>0</td>\n",
       "      <td>0</td>\n",
       "      <td>0</td>\n",
       "      <td>0</td>\n",
       "      <td>0</td>\n",
       "      <td>0</td>\n",
       "      <td>0</td>\n",
       "      <td>0</td>\n",
       "    </tr>\n",
       "    <tr>\n",
       "      <th>Mara</th>\n",
       "      <td>44</td>\n",
       "      <td>189</td>\n",
       "      <td>84</td>\n",
       "      <td>95</td>\n",
       "      <td>0</td>\n",
       "      <td>70</td>\n",
       "      <td>0</td>\n",
       "      <td>0</td>\n",
       "      <td>0</td>\n",
       "      <td>0</td>\n",
       "      <td>0</td>\n",
       "      <td>0</td>\n",
       "      <td>0</td>\n",
       "      <td>0</td>\n",
       "      <td>0</td>\n",
       "      <td>0</td>\n",
       "      <td>0</td>\n",
       "      <td>0</td>\n",
       "      <td>0</td>\n",
       "    </tr>\n",
       "    <tr>\n",
       "      <th>Mbeya</th>\n",
       "      <td>67</td>\n",
       "      <td>105</td>\n",
       "      <td>216</td>\n",
       "      <td>275</td>\n",
       "      <td>49</td>\n",
       "      <td>252</td>\n",
       "      <td>155</td>\n",
       "      <td>0</td>\n",
       "      <td>0</td>\n",
       "      <td>0</td>\n",
       "      <td>0</td>\n",
       "      <td>0</td>\n",
       "      <td>0</td>\n",
       "      <td>0</td>\n",
       "      <td>0</td>\n",
       "      <td>0</td>\n",
       "      <td>0</td>\n",
       "      <td>0</td>\n",
       "      <td>0</td>\n",
       "    </tr>\n",
       "    <tr>\n",
       "      <th>Morogoro</th>\n",
       "      <td>274</td>\n",
       "      <td>135</td>\n",
       "      <td>262</td>\n",
       "      <td>162</td>\n",
       "      <td>24</td>\n",
       "      <td>175</td>\n",
       "      <td>0</td>\n",
       "      <td>0</td>\n",
       "      <td>0</td>\n",
       "      <td>0</td>\n",
       "      <td>0</td>\n",
       "      <td>0</td>\n",
       "      <td>0</td>\n",
       "      <td>0</td>\n",
       "      <td>0</td>\n",
       "      <td>0</td>\n",
       "      <td>0</td>\n",
       "      <td>0</td>\n",
       "      <td>0</td>\n",
       "    </tr>\n",
       "    <tr>\n",
       "      <th>Mtwara</th>\n",
       "      <td>89</td>\n",
       "      <td>0</td>\n",
       "      <td>0</td>\n",
       "      <td>80</td>\n",
       "      <td>29</td>\n",
       "      <td>0</td>\n",
       "      <td>0</td>\n",
       "      <td>0</td>\n",
       "      <td>0</td>\n",
       "      <td>0</td>\n",
       "      <td>0</td>\n",
       "      <td>161</td>\n",
       "      <td>0</td>\n",
       "      <td>0</td>\n",
       "      <td>0</td>\n",
       "      <td>0</td>\n",
       "      <td>55</td>\n",
       "      <td>0</td>\n",
       "      <td>0</td>\n",
       "    </tr>\n",
       "    <tr>\n",
       "      <th>Mwanza</th>\n",
       "      <td>118</td>\n",
       "      <td>198</td>\n",
       "      <td>18</td>\n",
       "      <td>162</td>\n",
       "      <td>78</td>\n",
       "      <td>115</td>\n",
       "      <td>81</td>\n",
       "      <td>25</td>\n",
       "      <td>0</td>\n",
       "      <td>0</td>\n",
       "      <td>0</td>\n",
       "      <td>0</td>\n",
       "      <td>0</td>\n",
       "      <td>0</td>\n",
       "      <td>0</td>\n",
       "      <td>0</td>\n",
       "      <td>0</td>\n",
       "      <td>0</td>\n",
       "      <td>0</td>\n",
       "    </tr>\n",
       "    <tr>\n",
       "      <th>Pwani</th>\n",
       "      <td>263</td>\n",
       "      <td>95</td>\n",
       "      <td>18</td>\n",
       "      <td>38</td>\n",
       "      <td>0</td>\n",
       "      <td>9</td>\n",
       "      <td>0</td>\n",
       "      <td>0</td>\n",
       "      <td>0</td>\n",
       "      <td>0</td>\n",
       "      <td>0</td>\n",
       "      <td>28</td>\n",
       "      <td>97</td>\n",
       "      <td>119</td>\n",
       "      <td>13</td>\n",
       "      <td>0</td>\n",
       "      <td>14</td>\n",
       "      <td>2</td>\n",
       "      <td>0</td>\n",
       "    </tr>\n",
       "    <tr>\n",
       "      <th>Rukwa</th>\n",
       "      <td>173</td>\n",
       "      <td>120</td>\n",
       "      <td>100</td>\n",
       "      <td>41</td>\n",
       "      <td>0</td>\n",
       "      <td>0</td>\n",
       "      <td>0</td>\n",
       "      <td>0</td>\n",
       "      <td>0</td>\n",
       "      <td>0</td>\n",
       "      <td>0</td>\n",
       "      <td>0</td>\n",
       "      <td>0</td>\n",
       "      <td>0</td>\n",
       "      <td>0</td>\n",
       "      <td>0</td>\n",
       "      <td>0</td>\n",
       "      <td>0</td>\n",
       "      <td>0</td>\n",
       "    </tr>\n",
       "    <tr>\n",
       "      <th>Ruvuma</th>\n",
       "      <td>116</td>\n",
       "      <td>169</td>\n",
       "      <td>193</td>\n",
       "      <td>37</td>\n",
       "      <td>151</td>\n",
       "      <td>0</td>\n",
       "      <td>0</td>\n",
       "      <td>0</td>\n",
       "      <td>0</td>\n",
       "      <td>0</td>\n",
       "      <td>0</td>\n",
       "      <td>0</td>\n",
       "      <td>0</td>\n",
       "      <td>0</td>\n",
       "      <td>0</td>\n",
       "      <td>0</td>\n",
       "      <td>0</td>\n",
       "      <td>0</td>\n",
       "      <td>0</td>\n",
       "    </tr>\n",
       "    <tr>\n",
       "      <th>Shinyanga</th>\n",
       "      <td>312</td>\n",
       "      <td>213</td>\n",
       "      <td>383</td>\n",
       "      <td>4</td>\n",
       "      <td>139</td>\n",
       "      <td>112</td>\n",
       "      <td>44</td>\n",
       "      <td>103</td>\n",
       "      <td>0</td>\n",
       "      <td>0</td>\n",
       "      <td>0</td>\n",
       "      <td>0</td>\n",
       "      <td>0</td>\n",
       "      <td>0</td>\n",
       "      <td>0</td>\n",
       "      <td>0</td>\n",
       "      <td>0</td>\n",
       "      <td>0</td>\n",
       "      <td>1</td>\n",
       "    </tr>\n",
       "    <tr>\n",
       "      <th>Singida</th>\n",
       "      <td>136</td>\n",
       "      <td>207</td>\n",
       "      <td>69</td>\n",
       "      <td>31</td>\n",
       "      <td>0</td>\n",
       "      <td>0</td>\n",
       "      <td>0</td>\n",
       "      <td>0</td>\n",
       "      <td>0</td>\n",
       "      <td>0</td>\n",
       "      <td>0</td>\n",
       "      <td>0</td>\n",
       "      <td>0</td>\n",
       "      <td>0</td>\n",
       "      <td>0</td>\n",
       "      <td>0</td>\n",
       "      <td>0</td>\n",
       "      <td>0</td>\n",
       "      <td>0</td>\n",
       "    </tr>\n",
       "    <tr>\n",
       "      <th>Tabora</th>\n",
       "      <td>155</td>\n",
       "      <td>81</td>\n",
       "      <td>78</td>\n",
       "      <td>107</td>\n",
       "      <td>45</td>\n",
       "      <td>41</td>\n",
       "      <td>0</td>\n",
       "      <td>0</td>\n",
       "      <td>0</td>\n",
       "      <td>0</td>\n",
       "      <td>0</td>\n",
       "      <td>0</td>\n",
       "      <td>0</td>\n",
       "      <td>0</td>\n",
       "      <td>0</td>\n",
       "      <td>0</td>\n",
       "      <td>0</td>\n",
       "      <td>0</td>\n",
       "      <td>0</td>\n",
       "    </tr>\n",
       "    <tr>\n",
       "      <th>Tanga</th>\n",
       "      <td>185</td>\n",
       "      <td>97</td>\n",
       "      <td>88</td>\n",
       "      <td>24</td>\n",
       "      <td>68</td>\n",
       "      <td>75</td>\n",
       "      <td>43</td>\n",
       "      <td>59</td>\n",
       "      <td>0</td>\n",
       "      <td>0</td>\n",
       "      <td>0</td>\n",
       "      <td>0</td>\n",
       "      <td>0</td>\n",
       "      <td>0</td>\n",
       "      <td>0</td>\n",
       "      <td>0</td>\n",
       "      <td>0</td>\n",
       "      <td>0</td>\n",
       "      <td>0</td>\n",
       "    </tr>\n",
       "  </tbody>\n",
       "</table>\n",
       "</div>"
      ],
      "text/plain": [
       "district_code   1    2    3    4    5    6    7    8    13  23   30   33  43  \\\n",
       "region                                                                         \n",
       "Arusha          37  254   34    0   44   81  235    0    0   0   76    0   0   \n",
       "Dar es Salaam   28  136   51    0    0    0    0    0    0   0    0    0   0   \n",
       "Dodoma         223    0   99   92  109   55    0    0    0   0    0    0   0   \n",
       "Iringa         186  129  165  617  123    0   85    0    0   0    0    0   0   \n",
       "Kagera         196  135  103   98    0   24   65   52    0   0  185    0   0   \n",
       "Kigoma         227  299  170   21    0    0    0    0    0   0    0    0   0   \n",
       "Kilimanjaro    157  123  229  311  155   25  115    0    0   0    0    0   0   \n",
       "Lindi            0    1   75    0    0    0    0    0  105  67    0    0  51   \n",
       "Manyara        114   70   88   59   58    0    0    0    0   0    0    0   0   \n",
       "Mara            44  189   84   95    0   70    0    0    0   0    0    0   0   \n",
       "Mbeya           67  105  216  275   49  252  155    0    0   0    0    0   0   \n",
       "Morogoro       274  135  262  162   24  175    0    0    0   0    0    0   0   \n",
       "Mtwara          89    0    0   80   29    0    0    0    0   0    0  161   0   \n",
       "Mwanza         118  198   18  162   78  115   81   25    0   0    0    0   0   \n",
       "Pwani          263   95   18   38    0    9    0    0    0   0    0   28  97   \n",
       "Rukwa          173  120  100   41    0    0    0    0    0   0    0    0   0   \n",
       "Ruvuma         116  169  193   37  151    0    0    0    0   0    0    0   0   \n",
       "Shinyanga      312  213  383    4  139  112   44  103    0   0    0    0   0   \n",
       "Singida        136  207   69   31    0    0    0    0    0   0    0    0   0   \n",
       "Tabora         155   81   78  107   45   41    0    0    0   0    0    0   0   \n",
       "Tanga          185   97   88   24   68   75   43   59    0   0    0    0   0   \n",
       "\n",
       "district_code   53  60  62  63  67  80  \n",
       "region                                  \n",
       "Arusha           0   0   0   0   0   0  \n",
       "Dar es Salaam    0   0   0   0   0   0  \n",
       "Dodoma           0   0   0   0   0   0  \n",
       "Iringa           0   0   0   0   0   0  \n",
       "Kagera           0   0   0   0   0   0  \n",
       "Kigoma           0   0   0   0   0   0  \n",
       "Kilimanjaro      0   0   0   0   0   0  \n",
       "Lindi           57   0  18   0   0   0  \n",
       "Manyara          0   0   0   0   0   0  \n",
       "Mara             0   0   0   0   0   0  \n",
       "Mbeya            0   0   0   0   0   0  \n",
       "Morogoro         0   0   0   0   0   0  \n",
       "Mtwara           0   0   0  55   0   0  \n",
       "Mwanza           0   0   0   0   0   0  \n",
       "Pwani          119  13   0  14   2   0  \n",
       "Rukwa            0   0   0   0   0   0  \n",
       "Ruvuma           0   0   0   0   0   0  \n",
       "Shinyanga        0   0   0   0   0   1  \n",
       "Singida          0   0   0   0   0   0  \n",
       "Tabora           0   0   0   0   0   0  \n",
       "Tanga            0   0   0   0   0   0  "
      ]
     },
     "execution_count": 117,
     "metadata": {},
     "output_type": "execute_result"
    }
   ],
   "source": [
    "Test_value.loc[Test_value['district_code'] == 0,'district_code'] = 1\n",
    "df_district = Test_value.pivot_table('id','region','district_code',aggfunc='count').fillna(0).astype(int) \n",
    "df_district"
   ]
  },
  {
   "cell_type": "markdown",
   "id": "found-mainland",
   "metadata": {},
   "source": [
    "#### Cleanning - 'population'"
   ]
  },
  {
   "cell_type": "code",
   "execution_count": 118,
   "id": "demonstrated-chaos",
   "metadata": {},
   "outputs": [
    {
     "name": "stderr",
     "output_type": "stream",
     "text": [
      "/srv/conda/envs/notebook/lib/python3.7/site-packages/seaborn/_decorators.py:43: FutureWarning: Pass the following variable as a keyword arg: x. From version 0.12, the only valid positional argument will be `data`, and passing other arguments without an explicit keyword will result in an error or misinterpretation.\n",
      "  FutureWarning\n"
     ]
    },
    {
     "data": {
      "text/plain": [
       "count    14850.000000\n",
       "mean       184.114209\n",
       "std        469.499332\n",
       "min          0.000000\n",
       "25%          0.000000\n",
       "50%         20.000000\n",
       "75%        220.000000\n",
       "max      11469.000000\n",
       "Name: population, dtype: float64"
      ]
     },
     "execution_count": 118,
     "metadata": {},
     "output_type": "execute_result"
    },
    {
     "data": {
      "image/png": "[encoded data removed]",
      "text/plain": [
       "<Figure size 432x288 with 1 Axes>"
      ]
     },
     "metadata": {
      "needs_background": "light"
     },
     "output_type": "display_data"
    }
   ],
   "source": [
    "sns.boxplot(Test_value['population'])\n",
    "Test_value['population'].describe()"
   ]
  },
  {
   "cell_type": "code",
   "execution_count": 119,
   "id": "sustained-gamma",
   "metadata": {},
   "outputs": [
    {
     "name": "stderr",
     "output_type": "stream",
     "text": [
      "/srv/conda/envs/notebook/lib/python3.7/site-packages/seaborn/_decorators.py:43: FutureWarning: Pass the following variable as a keyword arg: x. From version 0.12, the only valid positional argument will be `data`, and passing other arguments without an explicit keyword will result in an error or misinterpretation.\n",
      "  FutureWarning\n"
     ]
    },
    {
     "data": {
      "text/plain": [
       "count    14850.000000\n",
       "mean       129.081751\n",
       "std        178.869536\n",
       "min          0.000000\n",
       "25%          0.000000\n",
       "50%         20.000000\n",
       "75%        220.000000\n",
       "max        550.000000\n",
       "Name: population, dtype: float64"
      ]
     },
     "execution_count": 119,
     "metadata": {},
     "output_type": "execute_result"
    },
    {
     "data": {
      "image/png": "[encoded data removed]",
      "text/plain": [
       "<Figure size 432x288 with 1 Axes>"
      ]
     },
     "metadata": {
      "needs_background": "light"
     },
     "output_type": "display_data"
    }
   ],
   "source": [
    "# Inter-Quartile Range (IQR) proximity rule\n",
    "percentile25 = Test_value['population'].quantile(0.25)\n",
    "percentile75 = Test_value['population'].quantile(0.75)\n",
    "iqr = percentile75 - percentile25\n",
    "upper_limit = percentile75 + 1.5 * iqr\n",
    "lower_limit = percentile25 - 1.5 * iqr\n",
    "\n",
    "# apply the Capping on Outliers\n",
    "Test_value['population'] = np.where(Test_value['population']>upper_limit,upper_limit,\n",
    "                      np.where(Test_value['population']<lower_limit,lower_limit,Test_value['population']))\n",
    "\n",
    "sns.boxplot(Test_value['population'])\n",
    "Test_value['population'].describe()"
   ]
  },
  {
   "cell_type": "code",
   "execution_count": 120,
   "id": "suspected-yugoslavia",
   "metadata": {},
   "outputs": [
    {
     "name": "stdout",
     "output_type": "stream",
     "text": [
      "1.259408790692717\n"
     ]
    }
   ],
   "source": [
    "print(Test_value['population'].skew()) #skewness"
   ]
  },
  {
   "cell_type": "markdown",
   "id": "automatic-macintosh",
   "metadata": {},
   "source": [
    "#### Cleanning - 'construction_year'\n",
    "- Missing Value\n",
    "- Outlier"
   ]
  },
  {
   "cell_type": "markdown",
   "id": "after-rogers",
   "metadata": {},
   "source": [
    "Construct_year = pd.read_csv('construct_years.csv')\n",
    "Construct_year.shape\n",
    "Construct_year['construction_year'].head()"
   ]
  },
  {
   "cell_type": "code",
   "execution_count": 121,
   "id": "elementary-inspiration",
   "metadata": {},
   "outputs": [
    {
     "data": {
      "text/plain": [
       "0    2012\n",
       "1    2000\n",
       "2    2010\n",
       "3    1987\n",
       "4    2000\n",
       "Name: construction_year, dtype: int64"
      ]
     },
     "execution_count": 121,
     "metadata": {},
     "output_type": "execute_result"
    }
   ],
   "source": [
    "Test_value['construction_year'].head()"
   ]
  },
  {
   "cell_type": "code",
   "execution_count": 124,
   "id": "retired-spectrum",
   "metadata": {},
   "outputs": [
    {
     "data": {
      "text/plain": [
       "count    14850.000000\n",
       "mean      1289.708350\n",
       "std        955.241087\n",
       "min          0.000000\n",
       "25%          0.000000\n",
       "50%       1986.000000\n",
       "75%       2004.000000\n",
       "max       2013.000000\n",
       "Name: construction_year, dtype: float64"
      ]
     },
     "execution_count": 124,
     "metadata": {},
     "output_type": "execute_result"
    }
   ],
   "source": [
    "Test_value['construction_year'].describe()"
   ]
  },
  {
   "cell_type": "code",
   "execution_count": 125,
   "id": "therapeutic-victorian",
   "metadata": {},
   "outputs": [
    {
     "data": {
      "text/plain": [
       "count    59400.000000\n",
       "mean      1984.259057\n",
       "std         20.054689\n",
       "min       1960.000000\n",
       "25%       1960.000000\n",
       "50%       1986.000000\n",
       "75%       2004.000000\n",
       "max       2013.000000\n",
       "Name: construction_year, dtype: float64"
      ]
     },
     "execution_count": 125,
     "metadata": {},
     "output_type": "execute_result"
    }
   ],
   "source": [
    "Construct_year['construction_year'].describe()"
   ]
  },
  {
   "cell_type": "code",
   "execution_count": 126,
   "id": "representative-parker",
   "metadata": {},
   "outputs": [
    {
     "data": {
      "image/png": "[encoded data removed]",
      "text/plain": [
       "<Figure size 1440x576 with 2 Axes>"
      ]
     },
     "metadata": {
      "needs_background": "light"
     },
     "output_type": "display_data"
    }
   ],
   "source": [
    "fig, (ax1, ax2) = plt.subplots(1,2, figsize=(20,8))\n",
    "sns.histplot(Test_value['construction_year'], ax=ax1)\n",
    "sns.histplot(Construct_year['construction_year'],ax=ax2)\n",
    "plt.show()\n"
   ]
  },
  {
   "cell_type": "code",
   "execution_count": 36,
   "id": "corporate-despite",
   "metadata": {},
   "outputs": [
    {
     "data": {
      "text/plain": [
       "4        1960\n",
       "6        1960\n",
       "7        1960\n",
       "8        1960\n",
       "9        1960\n",
       "         ... \n",
       "59379    1960\n",
       "59392    1960\n",
       "59393    1960\n",
       "59397    1960\n",
       "59398    1960\n",
       "Name: construction_year, Length: 20036, dtype: int64"
      ]
     },
     "execution_count": 36,
     "metadata": {},
     "output_type": "execute_result"
    }
   ],
   "source": [
    "Test_value['construction_year'].loc[Test_value['construction_year'] == 0] #20709\n",
    "Construct_year['construction_year'].loc[Construct_year['construction_year'] == 1960] #20036"
   ]
  },
  {
   "cell_type": "code",
   "execution_count": 37,
   "id": "universal-modification",
   "metadata": {},
   "outputs": [
    {
     "data": {
      "text/plain": [
       "count    14850.000000\n",
       "mean      1984.241616\n",
       "std         20.089233\n",
       "min       1960.000000\n",
       "25%       1960.000000\n",
       "50%       1985.000000\n",
       "75%       2004.000000\n",
       "max       2013.000000\n",
       "Name: construction_year, dtype: float64"
      ]
     },
     "execution_count": 37,
     "metadata": {},
     "output_type": "execute_result"
    }
   ],
   "source": [
    "Test_value['construction_year'] = Construct_year['construction_year']\n",
    "Test_value['construction_year'].describe()"
   ]
  },
  {
   "cell_type": "markdown",
   "id": "experienced-interstate",
   "metadata": {},
   "source": [
    "###  Clean All Category Features"
   ]
  },
  {
   "cell_type": "markdown",
   "id": "unusual-syracuse",
   "metadata": {},
   "source": [
    "#### Cleanning - funder \n",
    "- Missing Value"
   ]
  },
  {
   "cell_type": "code",
   "execution_count": 127,
   "id": "unnecessary-script",
   "metadata": {},
   "outputs": [
    {
     "data": {
      "text/plain": [
       "Government Of Tanzania    2215\n",
       "Danida                     793\n",
       "Hesawa                     580\n",
       "World Bank                 352\n",
       "Kkkt                       336\n",
       "                          ... \n",
       "Oxfarm Gb                    1\n",
       "Mount Meru Flowers           1\n",
       "Idara Ya Afya                1\n",
       "Italy                        1\n",
       "Livin                        1\n",
       "Name: funder, Length: 980, dtype: int64"
      ]
     },
     "execution_count": 127,
     "metadata": {},
     "output_type": "execute_result"
    }
   ],
   "source": [
    "Test_value['funder'].value_counts()"
   ]
  },
  {
   "cell_type": "code",
   "execution_count": 128,
   "id": "spoken-anxiety",
   "metadata": {},
   "outputs": [],
   "source": [
    "Test_value['funder']=Test_value['funder'].str.replace(r'\\W+', ' ', regex=True)\n",
    "Test_value['funder']=Test_value['funder'].str.replace('0', 'Unknown ')\n",
    "Test_value['funder'].fillna(Test_value['funder'].mode()[0],inplace=True)"
   ]
  },
  {
   "cell_type": "code",
   "execution_count": 129,
   "id": "personal-flesh",
   "metadata": {},
   "outputs": [
    {
     "data": {
      "text/plain": [
       "Government Of Tanzania    3084\n",
       "Danida                     793\n",
       "Hesawa                     580\n",
       "World Bank                 352\n",
       "Kkkt                       336\n",
       "                          ... \n",
       "Lengai Makoo                 1\n",
       "Bi Kidawa                    1\n",
       "Kulwa                        1\n",
       "Waingereza                   1\n",
       "Livin                        1\n",
       "Name: funder, Length: 976, dtype: int64"
      ]
     },
     "execution_count": 129,
     "metadata": {},
     "output_type": "execute_result"
    }
   ],
   "source": [
    "Test_value['funder'].value_counts()"
   ]
  },
  {
   "cell_type": "markdown",
   "id": "instant-magazine",
   "metadata": {},
   "source": [
    "#### Cleanning - installer \n",
    "- Missing Value"
   ]
  },
  {
   "cell_type": "code",
   "execution_count": 130,
   "id": "alleged-guard",
   "metadata": {},
   "outputs": [
    {
     "data": {
      "text/plain": [
       "DWE           4349\n",
       "Government     457\n",
       "RWE            292\n",
       "Commu          287\n",
       "DANIDA         255\n",
       "              ... \n",
       "Commun           1\n",
       "QUIKWIN          1\n",
       "SDG              1\n",
       "MoWI             1\n",
       "LIVI             1\n",
       "Name: installer, Length: 1091, dtype: int64"
      ]
     },
     "execution_count": 130,
     "metadata": {},
     "output_type": "execute_result"
    }
   ],
   "source": [
    "Test_value['installer'].value_counts() # with punctation & 0 & singler letter"
   ]
  },
  {
   "cell_type": "code",
   "execution_count": 131,
   "id": "modular-numbers",
   "metadata": {},
   "outputs": [],
   "source": [
    "Test_value['installer']=Test_value['installer'].str.replace(r'\\W+', ' ', regex=True)\n",
    "Test_value['installer']=Test_value['installer'].str.replace('0', 'Unknown ')\n",
    "Test_value['installer']=Test_value['installer'].apply(lambda a: \"Other\" if len(str(a)) == 1 else a)\n",
    "Test_value['installer'].fillna(Test_value['installer'].mode()[0],inplace= True)"
   ]
  },
  {
   "cell_type": "code",
   "execution_count": 132,
   "id": "absolute-nashville",
   "metadata": {},
   "outputs": [
    {
     "data": {
      "text/plain": [
       "DWE                5226\n",
       "Government          457\n",
       "RWE                 292\n",
       "Commu               287\n",
       "DANIDA              255\n",
       "                   ... \n",
       "Not kno               1\n",
       "IADO                  1\n",
       "Buguba                1\n",
       "TWESA Community       1\n",
       "LIVI                  1\n",
       "Name: installer, Length: 1059, dtype: int64"
      ]
     },
     "execution_count": 132,
     "metadata": {},
     "output_type": "execute_result"
    }
   ],
   "source": [
    "Test_value['installer'].value_counts() "
   ]
  },
  {
   "cell_type": "code",
   "execution_count": 133,
   "id": "severe-asian",
   "metadata": {},
   "outputs": [
    {
     "data": {
      "text/plain": [
       "none                877\n",
       "Shuleni             435\n",
       "Zahanati            204\n",
       "Msikitini           112\n",
       "Sokoni               68\n",
       "                   ... \n",
       "Kwa Gadau             1\n",
       "Bubinza B             1\n",
       "Nguvu Kazi A          1\n",
       "Kwa Everigist         1\n",
       "Kwa Mzee Chagala      1\n",
       "Name: wpt_name, Length: 10840, dtype: int64"
      ]
     },
     "execution_count": 133,
     "metadata": {},
     "output_type": "execute_result"
    }
   ],
   "source": [
    "#### Cleanning - wpt_name\n",
    "Test_value['wpt_name'].value_counts() #3563 - none"
   ]
  },
  {
   "cell_type": "markdown",
   "id": "restricted-resource",
   "metadata": {},
   "source": [
    "#### Cleanning - basin\n",
    "Reference : https://www.researchgate.net/figure/Map-of-the-nine-River-Basin-Offices-in-Tanzania_fig1_312373453"
   ]
  },
  {
   "cell_type": "code",
   "execution_count": 134,
   "id": "wrapped-disaster",
   "metadata": {},
   "outputs": [
    {
     "data": {
      "text/plain": [
       "Lake Victoria              2623\n",
       "Pangani                    2203\n",
       "Rufiji                     2011\n",
       "Internal                   1857\n",
       "Lake Tanganyika            1620\n",
       "Wami / Ruvu                1590\n",
       "Lake Nyasa                 1247\n",
       "Ruvuma / Southern Coast    1094\n",
       "Lake Rukwa                  605\n",
       "Name: basin, dtype: int64"
      ]
     },
     "execution_count": 134,
     "metadata": {},
     "output_type": "execute_result"
    }
   ],
   "source": [
    "Test_value['basin'].value_counts()  # with \" / \";  should be removed"
   ]
  },
  {
   "cell_type": "code",
   "execution_count": 135,
   "id": "informed-concentrate",
   "metadata": {},
   "outputs": [],
   "source": [
    "test = Test_value.loc[Test_value['basin'] == 'Wami / Ruvu','basin']\n",
    "test = test.str.replace('/','')\n",
    "\n",
    "test2 = Test_value.loc[Test_value['basin'] == 'Ruvuma / Southern Coast','basin']\n",
    "test2 = test2.str.replace('/','and')\n"
   ]
  },
  {
   "cell_type": "code",
   "execution_count": 136,
   "id": "patent-shelf",
   "metadata": {},
   "outputs": [],
   "source": [
    "#Test_value['basin'] = Test_value['basin'] .astype(str) \n",
    "\n",
    "Test_value.loc[Test_value['basin'] == 'Wami / Ruvu','basin'] = test\n",
    "Test_value.loc[Test_value['basin'] == 'Ruvuma / Southern Coast','basin'] = test2\n"
   ]
  },
  {
   "cell_type": "code",
   "execution_count": 137,
   "id": "after-plasma",
   "metadata": {},
   "outputs": [
    {
     "data": {
      "text/plain": [
       "Lake Victoria                2623\n",
       "Pangani                      2203\n",
       "Rufiji                       2011\n",
       "Internal                     1857\n",
       "Lake Tanganyika              1620\n",
       "Wami  Ruvu                   1590\n",
       "Lake Nyasa                   1247\n",
       "Ruvuma and Southern Coast    1094\n",
       "Lake Rukwa                    605\n",
       "Name: basin, dtype: int64"
      ]
     },
     "execution_count": 137,
     "metadata": {},
     "output_type": "execute_result"
    }
   ],
   "source": [
    "Test_value['basin'].value_counts()"
   ]
  },
  {
   "cell_type": "markdown",
   "id": "thirty-husband",
   "metadata": {},
   "source": [
    "#### Cleanning - subvillage \n",
    "- missing value\n",
    "- inconsistent value including (M, 1, I K)\n",
    "The mode of a set of data values is the value that appears most often. It is the value at which the data is most likely to be sampled."
   ]
  },
  {
   "cell_type": "code",
   "execution_count": 138,
   "id": "thrown-effectiveness",
   "metadata": {},
   "outputs": [
    {
     "data": {
      "text/plain": [
       "Shuleni                 140\n",
       "Majengo                 129\n",
       "Madukani                121\n",
       "Kati                     94\n",
       "Sokoni                   62\n",
       "Mtakuja                  60\n",
       "M                        56\n",
       "Songambele               47\n",
       "Mbuyuni                  46\n",
       "Muungano                 43\n",
       "Amani                    38\n",
       "Mlimani                  38\n",
       "Kanisani                 35\n",
       "Miembeni                 34\n",
       "Bondeni                  31\n",
       "Msikitini                30\n",
       "Kibaoni                  29\n",
       "Senta                    27\n",
       "Kichangani               26\n",
       "1                        25\n",
       "Nyerere                  24\n",
       "Mtaa Wa Kitunda Kati     24\n",
       "Mwenge                   23\n",
       "Mjini                    23\n",
       "Kisiwani                 22\n",
       "Mjimwema                 21\n",
       "Mtaa Wa Kivule           21\n",
       "Mkwajuni                 21\n",
       "Msumbiji                 21\n",
       "Msufini                  20\n",
       "Chang'Ombe               20\n",
       "Barabarani               19\n",
       "Misufini                 19\n",
       "Azimio                   18\n",
       "Mbugani                  18\n",
       "Zahanati                 18\n",
       "Mapinduzi                17\n",
       "Ikulu                    17\n",
       "Ushirika                 17\n",
       "K                        16\n",
       "Mabatini                 16\n",
       "Misheni                  16\n",
       "Migombani                16\n",
       "Gulioni                  16\n",
       "Zaire                    16\n",
       "I                        15\n",
       "Mwangaza                 15\n",
       "Magharibi                15\n",
       "Center                   15\n",
       "Mission                  15\n",
       "Dodoma                   15\n",
       "Shule                    14\n",
       "Kiwanjani                14\n",
       "Marurani Juu             14\n",
       "Kijijini                 14\n",
       "Ccm                      14\n",
       "Ngelele                  14\n",
       "Mlangali                 14\n",
       "Mashariki                13\n",
       "Ofisini                  13\n",
       "Name: subvillage, dtype: int64"
      ]
     },
     "execution_count": 138,
     "metadata": {},
     "output_type": "execute_result"
    }
   ],
   "source": [
    "Test_value['subvillage'].value_counts()[:60]"
   ]
  },
  {
   "cell_type": "code",
   "execution_count": 139,
   "id": "organic-closing",
   "metadata": {},
   "outputs": [],
   "source": [
    "# to deal with missing value\n",
    "Test_value['subvillage'].fillna(Test_value['subvillage'].mode()[0], inplace=True)"
   ]
  },
  {
   "cell_type": "code",
   "execution_count": 140,
   "id": "recorded-works",
   "metadata": {},
   "outputs": [
    {
     "data": {
      "text/plain": [
       "Shuleni                 239\n",
       "Majengo                 129\n",
       "Madukani                121\n",
       "Other                   112\n",
       "Kati                     94\n",
       "Sokoni                   62\n",
       "Mtakuja                  60\n",
       "Songambele               47\n",
       "Mbuyuni                  46\n",
       "Muungano                 43\n",
       "Mlimani                  38\n",
       "Amani                    38\n",
       "Kanisani                 35\n",
       "Miembeni                 34\n",
       "Bondeni                  31\n",
       "Msikitini                30\n",
       "Kibaoni                  29\n",
       "Senta                    27\n",
       "Kichangani               26\n",
       "Nyerere                  24\n",
       "Mtaa Wa Kitunda Kati     24\n",
       "Mwenge                   23\n",
       "Mjini                    23\n",
       "Kisiwani                 22\n",
       "Msumbiji                 21\n",
       "Mkwajuni                 21\n",
       "Mtaa Wa Kivule           21\n",
       "Mjimwema                 21\n",
       "Msufini                  20\n",
       "Chang'Ombe               20\n",
       "Misufini                 19\n",
       "Barabarani               19\n",
       "Azimio                   18\n",
       "Mbugani                  18\n",
       "Zahanati                 18\n",
       "Mapinduzi                17\n",
       "Ikulu                    17\n",
       "Ushirika                 17\n",
       "Misheni                  16\n",
       "Mabatini                 16\n",
       "Zaire                    16\n",
       "Gulioni                  16\n",
       "Migombani                16\n",
       "Dodoma                   15\n",
       "Mission                  15\n",
       "Center                   15\n",
       "Magharibi                15\n",
       "Mwangaza                 15\n",
       "Mlangali                 14\n",
       "Marurani Juu             14\n",
       "Kiwanjani                14\n",
       "Shule                    14\n",
       "Ccm                      14\n",
       "Kijijini                 14\n",
       "Ngelele                  14\n",
       "Kihanga                  13\n",
       "Mashariki                13\n",
       "Ofisini                  13\n",
       "L                        13\n",
       "Bombani                  12\n",
       "Name: subvillage, dtype: int64"
      ]
     },
     "execution_count": 140,
     "metadata": {},
     "output_type": "execute_result"
    }
   ],
   "source": [
    "# to deal with inconsistent value including (M, 1, I K)\n",
    "Test_value.loc[Test_value['subvillage'] == 'M', 'subvillage'] = 'Other'\n",
    "Test_value.loc[Test_value[\"subvillage\"] == '1', 'subvillage'] = \"Other\"\n",
    "Test_value.loc[Test_value['subvillage'] == 'I', 'subvillage'] = 'Other'\n",
    "Test_value.loc[Test_value['subvillage'] == 'K', 'subvillage'] = 'Other'\n",
    "Test_value['subvillage'].value_counts()[:60]"
   ]
  },
  {
   "cell_type": "code",
   "execution_count": 141,
   "id": "trying-suite",
   "metadata": {},
   "outputs": [
    {
     "data": {
      "text/plain": [
       "Shinyanga        1311\n",
       "Iringa           1305\n",
       "Mbeya            1119\n",
       "Kilimanjaro      1115\n",
       "Morogoro         1032\n",
       "Kagera            858\n",
       "Mwanza            795\n",
       "Arusha            761\n",
       "Kigoma            717\n",
       "Pwani             696\n",
       "Ruvuma            666\n",
       "Tanga             639\n",
       "Dodoma            578\n",
       "Tabora            507\n",
       "Mara              482\n",
       "Singida           443\n",
       "Rukwa             434\n",
       "Mtwara            414\n",
       "Manyara           389\n",
       "Lindi             374\n",
       "Dar es Salaam     215\n",
       "Name: region, dtype: int64"
      ]
     },
     "execution_count": 141,
     "metadata": {},
     "output_type": "execute_result"
    }
   ],
   "source": [
    "#### Cleanning - region\n",
    "Test_value['region'].value_counts()"
   ]
  },
  {
   "cell_type": "markdown",
   "id": "copyrighted-andrew",
   "metadata": {},
   "source": [
    "#### Cleanning - lga \n",
    "no errors\n",
    "Cosider Rural vs Urban - to be visulization"
   ]
  },
  {
   "cell_type": "code",
   "execution_count": 142,
   "id": "silver-asian",
   "metadata": {},
   "outputs": [
    {
     "data": {
      "text/plain": [
       "Njombe          625\n",
       "Moshi Rural     315\n",
       "Bariadi         308\n",
       "Rungwe          275\n",
       "Kasulu          275\n",
       "               ... \n",
       "Songea Urban     23\n",
       "Tanga            22\n",
       "Arusha Urban     19\n",
       "Lindi Urban       3\n",
       "Nyamagana         1\n",
       "Name: lga, Length: 125, dtype: int64"
      ]
     },
     "execution_count": 142,
     "metadata": {},
     "output_type": "execute_result"
    }
   ],
   "source": [
    "Test_value[\"lga\"].value_counts() #125"
   ]
  },
  {
   "cell_type": "markdown",
   "id": "commercial-bathroom",
   "metadata": {},
   "source": [
    "#### Cleanning - ward\n",
    "There 2092 uniqu value - consider use function max_cat to pick top value\n",
    "The Ward Profiles provide demographic information on population by age, households and dwelling types, families, language group, household tenure and period of construction; immigration, mobility, ethnic origin and visible minorities; education and labour force; income and shelter cost. "
   ]
  },
  {
   "cell_type": "code",
   "execution_count": 143,
   "id": "fluid-advertiser",
   "metadata": {},
   "outputs": [
    {
     "data": {
      "text/plain": [
       "Igosi        79\n",
       "Imalinyi     66\n",
       "Siha Kati    65\n",
       "Mdandu       61\n",
       "Kitunda      57\n",
       "             ..\n",
       "Manyondwe     1\n",
       "Lizaboni      1\n",
       "Masasi        1\n",
       "Mtombozi      1\n",
       "Idifu         1\n",
       "Name: ward, Length: 1959, dtype: int64"
      ]
     },
     "execution_count": 143,
     "metadata": {},
     "output_type": "execute_result"
    }
   ],
   "source": [
    "Test_value[\"ward\"].value_counts() #2092\n",
    "#max_cat('ward')"
   ]
  },
  {
   "cell_type": "markdown",
   "id": "victorian-taxation",
   "metadata": {},
   "source": [
    "#### Cleanning - Public_meeting\n",
    "Replace Public_meeting missing values by unknown"
   ]
  },
  {
   "cell_type": "code",
   "execution_count": 144,
   "id": "corporate-happening",
   "metadata": {},
   "outputs": [
    {
     "data": {
      "text/plain": [
       "Text(0.5, 1.0, 'Public Meeting')"
      ]
     },
     "execution_count": 144,
     "metadata": {},
     "output_type": "execute_result"
    },
    {
     "data": {
      "image/png": "[encoded data removed]",
      "text/plain": [
       "<Figure size 432x288 with 1 Axes>"
      ]
     },
     "metadata": {
      "needs_background": "light"
     },
     "output_type": "display_data"
    }
   ],
   "source": [
    "Test_value['public_meeting'].fillna(Test_value['public_meeting'].mode()[0], inplace=True)\n",
    "tanzania_flag_colors = ['#1eb53a', '#fcd116', '#00a3dd', 'black']\n",
    "Test_value.public_meeting.value_counts().plot(kind='bar', color=tanzania_flag_colors);\n",
    "plt.title(\"Public Meeting\")"
   ]
  },
  {
   "cell_type": "code",
   "execution_count": 145,
   "id": "nervous-commander",
   "metadata": {},
   "outputs": [
    {
     "data": {
      "text/plain": [
       "VWC                 9124\n",
       "WUG                 1290\n",
       "Water authority      822\n",
       "Water Board          714\n",
       "WUA                  668\n",
       "Parastatal           444\n",
       "Company              280\n",
       "Private operator     263\n",
       "Other                230\n",
       "SWC                   26\n",
       "Trust                 20\n",
       "Name: scheme_management, dtype: int64"
      ]
     },
     "execution_count": 145,
     "metadata": {},
     "output_type": "execute_result"
    }
   ],
   "source": [
    "#### Cleanning - scheme_management\n",
    "Test_value['scheme_management'].value_counts()"
   ]
  },
  {
   "cell_type": "code",
   "execution_count": 146,
   "id": "neither-tournament",
   "metadata": {},
   "outputs": [],
   "source": [
    "Test_value['scheme_management'].fillna(Test_value['scheme_management'].mode()[0],inplace=True)"
   ]
  },
  {
   "cell_type": "code",
   "execution_count": 147,
   "id": "informed-banks",
   "metadata": {},
   "outputs": [
    {
     "data": {
      "text/plain": [
       "K                      176\n",
       "Borehole               158\n",
       "None                   150\n",
       "DANIDA                 104\n",
       "Chalinze wate           96\n",
       "                      ... \n",
       "Iseke water supply       1\n",
       "Dina                     1\n",
       "Water supplying          1\n",
       "Mazi                     1\n",
       "Mbwasa water supply      1\n",
       "Name: scheme_name, Length: 1789, dtype: int64"
      ]
     },
     "execution_count": 147,
     "metadata": {},
     "output_type": "execute_result"
    }
   ],
   "source": [
    "#### Cleanning - scheme_name\n",
    "Test_value['scheme_name'].value_counts()"
   ]
  },
  {
   "cell_type": "code",
   "execution_count": 148,
   "id": "swedish-station",
   "metadata": {},
   "outputs": [],
   "source": [
    "Test_value['scheme_name'] = Test_value['scheme_name'].apply(lambda a: \"Other\" if len(str(a)) == 1 else a)\n",
    "Test_value['scheme_name'].fillna(Test_value['scheme_name'].mode()[0],inplace=True)"
   ]
  },
  {
   "cell_type": "code",
   "execution_count": 149,
   "id": "varied-mexican",
   "metadata": {},
   "outputs": [
    {
     "data": {
      "text/plain": [
       "Other                    7602\n",
       "Borehole                  158\n",
       "None                      150\n",
       "DANIDA                    104\n",
       "Chalinze wate              96\n",
       "                         ... \n",
       "BL Kyongwa                  1\n",
       "Chen                        1\n",
       "Olmolog water project       1\n",
       "Kilimi Dam                  1\n",
       "Mbwasa water supply         1\n",
       "Name: scheme_name, Length: 1770, dtype: int64"
      ]
     },
     "execution_count": 149,
     "metadata": {},
     "output_type": "execute_result"
    }
   ],
   "source": [
    "Test_value['scheme_name'].value_counts()"
   ]
  },
  {
   "cell_type": "code",
   "execution_count": 150,
   "id": "amber-lafayette",
   "metadata": {},
   "outputs": [
    {
     "data": {
      "text/plain": [
       "True     9754\n",
       "False    4359\n",
       "Name: permit, dtype: int64"
      ]
     },
     "execution_count": 150,
     "metadata": {},
     "output_type": "execute_result"
    }
   ],
   "source": [
    "#### Cleanning - permit\n",
    "Test_value['permit'].value_counts()"
   ]
  },
  {
   "cell_type": "code",
   "execution_count": 151,
   "id": "welsh-composer",
   "metadata": {},
   "outputs": [],
   "source": [
    "Test_value['permit'].fillna(Test_value['permit'].mode()[0], inplace=True)"
   ]
  },
  {
   "cell_type": "code",
   "execution_count": 152,
   "id": "ranking-animation",
   "metadata": {},
   "outputs": [
    {
     "data": {
      "text/plain": [
       "count     14850\n",
       "unique        2\n",
       "top        True\n",
       "freq      10491\n",
       "Name: permit, dtype: object"
      ]
     },
     "execution_count": 152,
     "metadata": {},
     "output_type": "execute_result"
    }
   ],
   "source": [
    "Test_value['permit'].describe()"
   ]
  },
  {
   "cell_type": "code",
   "execution_count": 153,
   "id": "popular-civilization",
   "metadata": {},
   "outputs": [
    {
     "data": {
      "text/plain": [
       "gravity              6483\n",
       "nira/tanira          2051\n",
       "other                1672\n",
       "submersible          1218\n",
       "swn 80                918\n",
       "mono                  763\n",
       "india mark ii         629\n",
       "afridev               438\n",
       "ksb                   375\n",
       "other - rope pump     121\n",
       "other - swn 81         55\n",
       "india mark iii         37\n",
       "windmill               35\n",
       "cemo                   18\n",
       "other - play pump      16\n",
       "walimi                 12\n",
       "climax                  9\n",
       "Name: extraction_type, dtype: int64"
      ]
     },
     "execution_count": 153,
     "metadata": {},
     "output_type": "execute_result"
    }
   ],
   "source": [
    "#### Cleanning - extraction_type\n",
    "Test_value['extraction_type'].value_counts()"
   ]
  },
  {
   "cell_type": "code",
   "execution_count": 154,
   "id": "approximate-metro",
   "metadata": {},
   "outputs": [
    {
     "data": {
      "text/plain": [
       "gravity           6483\n",
       "nira tanira       2051\n",
       "other             1672\n",
       "submersible       1218\n",
       "swn 80             918\n",
       "mono               763\n",
       "india mark ii      629\n",
       "afridev            438\n",
       "ksb                375\n",
       "rope pump          121\n",
       "swn 81              55\n",
       "india mark iii      37\n",
       "windmill            35\n",
       "cemo                18\n",
       "play pump           16\n",
       "walimi              12\n",
       "climax               9\n",
       "Name: extraction_type, dtype: int64"
      ]
     },
     "execution_count": 154,
     "metadata": {},
     "output_type": "execute_result"
    }
   ],
   "source": [
    "Test_value['extraction_type'] = Test_value['extraction_type'].str.replace(\"/\",\" \")\n",
    "Test_value['extraction_type'] = Test_value['extraction_type'].str.replace(\"other - \",\"\")\n",
    "Test_value['extraction_type'].value_counts()"
   ]
  },
  {
   "cell_type": "code",
   "execution_count": 155,
   "id": "durable-things",
   "metadata": {},
   "outputs": [
    {
     "data": {
      "text/plain": [
       "gravity            6483\n",
       "nira/tanira        2051\n",
       "other              1672\n",
       "submersible        1593\n",
       "swn 80              918\n",
       "mono                763\n",
       "india mark ii       629\n",
       "afridev             438\n",
       "rope pump           121\n",
       "other handpump       83\n",
       "india mark iii       37\n",
       "wind-powered         35\n",
       "other motorpump      27\n",
       "Name: extraction_type_group, dtype: int64"
      ]
     },
     "execution_count": 155,
     "metadata": {},
     "output_type": "execute_result"
    }
   ],
   "source": [
    "#### Cleanning - extraction_type_group\n",
    "Test_value['extraction_type_group'].value_counts()"
   ]
  },
  {
   "cell_type": "code",
   "execution_count": 156,
   "id": "opposite-scholarship",
   "metadata": {},
   "outputs": [
    {
     "data": {
      "text/plain": [
       "gravity           6483\n",
       "nira tanira       2051\n",
       "other             1672\n",
       "submersible       1593\n",
       "swn 80             918\n",
       "mono               763\n",
       "india mark ii      629\n",
       "afridev            438\n",
       "rope pump          121\n",
       "handpump            83\n",
       "india mark iii      37\n",
       "wind powered        35\n",
       "motorpump           27\n",
       "Name: extraction_type_group, dtype: int64"
      ]
     },
     "execution_count": 156,
     "metadata": {},
     "output_type": "execute_result"
    }
   ],
   "source": [
    "Test_value['extraction_type_group'] = Test_value['extraction_type_group'].str.replace(\"/\",\" \")\n",
    "Test_value['extraction_type_group'] = Test_value['extraction_type_group'].str.replace(\"other \",\"\")\n",
    "Test_value['extraction_type_group'] = Test_value['extraction_type_group'].str.replace(\"-\",\" \")\n",
    "Test_value['extraction_type_group'].value_counts()"
   ]
  },
  {
   "cell_type": "code",
   "execution_count": 157,
   "id": "encouraging-amount",
   "metadata": {},
   "outputs": [
    {
     "data": {
      "text/plain": [
       "gravity         6483\n",
       "handpump        4156\n",
       "other           1672\n",
       "submersible     1593\n",
       "motorpump        790\n",
       "rope pump        121\n",
       "wind-powered      35\n",
       "Name: extraction_type_class, dtype: int64"
      ]
     },
     "execution_count": 157,
     "metadata": {},
     "output_type": "execute_result"
    }
   ],
   "source": [
    "#### Cleanning - extraction_class\n",
    "Test_value['extraction_type_class'].value_counts()"
   ]
  },
  {
   "cell_type": "code",
   "execution_count": 158,
   "id": "nearby-france",
   "metadata": {},
   "outputs": [
    {
     "data": {
      "text/plain": [
       "gravity        6483\n",
       "handpump       4156\n",
       "other          1672\n",
       "submersible    1593\n",
       "motorpump       790\n",
       "ropepump        121\n",
       "windpowered      35\n",
       "Name: extraction_type_class, dtype: int64"
      ]
     },
     "execution_count": 158,
     "metadata": {},
     "output_type": "execute_result"
    }
   ],
   "source": [
    "Test_value['extraction_type_class'] = Test_value['extraction_type_class'].str.replace(\" \",\"\")\n",
    "Test_value['extraction_type_class'] = Test_value['extraction_type_class'].str.replace(\"-\",\"\")\n",
    "Test_value['extraction_type_class'].value_counts()"
   ]
  },
  {
   "cell_type": "code",
   "execution_count": 159,
   "id": "polished-syndication",
   "metadata": {},
   "outputs": [
    {
     "data": {
      "text/plain": [
       "vwc                 10117\n",
       "wug                  1593\n",
       "water board           755\n",
       "wua                   583\n",
       "private operator      533\n",
       "parastatal            461\n",
       "other                 239\n",
       "water authority       219\n",
       "company               174\n",
       "unknown               122\n",
       "other - school         27\n",
       "trust                  27\n",
       "Name: management, dtype: int64"
      ]
     },
     "execution_count": 159,
     "metadata": {},
     "output_type": "execute_result"
    }
   ],
   "source": [
    "#### Cleanning - management\n",
    "Test_value['management'].value_counts()"
   ]
  },
  {
   "cell_type": "code",
   "execution_count": 160,
   "id": "hollywood-veteran",
   "metadata": {},
   "outputs": [
    {
     "data": {
      "text/plain": [
       "vwc                 10117\n",
       "wug                  1593\n",
       "water board           755\n",
       "wua                   583\n",
       "private operator      533\n",
       "parastatal            461\n",
       "other                 239\n",
       "water authority       219\n",
       "company               174\n",
       "unknown               122\n",
       "school                 27\n",
       "trust                  27\n",
       "Name: management, dtype: int64"
      ]
     },
     "execution_count": 160,
     "metadata": {},
     "output_type": "execute_result"
    }
   ],
   "source": [
    "Test_value['management'] = Test_value['management'].str.replace(\"other - \",\"\")\n",
    "Test_value['management'].value_counts()"
   ]
  },
  {
   "cell_type": "code",
   "execution_count": 161,
   "id": "equipped-constant",
   "metadata": {},
   "outputs": [],
   "source": [
    "#### Cleanning - management_group\n",
    "Test_value['management_group'].value_counts()\n",
    "Test_value['management_group'] = Test_value['management_group'].str.replace(\"-\",\" \") "
   ]
  },
  {
   "cell_type": "code",
   "execution_count": 162,
   "id": "invisible-handling",
   "metadata": {},
   "outputs": [
    {
     "data": {
      "text/plain": [
       "user group    13048\n",
       "commercial      953\n",
       "parastatal      461\n",
       "other           266\n",
       "unknown         122\n",
       "Name: management_group, dtype: int64"
      ]
     },
     "execution_count": 162,
     "metadata": {},
     "output_type": "execute_result"
    }
   ],
   "source": [
    "Test_value['management_group'].value_counts()"
   ]
  },
  {
   "cell_type": "code",
   "execution_count": 163,
   "id": "recognized-morning",
   "metadata": {},
   "outputs": [
    {
     "data": {
      "text/plain": [
       "never pay                6364\n",
       "pay per bucket           2281\n",
       "pay monthly              2097\n",
       "unknown                  1992\n",
       "pay annually              928\n",
       "pay when scheme fails     928\n",
       "other                     260\n",
       "Name: payment, dtype: int64"
      ]
     },
     "execution_count": 163,
     "metadata": {},
     "output_type": "execute_result"
    }
   ],
   "source": [
    "#### Cleanning - payment\n",
    "Test_value['payment'].value_counts()"
   ]
  },
  {
   "cell_type": "code",
   "execution_count": 164,
   "id": "alternate-sequence",
   "metadata": {},
   "outputs": [
    {
     "data": {
      "text/plain": [
       "never pay     6364\n",
       "per bucket    2281\n",
       "monthly       2097\n",
       "unknown       1992\n",
       "annually       928\n",
       "on failure     928\n",
       "other          260\n",
       "Name: payment_type, dtype: int64"
      ]
     },
     "execution_count": 164,
     "metadata": {},
     "output_type": "execute_result"
    }
   ],
   "source": [
    "#### Cleanning - payment_type\n",
    "Test_value['payment_type'].value_counts()"
   ]
  },
  {
   "cell_type": "code",
   "execution_count": 165,
   "id": "recorded-minority",
   "metadata": {},
   "outputs": [
    {
     "data": {
      "text/plain": [
       "soft                  12687\n",
       "salty                  1226\n",
       "unknown                 469\n",
       "milky                   201\n",
       "coloured                133\n",
       "salty abandoned          84\n",
       "fluoride                 44\n",
       "fluoride abandoned        6\n",
       "Name: water_quality, dtype: int64"
      ]
     },
     "execution_count": 165,
     "metadata": {},
     "output_type": "execute_result"
    }
   ],
   "source": [
    "#### Cleanning - watet_qualityf\n",
    "Test_value['water_quality'].value_counts()"
   ]
  },
  {
   "cell_type": "code",
   "execution_count": 166,
   "id": "ceramic-cambridge",
   "metadata": {},
   "outputs": [
    {
     "data": {
      "text/plain": [
       "good        12687\n",
       "salty        1310\n",
       "unknown       469\n",
       "milky         201\n",
       "colored       133\n",
       "fluoride       50\n",
       "Name: quality_group, dtype: int64"
      ]
     },
     "execution_count": 166,
     "metadata": {},
     "output_type": "execute_result"
    }
   ],
   "source": [
    "#### Cleanning - quality_group | quality\n",
    "Test_value['quality_group'].value_counts()"
   ]
  },
  {
   "cell_type": "code",
   "execution_count": 167,
   "id": "computational-proxy",
   "metadata": {},
   "outputs": [
    {
     "data": {
      "text/plain": [
       "enough          8336\n",
       "insufficient    3767\n",
       "dry             1536\n",
       "seasonal        1025\n",
       "unknown          186\n",
       "Name: quantity_group, dtype: int64"
      ]
     },
     "execution_count": 167,
     "metadata": {},
     "output_type": "execute_result"
    }
   ],
   "source": [
    "#### Cleanning - quantity_group | quantity\n",
    "Test_value['quantity_group'].value_counts()"
   ]
  },
  {
   "cell_type": "code",
   "execution_count": 168,
   "id": "entire-weight",
   "metadata": {},
   "outputs": [
    {
     "data": {
      "text/plain": [
       "enough          8336\n",
       "insufficient    3767\n",
       "dry             1536\n",
       "seasonal        1025\n",
       "unknown          186\n",
       "Name: quantity, dtype: int64"
      ]
     },
     "execution_count": 168,
     "metadata": {},
     "output_type": "execute_result"
    }
   ],
   "source": [
    "Test_value['quantity'].value_counts()"
   ]
  },
  {
   "cell_type": "markdown",
   "id": "demonstrated-divorce",
   "metadata": {},
   "source": [
    "#### Cleanning - source | source type | source_calss"
   ]
  },
  {
   "cell_type": "code",
   "execution_count": 171,
   "id": "south-parliament",
   "metadata": {},
   "outputs": [
    {
     "data": {
      "text/plain": [
       "region\n",
       "Arusha           29321448\n",
       "Dar es Salaam     7928656\n",
       "Dodoma           21254096\n",
       "Iringa           47655434\n",
       "Kagera           31567464\n",
       "Kigoma           27098753\n",
       "Kilimanjaro      41913702\n",
       "Lindi            13922659\n",
       "Manyara          14814616\n",
       "Mara             17644613\n",
       "Mbeya            41785037\n",
       "Morogoro         38133234\n",
       "Mtwara           15548751\n",
       "Mwanza           29975408\n",
       "Pwani            24829063\n",
       "Rukwa            15959470\n",
       "Ruvuma           24486728\n",
       "Shinyanga        48471312\n",
       "Singida          16931728\n",
       "Tabora           19853706\n",
       "Tanga            22759420\n",
       "Name: sum, dtype: int64"
      ]
     },
     "execution_count": 171,
     "metadata": {},
     "output_type": "execute_result"
    }
   ],
   "source": [
    "Test_value[['region','population']]\n",
    "df_pop = Test_value.pivot_table('id','region','population',aggfunc='sum').fillna(0).astype(int) \n",
    "df_pop['sum'] = df_pop.sum(axis = 1)\n",
    "df_pop['sum']"
   ]
  },
  {
   "cell_type": "markdown",
   "id": "technological-roads",
   "metadata": {},
   "source": [
    "#### Checking dataset after cleaning"
   ]
  },
  {
   "cell_type": "code",
   "execution_count": 172,
   "id": "bound-cooling",
   "metadata": {},
   "outputs": [
    {
     "data": {
      "text/plain": [
       "id                       0\n",
       "amount_tsh               0\n",
       "date_recorded            0\n",
       "funder                   0\n",
       "gps_height               0\n",
       "installer                0\n",
       "longitude                0\n",
       "latitude                 0\n",
       "wpt_name                 0\n",
       "num_private              0\n",
       "basin                    0\n",
       "subvillage               0\n",
       "region                   0\n",
       "region_code              0\n",
       "district_code            0\n",
       "lga                      0\n",
       "ward                     0\n",
       "population               0\n",
       "public_meeting           0\n",
       "recorded_by              0\n",
       "scheme_management        0\n",
       "scheme_name              0\n",
       "permit                   0\n",
       "construction_year        0\n",
       "extraction_type          0\n",
       "extraction_type_group    0\n",
       "extraction_type_class    0\n",
       "management               0\n",
       "management_group         0\n",
       "payment                  0\n",
       "payment_type             0\n",
       "water_quality            0\n",
       "quality_group            0\n",
       "quantity                 0\n",
       "quantity_group           0\n",
       "source                   0\n",
       "source_type              0\n",
       "source_class             0\n",
       "waterpoint_type          0\n",
       "waterpoint_type_group    0\n",
       "dtype: int64"
      ]
     },
     "execution_count": 172,
     "metadata": {},
     "output_type": "execute_result"
    }
   ],
   "source": [
    "Test_value.isnull().sum()"
   ]
  },
  {
   "cell_type": "code",
   "execution_count": 173,
   "id": "amateur-variable",
   "metadata": {},
   "outputs": [
    {
     "data": {
      "image/png": "[encoded data removed]",
      "text/plain": [
       "<Figure size 864x864 with 9 Axes>"
      ]
     },
     "metadata": {
      "needs_background": "light"
     },
     "output_type": "display_data"
    }
   ],
   "source": [
    "Test_value.iloc[:,1:].hist(figsize=(12,12))\n",
    "plt.show()"
   ]
  },
  {
   "cell_type": "code",
   "execution_count": 174,
   "id": "square-swift",
   "metadata": {},
   "outputs": [
    {
     "data": {
      "text/plain": [
       "(14850, 40)"
      ]
     },
     "execution_count": 174,
     "metadata": {},
     "output_type": "execute_result"
    }
   ],
   "source": [
    "Test_value.shape"
   ]
  },
  {
   "cell_type": "code",
   "execution_count": 175,
   "id": "boxed-anthropology",
   "metadata": {},
   "outputs": [],
   "source": [
    "Test_value.to_csv('Test_value_clean.csv')"
   ]
  },
  {
   "cell_type": "code",
   "execution_count": null,
   "id": "expanded-wonder",
   "metadata": {},
   "outputs": [],
   "source": []
  },
  {
   "cell_type": "code",
   "execution_count": null,
   "id": "systematic-victim",
   "metadata": {},
   "outputs": [],
   "source": [
    "          "
   ]
  }
 ],
 "metadata": {
  "kernelspec": {
   "display_name": "Python 3",
   "language": "python",
   "name": "python3"
  },
  "language_info": {
   "codemirror_mode": {
    "name": "ipython",
    "version": 3
   },
   "file_extension": ".py",
   "mimetype": "text/x-python",
   "name": "python",
   "nbconvert_exporter": "python",
   "pygments_lexer": "ipython3",
   "version": "3.7.10"
  }
 },
 "nbformat": 4,
 "nbformat_minor": 5
}
