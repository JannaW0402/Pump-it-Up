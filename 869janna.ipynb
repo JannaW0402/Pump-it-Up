{
 "cells": [
  {
   "cell_type": "code",
   "execution_count": 1,
   "id": "e4afcc6e-c926-417c-9c8b-2838256fd0f9",
   "metadata": {
    "collapsed": true
   },
   "outputs": [
    {
     "name": "stdout",
     "output_type": "stream",
     "text": [
      "Requirement already satisfied: pandas in /srv/conda/envs/notebook/lib/python3.7/site-packages (1.3.0)\n",
      "Requirement already satisfied: numpy>=1.17.3 in /srv/conda/envs/notebook/lib/python3.7/site-packages (from pandas) (1.21.1)\n",
      "Requirement already satisfied: python-dateutil>=2.7.3 in /srv/conda/envs/notebook/lib/python3.7/site-packages (from pandas) (2.8.1)\n",
      "Requirement already satisfied: pytz>=2017.3 in /srv/conda/envs/notebook/lib/python3.7/site-packages (from pandas) (2021.1)\n",
      "Requirement already satisfied: six>=1.5 in /srv/conda/envs/notebook/lib/python3.7/site-packages (from python-dateutil>=2.7.3->pandas) (1.15.0)\n",
      "Requirement already satisfied: numpy in /srv/conda/envs/notebook/lib/python3.7/site-packages (1.21.1)\n",
      "Requirement already satisfied: pandas-profiling==2.7.1 in /srv/conda/envs/notebook/lib/python3.7/site-packages (2.7.1)\n",
      "Requirement already satisfied: joblib in /srv/conda/envs/notebook/lib/python3.7/site-packages (from pandas-profiling==2.7.1) (1.0.1)\n",
      "Requirement already satisfied: jinja2>=2.11.1 in /srv/conda/envs/notebook/lib/python3.7/site-packages (from pandas-profiling==2.7.1) (2.11.3)\n",
      "Requirement already satisfied: visions[type_image_path]==0.4.1 in /srv/conda/envs/notebook/lib/python3.7/site-packages (from pandas-profiling==2.7.1) (0.4.1)\n",
      "Requirement already satisfied: htmlmin>=0.1.12 in /srv/conda/envs/notebook/lib/python3.7/site-packages (from pandas-profiling==2.7.1) (0.1.12)\n",
      "Requirement already satisfied: phik>=0.9.10 in /srv/conda/envs/notebook/lib/python3.7/site-packages (from pandas-profiling==2.7.1) (0.11.2)\n",
      "Requirement already satisfied: matplotlib>=3.2.0 in /srv/conda/envs/notebook/lib/python3.7/site-packages (from pandas-profiling==2.7.1) (3.4.2)\n",
      "Requirement already satisfied: astropy>=4.0 in /srv/conda/envs/notebook/lib/python3.7/site-packages (from pandas-profiling==2.7.1) (4.2.1)\n",
      "Requirement already satisfied: ipywidgets>=7.5.1 in /srv/conda/envs/notebook/lib/python3.7/site-packages (from pandas-profiling==2.7.1) (7.6.3)\n",
      "Requirement already satisfied: missingno>=0.4.2 in /srv/conda/envs/notebook/lib/python3.7/site-packages (from pandas-profiling==2.7.1) (0.5.0)\n",
      "Requirement already satisfied: scipy>=1.4.1 in /srv/conda/envs/notebook/lib/python3.7/site-packages (from pandas-profiling==2.7.1) (1.7.0)\n",
      "Requirement already satisfied: confuse>=1.0.0 in /srv/conda/envs/notebook/lib/python3.7/site-packages (from pandas-profiling==2.7.1) (1.5.0)\n",
      "Requirement already satisfied: numpy>=1.16.0 in /srv/conda/envs/notebook/lib/python3.7/site-packages (from pandas-profiling==2.7.1) (1.21.1)\n",
      "Requirement already satisfied: pandas!=1.0.0,!=1.0.1,!=1.0.2,>=0.25.3 in /srv/conda/envs/notebook/lib/python3.7/site-packages (from pandas-profiling==2.7.1) (1.3.0)\n",
      "Requirement already satisfied: tangled-up-in-unicode>=0.0.4 in /srv/conda/envs/notebook/lib/python3.7/site-packages (from pandas-profiling==2.7.1) (0.1.0)\n",
      "Requirement already satisfied: tqdm>=4.43.0 in /srv/conda/envs/notebook/lib/python3.7/site-packages (from pandas-profiling==2.7.1) (4.61.2)\n",
      "Requirement already satisfied: requests>=2.23.0 in /srv/conda/envs/notebook/lib/python3.7/site-packages (from pandas-profiling==2.7.1) (2.25.1)\n",
      "Requirement already satisfied: networkx>=2.4 in /srv/conda/envs/notebook/lib/python3.7/site-packages (from visions[type_image_path]==0.4.1->pandas-profiling==2.7.1) (2.5.1)\n",
      "Requirement already satisfied: attrs>=19.3.0 in /srv/conda/envs/notebook/lib/python3.7/site-packages (from visions[type_image_path]==0.4.1->pandas-profiling==2.7.1) (20.3.0)\n",
      "Requirement already satisfied: Pillow in /srv/conda/envs/notebook/lib/python3.7/site-packages (from visions[type_image_path]==0.4.1->pandas-profiling==2.7.1) (8.3.1)\n",
      "Requirement already satisfied: imagehash in /srv/conda/envs/notebook/lib/python3.7/site-packages (from visions[type_image_path]==0.4.1->pandas-profiling==2.7.1) (4.2.1)\n",
      "Requirement already satisfied: pyerfa in /srv/conda/envs/notebook/lib/python3.7/site-packages (from astropy>=4.0->pandas-profiling==2.7.1) (2.0.0)\n",
      "Requirement already satisfied: pyyaml in /srv/conda/envs/notebook/lib/python3.7/site-packages (from confuse>=1.0.0->pandas-profiling==2.7.1) (5.4.1)\n",
      "Requirement already satisfied: widgetsnbextension~=3.5.0 in /srv/conda/envs/notebook/lib/python3.7/site-packages (from ipywidgets>=7.5.1->pandas-profiling==2.7.1) (3.5.1)\n",
      "Requirement already satisfied: jupyterlab-widgets>=1.0.0 in /srv/conda/envs/notebook/lib/python3.7/site-packages (from ipywidgets>=7.5.1->pandas-profiling==2.7.1) (1.0.0)\n",
      "Requirement already satisfied: nbformat>=4.2.0 in /srv/conda/envs/notebook/lib/python3.7/site-packages (from ipywidgets>=7.5.1->pandas-profiling==2.7.1) (5.1.2)\n",
      "Requirement already satisfied: ipython>=4.0.0 in /srv/conda/envs/notebook/lib/python3.7/site-packages (from ipywidgets>=7.5.1->pandas-profiling==2.7.1) (7.21.0)\n",
      "Requirement already satisfied: ipykernel>=4.5.1 in /srv/conda/envs/notebook/lib/python3.7/site-packages (from ipywidgets>=7.5.1->pandas-profiling==2.7.1) (5.5.0)\n",
      "Requirement already satisfied: traitlets>=4.3.1 in /srv/conda/envs/notebook/lib/python3.7/site-packages (from ipywidgets>=7.5.1->pandas-profiling==2.7.1) (5.0.5)\n",
      "Requirement already satisfied: tornado>=4.2 in /srv/conda/envs/notebook/lib/python3.7/site-packages (from ipykernel>=4.5.1->ipywidgets>=7.5.1->pandas-profiling==2.7.1) (6.1)\n",
      "Requirement already satisfied: jupyter-client in /srv/conda/envs/notebook/lib/python3.7/site-packages (from ipykernel>=4.5.1->ipywidgets>=7.5.1->pandas-profiling==2.7.1) (6.1.11)\n",
      "Requirement already satisfied: setuptools>=18.5 in /srv/conda/envs/notebook/lib/python3.7/site-packages (from ipython>=4.0.0->ipywidgets>=7.5.1->pandas-profiling==2.7.1) (49.6.0.post20210108)\n",
      "Requirement already satisfied: decorator in /srv/conda/envs/notebook/lib/python3.7/site-packages (from ipython>=4.0.0->ipywidgets>=7.5.1->pandas-profiling==2.7.1) (4.4.2)\n",
      "Requirement already satisfied: pygments in /srv/conda/envs/notebook/lib/python3.7/site-packages (from ipython>=4.0.0->ipywidgets>=7.5.1->pandas-profiling==2.7.1) (2.8.0)\n",
      "Requirement already satisfied: pexpect>4.3 in /srv/conda/envs/notebook/lib/python3.7/site-packages (from ipython>=4.0.0->ipywidgets>=7.5.1->pandas-profiling==2.7.1) (4.8.0)\n",
      "Requirement already satisfied: pickleshare in /srv/conda/envs/notebook/lib/python3.7/site-packages (from ipython>=4.0.0->ipywidgets>=7.5.1->pandas-profiling==2.7.1) (0.7.5)\n",
      "Requirement already satisfied: backcall in /srv/conda/envs/notebook/lib/python3.7/site-packages (from ipython>=4.0.0->ipywidgets>=7.5.1->pandas-profiling==2.7.1) (0.2.0)\n",
      "Requirement already satisfied: prompt-toolkit!=3.0.0,!=3.0.1,<3.1.0,>=2.0.0 in /srv/conda/envs/notebook/lib/python3.7/site-packages (from ipython>=4.0.0->ipywidgets>=7.5.1->pandas-profiling==2.7.1) (3.0.16)\n",
      "Requirement already satisfied: jedi>=0.16 in /srv/conda/envs/notebook/lib/python3.7/site-packages (from ipython>=4.0.0->ipywidgets>=7.5.1->pandas-profiling==2.7.1) (0.18.0)\n",
      "Requirement already satisfied: parso<0.9.0,>=0.8.0 in /srv/conda/envs/notebook/lib/python3.7/site-packages (from jedi>=0.16->ipython>=4.0.0->ipywidgets>=7.5.1->pandas-profiling==2.7.1) (0.8.1)\n",
      "Requirement already satisfied: MarkupSafe>=0.23 in /srv/conda/envs/notebook/lib/python3.7/site-packages (from jinja2>=2.11.1->pandas-profiling==2.7.1) (1.1.1)\n",
      "Requirement already satisfied: pyparsing>=2.2.1 in /srv/conda/envs/notebook/lib/python3.7/site-packages (from matplotlib>=3.2.0->pandas-profiling==2.7.1) (2.4.7)\n",
      "Requirement already satisfied: python-dateutil>=2.7 in /srv/conda/envs/notebook/lib/python3.7/site-packages (from matplotlib>=3.2.0->pandas-profiling==2.7.1) (2.8.1)\n",
      "Requirement already satisfied: kiwisolver>=1.0.1 in /srv/conda/envs/notebook/lib/python3.7/site-packages (from matplotlib>=3.2.0->pandas-profiling==2.7.1) (1.3.1)\n",
      "Requirement already satisfied: cycler>=0.10 in /srv/conda/envs/notebook/lib/python3.7/site-packages (from matplotlib>=3.2.0->pandas-profiling==2.7.1) (0.10.0)\n",
      "Requirement already satisfied: six in /srv/conda/envs/notebook/lib/python3.7/site-packages (from cycler>=0.10->matplotlib>=3.2.0->pandas-profiling==2.7.1) (1.15.0)\n",
      "Requirement already satisfied: seaborn in /srv/conda/envs/notebook/lib/python3.7/site-packages (from missingno>=0.4.2->pandas-profiling==2.7.1) (0.11.1)\n",
      "Requirement already satisfied: ipython-genutils in /srv/conda/envs/notebook/lib/python3.7/site-packages (from nbformat>=4.2.0->ipywidgets>=7.5.1->pandas-profiling==2.7.1) (0.2.0)\n",
      "Requirement already satisfied: jupyter-core in /srv/conda/envs/notebook/lib/python3.7/site-packages (from nbformat>=4.2.0->ipywidgets>=7.5.1->pandas-profiling==2.7.1) (4.7.1)\n",
      "Requirement already satisfied: jsonschema!=2.5.0,>=2.4 in /srv/conda/envs/notebook/lib/python3.7/site-packages (from nbformat>=4.2.0->ipywidgets>=7.5.1->pandas-profiling==2.7.1) (3.2.0)\n",
      "Requirement already satisfied: pyrsistent>=0.14.0 in /srv/conda/envs/notebook/lib/python3.7/site-packages (from jsonschema!=2.5.0,>=2.4->nbformat>=4.2.0->ipywidgets>=7.5.1->pandas-profiling==2.7.1) (0.17.3)\n",
      "Requirement already satisfied: importlib-metadata in /srv/conda/envs/notebook/lib/python3.7/site-packages (from jsonschema!=2.5.0,>=2.4->nbformat>=4.2.0->ipywidgets>=7.5.1->pandas-profiling==2.7.1) (3.7.0)\n"
     ]
    },
    {
     "name": "stdout",
     "output_type": "stream",
     "text": [
      "Requirement already satisfied: pytz>=2017.3 in /srv/conda/envs/notebook/lib/python3.7/site-packages (from pandas!=1.0.0,!=1.0.1,!=1.0.2,>=0.25.3->pandas-profiling==2.7.1) (2021.1)\n",
      "Requirement already satisfied: ptyprocess>=0.5 in /srv/conda/envs/notebook/lib/python3.7/site-packages (from pexpect>4.3->ipython>=4.0.0->ipywidgets>=7.5.1->pandas-profiling==2.7.1) (0.7.0)\n",
      "Requirement already satisfied: wcwidth in /srv/conda/envs/notebook/lib/python3.7/site-packages (from prompt-toolkit!=3.0.0,!=3.0.1,<3.1.0,>=2.0.0->ipython>=4.0.0->ipywidgets>=7.5.1->pandas-profiling==2.7.1) (0.2.5)\n",
      "Requirement already satisfied: certifi>=2017.4.17 in /srv/conda/envs/notebook/lib/python3.7/site-packages (from requests>=2.23.0->pandas-profiling==2.7.1) (2020.12.5)\n",
      "Requirement already satisfied: idna<3,>=2.5 in /srv/conda/envs/notebook/lib/python3.7/site-packages (from requests>=2.23.0->pandas-profiling==2.7.1) (2.10)\n",
      "Requirement already satisfied: urllib3<1.27,>=1.21.1 in /srv/conda/envs/notebook/lib/python3.7/site-packages (from requests>=2.23.0->pandas-profiling==2.7.1) (1.26.3)\n",
      "Requirement already satisfied: chardet<5,>=3.0.2 in /srv/conda/envs/notebook/lib/python3.7/site-packages (from requests>=2.23.0->pandas-profiling==2.7.1) (4.0.0)\n",
      "Requirement already satisfied: notebook>=4.4.1 in /srv/conda/envs/notebook/lib/python3.7/site-packages (from widgetsnbextension~=3.5.0->ipywidgets>=7.5.1->pandas-profiling==2.7.1) (6.2.0)\n",
      "Requirement already satisfied: argon2-cffi in /srv/conda/envs/notebook/lib/python3.7/site-packages (from notebook>=4.4.1->widgetsnbextension~=3.5.0->ipywidgets>=7.5.1->pandas-profiling==2.7.1) (20.1.0)\n",
      "Requirement already satisfied: terminado>=0.8.3 in /srv/conda/envs/notebook/lib/python3.7/site-packages (from notebook>=4.4.1->widgetsnbextension~=3.5.0->ipywidgets>=7.5.1->pandas-profiling==2.7.1) (0.9.2)\n",
      "Requirement already satisfied: nbconvert in /srv/conda/envs/notebook/lib/python3.7/site-packages (from notebook>=4.4.1->widgetsnbextension~=3.5.0->ipywidgets>=7.5.1->pandas-profiling==2.7.1) (6.0.7)\n",
      "Requirement already satisfied: prometheus-client in /srv/conda/envs/notebook/lib/python3.7/site-packages (from notebook>=4.4.1->widgetsnbextension~=3.5.0->ipywidgets>=7.5.1->pandas-profiling==2.7.1) (0.9.0)\n",
      "Requirement already satisfied: Send2Trash>=1.5.0 in /srv/conda/envs/notebook/lib/python3.7/site-packages (from notebook>=4.4.1->widgetsnbextension~=3.5.0->ipywidgets>=7.5.1->pandas-profiling==2.7.1) (1.5.0)\n",
      "Requirement already satisfied: pyzmq>=17 in /srv/conda/envs/notebook/lib/python3.7/site-packages (from notebook>=4.4.1->widgetsnbextension~=3.5.0->ipywidgets>=7.5.1->pandas-profiling==2.7.1) (22.0.3)\n",
      "Requirement already satisfied: cffi>=1.0.0 in /srv/conda/envs/notebook/lib/python3.7/site-packages (from argon2-cffi->notebook>=4.4.1->widgetsnbextension~=3.5.0->ipywidgets>=7.5.1->pandas-profiling==2.7.1) (1.14.5)\n",
      "Requirement already satisfied: pycparser in /srv/conda/envs/notebook/lib/python3.7/site-packages (from cffi>=1.0.0->argon2-cffi->notebook>=4.4.1->widgetsnbextension~=3.5.0->ipywidgets>=7.5.1->pandas-profiling==2.7.1) (2.20)\n",
      "Requirement already satisfied: PyWavelets in /srv/conda/envs/notebook/lib/python3.7/site-packages (from imagehash->visions[type_image_path]==0.4.1->pandas-profiling==2.7.1) (1.1.1)\n",
      "Requirement already satisfied: typing-extensions>=3.6.4 in /srv/conda/envs/notebook/lib/python3.7/site-packages (from importlib-metadata->jsonschema!=2.5.0,>=2.4->nbformat>=4.2.0->ipywidgets>=7.5.1->pandas-profiling==2.7.1) (3.7.4.3)\n",
      "Requirement already satisfied: zipp>=0.5 in /srv/conda/envs/notebook/lib/python3.7/site-packages (from importlib-metadata->jsonschema!=2.5.0,>=2.4->nbformat>=4.2.0->ipywidgets>=7.5.1->pandas-profiling==2.7.1) (3.4.0)\n",
      "Requirement already satisfied: mistune<2,>=0.8.1 in /srv/conda/envs/notebook/lib/python3.7/site-packages (from nbconvert->notebook>=4.4.1->widgetsnbextension~=3.5.0->ipywidgets>=7.5.1->pandas-profiling==2.7.1) (0.8.4)\n",
      "Requirement already satisfied: jupyterlab-pygments in /srv/conda/envs/notebook/lib/python3.7/site-packages (from nbconvert->notebook>=4.4.1->widgetsnbextension~=3.5.0->ipywidgets>=7.5.1->pandas-profiling==2.7.1) (0.1.2)\n",
      "Requirement already satisfied: entrypoints>=0.2.2 in /srv/conda/envs/notebook/lib/python3.7/site-packages (from nbconvert->notebook>=4.4.1->widgetsnbextension~=3.5.0->ipywidgets>=7.5.1->pandas-profiling==2.7.1) (0.3)\n",
      "Requirement already satisfied: bleach in /srv/conda/envs/notebook/lib/python3.7/site-packages (from nbconvert->notebook>=4.4.1->widgetsnbextension~=3.5.0->ipywidgets>=7.5.1->pandas-profiling==2.7.1) (3.3.0)\n",
      "Requirement already satisfied: testpath in /srv/conda/envs/notebook/lib/python3.7/site-packages (from nbconvert->notebook>=4.4.1->widgetsnbextension~=3.5.0->ipywidgets>=7.5.1->pandas-profiling==2.7.1) (0.4.4)\n",
      "Requirement already satisfied: defusedxml in /srv/conda/envs/notebook/lib/python3.7/site-packages (from nbconvert->notebook>=4.4.1->widgetsnbextension~=3.5.0->ipywidgets>=7.5.1->pandas-profiling==2.7.1) (0.6.0)\n",
      "Requirement already satisfied: nbclient<0.6.0,>=0.5.0 in /srv/conda/envs/notebook/lib/python3.7/site-packages (from nbconvert->notebook>=4.4.1->widgetsnbextension~=3.5.0->ipywidgets>=7.5.1->pandas-profiling==2.7.1) (0.5.3)\n",
      "Requirement already satisfied: pandocfilters>=1.4.1 in /srv/conda/envs/notebook/lib/python3.7/site-packages (from nbconvert->notebook>=4.4.1->widgetsnbextension~=3.5.0->ipywidgets>=7.5.1->pandas-profiling==2.7.1) (1.4.2)\n",
      "Requirement already satisfied: async-generator in /srv/conda/envs/notebook/lib/python3.7/site-packages (from nbclient<0.6.0,>=0.5.0->nbconvert->notebook>=4.4.1->widgetsnbextension~=3.5.0->ipywidgets>=7.5.1->pandas-profiling==2.7.1) (1.10)\n",
      "Requirement already satisfied: nest-asyncio in /srv/conda/envs/notebook/lib/python3.7/site-packages (from nbclient<0.6.0,>=0.5.0->nbconvert->notebook>=4.4.1->widgetsnbextension~=3.5.0->ipywidgets>=7.5.1->pandas-profiling==2.7.1) (1.4.3)\n",
      "Requirement already satisfied: packaging in /srv/conda/envs/notebook/lib/python3.7/site-packages (from bleach->nbconvert->notebook>=4.4.1->widgetsnbextension~=3.5.0->ipywidgets>=7.5.1->pandas-profiling==2.7.1) (20.9)\n",
      "Requirement already satisfied: webencodings in /srv/conda/envs/notebook/lib/python3.7/site-packages (from bleach->nbconvert->notebook>=4.4.1->widgetsnbextension~=3.5.0->ipywidgets>=7.5.1->pandas-profiling==2.7.1) (0.5.1)\n",
      "Requirement already satisfied: seaborn in /srv/conda/envs/notebook/lib/python3.7/site-packages (0.11.1)\n",
      "Requirement already satisfied: pandas>=0.23 in /srv/conda/envs/notebook/lib/python3.7/site-packages (from seaborn) (1.3.0)\n",
      "Requirement already satisfied: numpy>=1.15 in /srv/conda/envs/notebook/lib/python3.7/site-packages (from seaborn) (1.21.1)\n",
      "Requirement already satisfied: matplotlib>=2.2 in /srv/conda/envs/notebook/lib/python3.7/site-packages (from seaborn) (3.4.2)\n",
      "Requirement already satisfied: scipy>=1.0 in /srv/conda/envs/notebook/lib/python3.7/site-packages (from seaborn) (1.7.0)\n",
      "Requirement already satisfied: cycler>=0.10 in /srv/conda/envs/notebook/lib/python3.7/site-packages (from matplotlib>=2.2->seaborn) (0.10.0)\n",
      "Requirement already satisfied: kiwisolver>=1.0.1 in /srv/conda/envs/notebook/lib/python3.7/site-packages (from matplotlib>=2.2->seaborn) (1.3.1)\n",
      "Requirement already satisfied: python-dateutil>=2.7 in /srv/conda/envs/notebook/lib/python3.7/site-packages (from matplotlib>=2.2->seaborn) (2.8.1)\n",
      "Requirement already satisfied: pyparsing>=2.2.1 in /srv/conda/envs/notebook/lib/python3.7/site-packages (from matplotlib>=2.2->seaborn) (2.4.7)\n",
      "Requirement already satisfied: pillow>=6.2.0 in /srv/conda/envs/notebook/lib/python3.7/site-packages (from matplotlib>=2.2->seaborn) (8.3.1)\n",
      "Requirement already satisfied: six in /srv/conda/envs/notebook/lib/python3.7/site-packages (from cycler>=0.10->matplotlib>=2.2->seaborn) (1.15.0)\n",
      "Requirement already satisfied: pytz>=2017.3 in /srv/conda/envs/notebook/lib/python3.7/site-packages (from pandas>=0.23->seaborn) (2021.1)\n"
     ]
    }
   ],
   "source": [
    "!pip install pandas\n",
    "!pip install numpy\n",
    "!pip install pandas-profiling==2.7.1\n",
    "import pandas as pd\n",
    "import numpy as np  \n",
    "import matplotlib.pyplot as plt\n",
    "import os\n",
    "\n",
    "!pip install seaborn\n",
    "import seaborn as sns\n",
    "\n",
    "from pandas.api.types import CategoricalDtype\n",
    "Train_label = pd.read_csv('Training set labels.csv')\n",
    "Train_value = pd.read_csv('Training set values.csv')\n",
    "Test_value = pd.read_csv('Test set values.csv')\n",
    "Train = pd.merge(Train_value,Train_label, how='inner',left_on='id',right_on='id', left_index=False)"
   ]
  },
  {
   "cell_type": "code",
   "execution_count": 20,
   "id": "danish-result",
   "metadata": {},
   "outputs": [],
   "source": [
    "# Function to set up # of category for features\n",
    "test_cat = 8\n",
    "def max_cat(col):\n",
    "    if len(Train[col].value_counts()) > (test_cat):\n",
    "        top_value = Train[col].value_counts()[:(test_cat)].index.tolist()\n",
    "        Train.loc[-Train[col].isin(top_value),col]='Others'\n",
    "                \n",
    "    return Train\n",
    "        "
   ]
  },
  {
   "cell_type": "code",
   "execution_count": 21,
   "id": "626cfa1b-2ba9-496a-adf2-d9262a73b1b9",
   "metadata": {},
   "outputs": [
    {
     "data": {
      "text/plain": [
       "(59400, 41)"
      ]
     },
     "execution_count": 21,
     "metadata": {},
     "output_type": "execute_result"
    }
   ],
   "source": [
    "Train.shape"
   ]
  },
  {
   "cell_type": "code",
   "execution_count": 22,
   "id": "first-solomon",
   "metadata": {},
   "outputs": [
    {
     "data": {
      "text/html": [
       "<div>\n",
       "<style scoped>\n",
       "    .dataframe tbody tr th:only-of-type {\n",
       "        vertical-align: middle;\n",
       "    }\n",
       "\n",
       "    .dataframe tbody tr th {\n",
       "        vertical-align: top;\n",
       "    }\n",
       "\n",
       "    .dataframe thead th {\n",
       "        text-align: right;\n",
       "    }\n",
       "</style>\n",
       "<table border=\"1\" class=\"dataframe\">\n",
       "  <thead>\n",
       "    <tr style=\"text-align: right;\">\n",
       "      <th></th>\n",
       "      <th>id</th>\n",
       "      <th>amount_tsh</th>\n",
       "      <th>date_recorded</th>\n",
       "      <th>funder</th>\n",
       "      <th>gps_height</th>\n",
       "      <th>installer</th>\n",
       "      <th>longitude</th>\n",
       "      <th>latitude</th>\n",
       "      <th>wpt_name</th>\n",
       "      <th>num_private</th>\n",
       "      <th>...</th>\n",
       "      <th>water_quality</th>\n",
       "      <th>quality_group</th>\n",
       "      <th>quantity</th>\n",
       "      <th>quantity_group</th>\n",
       "      <th>source</th>\n",
       "      <th>source_type</th>\n",
       "      <th>source_class</th>\n",
       "      <th>waterpoint_type</th>\n",
       "      <th>waterpoint_type_group</th>\n",
       "      <th>status_group</th>\n",
       "    </tr>\n",
       "  </thead>\n",
       "  <tbody>\n",
       "    <tr>\n",
       "      <th>0</th>\n",
       "      <td>69572</td>\n",
       "      <td>6000.0</td>\n",
       "      <td>2011-03-14</td>\n",
       "      <td>Roman</td>\n",
       "      <td>1390</td>\n",
       "      <td>Roman</td>\n",
       "      <td>34.938093</td>\n",
       "      <td>-9.856322</td>\n",
       "      <td>none</td>\n",
       "      <td>0</td>\n",
       "      <td>...</td>\n",
       "      <td>soft</td>\n",
       "      <td>good</td>\n",
       "      <td>enough</td>\n",
       "      <td>enough</td>\n",
       "      <td>spring</td>\n",
       "      <td>spring</td>\n",
       "      <td>groundwater</td>\n",
       "      <td>communal standpipe</td>\n",
       "      <td>communal standpipe</td>\n",
       "      <td>functional</td>\n",
       "    </tr>\n",
       "    <tr>\n",
       "      <th>1</th>\n",
       "      <td>8776</td>\n",
       "      <td>0.0</td>\n",
       "      <td>2013-03-06</td>\n",
       "      <td>Grumeti</td>\n",
       "      <td>1399</td>\n",
       "      <td>GRUMETI</td>\n",
       "      <td>34.698766</td>\n",
       "      <td>-2.147466</td>\n",
       "      <td>Zahanati</td>\n",
       "      <td>0</td>\n",
       "      <td>...</td>\n",
       "      <td>soft</td>\n",
       "      <td>good</td>\n",
       "      <td>insufficient</td>\n",
       "      <td>insufficient</td>\n",
       "      <td>rainwater harvesting</td>\n",
       "      <td>rainwater harvesting</td>\n",
       "      <td>surface</td>\n",
       "      <td>communal standpipe</td>\n",
       "      <td>communal standpipe</td>\n",
       "      <td>functional</td>\n",
       "    </tr>\n",
       "    <tr>\n",
       "      <th>2</th>\n",
       "      <td>34310</td>\n",
       "      <td>25.0</td>\n",
       "      <td>2013-02-25</td>\n",
       "      <td>Lottery Club</td>\n",
       "      <td>686</td>\n",
       "      <td>World vision</td>\n",
       "      <td>37.460664</td>\n",
       "      <td>-3.821329</td>\n",
       "      <td>Kwa Mahundi</td>\n",
       "      <td>0</td>\n",
       "      <td>...</td>\n",
       "      <td>soft</td>\n",
       "      <td>good</td>\n",
       "      <td>enough</td>\n",
       "      <td>enough</td>\n",
       "      <td>dam</td>\n",
       "      <td>dam</td>\n",
       "      <td>surface</td>\n",
       "      <td>communal standpipe multiple</td>\n",
       "      <td>communal standpipe</td>\n",
       "      <td>functional</td>\n",
       "    </tr>\n",
       "    <tr>\n",
       "      <th>3</th>\n",
       "      <td>67743</td>\n",
       "      <td>0.0</td>\n",
       "      <td>2013-01-28</td>\n",
       "      <td>Unicef</td>\n",
       "      <td>263</td>\n",
       "      <td>UNICEF</td>\n",
       "      <td>38.486161</td>\n",
       "      <td>-11.155298</td>\n",
       "      <td>Zahanati Ya Nanyumbu</td>\n",
       "      <td>0</td>\n",
       "      <td>...</td>\n",
       "      <td>soft</td>\n",
       "      <td>good</td>\n",
       "      <td>dry</td>\n",
       "      <td>dry</td>\n",
       "      <td>machine dbh</td>\n",
       "      <td>borehole</td>\n",
       "      <td>groundwater</td>\n",
       "      <td>communal standpipe multiple</td>\n",
       "      <td>communal standpipe</td>\n",
       "      <td>non functional</td>\n",
       "    </tr>\n",
       "    <tr>\n",
       "      <th>4</th>\n",
       "      <td>19728</td>\n",
       "      <td>0.0</td>\n",
       "      <td>2011-07-13</td>\n",
       "      <td>Action In A</td>\n",
       "      <td>0</td>\n",
       "      <td>Artisan</td>\n",
       "      <td>31.130847</td>\n",
       "      <td>-1.825359</td>\n",
       "      <td>Shuleni</td>\n",
       "      <td>0</td>\n",
       "      <td>...</td>\n",
       "      <td>soft</td>\n",
       "      <td>good</td>\n",
       "      <td>seasonal</td>\n",
       "      <td>seasonal</td>\n",
       "      <td>rainwater harvesting</td>\n",
       "      <td>rainwater harvesting</td>\n",
       "      <td>surface</td>\n",
       "      <td>communal standpipe</td>\n",
       "      <td>communal standpipe</td>\n",
       "      <td>functional</td>\n",
       "    </tr>\n",
       "  </tbody>\n",
       "</table>\n",
       "<p>5 rows × 41 columns</p>\n",
       "</div>"
      ],
      "text/plain": [
       "      id  amount_tsh date_recorded        funder  gps_height     installer  \\\n",
       "0  69572      6000.0    2011-03-14         Roman        1390         Roman   \n",
       "1   8776         0.0    2013-03-06       Grumeti        1399       GRUMETI   \n",
       "2  34310        25.0    2013-02-25  Lottery Club         686  World vision   \n",
       "3  67743         0.0    2013-01-28        Unicef         263        UNICEF   \n",
       "4  19728         0.0    2011-07-13   Action In A           0       Artisan   \n",
       "\n",
       "   longitude   latitude              wpt_name  num_private  ... water_quality  \\\n",
       "0  34.938093  -9.856322                  none            0  ...          soft   \n",
       "1  34.698766  -2.147466              Zahanati            0  ...          soft   \n",
       "2  37.460664  -3.821329           Kwa Mahundi            0  ...          soft   \n",
       "3  38.486161 -11.155298  Zahanati Ya Nanyumbu            0  ...          soft   \n",
       "4  31.130847  -1.825359               Shuleni            0  ...          soft   \n",
       "\n",
       "  quality_group      quantity  quantity_group                source  \\\n",
       "0          good        enough          enough                spring   \n",
       "1          good  insufficient    insufficient  rainwater harvesting   \n",
       "2          good        enough          enough                   dam   \n",
       "3          good           dry             dry           machine dbh   \n",
       "4          good      seasonal        seasonal  rainwater harvesting   \n",
       "\n",
       "            source_type source_class              waterpoint_type  \\\n",
       "0                spring  groundwater           communal standpipe   \n",
       "1  rainwater harvesting      surface           communal standpipe   \n",
       "2                   dam      surface  communal standpipe multiple   \n",
       "3              borehole  groundwater  communal standpipe multiple   \n",
       "4  rainwater harvesting      surface           communal standpipe   \n",
       "\n",
       "  waterpoint_type_group    status_group  \n",
       "0    communal standpipe      functional  \n",
       "1    communal standpipe      functional  \n",
       "2    communal standpipe      functional  \n",
       "3    communal standpipe  non functional  \n",
       "4    communal standpipe      functional  \n",
       "\n",
       "[5 rows x 41 columns]"
      ]
     },
     "execution_count": 22,
     "metadata": {},
     "output_type": "execute_result"
    }
   ],
   "source": [
    "Train.head()"
   ]
  },
  {
   "cell_type": "code",
   "execution_count": 2,
   "id": "fossil-pastor",
   "metadata": {},
   "outputs": [
    {
     "data": {
      "text/plain": [
       "id                           0\n",
       "amount_tsh                   0\n",
       "date_recorded                0\n",
       "funder                    3635\n",
       "gps_height                   0\n",
       "installer                 3655\n",
       "longitude                    0\n",
       "latitude                     0\n",
       "wpt_name                     0\n",
       "num_private                  0\n",
       "basin                        0\n",
       "subvillage                 371\n",
       "region                       0\n",
       "region_code                  0\n",
       "district_code                0\n",
       "lga                          0\n",
       "ward                         0\n",
       "population                   0\n",
       "public_meeting            3334\n",
       "recorded_by                  0\n",
       "scheme_management         3877\n",
       "scheme_name              28166\n",
       "permit                    3056\n",
       "construction_year            0\n",
       "extraction_type              0\n",
       "extraction_type_group        0\n",
       "extraction_type_class        0\n",
       "management                   0\n",
       "management_group             0\n",
       "payment                      0\n",
       "payment_type                 0\n",
       "water_quality                0\n",
       "quality_group                0\n",
       "quantity                     0\n",
       "quantity_group               0\n",
       "source                       0\n",
       "source_type                  0\n",
       "source_class                 0\n",
       "waterpoint_type              0\n",
       "waterpoint_type_group        0\n",
       "status_group                 0\n",
       "dtype: int64"
      ]
     },
     "execution_count": 2,
     "metadata": {},
     "output_type": "execute_result"
    }
   ],
   "source": [
    "Train.isnull().sum()"
   ]
  },
  {
   "cell_type": "code",
   "execution_count": 24,
   "id": "preliminary-acoustic",
   "metadata": {},
   "outputs": [
    {
     "data": {
      "text/plain": [
       "0"
      ]
     },
     "execution_count": 24,
     "metadata": {},
     "output_type": "execute_result"
    }
   ],
   "source": [
    "# Check for Duplicate values\n",
    "Train.duplicated().sum()"
   ]
  },
  {
   "cell_type": "code",
   "execution_count": 25,
   "id": "interracial-smith",
   "metadata": {},
   "outputs": [
    {
     "data": {
      "image/png": "[encoded data removed]",
      "text/plain": [
       "<Figure size 1008x504 with 1 Axes>"
      ]
     },
     "metadata": {},
     "output_type": "display_data"
    }
   ],
   "source": [
    "axs = plt.subplots(figsize=(14,7))\n",
    "Train['status_group'].value_counts().plot(x=None,y=None, kind='pie', ax=axs[1],autopct='%1.2f%%')\n",
    "axs[1].set_title('status_group')\n",
    "plt.show()"
   ]
  },
  {
   "cell_type": "code",
   "execution_count": 56,
   "id": "exceptional-vienna",
   "metadata": {},
   "outputs": [
    {
     "data": {
      "image/png": "[encoded data removed]",
      "text/plain": [
       "<Figure size 864x864 with 9 Axes>"
      ]
     },
     "metadata": {
      "needs_background": "light"
     },
     "output_type": "display_data"
    }
   ],
   "source": [
    "#Check the histogram for numeric features\n",
    "Train.iloc[:,1:].hist(figsize=(12,12))\n",
    "plt.show()"
   ]
  },
  {
   "cell_type": "markdown",
   "id": "overhead-truck",
   "metadata": {},
   "source": [
    "###  Clean All Numeric Features\n",
    "In statistics, skewness is a measure of the asymmetry of the probability distribution of a random variable about its mean. In other words, skewness tells you the amount and direction of skew (departure from horizontal symmetry). The skewness value can be positive or negative, or even undefined. If skewness is 0, the data are perfectly symmetrical, although it is quite unlikely for real-world data. As a general rule of thumb:\n",
    "\n",
    "If skewness is less than -1 or greater than 1, the distribution is highly skewed.\n",
    "If skewness is between -1 and -0.5 or between 0.5 and 1, the distribution is moderately skewed.\n",
    "If skewness is between -0.5 and 0.5, the distribution is approximately symmetric."
   ]
  },
  {
   "cell_type": "markdown",
   "id": "governing-developer",
   "metadata": {},
   "source": [
    "#### Cleanning - amount_tsh\n",
    "- Outlier"
   ]
  },
  {
   "cell_type": "code",
   "execution_count": 27,
   "id": "bottom-husband",
   "metadata": {},
   "outputs": [
    {
     "name": "stderr",
     "output_type": "stream",
     "text": [
      "/srv/conda/envs/notebook/lib/python3.7/site-packages/seaborn/_decorators.py:43: FutureWarning: Pass the following variable as a keyword arg: x. From version 0.12, the only valid positional argument will be `data`, and passing other arguments without an explicit keyword will result in an error or misinterpretation.\n",
      "  FutureWarning\n"
     ]
    },
    {
     "data": {
      "text/plain": [
       "count     59400.000000\n",
       "mean        317.650385\n",
       "std        2997.574558\n",
       "min           0.000000\n",
       "25%           0.000000\n",
       "50%           0.000000\n",
       "75%          20.000000\n",
       "max      350000.000000\n",
       "Name: amount_tsh, dtype: float64"
      ]
     },
     "execution_count": 27,
     "metadata": {},
     "output_type": "execute_result"
    },
    {
     "data": {
      "image/png": "[encoded data removed]",
      "text/plain": [
       "<Figure size 432x288 with 1 Axes>"
      ]
     },
     "metadata": {
      "needs_background": "light"
     },
     "output_type": "display_data"
    }
   ],
   "source": [
    "sns.boxplot(Train['amount_tsh'])\n",
    "Train['amount_tsh'].describe()"
   ]
  },
  {
   "cell_type": "code",
   "execution_count": 3,
   "id": "nasty-airline",
   "metadata": {},
   "outputs": [
    {
     "name": "stderr",
     "output_type": "stream",
     "text": [
      "/srv/conda/envs/notebook/lib/python3.7/site-packages/seaborn/_decorators.py:43: FutureWarning: Pass the following variable as a keyword arg: x. From version 0.12, the only valid positional argument will be `data`, and passing other arguments without an explicit keyword will result in an error or misinterpretation.\n",
      "  FutureWarning\n"
     ]
    },
    {
     "data": {
      "text/plain": [
       "count    59400.000000\n",
       "mean        12.748566\n",
       "std         20.976109\n",
       "min          0.000000\n",
       "25%          0.000000\n",
       "50%          0.000000\n",
       "75%         20.000000\n",
       "max         50.000000\n",
       "Name: amount_tsh, dtype: float64"
      ]
     },
     "execution_count": 3,
     "metadata": {},
     "output_type": "execute_result"
    },
    {
     "data": {
      "image/png": "[encoded data removed]",
      "text/plain": [
       "<Figure size 432x288 with 1 Axes>"
      ]
     },
     "metadata": {
      "needs_background": "light"
     },
     "output_type": "display_data"
    }
   ],
   "source": [
    "# Inter-Quartile Range (IQR) proximity rule\n",
    "percentile25 = Train['amount_tsh'].quantile(0.25)\n",
    "percentile75 = Train['amount_tsh'].quantile(0.75)\n",
    "iqr = percentile75 - percentile25\n",
    "upper_limit = percentile75 + 1.5 * iqr\n",
    "lower_limit = percentile25 - 1.5 * iqr\n",
    "\n",
    "# apply the Capping on Outliers\n",
    "Train['amount_tsh'] = np.where(Train['amount_tsh']>upper_limit,upper_limit,\n",
    "                      np.where(Train['amount_tsh']<lower_limit,lower_limit,Train['amount_tsh']))\n",
    "\n",
    "sns.boxplot(Train['amount_tsh'])\n",
    "\n",
    "Train['amount_tsh'].describe()"
   ]
  },
  {
   "cell_type": "code",
   "execution_count": 29,
   "id": "toxic-bruce",
   "metadata": {},
   "outputs": [
    {
     "name": "stdout",
     "output_type": "stream",
     "text": [
      "1.1394323559369202\n"
     ]
    }
   ],
   "source": [
    "print(Train['amount_tsh'].skew()) #skewness"
   ]
  },
  {
   "cell_type": "markdown",
   "id": "expected-gentleman",
   "metadata": {},
   "source": [
    "#### Cleanning - 'gps_height'\n",
    "After checking, nothing to be dealed with"
   ]
  },
  {
   "cell_type": "code",
   "execution_count": 30,
   "id": "little-intervention",
   "metadata": {},
   "outputs": [
    {
     "name": "stderr",
     "output_type": "stream",
     "text": [
      "/srv/conda/envs/notebook/lib/python3.7/site-packages/seaborn/_decorators.py:43: FutureWarning: Pass the following variable as a keyword arg: x. From version 0.12, the only valid positional argument will be `data`, and passing other arguments without an explicit keyword will result in an error or misinterpretation.\n",
      "  FutureWarning\n"
     ]
    },
    {
     "data": {
      "text/plain": [
       "count    59400.000000\n",
       "mean       668.297239\n",
       "std        693.116350\n",
       "min        -90.000000\n",
       "25%          0.000000\n",
       "50%        369.000000\n",
       "75%       1319.250000\n",
       "max       2770.000000\n",
       "Name: gps_height, dtype: float64"
      ]
     },
     "execution_count": 30,
     "metadata": {},
     "output_type": "execute_result"
    },
    {
     "data": {
      "image/png": "[encoded data removed]",
      "text/plain": [
       "<Figure size 432x288 with 1 Axes>"
      ]
     },
     "metadata": {
      "needs_background": "light"
     },
     "output_type": "display_data"
    }
   ],
   "source": [
    "sns.boxplot(Train['gps_height'])\n",
    "Train['gps_height'].describe()"
   ]
  },
  {
   "cell_type": "code",
   "execution_count": 31,
   "id": "relative-disease",
   "metadata": {},
   "outputs": [
    {
     "name": "stdout",
     "output_type": "stream",
     "text": [
      "0.4624020849809572\n"
     ]
    }
   ],
   "source": [
    "print(Train['gps_height'].skew()) #skewness"
   ]
  },
  {
   "cell_type": "markdown",
   "id": "reported-catch",
   "metadata": {},
   "source": [
    "#### Cleanning - longitude | latitude\n",
    "Reference: https://worldpopulationreview.com/country-locations/where-is-tanzania    \n",
    "latitude :  00°59' - 11°45′ -> should be negative due South Lat  -> -0.59  ~ - 11.45\n",
    "longitude:  29°10' -  40°29′ East"
   ]
  },
  {
   "cell_type": "code",
   "execution_count": 32,
   "id": "leading-insured",
   "metadata": {},
   "outputs": [
    {
     "data": {
      "text/html": [
       "<div>\n",
       "<style scoped>\n",
       "    .dataframe tbody tr th:only-of-type {\n",
       "        vertical-align: middle;\n",
       "    }\n",
       "\n",
       "    .dataframe tbody tr th {\n",
       "        vertical-align: top;\n",
       "    }\n",
       "\n",
       "    .dataframe thead th {\n",
       "        text-align: right;\n",
       "    }\n",
       "</style>\n",
       "<table border=\"1\" class=\"dataframe\">\n",
       "  <thead>\n",
       "    <tr style=\"text-align: right;\">\n",
       "      <th></th>\n",
       "      <th>longitude</th>\n",
       "      <th>latitude</th>\n",
       "    </tr>\n",
       "  </thead>\n",
       "  <tbody>\n",
       "    <tr>\n",
       "      <th>count</th>\n",
       "      <td>59400.000000</td>\n",
       "      <td>5.940000e+04</td>\n",
       "    </tr>\n",
       "    <tr>\n",
       "      <th>mean</th>\n",
       "      <td>34.077427</td>\n",
       "      <td>-5.706033e+00</td>\n",
       "    </tr>\n",
       "    <tr>\n",
       "      <th>std</th>\n",
       "      <td>6.567432</td>\n",
       "      <td>2.946019e+00</td>\n",
       "    </tr>\n",
       "    <tr>\n",
       "      <th>min</th>\n",
       "      <td>0.000000</td>\n",
       "      <td>-1.164944e+01</td>\n",
       "    </tr>\n",
       "    <tr>\n",
       "      <th>25%</th>\n",
       "      <td>33.090347</td>\n",
       "      <td>-8.540621e+00</td>\n",
       "    </tr>\n",
       "    <tr>\n",
       "      <th>50%</th>\n",
       "      <td>34.908743</td>\n",
       "      <td>-5.021597e+00</td>\n",
       "    </tr>\n",
       "    <tr>\n",
       "      <th>75%</th>\n",
       "      <td>37.178387</td>\n",
       "      <td>-3.326156e+00</td>\n",
       "    </tr>\n",
       "    <tr>\n",
       "      <th>max</th>\n",
       "      <td>40.345193</td>\n",
       "      <td>-2.000000e-08</td>\n",
       "    </tr>\n",
       "  </tbody>\n",
       "</table>\n",
       "</div>"
      ],
      "text/plain": [
       "          longitude      latitude\n",
       "count  59400.000000  5.940000e+04\n",
       "mean      34.077427 -5.706033e+00\n",
       "std        6.567432  2.946019e+00\n",
       "min        0.000000 -1.164944e+01\n",
       "25%       33.090347 -8.540621e+00\n",
       "50%       34.908743 -5.021597e+00\n",
       "75%       37.178387 -3.326156e+00\n",
       "max       40.345193 -2.000000e-08"
      ]
     },
     "execution_count": 32,
     "metadata": {},
     "output_type": "execute_result"
    }
   ],
   "source": [
    "Train[['longitude','latitude']].describe()"
   ]
  },
  {
   "cell_type": "code",
   "execution_count": 4,
   "id": "ongoing-institute",
   "metadata": {},
   "outputs": [],
   "source": [
    "long_lat_error =Train[((Train['longitude'] < 29.10)  | (Train['longitude'] > 40.29)) | ((Train['latitude'] < -11.45)  | (Train['latitude'] > -0.59))] \n"
   ]
  },
  {
   "cell_type": "code",
   "execution_count": 5,
   "id": "noticed-institute",
   "metadata": {},
   "outputs": [],
   "source": [
    "# Correct long_lat_error using mean of corrected  long & lat\n",
    "long_mean = Train[(Train['longitude'] >= 29.10)  | (Train['longitude'] <= 40.29)]['longitude'].mean()\n",
    "lat_mean = Train[(Train['latitude'] >= -11.45)  | (Train['latitude'] <= -0.59)]['latitude'].mean()\n",
    "#long_mean: 34.077426692028794\n",
    "#lat_mean: -5.706032659626431\n",
    "                  "
   ]
  },
  {
   "cell_type": "code",
   "execution_count": 6,
   "id": "supposed-kitty",
   "metadata": {},
   "outputs": [],
   "source": [
    "Train['longitude'] = np.where(((Train.longitude <29.10 ) | (Train.longitude > 40.29)),long_mean,Train.longitude)\n",
    "Train['latitude'] = np.where(((Train.latitude < -11.45) | (Train.latitude > -0.59)),lat_mean,Train.latitude)"
   ]
  },
  {
   "cell_type": "code",
   "execution_count": 7,
   "id": "built-humanitarian",
   "metadata": {},
   "outputs": [
    {
     "data": {
      "text/html": [
       "<div>\n",
       "<style scoped>\n",
       "    .dataframe tbody tr th:only-of-type {\n",
       "        vertical-align: middle;\n",
       "    }\n",
       "\n",
       "    .dataframe tbody tr th {\n",
       "        vertical-align: top;\n",
       "    }\n",
       "\n",
       "    .dataframe thead th {\n",
       "        text-align: right;\n",
       "    }\n",
       "</style>\n",
       "<table border=\"1\" class=\"dataframe\">\n",
       "  <thead>\n",
       "    <tr style=\"text-align: right;\">\n",
       "      <th></th>\n",
       "      <th>longitude</th>\n",
       "      <th>latitude</th>\n",
       "    </tr>\n",
       "  </thead>\n",
       "  <tbody>\n",
       "    <tr>\n",
       "      <th>count</th>\n",
       "      <td>59400.000000</td>\n",
       "      <td>59400.000000</td>\n",
       "    </tr>\n",
       "    <tr>\n",
       "      <th>mean</th>\n",
       "      <td>35.114020</td>\n",
       "      <td>-5.871996</td>\n",
       "    </tr>\n",
       "    <tr>\n",
       "      <th>std</th>\n",
       "      <td>2.571584</td>\n",
       "      <td>2.758860</td>\n",
       "    </tr>\n",
       "    <tr>\n",
       "      <th>min</th>\n",
       "      <td>29.607122</td>\n",
       "      <td>-11.449849</td>\n",
       "    </tr>\n",
       "    <tr>\n",
       "      <th>25%</th>\n",
       "      <td>33.354079</td>\n",
       "      <td>-8.524319</td>\n",
       "    </tr>\n",
       "    <tr>\n",
       "      <th>50%</th>\n",
       "      <td>34.905440</td>\n",
       "      <td>-5.440285</td>\n",
       "    </tr>\n",
       "    <tr>\n",
       "      <th>75%</th>\n",
       "      <td>37.173618</td>\n",
       "      <td>-3.398151</td>\n",
       "    </tr>\n",
       "    <tr>\n",
       "      <th>max</th>\n",
       "      <td>40.287471</td>\n",
       "      <td>-0.998464</td>\n",
       "    </tr>\n",
       "  </tbody>\n",
       "</table>\n",
       "</div>"
      ],
      "text/plain": [
       "          longitude      latitude\n",
       "count  59400.000000  59400.000000\n",
       "mean      35.114020     -5.871996\n",
       "std        2.571584      2.758860\n",
       "min       29.607122    -11.449849\n",
       "25%       33.354079     -8.524319\n",
       "50%       34.905440     -5.440285\n",
       "75%       37.173618     -3.398151\n",
       "max       40.287471     -0.998464"
      ]
     },
     "execution_count": 7,
     "metadata": {},
     "output_type": "execute_result"
    }
   ],
   "source": [
    "# Test long_lat_error -> should be zero instance \n",
    "long_lat_error =Train[((Train['longitude'] < 29.10)  | (Train['longitude'] > 40.29)) | ((Train['latitude'] < -11.45)  | (Train['latitude'] > -0.59))] \n",
    "long_lat_error # zero instance\n",
    "Train[['longitude','latitude']].describe()"
   ]
  },
  {
   "cell_type": "code",
   "execution_count": 37,
   "id": "preceding-accent",
   "metadata": {},
   "outputs": [],
   "source": [
    "# export long & lat data with status for heatmap\n",
    "df_long_lat = Train[['longitude','latitude','status_group']]\n",
    "df_long_lat.to_csv(\"long_lat_status.csv\")"
   ]
  },
  {
   "cell_type": "markdown",
   "id": "fiscal-naples",
   "metadata": {},
   "source": [
    "#### Cleanning - 'num_private'\n",
    "-Outlier"
   ]
  },
  {
   "cell_type": "code",
   "execution_count": 38,
   "id": "incorporate-clearance",
   "metadata": {},
   "outputs": [
    {
     "name": "stderr",
     "output_type": "stream",
     "text": [
      "/srv/conda/envs/notebook/lib/python3.7/site-packages/seaborn/_decorators.py:43: FutureWarning: Pass the following variable as a keyword arg: x. From version 0.12, the only valid positional argument will be `data`, and passing other arguments without an explicit keyword will result in an error or misinterpretation.\n",
      "  FutureWarning\n"
     ]
    },
    {
     "data": {
      "text/plain": [
       "count    59400.000000\n",
       "mean         0.474141\n",
       "std         12.236230\n",
       "min          0.000000\n",
       "25%          0.000000\n",
       "50%          0.000000\n",
       "75%          0.000000\n",
       "max       1776.000000\n",
       "Name: num_private, dtype: float64"
      ]
     },
     "execution_count": 38,
     "metadata": {},
     "output_type": "execute_result"
    },
    {
     "data": {
      "image/png": "[encoded data removed]",
      "text/plain": [
       "<Figure size 432x288 with 1 Axes>"
      ]
     },
     "metadata": {
      "needs_background": "light"
     },
     "output_type": "display_data"
    }
   ],
   "source": [
    "sns.boxplot(Train['num_private'])\n",
    "Train['num_private'].describe()"
   ]
  },
  {
   "cell_type": "code",
   "execution_count": 8,
   "id": "central-ottawa",
   "metadata": {},
   "outputs": [
    {
     "name": "stderr",
     "output_type": "stream",
     "text": [
      "/srv/conda/envs/notebook/lib/python3.7/site-packages/seaborn/_decorators.py:43: FutureWarning: Pass the following variable as a keyword arg: x. From version 0.12, the only valid positional argument will be `data`, and passing other arguments without an explicit keyword will result in an error or misinterpretation.\n",
      "  FutureWarning\n"
     ]
    },
    {
     "data": {
      "text/plain": [
       "count    59400.0\n",
       "mean         0.0\n",
       "std          0.0\n",
       "min          0.0\n",
       "25%          0.0\n",
       "50%          0.0\n",
       "75%          0.0\n",
       "max          0.0\n",
       "Name: num_private, dtype: float64"
      ]
     },
     "execution_count": 8,
     "metadata": {},
     "output_type": "execute_result"
    },
    {
     "data": {
      "image/png": "[encoded data removed]",
      "text/plain": [
       "<Figure size 432x288 with 1 Axes>"
      ]
     },
     "metadata": {
      "needs_background": "light"
     },
     "output_type": "display_data"
    }
   ],
   "source": [
    "# Inter-Quartile Range (IQR) proximity rule\n",
    "percentile25 = Train['num_private'].quantile(0.25)\n",
    "percentile75 = Train['num_private'].quantile(0.75)\n",
    "iqr = percentile75 - percentile25\n",
    "upper_limit = percentile75 + 1.5 * iqr\n",
    "lower_limit = percentile25 - 1.5 * iqr\n",
    "\n",
    "# apply the Capping on Outliers\n",
    "Train['num_private'] = np.where(Train['num_private']>upper_limit,upper_limit,\n",
    "                      np.where(Train['num_private']<lower_limit,lower_limit,Train['num_private']))\n",
    "\n",
    "sns.boxplot(Train['num_private'])\n",
    "\n",
    "Train['num_private'].describe()"
   ]
  },
  {
   "cell_type": "markdown",
   "id": "rolled-administration",
   "metadata": {},
   "source": [
    "#### Cleanning - region_code\n",
    "Reference : https://www.worldatlas.com/maps/tanzania\n",
    "Standerdize region code with region\n",
    "Reference: https://www.citypopulation.de/en/tanzania/admin/"
   ]
  },
  {
   "cell_type": "code",
   "execution_count": 9,
   "id": "passive-daniel",
   "metadata": {
    "scrolled": true
   },
   "outputs": [],
   "source": [
    "df_region_error = Train.pivot_table('id','region','region_code',aggfunc='count').fillna(0).astype(int)\n"
   ]
  },
  {
   "cell_type": "code",
   "execution_count": 10,
   "id": "southeast-isolation",
   "metadata": {},
   "outputs": [
    {
     "data": {
      "text/html": [
       "<div>\n",
       "<style scoped>\n",
       "    .dataframe tbody tr th:only-of-type {\n",
       "        vertical-align: middle;\n",
       "    }\n",
       "\n",
       "    .dataframe tbody tr th {\n",
       "        vertical-align: top;\n",
       "    }\n",
       "\n",
       "    .dataframe thead th {\n",
       "        text-align: right;\n",
       "    }\n",
       "</style>\n",
       "<table border=\"1\" class=\"dataframe\">\n",
       "  <thead>\n",
       "    <tr style=\"text-align: right;\">\n",
       "      <th>region_code</th>\n",
       "      <th>1</th>\n",
       "      <th>2</th>\n",
       "      <th>3</th>\n",
       "      <th>4</th>\n",
       "      <th>5</th>\n",
       "      <th>6</th>\n",
       "      <th>7</th>\n",
       "      <th>8</th>\n",
       "      <th>9</th>\n",
       "      <th>10</th>\n",
       "      <th>11</th>\n",
       "      <th>12</th>\n",
       "      <th>13</th>\n",
       "      <th>14</th>\n",
       "      <th>15</th>\n",
       "      <th>16</th>\n",
       "      <th>17</th>\n",
       "      <th>19</th>\n",
       "      <th>20</th>\n",
       "      <th>21</th>\n",
       "    </tr>\n",
       "    <tr>\n",
       "      <th>region</th>\n",
       "      <th></th>\n",
       "      <th></th>\n",
       "      <th></th>\n",
       "      <th></th>\n",
       "      <th></th>\n",
       "      <th></th>\n",
       "      <th></th>\n",
       "      <th></th>\n",
       "      <th></th>\n",
       "      <th></th>\n",
       "      <th></th>\n",
       "      <th></th>\n",
       "      <th></th>\n",
       "      <th></th>\n",
       "      <th></th>\n",
       "      <th></th>\n",
       "      <th></th>\n",
       "      <th></th>\n",
       "      <th></th>\n",
       "      <th></th>\n",
       "    </tr>\n",
       "  </thead>\n",
       "  <tbody>\n",
       "    <tr>\n",
       "      <th>Arusha</th>\n",
       "      <td>0</td>\n",
       "      <td>3350</td>\n",
       "      <td>0</td>\n",
       "      <td>0</td>\n",
       "      <td>0</td>\n",
       "      <td>0</td>\n",
       "      <td>0</td>\n",
       "      <td>0</td>\n",
       "      <td>0</td>\n",
       "      <td>0</td>\n",
       "      <td>0</td>\n",
       "      <td>0</td>\n",
       "      <td>0</td>\n",
       "      <td>0</td>\n",
       "      <td>0</td>\n",
       "      <td>0</td>\n",
       "      <td>0</td>\n",
       "      <td>0</td>\n",
       "      <td>0</td>\n",
       "      <td>0</td>\n",
       "    </tr>\n",
       "    <tr>\n",
       "      <th>Dar es Salaam</th>\n",
       "      <td>0</td>\n",
       "      <td>0</td>\n",
       "      <td>0</td>\n",
       "      <td>0</td>\n",
       "      <td>0</td>\n",
       "      <td>0</td>\n",
       "      <td>805</td>\n",
       "      <td>0</td>\n",
       "      <td>0</td>\n",
       "      <td>0</td>\n",
       "      <td>0</td>\n",
       "      <td>0</td>\n",
       "      <td>0</td>\n",
       "      <td>0</td>\n",
       "      <td>0</td>\n",
       "      <td>0</td>\n",
       "      <td>0</td>\n",
       "      <td>0</td>\n",
       "      <td>0</td>\n",
       "      <td>0</td>\n",
       "    </tr>\n",
       "    <tr>\n",
       "      <th>Dodoma</th>\n",
       "      <td>2201</td>\n",
       "      <td>0</td>\n",
       "      <td>0</td>\n",
       "      <td>0</td>\n",
       "      <td>0</td>\n",
       "      <td>0</td>\n",
       "      <td>0</td>\n",
       "      <td>0</td>\n",
       "      <td>0</td>\n",
       "      <td>0</td>\n",
       "      <td>0</td>\n",
       "      <td>0</td>\n",
       "      <td>0</td>\n",
       "      <td>0</td>\n",
       "      <td>0</td>\n",
       "      <td>0</td>\n",
       "      <td>0</td>\n",
       "      <td>0</td>\n",
       "      <td>0</td>\n",
       "      <td>0</td>\n",
       "    </tr>\n",
       "    <tr>\n",
       "      <th>Iringa</th>\n",
       "      <td>0</td>\n",
       "      <td>0</td>\n",
       "      <td>0</td>\n",
       "      <td>0</td>\n",
       "      <td>0</td>\n",
       "      <td>0</td>\n",
       "      <td>0</td>\n",
       "      <td>0</td>\n",
       "      <td>0</td>\n",
       "      <td>0</td>\n",
       "      <td>5294</td>\n",
       "      <td>0</td>\n",
       "      <td>0</td>\n",
       "      <td>0</td>\n",
       "      <td>0</td>\n",
       "      <td>0</td>\n",
       "      <td>0</td>\n",
       "      <td>0</td>\n",
       "      <td>0</td>\n",
       "      <td>0</td>\n",
       "    </tr>\n",
       "    <tr>\n",
       "      <th>Kagera</th>\n",
       "      <td>0</td>\n",
       "      <td>0</td>\n",
       "      <td>0</td>\n",
       "      <td>0</td>\n",
       "      <td>0</td>\n",
       "      <td>0</td>\n",
       "      <td>0</td>\n",
       "      <td>3316</td>\n",
       "      <td>0</td>\n",
       "      <td>0</td>\n",
       "      <td>0</td>\n",
       "      <td>0</td>\n",
       "      <td>0</td>\n",
       "      <td>0</td>\n",
       "      <td>0</td>\n",
       "      <td>0</td>\n",
       "      <td>0</td>\n",
       "      <td>0</td>\n",
       "      <td>0</td>\n",
       "      <td>0</td>\n",
       "    </tr>\n",
       "    <tr>\n",
       "      <th>Kigoma</th>\n",
       "      <td>0</td>\n",
       "      <td>0</td>\n",
       "      <td>0</td>\n",
       "      <td>0</td>\n",
       "      <td>0</td>\n",
       "      <td>0</td>\n",
       "      <td>0</td>\n",
       "      <td>0</td>\n",
       "      <td>0</td>\n",
       "      <td>0</td>\n",
       "      <td>0</td>\n",
       "      <td>0</td>\n",
       "      <td>0</td>\n",
       "      <td>0</td>\n",
       "      <td>0</td>\n",
       "      <td>2816</td>\n",
       "      <td>0</td>\n",
       "      <td>0</td>\n",
       "      <td>0</td>\n",
       "      <td>0</td>\n",
       "    </tr>\n",
       "    <tr>\n",
       "      <th>Kilimanjaro</th>\n",
       "      <td>0</td>\n",
       "      <td>0</td>\n",
       "      <td>4379</td>\n",
       "      <td>0</td>\n",
       "      <td>0</td>\n",
       "      <td>0</td>\n",
       "      <td>0</td>\n",
       "      <td>0</td>\n",
       "      <td>0</td>\n",
       "      <td>0</td>\n",
       "      <td>0</td>\n",
       "      <td>0</td>\n",
       "      <td>0</td>\n",
       "      <td>0</td>\n",
       "      <td>0</td>\n",
       "      <td>0</td>\n",
       "      <td>0</td>\n",
       "      <td>0</td>\n",
       "      <td>0</td>\n",
       "      <td>0</td>\n",
       "    </tr>\n",
       "    <tr>\n",
       "      <th>Lindi</th>\n",
       "      <td>0</td>\n",
       "      <td>0</td>\n",
       "      <td>0</td>\n",
       "      <td>0</td>\n",
       "      <td>0</td>\n",
       "      <td>0</td>\n",
       "      <td>0</td>\n",
       "      <td>1546</td>\n",
       "      <td>0</td>\n",
       "      <td>0</td>\n",
       "      <td>0</td>\n",
       "      <td>0</td>\n",
       "      <td>0</td>\n",
       "      <td>0</td>\n",
       "      <td>0</td>\n",
       "      <td>0</td>\n",
       "      <td>0</td>\n",
       "      <td>0</td>\n",
       "      <td>0</td>\n",
       "      <td>0</td>\n",
       "    </tr>\n",
       "    <tr>\n",
       "      <th>Manyara</th>\n",
       "      <td>0</td>\n",
       "      <td>0</td>\n",
       "      <td>0</td>\n",
       "      <td>0</td>\n",
       "      <td>0</td>\n",
       "      <td>0</td>\n",
       "      <td>0</td>\n",
       "      <td>0</td>\n",
       "      <td>0</td>\n",
       "      <td>0</td>\n",
       "      <td>0</td>\n",
       "      <td>0</td>\n",
       "      <td>0</td>\n",
       "      <td>0</td>\n",
       "      <td>0</td>\n",
       "      <td>0</td>\n",
       "      <td>0</td>\n",
       "      <td>0</td>\n",
       "      <td>0</td>\n",
       "      <td>1583</td>\n",
       "    </tr>\n",
       "    <tr>\n",
       "      <th>Mara</th>\n",
       "      <td>0</td>\n",
       "      <td>0</td>\n",
       "      <td>0</td>\n",
       "      <td>0</td>\n",
       "      <td>0</td>\n",
       "      <td>0</td>\n",
       "      <td>0</td>\n",
       "      <td>0</td>\n",
       "      <td>0</td>\n",
       "      <td>0</td>\n",
       "      <td>0</td>\n",
       "      <td>0</td>\n",
       "      <td>0</td>\n",
       "      <td>0</td>\n",
       "      <td>0</td>\n",
       "      <td>0</td>\n",
       "      <td>0</td>\n",
       "      <td>0</td>\n",
       "      <td>1969</td>\n",
       "      <td>0</td>\n",
       "    </tr>\n",
       "    <tr>\n",
       "      <th>Mbeya</th>\n",
       "      <td>0</td>\n",
       "      <td>0</td>\n",
       "      <td>0</td>\n",
       "      <td>0</td>\n",
       "      <td>0</td>\n",
       "      <td>0</td>\n",
       "      <td>0</td>\n",
       "      <td>0</td>\n",
       "      <td>0</td>\n",
       "      <td>0</td>\n",
       "      <td>0</td>\n",
       "      <td>4639</td>\n",
       "      <td>0</td>\n",
       "      <td>0</td>\n",
       "      <td>0</td>\n",
       "      <td>0</td>\n",
       "      <td>0</td>\n",
       "      <td>0</td>\n",
       "      <td>0</td>\n",
       "      <td>0</td>\n",
       "    </tr>\n",
       "    <tr>\n",
       "      <th>Morogoro</th>\n",
       "      <td>0</td>\n",
       "      <td>0</td>\n",
       "      <td>0</td>\n",
       "      <td>0</td>\n",
       "      <td>4006</td>\n",
       "      <td>0</td>\n",
       "      <td>0</td>\n",
       "      <td>0</td>\n",
       "      <td>0</td>\n",
       "      <td>0</td>\n",
       "      <td>0</td>\n",
       "      <td>0</td>\n",
       "      <td>0</td>\n",
       "      <td>0</td>\n",
       "      <td>0</td>\n",
       "      <td>0</td>\n",
       "      <td>0</td>\n",
       "      <td>0</td>\n",
       "      <td>0</td>\n",
       "      <td>0</td>\n",
       "    </tr>\n",
       "    <tr>\n",
       "      <th>Mtwara</th>\n",
       "      <td>0</td>\n",
       "      <td>0</td>\n",
       "      <td>0</td>\n",
       "      <td>0</td>\n",
       "      <td>0</td>\n",
       "      <td>0</td>\n",
       "      <td>0</td>\n",
       "      <td>0</td>\n",
       "      <td>1730</td>\n",
       "      <td>0</td>\n",
       "      <td>0</td>\n",
       "      <td>0</td>\n",
       "      <td>0</td>\n",
       "      <td>0</td>\n",
       "      <td>0</td>\n",
       "      <td>0</td>\n",
       "      <td>0</td>\n",
       "      <td>0</td>\n",
       "      <td>0</td>\n",
       "      <td>0</td>\n",
       "    </tr>\n",
       "    <tr>\n",
       "      <th>Mwanza</th>\n",
       "      <td>0</td>\n",
       "      <td>0</td>\n",
       "      <td>0</td>\n",
       "      <td>0</td>\n",
       "      <td>0</td>\n",
       "      <td>0</td>\n",
       "      <td>0</td>\n",
       "      <td>0</td>\n",
       "      <td>0</td>\n",
       "      <td>0</td>\n",
       "      <td>0</td>\n",
       "      <td>0</td>\n",
       "      <td>0</td>\n",
       "      <td>0</td>\n",
       "      <td>0</td>\n",
       "      <td>0</td>\n",
       "      <td>0</td>\n",
       "      <td>3102</td>\n",
       "      <td>0</td>\n",
       "      <td>0</td>\n",
       "    </tr>\n",
       "    <tr>\n",
       "      <th>Pwani</th>\n",
       "      <td>0</td>\n",
       "      <td>0</td>\n",
       "      <td>0</td>\n",
       "      <td>0</td>\n",
       "      <td>0</td>\n",
       "      <td>2635</td>\n",
       "      <td>0</td>\n",
       "      <td>0</td>\n",
       "      <td>0</td>\n",
       "      <td>0</td>\n",
       "      <td>0</td>\n",
       "      <td>0</td>\n",
       "      <td>0</td>\n",
       "      <td>0</td>\n",
       "      <td>0</td>\n",
       "      <td>0</td>\n",
       "      <td>0</td>\n",
       "      <td>0</td>\n",
       "      <td>0</td>\n",
       "      <td>0</td>\n",
       "    </tr>\n",
       "    <tr>\n",
       "      <th>Rukwa</th>\n",
       "      <td>0</td>\n",
       "      <td>0</td>\n",
       "      <td>0</td>\n",
       "      <td>0</td>\n",
       "      <td>0</td>\n",
       "      <td>0</td>\n",
       "      <td>0</td>\n",
       "      <td>0</td>\n",
       "      <td>0</td>\n",
       "      <td>0</td>\n",
       "      <td>0</td>\n",
       "      <td>0</td>\n",
       "      <td>0</td>\n",
       "      <td>0</td>\n",
       "      <td>1808</td>\n",
       "      <td>0</td>\n",
       "      <td>0</td>\n",
       "      <td>0</td>\n",
       "      <td>0</td>\n",
       "      <td>0</td>\n",
       "    </tr>\n",
       "    <tr>\n",
       "      <th>Ruvuma</th>\n",
       "      <td>0</td>\n",
       "      <td>0</td>\n",
       "      <td>0</td>\n",
       "      <td>0</td>\n",
       "      <td>0</td>\n",
       "      <td>0</td>\n",
       "      <td>0</td>\n",
       "      <td>0</td>\n",
       "      <td>0</td>\n",
       "      <td>2640</td>\n",
       "      <td>0</td>\n",
       "      <td>0</td>\n",
       "      <td>0</td>\n",
       "      <td>0</td>\n",
       "      <td>0</td>\n",
       "      <td>0</td>\n",
       "      <td>0</td>\n",
       "      <td>0</td>\n",
       "      <td>0</td>\n",
       "      <td>0</td>\n",
       "    </tr>\n",
       "    <tr>\n",
       "      <th>Shinyanga</th>\n",
       "      <td>0</td>\n",
       "      <td>0</td>\n",
       "      <td>0</td>\n",
       "      <td>0</td>\n",
       "      <td>0</td>\n",
       "      <td>0</td>\n",
       "      <td>0</td>\n",
       "      <td>0</td>\n",
       "      <td>0</td>\n",
       "      <td>0</td>\n",
       "      <td>0</td>\n",
       "      <td>0</td>\n",
       "      <td>0</td>\n",
       "      <td>0</td>\n",
       "      <td>0</td>\n",
       "      <td>0</td>\n",
       "      <td>4982</td>\n",
       "      <td>0</td>\n",
       "      <td>0</td>\n",
       "      <td>0</td>\n",
       "    </tr>\n",
       "    <tr>\n",
       "      <th>Singida</th>\n",
       "      <td>0</td>\n",
       "      <td>0</td>\n",
       "      <td>0</td>\n",
       "      <td>0</td>\n",
       "      <td>0</td>\n",
       "      <td>0</td>\n",
       "      <td>0</td>\n",
       "      <td>0</td>\n",
       "      <td>0</td>\n",
       "      <td>0</td>\n",
       "      <td>0</td>\n",
       "      <td>0</td>\n",
       "      <td>2093</td>\n",
       "      <td>0</td>\n",
       "      <td>0</td>\n",
       "      <td>0</td>\n",
       "      <td>0</td>\n",
       "      <td>0</td>\n",
       "      <td>0</td>\n",
       "      <td>0</td>\n",
       "    </tr>\n",
       "    <tr>\n",
       "      <th>Tabora</th>\n",
       "      <td>0</td>\n",
       "      <td>0</td>\n",
       "      <td>0</td>\n",
       "      <td>0</td>\n",
       "      <td>0</td>\n",
       "      <td>0</td>\n",
       "      <td>0</td>\n",
       "      <td>0</td>\n",
       "      <td>0</td>\n",
       "      <td>0</td>\n",
       "      <td>0</td>\n",
       "      <td>0</td>\n",
       "      <td>0</td>\n",
       "      <td>1959</td>\n",
       "      <td>0</td>\n",
       "      <td>0</td>\n",
       "      <td>0</td>\n",
       "      <td>0</td>\n",
       "      <td>0</td>\n",
       "      <td>0</td>\n",
       "    </tr>\n",
       "    <tr>\n",
       "      <th>Tanga</th>\n",
       "      <td>0</td>\n",
       "      <td>0</td>\n",
       "      <td>0</td>\n",
       "      <td>2547</td>\n",
       "      <td>0</td>\n",
       "      <td>0</td>\n",
       "      <td>0</td>\n",
       "      <td>0</td>\n",
       "      <td>0</td>\n",
       "      <td>0</td>\n",
       "      <td>0</td>\n",
       "      <td>0</td>\n",
       "      <td>0</td>\n",
       "      <td>0</td>\n",
       "      <td>0</td>\n",
       "      <td>0</td>\n",
       "      <td>0</td>\n",
       "      <td>0</td>\n",
       "      <td>0</td>\n",
       "      <td>0</td>\n",
       "    </tr>\n",
       "  </tbody>\n",
       "</table>\n",
       "</div>"
      ],
      "text/plain": [
       "region_code      1     2     3     4     5     6    7     8     9     10  \\\n",
       "region                                                                     \n",
       "Arusha            0  3350     0     0     0     0    0     0     0     0   \n",
       "Dar es Salaam     0     0     0     0     0     0  805     0     0     0   \n",
       "Dodoma         2201     0     0     0     0     0    0     0     0     0   \n",
       "Iringa            0     0     0     0     0     0    0     0     0     0   \n",
       "Kagera            0     0     0     0     0     0    0  3316     0     0   \n",
       "Kigoma            0     0     0     0     0     0    0     0     0     0   \n",
       "Kilimanjaro       0     0  4379     0     0     0    0     0     0     0   \n",
       "Lindi             0     0     0     0     0     0    0  1546     0     0   \n",
       "Manyara           0     0     0     0     0     0    0     0     0     0   \n",
       "Mara              0     0     0     0     0     0    0     0     0     0   \n",
       "Mbeya             0     0     0     0     0     0    0     0     0     0   \n",
       "Morogoro          0     0     0     0  4006     0    0     0     0     0   \n",
       "Mtwara            0     0     0     0     0     0    0     0  1730     0   \n",
       "Mwanza            0     0     0     0     0     0    0     0     0     0   \n",
       "Pwani             0     0     0     0     0  2635    0     0     0     0   \n",
       "Rukwa             0     0     0     0     0     0    0     0     0     0   \n",
       "Ruvuma            0     0     0     0     0     0    0     0     0  2640   \n",
       "Shinyanga         0     0     0     0     0     0    0     0     0     0   \n",
       "Singida           0     0     0     0     0     0    0     0     0     0   \n",
       "Tabora            0     0     0     0     0     0    0     0     0     0   \n",
       "Tanga             0     0     0  2547     0     0    0     0     0     0   \n",
       "\n",
       "region_code      11    12    13    14    15    16    17    19    20    21  \n",
       "region                                                                     \n",
       "Arusha            0     0     0     0     0     0     0     0     0     0  \n",
       "Dar es Salaam     0     0     0     0     0     0     0     0     0     0  \n",
       "Dodoma            0     0     0     0     0     0     0     0     0     0  \n",
       "Iringa         5294     0     0     0     0     0     0     0     0     0  \n",
       "Kagera            0     0     0     0     0     0     0     0     0     0  \n",
       "Kigoma            0     0     0     0     0  2816     0     0     0     0  \n",
       "Kilimanjaro       0     0     0     0     0     0     0     0     0     0  \n",
       "Lindi             0     0     0     0     0     0     0     0     0     0  \n",
       "Manyara           0     0     0     0     0     0     0     0     0  1583  \n",
       "Mara              0     0     0     0     0     0     0     0  1969     0  \n",
       "Mbeya             0  4639     0     0     0     0     0     0     0     0  \n",
       "Morogoro          0     0     0     0     0     0     0     0     0     0  \n",
       "Mtwara            0     0     0     0     0     0     0     0     0     0  \n",
       "Mwanza            0     0     0     0     0     0     0  3102     0     0  \n",
       "Pwani             0     0     0     0     0     0     0     0     0     0  \n",
       "Rukwa             0     0     0     0  1808     0     0     0     0     0  \n",
       "Ruvuma            0     0     0     0     0     0     0     0     0     0  \n",
       "Shinyanga         0     0     0     0     0     0  4982     0     0     0  \n",
       "Singida           0     0  2093     0     0     0     0     0     0     0  \n",
       "Tabora            0     0     0  1959     0     0     0     0     0     0  \n",
       "Tanga             0     0     0     0     0     0     0     0     0     0  "
      ]
     },
     "execution_count": 10,
     "metadata": {},
     "output_type": "execute_result"
    }
   ],
   "source": [
    "df = Train.pivot_table('id','region','region_code',aggfunc='count').fillna(0).astype(int)\n",
    "df.to_csv('region_error.csv')\n",
    "Train.loc[Train['region_code'] == 24,'region_code'] = 2\n",
    "Train.loc[(Train['region_code'] == 18 )| (Train['region_code'] == 80),'region_code' ] = 8\n",
    "Train.loc[(Train['region_code'] == 90 )| (Train['region_code'] == 99),'region_code' ] = 9\n",
    "Train.loc[(Train['region_code'] == 17) & (Train['region'] == 'Mwanza'),'region_code'] = 19\n",
    "Train.loc[(Train['region_code'] == 60 )| (Train['region_code'] == 40),'region_code'] = 6\n",
    "Train.loc[(Train['region_code'] == 5)  & (Train['region'] == 'Tanga') ,'region_code' ] = 4\n",
    "Train.loc[(Train['region_code'] == 11) & (Train['region'] == 'Shinyanga'),'region_code'] = 17\n",
    "Train.loc[(Train['region_code'] == 14 )& (Train['region'] == 'Shinyanga'),'region_code'] = 17\n",
    "\n",
    "df = Train.pivot_table('id','region','region_code',aggfunc='count').fillna(0).astype(int)\n",
    "df\n",
    "                                    "
   ]
  },
  {
   "cell_type": "code",
   "execution_count": 11,
   "id": "alternate-hebrew",
   "metadata": {},
   "outputs": [],
   "source": [
    "df_region = Train.pivot_table('id','region','status_group',aggfunc='count')\n",
    "df_region.to_csv('reg_status.csv')"
   ]
  },
  {
   "cell_type": "markdown",
   "id": "seventh-illinois",
   "metadata": {},
   "source": [
    "#### Cleanning - district_code\n",
    "code with 0 -> no sense"
   ]
  },
  {
   "cell_type": "code",
   "execution_count": 12,
   "id": "occasional-makeup",
   "metadata": {},
   "outputs": [
    {
     "data": {
      "text/plain": [
       "1     12203\n",
       "2     11173\n",
       "3      9998\n",
       "4      8999\n",
       "5      4356\n",
       "6      4074\n",
       "7      3343\n",
       "8      1043\n",
       "30      995\n",
       "33      874\n",
       "53      745\n",
       "43      505\n",
       "13      391\n",
       "23      293\n",
       "63      195\n",
       "62      109\n",
       "60       63\n",
       "0        23\n",
       "80       12\n",
       "67        6\n",
       "Name: district_code, dtype: int64"
      ]
     },
     "execution_count": 12,
     "metadata": {},
     "output_type": "execute_result"
    }
   ],
   "source": [
    "Train['district_code'].value_counts()"
   ]
  },
  {
   "cell_type": "code",
   "execution_count": 13,
   "id": "curious-johnson",
   "metadata": {},
   "outputs": [],
   "source": [
    "df_district_error = Train.pivot_table('id','region','district_code',aggfunc='count').fillna(0).astype(int)\n",
    "# district_code with 0 -> error   "
   ]
  },
  {
   "cell_type": "code",
   "execution_count": 14,
   "id": "extended-riding",
   "metadata": {},
   "outputs": [
    {
     "data": {
      "text/html": [
       "<div>\n",
       "<style scoped>\n",
       "    .dataframe tbody tr th:only-of-type {\n",
       "        vertical-align: middle;\n",
       "    }\n",
       "\n",
       "    .dataframe tbody tr th {\n",
       "        vertical-align: top;\n",
       "    }\n",
       "\n",
       "    .dataframe thead th {\n",
       "        text-align: right;\n",
       "    }\n",
       "</style>\n",
       "<table border=\"1\" class=\"dataframe\">\n",
       "  <thead>\n",
       "    <tr style=\"text-align: right;\">\n",
       "      <th>district_code</th>\n",
       "      <th>1</th>\n",
       "      <th>2</th>\n",
       "      <th>3</th>\n",
       "      <th>4</th>\n",
       "      <th>5</th>\n",
       "      <th>6</th>\n",
       "      <th>7</th>\n",
       "      <th>8</th>\n",
       "      <th>13</th>\n",
       "      <th>23</th>\n",
       "      <th>30</th>\n",
       "      <th>33</th>\n",
       "      <th>43</th>\n",
       "      <th>53</th>\n",
       "      <th>60</th>\n",
       "      <th>62</th>\n",
       "      <th>63</th>\n",
       "      <th>67</th>\n",
       "      <th>80</th>\n",
       "    </tr>\n",
       "    <tr>\n",
       "      <th>region</th>\n",
       "      <th></th>\n",
       "      <th></th>\n",
       "      <th></th>\n",
       "      <th></th>\n",
       "      <th></th>\n",
       "      <th></th>\n",
       "      <th></th>\n",
       "      <th></th>\n",
       "      <th></th>\n",
       "      <th></th>\n",
       "      <th></th>\n",
       "      <th></th>\n",
       "      <th></th>\n",
       "      <th></th>\n",
       "      <th></th>\n",
       "      <th></th>\n",
       "      <th></th>\n",
       "      <th></th>\n",
       "      <th></th>\n",
       "    </tr>\n",
       "  </thead>\n",
       "  <tbody>\n",
       "    <tr>\n",
       "      <th>Arusha</th>\n",
       "      <td>189</td>\n",
       "      <td>1206</td>\n",
       "      <td>109</td>\n",
       "      <td>0</td>\n",
       "      <td>201</td>\n",
       "      <td>310</td>\n",
       "      <td>1009</td>\n",
       "      <td>0</td>\n",
       "      <td>0</td>\n",
       "      <td>0</td>\n",
       "      <td>326</td>\n",
       "      <td>0</td>\n",
       "      <td>0</td>\n",
       "      <td>0</td>\n",
       "      <td>0</td>\n",
       "      <td>0</td>\n",
       "      <td>0</td>\n",
       "      <td>0</td>\n",
       "      <td>0</td>\n",
       "    </tr>\n",
       "    <tr>\n",
       "      <th>Dar es Salaam</th>\n",
       "      <td>93</td>\n",
       "      <td>497</td>\n",
       "      <td>215</td>\n",
       "      <td>0</td>\n",
       "      <td>0</td>\n",
       "      <td>0</td>\n",
       "      <td>0</td>\n",
       "      <td>0</td>\n",
       "      <td>0</td>\n",
       "      <td>0</td>\n",
       "      <td>0</td>\n",
       "      <td>0</td>\n",
       "      <td>0</td>\n",
       "      <td>0</td>\n",
       "      <td>0</td>\n",
       "      <td>0</td>\n",
       "      <td>0</td>\n",
       "      <td>0</td>\n",
       "      <td>0</td>\n",
       "    </tr>\n",
       "    <tr>\n",
       "      <th>Dodoma</th>\n",
       "      <td>911</td>\n",
       "      <td>0</td>\n",
       "      <td>361</td>\n",
       "      <td>347</td>\n",
       "      <td>358</td>\n",
       "      <td>224</td>\n",
       "      <td>0</td>\n",
       "      <td>0</td>\n",
       "      <td>0</td>\n",
       "      <td>0</td>\n",
       "      <td>0</td>\n",
       "      <td>0</td>\n",
       "      <td>0</td>\n",
       "      <td>0</td>\n",
       "      <td>0</td>\n",
       "      <td>0</td>\n",
       "      <td>0</td>\n",
       "      <td>0</td>\n",
       "      <td>0</td>\n",
       "    </tr>\n",
       "    <tr>\n",
       "      <th>Iringa</th>\n",
       "      <td>728</td>\n",
       "      <td>530</td>\n",
       "      <td>650</td>\n",
       "      <td>2473</td>\n",
       "      <td>564</td>\n",
       "      <td>0</td>\n",
       "      <td>349</td>\n",
       "      <td>0</td>\n",
       "      <td>0</td>\n",
       "      <td>0</td>\n",
       "      <td>0</td>\n",
       "      <td>0</td>\n",
       "      <td>0</td>\n",
       "      <td>0</td>\n",
       "      <td>0</td>\n",
       "      <td>0</td>\n",
       "      <td>0</td>\n",
       "      <td>0</td>\n",
       "      <td>0</td>\n",
       "    </tr>\n",
       "    <tr>\n",
       "      <th>Kagera</th>\n",
       "      <td>771</td>\n",
       "      <td>487</td>\n",
       "      <td>402</td>\n",
       "      <td>403</td>\n",
       "      <td>0</td>\n",
       "      <td>88</td>\n",
       "      <td>260</td>\n",
       "      <td>236</td>\n",
       "      <td>0</td>\n",
       "      <td>0</td>\n",
       "      <td>669</td>\n",
       "      <td>0</td>\n",
       "      <td>0</td>\n",
       "      <td>0</td>\n",
       "      <td>0</td>\n",
       "      <td>0</td>\n",
       "      <td>0</td>\n",
       "      <td>0</td>\n",
       "      <td>0</td>\n",
       "    </tr>\n",
       "    <tr>\n",
       "      <th>Kigoma</th>\n",
       "      <td>874</td>\n",
       "      <td>1159</td>\n",
       "      <td>727</td>\n",
       "      <td>56</td>\n",
       "      <td>0</td>\n",
       "      <td>0</td>\n",
       "      <td>0</td>\n",
       "      <td>0</td>\n",
       "      <td>0</td>\n",
       "      <td>0</td>\n",
       "      <td>0</td>\n",
       "      <td>0</td>\n",
       "      <td>0</td>\n",
       "      <td>0</td>\n",
       "      <td>0</td>\n",
       "      <td>0</td>\n",
       "      <td>0</td>\n",
       "      <td>0</td>\n",
       "      <td>0</td>\n",
       "    </tr>\n",
       "    <tr>\n",
       "      <th>Kilimanjaro</th>\n",
       "      <td>595</td>\n",
       "      <td>519</td>\n",
       "      <td>877</td>\n",
       "      <td>1225</td>\n",
       "      <td>620</td>\n",
       "      <td>109</td>\n",
       "      <td>434</td>\n",
       "      <td>0</td>\n",
       "      <td>0</td>\n",
       "      <td>0</td>\n",
       "      <td>0</td>\n",
       "      <td>0</td>\n",
       "      <td>0</td>\n",
       "      <td>0</td>\n",
       "      <td>0</td>\n",
       "      <td>0</td>\n",
       "      <td>0</td>\n",
       "      <td>0</td>\n",
       "      <td>0</td>\n",
       "    </tr>\n",
       "    <tr>\n",
       "      <th>Lindi</th>\n",
       "      <td>1</td>\n",
       "      <td>7</td>\n",
       "      <td>300</td>\n",
       "      <td>0</td>\n",
       "      <td>0</td>\n",
       "      <td>0</td>\n",
       "      <td>0</td>\n",
       "      <td>0</td>\n",
       "      <td>391</td>\n",
       "      <td>293</td>\n",
       "      <td>0</td>\n",
       "      <td>0</td>\n",
       "      <td>154</td>\n",
       "      <td>291</td>\n",
       "      <td>0</td>\n",
       "      <td>109</td>\n",
       "      <td>0</td>\n",
       "      <td>0</td>\n",
       "      <td>0</td>\n",
       "    </tr>\n",
       "    <tr>\n",
       "      <th>Manyara</th>\n",
       "      <td>550</td>\n",
       "      <td>274</td>\n",
       "      <td>297</td>\n",
       "      <td>276</td>\n",
       "      <td>186</td>\n",
       "      <td>0</td>\n",
       "      <td>0</td>\n",
       "      <td>0</td>\n",
       "      <td>0</td>\n",
       "      <td>0</td>\n",
       "      <td>0</td>\n",
       "      <td>0</td>\n",
       "      <td>0</td>\n",
       "      <td>0</td>\n",
       "      <td>0</td>\n",
       "      <td>0</td>\n",
       "      <td>0</td>\n",
       "      <td>0</td>\n",
       "      <td>0</td>\n",
       "    </tr>\n",
       "    <tr>\n",
       "      <th>Mara</th>\n",
       "      <td>171</td>\n",
       "      <td>716</td>\n",
       "      <td>396</td>\n",
       "      <td>438</td>\n",
       "      <td>0</td>\n",
       "      <td>248</td>\n",
       "      <td>0</td>\n",
       "      <td>0</td>\n",
       "      <td>0</td>\n",
       "      <td>0</td>\n",
       "      <td>0</td>\n",
       "      <td>0</td>\n",
       "      <td>0</td>\n",
       "      <td>0</td>\n",
       "      <td>0</td>\n",
       "      <td>0</td>\n",
       "      <td>0</td>\n",
       "      <td>0</td>\n",
       "      <td>0</td>\n",
       "    </tr>\n",
       "    <tr>\n",
       "      <th>Mbeya</th>\n",
       "      <td>298</td>\n",
       "      <td>500</td>\n",
       "      <td>871</td>\n",
       "      <td>1106</td>\n",
       "      <td>204</td>\n",
       "      <td>1034</td>\n",
       "      <td>626</td>\n",
       "      <td>0</td>\n",
       "      <td>0</td>\n",
       "      <td>0</td>\n",
       "      <td>0</td>\n",
       "      <td>0</td>\n",
       "      <td>0</td>\n",
       "      <td>0</td>\n",
       "      <td>0</td>\n",
       "      <td>0</td>\n",
       "      <td>0</td>\n",
       "      <td>0</td>\n",
       "      <td>0</td>\n",
       "    </tr>\n",
       "    <tr>\n",
       "      <th>Morogoro</th>\n",
       "      <td>1094</td>\n",
       "      <td>521</td>\n",
       "      <td>997</td>\n",
       "      <td>627</td>\n",
       "      <td>96</td>\n",
       "      <td>671</td>\n",
       "      <td>0</td>\n",
       "      <td>0</td>\n",
       "      <td>0</td>\n",
       "      <td>0</td>\n",
       "      <td>0</td>\n",
       "      <td>0</td>\n",
       "      <td>0</td>\n",
       "      <td>0</td>\n",
       "      <td>0</td>\n",
       "      <td>0</td>\n",
       "      <td>0</td>\n",
       "      <td>0</td>\n",
       "      <td>0</td>\n",
       "    </tr>\n",
       "    <tr>\n",
       "      <th>Mtwara</th>\n",
       "      <td>423</td>\n",
       "      <td>0</td>\n",
       "      <td>0</td>\n",
       "      <td>266</td>\n",
       "      <td>124</td>\n",
       "      <td>0</td>\n",
       "      <td>0</td>\n",
       "      <td>0</td>\n",
       "      <td>0</td>\n",
       "      <td>0</td>\n",
       "      <td>0</td>\n",
       "      <td>759</td>\n",
       "      <td>0</td>\n",
       "      <td>0</td>\n",
       "      <td>0</td>\n",
       "      <td>0</td>\n",
       "      <td>158</td>\n",
       "      <td>0</td>\n",
       "      <td>0</td>\n",
       "    </tr>\n",
       "    <tr>\n",
       "      <th>Mwanza</th>\n",
       "      <td>396</td>\n",
       "      <td>739</td>\n",
       "      <td>69</td>\n",
       "      <td>599</td>\n",
       "      <td>332</td>\n",
       "      <td>488</td>\n",
       "      <td>347</td>\n",
       "      <td>132</td>\n",
       "      <td>0</td>\n",
       "      <td>0</td>\n",
       "      <td>0</td>\n",
       "      <td>0</td>\n",
       "      <td>0</td>\n",
       "      <td>0</td>\n",
       "      <td>0</td>\n",
       "      <td>0</td>\n",
       "      <td>0</td>\n",
       "      <td>0</td>\n",
       "      <td>0</td>\n",
       "    </tr>\n",
       "    <tr>\n",
       "      <th>Pwani</th>\n",
       "      <td>984</td>\n",
       "      <td>301</td>\n",
       "      <td>108</td>\n",
       "      <td>190</td>\n",
       "      <td>0</td>\n",
       "      <td>26</td>\n",
       "      <td>0</td>\n",
       "      <td>0</td>\n",
       "      <td>0</td>\n",
       "      <td>0</td>\n",
       "      <td>0</td>\n",
       "      <td>115</td>\n",
       "      <td>351</td>\n",
       "      <td>454</td>\n",
       "      <td>63</td>\n",
       "      <td>0</td>\n",
       "      <td>37</td>\n",
       "      <td>6</td>\n",
       "      <td>0</td>\n",
       "    </tr>\n",
       "    <tr>\n",
       "      <th>Rukwa</th>\n",
       "      <td>679</td>\n",
       "      <td>521</td>\n",
       "      <td>428</td>\n",
       "      <td>180</td>\n",
       "      <td>0</td>\n",
       "      <td>0</td>\n",
       "      <td>0</td>\n",
       "      <td>0</td>\n",
       "      <td>0</td>\n",
       "      <td>0</td>\n",
       "      <td>0</td>\n",
       "      <td>0</td>\n",
       "      <td>0</td>\n",
       "      <td>0</td>\n",
       "      <td>0</td>\n",
       "      <td>0</td>\n",
       "      <td>0</td>\n",
       "      <td>0</td>\n",
       "      <td>0</td>\n",
       "    </tr>\n",
       "    <tr>\n",
       "      <th>Ruvuma</th>\n",
       "      <td>423</td>\n",
       "      <td>652</td>\n",
       "      <td>750</td>\n",
       "      <td>121</td>\n",
       "      <td>694</td>\n",
       "      <td>0</td>\n",
       "      <td>0</td>\n",
       "      <td>0</td>\n",
       "      <td>0</td>\n",
       "      <td>0</td>\n",
       "      <td>0</td>\n",
       "      <td>0</td>\n",
       "      <td>0</td>\n",
       "      <td>0</td>\n",
       "      <td>0</td>\n",
       "      <td>0</td>\n",
       "      <td>0</td>\n",
       "      <td>0</td>\n",
       "      <td>0</td>\n",
       "    </tr>\n",
       "    <tr>\n",
       "      <th>Shinyanga</th>\n",
       "      <td>1196</td>\n",
       "      <td>802</td>\n",
       "      <td>1404</td>\n",
       "      <td>23</td>\n",
       "      <td>514</td>\n",
       "      <td>453</td>\n",
       "      <td>191</td>\n",
       "      <td>387</td>\n",
       "      <td>0</td>\n",
       "      <td>0</td>\n",
       "      <td>0</td>\n",
       "      <td>0</td>\n",
       "      <td>0</td>\n",
       "      <td>0</td>\n",
       "      <td>0</td>\n",
       "      <td>0</td>\n",
       "      <td>0</td>\n",
       "      <td>0</td>\n",
       "      <td>12</td>\n",
       "    </tr>\n",
       "    <tr>\n",
       "      <th>Singida</th>\n",
       "      <td>544</td>\n",
       "      <td>995</td>\n",
       "      <td>377</td>\n",
       "      <td>177</td>\n",
       "      <td>0</td>\n",
       "      <td>0</td>\n",
       "      <td>0</td>\n",
       "      <td>0</td>\n",
       "      <td>0</td>\n",
       "      <td>0</td>\n",
       "      <td>0</td>\n",
       "      <td>0</td>\n",
       "      <td>0</td>\n",
       "      <td>0</td>\n",
       "      <td>0</td>\n",
       "      <td>0</td>\n",
       "      <td>0</td>\n",
       "      <td>0</td>\n",
       "      <td>0</td>\n",
       "    </tr>\n",
       "    <tr>\n",
       "      <th>Tabora</th>\n",
       "      <td>574</td>\n",
       "      <td>339</td>\n",
       "      <td>337</td>\n",
       "      <td>382</td>\n",
       "      <td>170</td>\n",
       "      <td>157</td>\n",
       "      <td>0</td>\n",
       "      <td>0</td>\n",
       "      <td>0</td>\n",
       "      <td>0</td>\n",
       "      <td>0</td>\n",
       "      <td>0</td>\n",
       "      <td>0</td>\n",
       "      <td>0</td>\n",
       "      <td>0</td>\n",
       "      <td>0</td>\n",
       "      <td>0</td>\n",
       "      <td>0</td>\n",
       "      <td>0</td>\n",
       "    </tr>\n",
       "    <tr>\n",
       "      <th>Tanga</th>\n",
       "      <td>732</td>\n",
       "      <td>408</td>\n",
       "      <td>323</td>\n",
       "      <td>110</td>\n",
       "      <td>293</td>\n",
       "      <td>266</td>\n",
       "      <td>127</td>\n",
       "      <td>288</td>\n",
       "      <td>0</td>\n",
       "      <td>0</td>\n",
       "      <td>0</td>\n",
       "      <td>0</td>\n",
       "      <td>0</td>\n",
       "      <td>0</td>\n",
       "      <td>0</td>\n",
       "      <td>0</td>\n",
       "      <td>0</td>\n",
       "      <td>0</td>\n",
       "      <td>0</td>\n",
       "    </tr>\n",
       "  </tbody>\n",
       "</table>\n",
       "</div>"
      ],
      "text/plain": [
       "district_code    1     2     3     4    5     6     7    8    13   23   30  \\\n",
       "region                                                                       \n",
       "Arusha          189  1206   109     0  201   310  1009    0    0    0  326   \n",
       "Dar es Salaam    93   497   215     0    0     0     0    0    0    0    0   \n",
       "Dodoma          911     0   361   347  358   224     0    0    0    0    0   \n",
       "Iringa          728   530   650  2473  564     0   349    0    0    0    0   \n",
       "Kagera          771   487   402   403    0    88   260  236    0    0  669   \n",
       "Kigoma          874  1159   727    56    0     0     0    0    0    0    0   \n",
       "Kilimanjaro     595   519   877  1225  620   109   434    0    0    0    0   \n",
       "Lindi             1     7   300     0    0     0     0    0  391  293    0   \n",
       "Manyara         550   274   297   276  186     0     0    0    0    0    0   \n",
       "Mara            171   716   396   438    0   248     0    0    0    0    0   \n",
       "Mbeya           298   500   871  1106  204  1034   626    0    0    0    0   \n",
       "Morogoro       1094   521   997   627   96   671     0    0    0    0    0   \n",
       "Mtwara          423     0     0   266  124     0     0    0    0    0    0   \n",
       "Mwanza          396   739    69   599  332   488   347  132    0    0    0   \n",
       "Pwani           984   301   108   190    0    26     0    0    0    0    0   \n",
       "Rukwa           679   521   428   180    0     0     0    0    0    0    0   \n",
       "Ruvuma          423   652   750   121  694     0     0    0    0    0    0   \n",
       "Shinyanga      1196   802  1404    23  514   453   191  387    0    0    0   \n",
       "Singida         544   995   377   177    0     0     0    0    0    0    0   \n",
       "Tabora          574   339   337   382  170   157     0    0    0    0    0   \n",
       "Tanga           732   408   323   110  293   266   127  288    0    0    0   \n",
       "\n",
       "district_code   33   43   53  60   62   63  67  80  \n",
       "region                                              \n",
       "Arusha           0    0    0   0    0    0   0   0  \n",
       "Dar es Salaam    0    0    0   0    0    0   0   0  \n",
       "Dodoma           0    0    0   0    0    0   0   0  \n",
       "Iringa           0    0    0   0    0    0   0   0  \n",
       "Kagera           0    0    0   0    0    0   0   0  \n",
       "Kigoma           0    0    0   0    0    0   0   0  \n",
       "Kilimanjaro      0    0    0   0    0    0   0   0  \n",
       "Lindi            0  154  291   0  109    0   0   0  \n",
       "Manyara          0    0    0   0    0    0   0   0  \n",
       "Mara             0    0    0   0    0    0   0   0  \n",
       "Mbeya            0    0    0   0    0    0   0   0  \n",
       "Morogoro         0    0    0   0    0    0   0   0  \n",
       "Mtwara         759    0    0   0    0  158   0   0  \n",
       "Mwanza           0    0    0   0    0    0   0   0  \n",
       "Pwani          115  351  454  63    0   37   6   0  \n",
       "Rukwa            0    0    0   0    0    0   0   0  \n",
       "Ruvuma           0    0    0   0    0    0   0   0  \n",
       "Shinyanga        0    0    0   0    0    0   0  12  \n",
       "Singida          0    0    0   0    0    0   0   0  \n",
       "Tabora           0    0    0   0    0    0   0   0  \n",
       "Tanga            0    0    0   0    0    0   0   0  "
      ]
     },
     "execution_count": 14,
     "metadata": {},
     "output_type": "execute_result"
    }
   ],
   "source": [
    "Train.loc[Train['district_code'] == 0,'district_code'] = 1\n",
    "df_district = Train.pivot_table('id','region','district_code',aggfunc='count').fillna(0).astype(int) \n",
    "df_district"
   ]
  },
  {
   "cell_type": "markdown",
   "id": "found-mainland",
   "metadata": {},
   "source": [
    "#### Cleanning - 'population'"
   ]
  },
  {
   "cell_type": "code",
   "execution_count": 15,
   "id": "demonstrated-chaos",
   "metadata": {},
   "outputs": [
    {
     "name": "stderr",
     "output_type": "stream",
     "text": [
      "/srv/conda/envs/notebook/lib/python3.7/site-packages/seaborn/_decorators.py:43: FutureWarning: Pass the following variable as a keyword arg: x. From version 0.12, the only valid positional argument will be `data`, and passing other arguments without an explicit keyword will result in an error or misinterpretation.\n",
      "  FutureWarning\n"
     ]
    },
    {
     "data": {
      "text/plain": [
       "count    59400.000000\n",
       "mean       179.909983\n",
       "std        471.482176\n",
       "min          0.000000\n",
       "25%          0.000000\n",
       "50%         25.000000\n",
       "75%        215.000000\n",
       "max      30500.000000\n",
       "Name: population, dtype: float64"
      ]
     },
     "execution_count": 15,
     "metadata": {},
     "output_type": "execute_result"
    },
    {
     "data": {
      "image/png": "[encoded data removed]",
      "text/plain": [
       "<Figure size 432x288 with 1 Axes>"
      ]
     },
     "metadata": {
      "needs_background": "light"
     },
     "output_type": "display_data"
    }
   ],
   "source": [
    "sns.boxplot(Train['population'])\n",
    "Train['population'].describe()"
   ]
  },
  {
   "cell_type": "code",
   "execution_count": 16,
   "id": "sustained-gamma",
   "metadata": {},
   "outputs": [
    {
     "name": "stderr",
     "output_type": "stream",
     "text": [
      "/srv/conda/envs/notebook/lib/python3.7/site-packages/seaborn/_decorators.py:43: FutureWarning: Pass the following variable as a keyword arg: x. From version 0.12, the only valid positional argument will be `data`, and passing other arguments without an explicit keyword will result in an error or misinterpretation.\n",
      "  FutureWarning\n"
     ]
    },
    {
     "data": {
      "text/plain": [
       "count    59400.000000\n",
       "mean       128.424537\n",
       "std        175.514950\n",
       "min          0.000000\n",
       "25%          0.000000\n",
       "50%         25.000000\n",
       "75%        215.000000\n",
       "max        537.500000\n",
       "Name: population, dtype: float64"
      ]
     },
     "execution_count": 16,
     "metadata": {},
     "output_type": "execute_result"
    },
    {
     "data": {
      "image/png": "[encoded data removed]",
      "text/plain": [
       "<Figure size 432x288 with 1 Axes>"
      ]
     },
     "metadata": {
      "needs_background": "light"
     },
     "output_type": "display_data"
    }
   ],
   "source": [
    "# Inter-Quartile Range (IQR) proximity rule\n",
    "percentile25 = Train['population'].quantile(0.25)\n",
    "percentile75 = Train['population'].quantile(0.75)\n",
    "iqr = percentile75 - percentile25\n",
    "upper_limit = percentile75 + 1.5 * iqr\n",
    "lower_limit = percentile25 - 1.5 * iqr\n",
    "\n",
    "# apply the Capping on Outliers\n",
    "Train['population'] = np.where(Train['population']>upper_limit,upper_limit,\n",
    "                      np.where(Train['population']<lower_limit,lower_limit,Train['population']))\n",
    "\n",
    "sns.boxplot(Train['population'])\n",
    "Train['population'].describe()"
   ]
  },
  {
   "cell_type": "code",
   "execution_count": 17,
   "id": "suspected-yugoslavia",
   "metadata": {},
   "outputs": [
    {
     "name": "stdout",
     "output_type": "stream",
     "text": [
      "1.2355129207615902\n"
     ]
    }
   ],
   "source": [
    "print(Train['population'].skew()) #skewness"
   ]
  },
  {
   "cell_type": "markdown",
   "id": "automatic-macintosh",
   "metadata": {},
   "source": [
    "#### Cleanning - 'construction_year'\n",
    "- Missing Value\n",
    "- Outlier"
   ]
  },
  {
   "cell_type": "code",
   "execution_count": 7,
   "id": "explicit-mortality",
   "metadata": {},
   "outputs": [
    {
     "data": {
      "text/html": [
       "<div>\n",
       "<style scoped>\n",
       "    .dataframe tbody tr th:only-of-type {\n",
       "        vertical-align: middle;\n",
       "    }\n",
       "\n",
       "    .dataframe tbody tr th {\n",
       "        vertical-align: top;\n",
       "    }\n",
       "\n",
       "    .dataframe thead th {\n",
       "        text-align: right;\n",
       "    }\n",
       "</style>\n",
       "<table border=\"1\" class=\"dataframe\">\n",
       "  <thead>\n",
       "    <tr style=\"text-align: right;\">\n",
       "      <th></th>\n",
       "      <th>id</th>\n",
       "      <th>amount_tsh</th>\n",
       "      <th>date_recorded</th>\n",
       "      <th>funder</th>\n",
       "      <th>gps_height</th>\n",
       "      <th>installer</th>\n",
       "      <th>longitude</th>\n",
       "      <th>latitude</th>\n",
       "      <th>wpt_name</th>\n",
       "      <th>num_private</th>\n",
       "      <th>...</th>\n",
       "      <th>quality_group</th>\n",
       "      <th>quantity</th>\n",
       "      <th>quantity_group</th>\n",
       "      <th>source</th>\n",
       "      <th>source_type</th>\n",
       "      <th>source_class</th>\n",
       "      <th>waterpoint_type</th>\n",
       "      <th>waterpoint_type_group</th>\n",
       "      <th>status_group</th>\n",
       "      <th>clusters</th>\n",
       "    </tr>\n",
       "  </thead>\n",
       "  <tbody>\n",
       "    <tr>\n",
       "      <th>59395</th>\n",
       "      <td>60739</td>\n",
       "      <td>10.0</td>\n",
       "      <td>2013-05-03</td>\n",
       "      <td>Germany Republi</td>\n",
       "      <td>1210</td>\n",
       "      <td>CES</td>\n",
       "      <td>37.169807</td>\n",
       "      <td>-3.253847</td>\n",
       "      <td>Area Three Namba 27</td>\n",
       "      <td>0</td>\n",
       "      <td>...</td>\n",
       "      <td>good</td>\n",
       "      <td>enough</td>\n",
       "      <td>enough</td>\n",
       "      <td>spring</td>\n",
       "      <td>spring</td>\n",
       "      <td>groundwater</td>\n",
       "      <td>communal standpipe</td>\n",
       "      <td>communal standpipe</td>\n",
       "      <td>functional</td>\n",
       "      <td>1</td>\n",
       "    </tr>\n",
       "    <tr>\n",
       "      <th>59396</th>\n",
       "      <td>27263</td>\n",
       "      <td>4700.0</td>\n",
       "      <td>2011-05-07</td>\n",
       "      <td>Cefa-njombe</td>\n",
       "      <td>1212</td>\n",
       "      <td>Cefa</td>\n",
       "      <td>35.249991</td>\n",
       "      <td>-9.070629</td>\n",
       "      <td>Kwa Yahona Kuvala</td>\n",
       "      <td>0</td>\n",
       "      <td>...</td>\n",
       "      <td>good</td>\n",
       "      <td>enough</td>\n",
       "      <td>enough</td>\n",
       "      <td>river</td>\n",
       "      <td>river/lake</td>\n",
       "      <td>surface</td>\n",
       "      <td>communal standpipe</td>\n",
       "      <td>communal standpipe</td>\n",
       "      <td>functional</td>\n",
       "      <td>6</td>\n",
       "    </tr>\n",
       "    <tr>\n",
       "      <th>59397</th>\n",
       "      <td>1960</td>\n",
       "      <td>1960.0</td>\n",
       "      <td>1960</td>\n",
       "      <td>1960</td>\n",
       "      <td>1960</td>\n",
       "      <td>1960</td>\n",
       "      <td>1960.000000</td>\n",
       "      <td>1960.000000</td>\n",
       "      <td>1960</td>\n",
       "      <td>1960</td>\n",
       "      <td>...</td>\n",
       "      <td>1960</td>\n",
       "      <td>1960</td>\n",
       "      <td>1960</td>\n",
       "      <td>1960</td>\n",
       "      <td>1960</td>\n",
       "      <td>1960</td>\n",
       "      <td>1960</td>\n",
       "      <td>1960</td>\n",
       "      <td>1960</td>\n",
       "      <td>1960</td>\n",
       "    </tr>\n",
       "    <tr>\n",
       "      <th>59398</th>\n",
       "      <td>1960</td>\n",
       "      <td>1960.0</td>\n",
       "      <td>1960</td>\n",
       "      <td>1960</td>\n",
       "      <td>1960</td>\n",
       "      <td>1960</td>\n",
       "      <td>1960.000000</td>\n",
       "      <td>1960.000000</td>\n",
       "      <td>1960</td>\n",
       "      <td>1960</td>\n",
       "      <td>...</td>\n",
       "      <td>1960</td>\n",
       "      <td>1960</td>\n",
       "      <td>1960</td>\n",
       "      <td>1960</td>\n",
       "      <td>1960</td>\n",
       "      <td>1960</td>\n",
       "      <td>1960</td>\n",
       "      <td>1960</td>\n",
       "      <td>1960</td>\n",
       "      <td>1960</td>\n",
       "    </tr>\n",
       "    <tr>\n",
       "      <th>59399</th>\n",
       "      <td>26348</td>\n",
       "      <td>0.0</td>\n",
       "      <td>2011-03-23</td>\n",
       "      <td>World Bank</td>\n",
       "      <td>191</td>\n",
       "      <td>World</td>\n",
       "      <td>38.104048</td>\n",
       "      <td>-6.747464</td>\n",
       "      <td>Kwa Mzee Lugawa</td>\n",
       "      <td>0</td>\n",
       "      <td>...</td>\n",
       "      <td>salty</td>\n",
       "      <td>enough</td>\n",
       "      <td>enough</td>\n",
       "      <td>shallow well</td>\n",
       "      <td>shallow well</td>\n",
       "      <td>groundwater</td>\n",
       "      <td>hand pump</td>\n",
       "      <td>hand pump</td>\n",
       "      <td>functional</td>\n",
       "      <td>0</td>\n",
       "    </tr>\n",
       "  </tbody>\n",
       "</table>\n",
       "<p>5 rows × 42 columns</p>\n",
       "</div>"
      ],
      "text/plain": [
       "          id  amount_tsh date_recorded           funder  gps_height installer  \\\n",
       "59395  60739        10.0    2013-05-03  Germany Republi        1210       CES   \n",
       "59396  27263      4700.0    2011-05-07      Cefa-njombe        1212      Cefa   \n",
       "59397   1960      1960.0          1960             1960        1960      1960   \n",
       "59398   1960      1960.0          1960             1960        1960      1960   \n",
       "59399  26348         0.0    2011-03-23       World Bank         191     World   \n",
       "\n",
       "         longitude     latitude             wpt_name  num_private  ...  \\\n",
       "59395    37.169807    -3.253847  Area Three Namba 27            0  ...   \n",
       "59396    35.249991    -9.070629    Kwa Yahona Kuvala            0  ...   \n",
       "59397  1960.000000  1960.000000                 1960         1960  ...   \n",
       "59398  1960.000000  1960.000000                 1960         1960  ...   \n",
       "59399    38.104048    -6.747464      Kwa Mzee Lugawa            0  ...   \n",
       "\n",
       "      quality_group quantity quantity_group        source   source_type  \\\n",
       "59395          good   enough         enough        spring        spring   \n",
       "59396          good   enough         enough         river    river/lake   \n",
       "59397          1960     1960           1960          1960          1960   \n",
       "59398          1960     1960           1960          1960          1960   \n",
       "59399         salty   enough         enough  shallow well  shallow well   \n",
       "\n",
       "      source_class     waterpoint_type  waterpoint_type_group status_group  \\\n",
       "59395  groundwater  communal standpipe     communal standpipe   functional   \n",
       "59396      surface  communal standpipe     communal standpipe   functional   \n",
       "59397         1960                1960                   1960         1960   \n",
       "59398         1960                1960                   1960         1960   \n",
       "59399  groundwater           hand pump              hand pump   functional   \n",
       "\n",
       "      clusters  \n",
       "59395        1  \n",
       "59396        6  \n",
       "59397     1960  \n",
       "59398     1960  \n",
       "59399        0  \n",
       "\n",
       "[5 rows x 42 columns]"
      ]
     },
     "execution_count": 7,
     "metadata": {},
     "output_type": "execute_result"
    }
   ],
   "source": [
    "Construct_year = pd.read_csv('pipe_construct_years.csv')\n",
    "Construct_year.shape\n",
    "Construct_year.tail()"
   ]
  },
  {
   "cell_type": "markdown",
   "id": "experienced-interstate",
   "metadata": {},
   "source": [
    "###  Clean All Category Features"
   ]
  },
  {
   "cell_type": "markdown",
   "id": "unusual-syracuse",
   "metadata": {},
   "source": [
    "#### Cleanning - funder \n",
    "- Missing Value"
   ]
  },
  {
   "cell_type": "code",
   "execution_count": 2,
   "id": "acquired-notification",
   "metadata": {},
   "outputs": [
    {
     "data": {
      "text/plain": [
       "Government Of Tanzania    9084\n",
       "Danida                    3114\n",
       "Hesawa                    2202\n",
       "Rwssp                     1374\n",
       "World Bank                1349\n",
       "                          ... \n",
       "Rarymond Ekura               1\n",
       "Justine Marwa                1\n",
       "Municipal Council            1\n",
       "Afdp                         1\n",
       "Samlo                        1\n",
       "Name: funder, Length: 1897, dtype: int64"
      ]
     },
     "execution_count": 2,
     "metadata": {},
     "output_type": "execute_result"
    }
   ],
   "source": [
    "Train['funder'].value_counts()"
   ]
  },
  {
   "cell_type": "code",
   "execution_count": 15,
   "id": "induced-ultimate",
   "metadata": {},
   "outputs": [
    {
     "data": {
      "text/plain": [
       "'!\"#$%&\\'()*+,-./:;<=>?@[\\\\]^_`{|}~'"
      ]
     },
     "execution_count": 15,
     "metadata": {},
     "output_type": "execute_result"
    }
   ],
   "source": [
    "# to check whether special character\n",
    "import string\n",
    "spec_character = string.punctuation\n",
    "Train['funder'].str.strip(spec_character).astype(bool).any() # True\n",
    "spec_character\n"
   ]
  },
  {
   "cell_type": "code",
   "execution_count": 18,
   "id": "tamil-twelve",
   "metadata": {},
   "outputs": [
    {
     "ename": "TypeError",
     "evalue": "expected string or bytes-like object",
     "output_type": "error",
     "traceback": [
      "\u001b[0;31m---------------------------------------------------------------------------\u001b[0m",
      "\u001b[0;31mTypeError\u001b[0m                                 Traceback (most recent call last)",
      "\u001b[0;32m<ipython-input-18-52236bbab7cd>\u001b[0m in \u001b[0;36m<module>\u001b[0;34m\u001b[0m\n\u001b[1;32m      3\u001b[0m     \u001b[0;32mreturn\u001b[0m \u001b[0mr\u001b[0m\u001b[0;34m.\u001b[0m\u001b[0msub\u001b[0m\u001b[0;34m(\u001b[0m\u001b[0;34m''\u001b[0m\u001b[0;34m,\u001b[0m \u001b[0mdataCol\u001b[0m\u001b[0;34m)\u001b[0m\u001b[0;34m\u001b[0m\u001b[0;34m\u001b[0m\u001b[0m\n\u001b[1;32m      4\u001b[0m \u001b[0;34m\u001b[0m\u001b[0m\n\u001b[0;32m----> 5\u001b[0;31m \u001b[0mTrain\u001b[0m\u001b[0;34m[\u001b[0m\u001b[0;34m'funder'\u001b[0m\u001b[0;34m]\u001b[0m \u001b[0;34m=\u001b[0m \u001b[0mTrain\u001b[0m\u001b[0;34m[\u001b[0m\u001b[0;34m'funder'\u001b[0m\u001b[0;34m]\u001b[0m\u001b[0;34m.\u001b[0m\u001b[0mapply\u001b[0m\u001b[0;34m(\u001b[0m\u001b[0mstrip_character\u001b[0m\u001b[0;34m(\u001b[0m\u001b[0mTrain\u001b[0m\u001b[0;34m[\u001b[0m\u001b[0;34m'funder'\u001b[0m\u001b[0;34m]\u001b[0m\u001b[0;34m)\u001b[0m\u001b[0;34m)\u001b[0m\u001b[0;34m\u001b[0m\u001b[0;34m\u001b[0m\u001b[0m\n\u001b[0m",
      "\u001b[0;32m<ipython-input-18-52236bbab7cd>\u001b[0m in \u001b[0;36mstrip_character\u001b[0;34m(dataCol)\u001b[0m\n\u001b[1;32m      1\u001b[0m \u001b[0;32mdef\u001b[0m \u001b[0mstrip_character\u001b[0m\u001b[0;34m(\u001b[0m\u001b[0mdataCol\u001b[0m\u001b[0;34m)\u001b[0m\u001b[0;34m:\u001b[0m\u001b[0;34m\u001b[0m\u001b[0;34m\u001b[0m\u001b[0m\n\u001b[1;32m      2\u001b[0m     \u001b[0mr\u001b[0m \u001b[0;34m=\u001b[0m \u001b[0mre\u001b[0m\u001b[0;34m.\u001b[0m\u001b[0mcompile\u001b[0m\u001b[0;34m(\u001b[0m\u001b[0;34mr'[spec_character]'\u001b[0m\u001b[0;34m)\u001b[0m\u001b[0;34m\u001b[0m\u001b[0;34m\u001b[0m\u001b[0m\n\u001b[0;32m----> 3\u001b[0;31m     \u001b[0;32mreturn\u001b[0m \u001b[0mr\u001b[0m\u001b[0;34m.\u001b[0m\u001b[0msub\u001b[0m\u001b[0;34m(\u001b[0m\u001b[0;34m''\u001b[0m\u001b[0;34m,\u001b[0m \u001b[0mdataCol\u001b[0m\u001b[0;34m)\u001b[0m\u001b[0;34m\u001b[0m\u001b[0;34m\u001b[0m\u001b[0m\n\u001b[0m\u001b[1;32m      4\u001b[0m \u001b[0;34m\u001b[0m\u001b[0m\n\u001b[1;32m      5\u001b[0m \u001b[0mTrain\u001b[0m\u001b[0;34m[\u001b[0m\u001b[0;34m'funder'\u001b[0m\u001b[0;34m]\u001b[0m \u001b[0;34m=\u001b[0m \u001b[0mTrain\u001b[0m\u001b[0;34m[\u001b[0m\u001b[0;34m'funder'\u001b[0m\u001b[0;34m]\u001b[0m\u001b[0;34m.\u001b[0m\u001b[0mapply\u001b[0m\u001b[0;34m(\u001b[0m\u001b[0mstrip_character\u001b[0m\u001b[0;34m(\u001b[0m\u001b[0mTrain\u001b[0m\u001b[0;34m[\u001b[0m\u001b[0;34m'funder'\u001b[0m\u001b[0;34m]\u001b[0m\u001b[0;34m)\u001b[0m\u001b[0;34m)\u001b[0m\u001b[0;34m\u001b[0m\u001b[0;34m\u001b[0m\u001b[0m\n",
      "\u001b[0;31mTypeError\u001b[0m: expected string or bytes-like object"
     ]
    }
   ],
   "source": [
    "def strip_character(dataCol):\n",
    "    r = re.compile(r'[spec_character]')\n",
    "    return r.sub('', dataCol)\n",
    "\n",
    "Train['funder'] = Train['funder'].apply(strip_character(Train['funder']))"
   ]
  },
  {
   "cell_type": "code",
   "execution_count": null,
   "id": "equal-static",
   "metadata": {},
   "outputs": [],
   "source": []
  },
  {
   "cell_type": "markdown",
   "id": "instant-magazine",
   "metadata": {},
   "source": [
    "#### Cleanning - installer \n",
    "- Missing Value"
   ]
  },
  {
   "cell_type": "code",
   "execution_count": 7,
   "id": "ecological-double",
   "metadata": {},
   "outputs": [
    {
     "data": {
      "text/plain": [
       "True"
      ]
     },
     "execution_count": 7,
     "metadata": {},
     "output_type": "execute_result"
    }
   ],
   "source": [
    "Train['installer'].str.strip(spec_character).astype(bool).any()"
   ]
  },
  {
   "cell_type": "code",
   "execution_count": 21,
   "id": "severe-asian",
   "metadata": {},
   "outputs": [
    {
     "data": {
      "text/plain": [
       "none                       3563\n",
       "Shuleni                    1748\n",
       "Zahanati                    830\n",
       "Msikitini                   535\n",
       "Kanisani                    323\n",
       "                           ... \n",
       "Kwa Medadi                    1\n",
       "Kwa Kubembeni                 1\n",
       "Shule Ya Msingi Milanzi       1\n",
       "Funua                         1\n",
       "Kwa Mzee Lugawa               1\n",
       "Name: wpt_name, Length: 37400, dtype: int64"
      ]
     },
     "execution_count": 21,
     "metadata": {},
     "output_type": "execute_result"
    }
   ],
   "source": [
    "#### Cleanning - wpt_name\n",
    "Train['wpt_name'].value_counts() #3563 - none"
   ]
  },
  {
   "cell_type": "markdown",
   "id": "restricted-resource",
   "metadata": {},
   "source": [
    "#### Cleanning - basin\n",
    "Reference : https://www.researchgate.net/figure/Map-of-the-nine-River-Basin-Offices-in-Tanzania_fig1_312373453"
   ]
  },
  {
   "cell_type": "code",
   "execution_count": 22,
   "id": "wrapped-disaster",
   "metadata": {},
   "outputs": [
    {
     "data": {
      "text/plain": [
       "Lake Victoria              10248\n",
       "Pangani                     8940\n",
       "Rufiji                      7976\n",
       "Internal                    7785\n",
       "Lake Tanganyika             6432\n",
       "Wami / Ruvu                 5987\n",
       "Lake Nyasa                  5085\n",
       "Ruvuma / Southern Coast     4493\n",
       "Lake Rukwa                  2454\n",
       "Name: basin, dtype: int64"
      ]
     },
     "execution_count": 22,
     "metadata": {},
     "output_type": "execute_result"
    }
   ],
   "source": [
    "Train['basin'].value_counts()  # with \" / \";  should be removed"
   ]
  },
  {
   "cell_type": "code",
   "execution_count": 23,
   "id": "informed-concentrate",
   "metadata": {},
   "outputs": [],
   "source": [
    "test = Train.loc[Train['basin'] == 'Wami / Ruvu','basin']\n",
    "test = test.str.replace('/','')\n",
    "\n",
    "test2 = Train.loc[Train['basin'] == 'Ruvuma / Southern Coast','basin']\n",
    "test2 = test2.str.replace('/','and')\n"
   ]
  },
  {
   "cell_type": "code",
   "execution_count": 24,
   "id": "patent-shelf",
   "metadata": {},
   "outputs": [],
   "source": [
    "#Train['basin'] = Train['basin'] .astype(str) \n",
    "\n",
    "Train.loc[Train['basin'] == 'Wami / Ruvu','basin'] = test\n",
    "Train.loc[Train['basin'] == 'Ruvuma / Southern Coast','basin'] = test2\n"
   ]
  },
  {
   "cell_type": "code",
   "execution_count": 25,
   "id": "after-plasma",
   "metadata": {},
   "outputs": [
    {
     "data": {
      "text/plain": [
       "Lake Victoria                10248\n",
       "Pangani                       8940\n",
       "Rufiji                        7976\n",
       "Internal                      7785\n",
       "Lake Tanganyika               6432\n",
       "Wami  Ruvu                    5987\n",
       "Lake Nyasa                    5085\n",
       "Ruvuma and Southern Coast     4493\n",
       "Lake Rukwa                    2454\n",
       "Name: basin, dtype: int64"
      ]
     },
     "execution_count": 25,
     "metadata": {},
     "output_type": "execute_result"
    }
   ],
   "source": [
    "Train['basin'].value_counts()"
   ]
  },
  {
   "cell_type": "markdown",
   "id": "thirty-husband",
   "metadata": {},
   "source": [
    "#### Cleanning - subvillage \n",
    "- missing value\n",
    "- inconsistent value including (M, 1, I K)\n",
    "The mode of a set of data values is the value that appears most often. It is the value at which the data is most likely to be sampled."
   ]
  },
  {
   "cell_type": "code",
   "execution_count": null,
   "id": "thrown-effectiveness",
   "metadata": {},
   "outputs": [],
   "source": [
    "Train['subvillage'].value_counts()[:60]"
   ]
  },
  {
   "cell_type": "code",
   "execution_count": 26,
   "id": "organic-closing",
   "metadata": {},
   "outputs": [],
   "source": [
    "# to deal with missing value\n",
    "Train['subvillage'].fillna(Train['subvillage'].mode()[0], inplace=True)"
   ]
  },
  {
   "cell_type": "code",
   "execution_count": 27,
   "id": "recorded-works",
   "metadata": {},
   "outputs": [
    {
     "data": {
      "text/plain": [
       "Madukani                879\n",
       "Shuleni                 506\n",
       "Other                   505\n",
       "Majengo                 502\n",
       "Kati                    373\n",
       "Mtakuja                 262\n",
       "Sokoni                  232\n",
       "Muungano                172\n",
       "Mbuyuni                 164\n",
       "Mlimani                 152\n",
       "Songambele              147\n",
       "Miembeni                134\n",
       "Msikitini               134\n",
       "Kibaoni                 114\n",
       "Kanisani                111\n",
       "Mapinduzi               109\n",
       "Mjini                   108\n",
       "Mjimwema                108\n",
       "Mkwajuni                104\n",
       "Mwenge                  102\n",
       "Mabatini                 98\n",
       "Azimio                   98\n",
       "Mbugani                  95\n",
       "Mission                  95\n",
       "Bwawani                  91\n",
       "Bondeni                  90\n",
       "Chang'Ombe               88\n",
       "Zahanati                 86\n",
       "Kichangani               84\n",
       "Senta                    84\n",
       "Mtaa Wa Kitunda Kati     84\n",
       "Misufini                 83\n",
       "Center                   82\n",
       "Nyerere                  79\n",
       "Amani                    77\n",
       "Kawawa                   77\n",
       "Kisiwani                 75\n",
       "Maendeleo                69\n",
       "Ccm                      65\n",
       "Ikulu                    62\n",
       "Ilala                    61\n",
       "Ushirika                 60\n",
       "Gulioni                  59\n",
       "Shule                    59\n",
       "Marurani Kati            59\n",
       "Mtaa Wa Kivule           59\n",
       "Uzunguni                 58\n",
       "Darajani                 58\n",
       "Barabarani               56\n",
       "Magharibi                55\n",
       "Marurani Juu             54\n",
       "Sokoine                  54\n",
       "Mpakani                  53\n",
       "Dodoma                   52\n",
       "Msufini                  52\n",
       "Magomeni                 51\n",
       "Kaloleni                 51\n",
       "Elimu                    49\n",
       "Msumbiji                 48\n",
       "Ofisini                  48\n",
       "Name: subvillage, dtype: int64"
      ]
     },
     "execution_count": 27,
     "metadata": {},
     "output_type": "execute_result"
    }
   ],
   "source": [
    "# to deal with inconsistent value including (M, 1, I K)\n",
    "Train.loc[Train['subvillage'] == 'M', 'subvillage'] = 'Other'\n",
    "Train.loc[Train[\"subvillage\"] == '1', 'subvillage'] = \"Other\"\n",
    "Train.loc[Train['subvillage'] == 'I', 'subvillage'] = 'Other'\n",
    "Train.loc[Train['subvillage'] == 'K', 'subvillage'] = 'Other'\n",
    "Train['subvillage'].value_counts()[:60]"
   ]
  },
  {
   "cell_type": "code",
   "execution_count": 28,
   "id": "trying-suite",
   "metadata": {},
   "outputs": [
    {
     "data": {
      "text/plain": [
       "Iringa           5294\n",
       "Shinyanga        4982\n",
       "Mbeya            4639\n",
       "Kilimanjaro      4379\n",
       "Morogoro         4006\n",
       "Arusha           3350\n",
       "Kagera           3316\n",
       "Mwanza           3102\n",
       "Kigoma           2816\n",
       "Ruvuma           2640\n",
       "Pwani            2635\n",
       "Tanga            2547\n",
       "Dodoma           2201\n",
       "Singida          2093\n",
       "Mara             1969\n",
       "Tabora           1959\n",
       "Rukwa            1808\n",
       "Mtwara           1730\n",
       "Manyara          1583\n",
       "Lindi            1546\n",
       "Dar es Salaam     805\n",
       "Name: region, dtype: int64"
      ]
     },
     "execution_count": 28,
     "metadata": {},
     "output_type": "execute_result"
    }
   ],
   "source": [
    "#### Cleanning - region\n",
    "Train['region'].value_counts()"
   ]
  },
  {
   "cell_type": "markdown",
   "id": "copyrighted-andrew",
   "metadata": {},
   "source": [
    "#### Cleanning - lga \n",
    "no errors\n",
    "Cosider Rural vs Urban - to be visulization"
   ]
  },
  {
   "cell_type": "code",
   "execution_count": 29,
   "id": "silver-asian",
   "metadata": {},
   "outputs": [
    {
     "data": {
      "text/plain": [
       "Njombe          2503\n",
       "Arusha Rural    1252\n",
       "Moshi Rural     1251\n",
       "Bariadi         1177\n",
       "Rungwe          1106\n",
       "                ... \n",
       "Moshi Urban       79\n",
       "Kigoma Urban      71\n",
       "Arusha Urban      63\n",
       "Lindi Urban       21\n",
       "Nyamagana          1\n",
       "Name: lga, Length: 125, dtype: int64"
      ]
     },
     "execution_count": 29,
     "metadata": {},
     "output_type": "execute_result"
    }
   ],
   "source": [
    "Train[\"lga\"].value_counts() #125"
   ]
  },
  {
   "cell_type": "code",
   "execution_count": 30,
   "id": "nutritional-norway",
   "metadata": {},
   "outputs": [
    {
     "name": "stdout",
     "output_type": "stream",
     "text": [
      "<class 'pandas.core.frame.DataFrame'>\n",
      "Int64Index: 59400 entries, 0 to 59399\n",
      "Data columns (total 4 columns):\n",
      " #   Column        Non-Null Count  Dtype   \n",
      "---  ------        --------------  -----   \n",
      " 0   region        59400 non-null  object  \n",
      " 1   lga           59400 non-null  object  \n",
      " 2   status_group  59400 non-null  category\n",
      " 3   status_cat    59400 non-null  category\n",
      "dtypes: category(2), object(2)\n",
      "memory usage: 1.5+ MB\n",
      "<class 'pandas.core.frame.DataFrame'>\n",
      "Int64Index: 59400 entries, 0 to 59399\n",
      "Data columns (total 4 columns):\n",
      " #   Column        Non-Null Count  Dtype   \n",
      "---  ------        --------------  -----   \n",
      " 0   region        59400 non-null  object  \n",
      " 1   lga           59400 non-null  object  \n",
      " 2   status_group  59400 non-null  category\n",
      " 3   status_cat    59400 non-null  category\n",
      "dtypes: category(2), object(2)\n",
      "memory usage: 1.5+ MB\n"
     ]
    },
    {
     "name": "stderr",
     "output_type": "stream",
     "text": [
      "/srv/conda/envs/notebook/lib/python3.7/site-packages/pandas/core/frame.py:3607: SettingWithCopyWarning: \n",
      "A value is trying to be set on a copy of a slice from a DataFrame.\n",
      "Try using .loc[row_indexer,col_indexer] = value instead\n",
      "\n",
      "See the caveats in the documentation: https://pandas.pydata.org/pandas-docs/stable/user_guide/indexing.html#returning-a-view-versus-a-copy\n",
      "  self._set_item(key, value)\n"
     ]
    },
    {
     "data": {
      "text/html": [
       "<div>\n",
       "<style scoped>\n",
       "    .dataframe tbody tr th:only-of-type {\n",
       "        vertical-align: middle;\n",
       "    }\n",
       "\n",
       "    .dataframe tbody tr th {\n",
       "        vertical-align: top;\n",
       "    }\n",
       "\n",
       "    .dataframe thead tr th {\n",
       "        text-align: left;\n",
       "    }\n",
       "\n",
       "    .dataframe thead tr:last-of-type th {\n",
       "        text-align: right;\n",
       "    }\n",
       "</style>\n",
       "<table border=\"1\" class=\"dataframe\">\n",
       "  <thead>\n",
       "    <tr>\n",
       "      <th></th>\n",
       "      <th></th>\n",
       "      <th colspan=\"3\" halign=\"left\">status_cat</th>\n",
       "    </tr>\n",
       "    <tr>\n",
       "      <th></th>\n",
       "      <th>status_group</th>\n",
       "      <th>functional</th>\n",
       "      <th>functional needs repair</th>\n",
       "      <th>non functional</th>\n",
       "    </tr>\n",
       "    <tr>\n",
       "      <th>region</th>\n",
       "      <th>lga</th>\n",
       "      <th></th>\n",
       "      <th></th>\n",
       "      <th></th>\n",
       "    </tr>\n",
       "  </thead>\n",
       "  <tbody>\n",
       "    <tr>\n",
       "      <th rowspan=\"5\" valign=\"top\">Arusha</th>\n",
       "      <th>Arusha Rural</th>\n",
       "      <td>875</td>\n",
       "      <td>48</td>\n",
       "      <td>329</td>\n",
       "    </tr>\n",
       "    <tr>\n",
       "      <th>Arusha Urban</th>\n",
       "      <td>42</td>\n",
       "      <td>7</td>\n",
       "      <td>14</td>\n",
       "    </tr>\n",
       "    <tr>\n",
       "      <th>Babati</th>\n",
       "      <td>0</td>\n",
       "      <td>0</td>\n",
       "      <td>0</td>\n",
       "    </tr>\n",
       "    <tr>\n",
       "      <th>Bagamoyo</th>\n",
       "      <td>0</td>\n",
       "      <td>0</td>\n",
       "      <td>0</td>\n",
       "    </tr>\n",
       "    <tr>\n",
       "      <th>Bahi</th>\n",
       "      <td>0</td>\n",
       "      <td>0</td>\n",
       "      <td>0</td>\n",
       "    </tr>\n",
       "    <tr>\n",
       "      <th>...</th>\n",
       "      <th>...</th>\n",
       "      <td>...</td>\n",
       "      <td>...</td>\n",
       "      <td>...</td>\n",
       "    </tr>\n",
       "    <tr>\n",
       "      <th rowspan=\"5\" valign=\"top\">Tanga</th>\n",
       "      <th>Tunduru</th>\n",
       "      <td>0</td>\n",
       "      <td>0</td>\n",
       "      <td>0</td>\n",
       "    </tr>\n",
       "    <tr>\n",
       "      <th>Ukerewe</th>\n",
       "      <td>0</td>\n",
       "      <td>0</td>\n",
       "      <td>0</td>\n",
       "    </tr>\n",
       "    <tr>\n",
       "      <th>Ulanga</th>\n",
       "      <td>0</td>\n",
       "      <td>0</td>\n",
       "      <td>0</td>\n",
       "    </tr>\n",
       "    <tr>\n",
       "      <th>Urambo</th>\n",
       "      <td>0</td>\n",
       "      <td>0</td>\n",
       "      <td>0</td>\n",
       "    </tr>\n",
       "    <tr>\n",
       "      <th>Uyui</th>\n",
       "      <td>0</td>\n",
       "      <td>0</td>\n",
       "      <td>0</td>\n",
       "    </tr>\n",
       "  </tbody>\n",
       "</table>\n",
       "<p>2625 rows × 3 columns</p>\n",
       "</div>"
      ],
      "text/plain": [
       "                    status_cat                                       \n",
       "status_group        functional functional needs repair non functional\n",
       "region lga                                                           \n",
       "Arusha Arusha Rural        875                      48            329\n",
       "       Arusha Urban         42                       7             14\n",
       "       Babati                0                       0              0\n",
       "       Bagamoyo              0                       0              0\n",
       "       Bahi                  0                       0              0\n",
       "...                        ...                     ...            ...\n",
       "Tanga  Tunduru               0                       0              0\n",
       "       Ukerewe               0                       0              0\n",
       "       Ulanga                0                       0              0\n",
       "       Urambo                0                       0              0\n",
       "       Uyui                  0                       0              0\n",
       "\n",
       "[2625 rows x 3 columns]"
      ]
     },
     "execution_count": 30,
     "metadata": {},
     "output_type": "execute_result"
    }
   ],
   "source": [
    "df_lga = Train[[\"region\",\"lga\",\"status_group\"]]\n",
    "df_lga['status_cat'] = df_lga['status_group'].astype('category')\n",
    "df_lga['status_group'] = df_lga['status_group'].astype('category')\n",
    "df_lga.info()\n",
    "df_lga.info()\n",
    "df_lga['status_cat']= df_lga['status_group'].cat.codes\n",
    "df_lga = df_lga.pivot_table(df_lga, index = ['region','lga'], columns = 'status_group',aggfunc= 'count' )\n",
    "df_lga"
   ]
  },
  {
   "cell_type": "code",
   "execution_count": 31,
   "id": "russian-disability",
   "metadata": {},
   "outputs": [
    {
     "data": {
      "text/html": [
       "<div>\n",
       "<style scoped>\n",
       "    .dataframe tbody tr th:only-of-type {\n",
       "        vertical-align: middle;\n",
       "    }\n",
       "\n",
       "    .dataframe tbody tr th {\n",
       "        vertical-align: top;\n",
       "    }\n",
       "\n",
       "    .dataframe thead th {\n",
       "        text-align: right;\n",
       "    }\n",
       "</style>\n",
       "<table border=\"1\" class=\"dataframe\">\n",
       "  <thead>\n",
       "    <tr style=\"text-align: right;\">\n",
       "      <th></th>\n",
       "      <th>region</th>\n",
       "      <th>lga</th>\n",
       "      <th>functional</th>\n",
       "      <th>functional needs repair</th>\n",
       "      <th>non functional</th>\n",
       "    </tr>\n",
       "  </thead>\n",
       "  <tbody>\n",
       "    <tr>\n",
       "      <th>0</th>\n",
       "      <td>Arusha</td>\n",
       "      <td>Arusha Rural</td>\n",
       "      <td>875</td>\n",
       "      <td>48</td>\n",
       "      <td>329</td>\n",
       "    </tr>\n",
       "    <tr>\n",
       "      <th>1</th>\n",
       "      <td>Arusha</td>\n",
       "      <td>Arusha Urban</td>\n",
       "      <td>42</td>\n",
       "      <td>7</td>\n",
       "      <td>14</td>\n",
       "    </tr>\n",
       "    <tr>\n",
       "      <th>27</th>\n",
       "      <td>Arusha</td>\n",
       "      <td>Karatu</td>\n",
       "      <td>316</td>\n",
       "      <td>1</td>\n",
       "      <td>9</td>\n",
       "    </tr>\n",
       "    <tr>\n",
       "      <th>50</th>\n",
       "      <td>Arusha</td>\n",
       "      <td>Longido</td>\n",
       "      <td>200</td>\n",
       "      <td>29</td>\n",
       "      <td>81</td>\n",
       "    </tr>\n",
       "    <tr>\n",
       "      <th>65</th>\n",
       "      <td>Arusha</td>\n",
       "      <td>Meru</td>\n",
       "      <td>657</td>\n",
       "      <td>32</td>\n",
       "      <td>320</td>\n",
       "    </tr>\n",
       "    <tr>\n",
       "      <th>...</th>\n",
       "      <td>...</td>\n",
       "      <td>...</td>\n",
       "      <td>...</td>\n",
       "      <td>...</td>\n",
       "      <td>...</td>\n",
       "    </tr>\n",
       "    <tr>\n",
       "      <th>2552</th>\n",
       "      <td>Tanga</td>\n",
       "      <td>Lushoto</td>\n",
       "      <td>433</td>\n",
       "      <td>59</td>\n",
       "      <td>202</td>\n",
       "    </tr>\n",
       "    <tr>\n",
       "      <th>2568</th>\n",
       "      <td>Tanga</td>\n",
       "      <td>Mkinga</td>\n",
       "      <td>224</td>\n",
       "      <td>0</td>\n",
       "      <td>64</td>\n",
       "    </tr>\n",
       "    <tr>\n",
       "      <th>2580</th>\n",
       "      <td>Tanga</td>\n",
       "      <td>Muheza</td>\n",
       "      <td>219</td>\n",
       "      <td>0</td>\n",
       "      <td>115</td>\n",
       "    </tr>\n",
       "    <tr>\n",
       "      <th>2595</th>\n",
       "      <td>Tanga</td>\n",
       "      <td>Pangani</td>\n",
       "      <td>65</td>\n",
       "      <td>3</td>\n",
       "      <td>237</td>\n",
       "    </tr>\n",
       "    <tr>\n",
       "      <th>2617</th>\n",
       "      <td>Tanga</td>\n",
       "      <td>Tanga</td>\n",
       "      <td>42</td>\n",
       "      <td>3</td>\n",
       "      <td>54</td>\n",
       "    </tr>\n",
       "  </tbody>\n",
       "</table>\n",
       "<p>124 rows × 5 columns</p>\n",
       "</div>"
      ],
      "text/plain": [
       "      region           lga  functional  functional needs repair  \\\n",
       "0     Arusha  Arusha Rural         875                       48   \n",
       "1     Arusha  Arusha Urban          42                        7   \n",
       "27    Arusha        Karatu         316                        1   \n",
       "50    Arusha       Longido         200                       29   \n",
       "65    Arusha          Meru         657                       32   \n",
       "...      ...           ...         ...                      ...   \n",
       "2552   Tanga       Lushoto         433                       59   \n",
       "2568   Tanga        Mkinga         224                        0   \n",
       "2580   Tanga        Muheza         219                        0   \n",
       "2595   Tanga       Pangani          65                        3   \n",
       "2617   Tanga         Tanga          42                        3   \n",
       "\n",
       "      non functional  \n",
       "0                329  \n",
       "1                 14  \n",
       "27                 9  \n",
       "50                81  \n",
       "65               320  \n",
       "...              ...  \n",
       "2552             202  \n",
       "2568              64  \n",
       "2580             115  \n",
       "2595             237  \n",
       "2617              54  \n",
       "\n",
       "[124 rows x 5 columns]"
      ]
     },
     "execution_count": 31,
     "metadata": {},
     "output_type": "execute_result"
    }
   ],
   "source": [
    "df_lga = pd.DataFrame(df_lga.to_records())\n",
    "#df_lga.loc[df_lga[\"lga\"].str.contains((\"Rural\"), case=False)][[\"region\",\"lga\",]]\n",
    "df_lga.loc[df_lga[\"lga\"].str.contains((\"Rural\"), case=False)][:]#9552\n",
    "#df_lga.loc[Train[\"lga\"].str.contains(\"Urban\", case=False)][\"lga\"] #1683\n",
    "df_lga.columns[3]\n",
    "\n",
    "df_lga  = df_lga.rename(columns={\"('status_cat', 'functional')\":'functional',\n",
    "                       \"('status_cat', 'functional needs repair')\":'functional needs repair',\n",
    "                       \"('status_cat', 'non functional')\":'non functional'})\n",
    "df_lga_status = df_lga.loc[df_lga[\"functional\"] != 0]    \n",
    "\n",
    "df_lga_status "
   ]
  },
  {
   "cell_type": "code",
   "execution_count": 32,
   "id": "included-toddler",
   "metadata": {},
   "outputs": [],
   "source": [
    "#Export region_lga for visulization\n",
    "df_lga_status.to_csv('df_lga_status.csv')\n"
   ]
  },
  {
   "cell_type": "markdown",
   "id": "commercial-bathroom",
   "metadata": {},
   "source": [
    "#### Cleanning - ward\n",
    "There 2092 uniqu value - consider use function max_cat to pick top value\n",
    "The Ward Profiles provide demographic information on population by age, households and dwelling types, families, language group, household tenure and period of construction; immigration, mobility, ethnic origin and visible minorities; education and labour force; income and shelter cost. "
   ]
  },
  {
   "cell_type": "code",
   "execution_count": 33,
   "id": "fluid-advertiser",
   "metadata": {},
   "outputs": [
    {
     "data": {
      "text/plain": [
       "Igosi              307\n",
       "Imalinyi           252\n",
       "Siha Kati          232\n",
       "Mdandu             231\n",
       "Nduruma            217\n",
       "                  ... \n",
       "Uchindile            1\n",
       "Thawi                1\n",
       "Uwanja wa Ndege      1\n",
       "Izia                 1\n",
       "Kinungu              1\n",
       "Name: ward, Length: 2092, dtype: int64"
      ]
     },
     "execution_count": 33,
     "metadata": {},
     "output_type": "execute_result"
    }
   ],
   "source": [
    "Train[\"ward\"].value_counts() #2092\n",
    "#max_cat('ward')"
   ]
  },
  {
   "cell_type": "markdown",
   "id": "victorian-taxation",
   "metadata": {},
   "source": [
    "#### Cleanning - Public_meeting\n",
    "Replace Public_meeting missing values by unknown"
   ]
  },
  {
   "cell_type": "code",
   "execution_count": 34,
   "id": "corporate-happening",
   "metadata": {},
   "outputs": [
    {
     "data": {
      "text/plain": [
       "Text(0.5, 1.0, 'Public Meeting')"
      ]
     },
     "execution_count": 34,
     "metadata": {},
     "output_type": "execute_result"
    },
    {
     "data": {
      "image/png": "[encoded data removed]",
      "text/plain": [
       "<Figure size 432x288 with 1 Axes>"
      ]
     },
     "metadata": {
      "needs_background": "light"
     },
     "output_type": "display_data"
    }
   ],
   "source": [
    "Train['public_meeting'].fillna(Train['public_meeting'].mode()[0], inplace=True)\n",
    "tanzania_flag_colors = ['#1eb53a', '#fcd116', '#00a3dd', 'black']\n",
    "Train.public_meeting.value_counts().plot(kind='bar', color=tanzania_flag_colors);\n",
    "plt.title(\"Public Meeting\")"
   ]
  },
  {
   "cell_type": "code",
   "execution_count": 35,
   "id": "nervous-commander",
   "metadata": {},
   "outputs": [
    {
     "data": {
      "text/plain": [
       "VWC                 36793\n",
       "WUG                  5206\n",
       "Water authority      3153\n",
       "WUA                  2883\n",
       "Water Board          2748\n",
       "Parastatal           1680\n",
       "Private operator     1063\n",
       "Company              1061\n",
       "Other                 766\n",
       "SWC                    97\n",
       "Trust                  72\n",
       "None                    1\n",
       "Name: scheme_management, dtype: int64"
      ]
     },
     "execution_count": 35,
     "metadata": {},
     "output_type": "execute_result"
    }
   ],
   "source": [
    "#### Cleanning - scheme_management\n",
    "Train['scheme_management'].value_counts()"
   ]
  },
  {
   "cell_type": "code",
   "execution_count": 36,
   "id": "neither-tournament",
   "metadata": {},
   "outputs": [],
   "source": [
    "Train['scheme_management'].fillna(Train['scheme_management'].mode()[0],inplace=True)"
   ]
  },
  {
   "cell_type": "code",
   "execution_count": 37,
   "id": "informed-banks",
   "metadata": {},
   "outputs": [
    {
     "data": {
      "text/plain": [
       "K                       682\n",
       "None                    644\n",
       "Borehole                546\n",
       "Chalinze wate           405\n",
       "M                       400\n",
       "                       ... \n",
       "Mradi wa maji Vijini      1\n",
       "Villagers                 1\n",
       "Magundi water supply      1\n",
       "Saadani Chumv             1\n",
       "Mtawanya                  1\n",
       "Name: scheme_name, Length: 2696, dtype: int64"
      ]
     },
     "execution_count": 37,
     "metadata": {},
     "output_type": "execute_result"
    }
   ],
   "source": [
    "#### Cleanning - scheme_name\n",
    "Train['scheme_name'].value_counts()"
   ]
  },
  {
   "cell_type": "code",
   "execution_count": 53,
   "id": "swedish-station",
   "metadata": {},
   "outputs": [],
   "source": [
    "Train['scheme_name'] = Train['scheme_name'].apply(lambda a: \"Other\" if len(str(a)) == 1 else a)\n",
    "Train['scheme_name'].fillna(Train['scheme_name'].mode()[0],inplace=True)"
   ]
  },
  {
   "cell_type": "code",
   "execution_count": 54,
   "id": "varied-mexican",
   "metadata": {},
   "outputs": [
    {
     "data": {
      "text/plain": [
       "Other                        30285\n",
       "None                           644\n",
       "Borehole                       546\n",
       "Chalinze wate                  405\n",
       "DANIDA                         379\n",
       "                             ...  \n",
       "Mnazi mmoja                      1\n",
       "Handeni Trunk Maini(             1\n",
       "Lake victoria pipe scheme        1\n",
       "BL Moniko Shule                  1\n",
       "Mtawanya                         1\n",
       "Name: scheme_name, Length: 2676, dtype: int64"
      ]
     },
     "execution_count": 54,
     "metadata": {},
     "output_type": "execute_result"
    }
   ],
   "source": [
    "Train['scheme_name'].value_counts()"
   ]
  },
  {
   "cell_type": "code",
   "execution_count": 40,
   "id": "amber-lafayette",
   "metadata": {},
   "outputs": [
    {
     "data": {
      "text/plain": [
       "True     38852\n",
       "False    17492\n",
       "Name: permit, dtype: int64"
      ]
     },
     "execution_count": 40,
     "metadata": {},
     "output_type": "execute_result"
    }
   ],
   "source": [
    "#### Cleanning - permit\n",
    "Train['permit'].value_counts()"
   ]
  },
  {
   "cell_type": "code",
   "execution_count": 41,
   "id": "welsh-composer",
   "metadata": {},
   "outputs": [],
   "source": [
    "Train['permit'].fillna(Train['permit'].mode()[0], inplace=True)"
   ]
  },
  {
   "cell_type": "code",
   "execution_count": 42,
   "id": "ranking-animation",
   "metadata": {},
   "outputs": [
    {
     "data": {
      "text/plain": [
       "count     59400\n",
       "unique        2\n",
       "top        True\n",
       "freq      41908\n",
       "Name: permit, dtype: object"
      ]
     },
     "execution_count": 42,
     "metadata": {},
     "output_type": "execute_result"
    }
   ],
   "source": [
    "Train['permit'].describe()"
   ]
  },
  {
   "cell_type": "code",
   "execution_count": 43,
   "id": "popular-civilization",
   "metadata": {},
   "outputs": [
    {
     "data": {
      "text/plain": [
       "gravity                      26780\n",
       "nira/tanira                   8154\n",
       "other                         6430\n",
       "submersible                   4764\n",
       "swn 80                        3670\n",
       "mono                          2865\n",
       "india mark ii                 2400\n",
       "afridev                       1770\n",
       "ksb                           1415\n",
       "other - rope pump              451\n",
       "other - swn 81                 229\n",
       "windmill                       117\n",
       "india mark iii                  98\n",
       "cemo                            90\n",
       "other - play pump               85\n",
       "walimi                          48\n",
       "climax                          32\n",
       "other - mkulima/shinyanga        2\n",
       "Name: extraction_type, dtype: int64"
      ]
     },
     "execution_count": 43,
     "metadata": {},
     "output_type": "execute_result"
    }
   ],
   "source": [
    "#### Cleanning - extraction_type\n",
    "Train['extraction_type'].value_counts()"
   ]
  },
  {
   "cell_type": "code",
   "execution_count": 45,
   "id": "approximate-metro",
   "metadata": {},
   "outputs": [
    {
     "data": {
      "text/plain": [
       "gravity              26780\n",
       "nira tanira           8154\n",
       "other                 6430\n",
       "submersible           4764\n",
       "swn 80                3670\n",
       "mono                  2865\n",
       "india mark ii         2400\n",
       "afridev               1770\n",
       "ksb                   1415\n",
       "rope pump              451\n",
       "swn 81                 229\n",
       "windmill               117\n",
       "india mark iii          98\n",
       "cemo                    90\n",
       "play pump               85\n",
       "walimi                  48\n",
       "climax                  32\n",
       "mkulima shinyanga        2\n",
       "Name: extraction_type, dtype: int64"
      ]
     },
     "execution_count": 45,
     "metadata": {},
     "output_type": "execute_result"
    }
   ],
   "source": [
    "Train['extraction_type'] = Train['extraction_type'].str.replace(\"/\",\" \")\n",
    "Train['extraction_type'] = Train['extraction_type'].str.replace(\"other - \",\"\")\n",
    "Train['extraction_type'].value_counts()"
   ]
  },
  {
   "cell_type": "code",
   "execution_count": 46,
   "id": "durable-things",
   "metadata": {},
   "outputs": [
    {
     "data": {
      "text/plain": [
       "gravity            26780\n",
       "nira/tanira         8154\n",
       "other               6430\n",
       "submersible         6179\n",
       "swn 80              3670\n",
       "mono                2865\n",
       "india mark ii       2400\n",
       "afridev             1770\n",
       "rope pump            451\n",
       "other handpump       364\n",
       "other motorpump      122\n",
       "wind-powered         117\n",
       "india mark iii        98\n",
       "Name: extraction_type_group, dtype: int64"
      ]
     },
     "execution_count": 46,
     "metadata": {},
     "output_type": "execute_result"
    }
   ],
   "source": [
    "#### Cleanning - extraction_type_group\n",
    "Train['extraction_type_group'].value_counts()"
   ]
  },
  {
   "cell_type": "code",
   "execution_count": 48,
   "id": "opposite-scholarship",
   "metadata": {},
   "outputs": [
    {
     "data": {
      "text/plain": [
       "gravity           26780\n",
       "nira tanira        8154\n",
       "other              6430\n",
       "submersible        6179\n",
       "swn 80             3670\n",
       "mono               2865\n",
       "india mark ii      2400\n",
       "afridev            1770\n",
       "rope pump           451\n",
       "handpump            364\n",
       "motorpump           122\n",
       "wind powered        117\n",
       "india mark iii       98\n",
       "Name: extraction_type_group, dtype: int64"
      ]
     },
     "execution_count": 48,
     "metadata": {},
     "output_type": "execute_result"
    }
   ],
   "source": [
    "Train['extraction_type_group'] = Train['extraction_type_group'].str.replace(\"/\",\" \")\n",
    "Train['extraction_type_group'] = Train['extraction_type_group'].str.replace(\"other \",\"\")\n",
    "Train['extraction_type_group'] = Train['extraction_type_group'].str.replace(\"-\",\" \")\n",
    "Train['extraction_type_group'].value_counts()"
   ]
  },
  {
   "cell_type": "code",
   "execution_count": 49,
   "id": "encouraging-amount",
   "metadata": {},
   "outputs": [
    {
     "data": {
      "text/plain": [
       "gravity         26780\n",
       "handpump        16456\n",
       "other            6430\n",
       "submersible      6179\n",
       "motorpump        2987\n",
       "rope pump         451\n",
       "wind-powered      117\n",
       "Name: extraction_type_class, dtype: int64"
      ]
     },
     "execution_count": 49,
     "metadata": {},
     "output_type": "execute_result"
    }
   ],
   "source": [
    "#### Cleanning - extraction_class\n",
    "Train['extraction_type_class'].value_counts()"
   ]
  },
  {
   "cell_type": "code",
   "execution_count": 50,
   "id": "nearby-france",
   "metadata": {},
   "outputs": [
    {
     "data": {
      "text/plain": [
       "gravity        26780\n",
       "handpump       16456\n",
       "other           6430\n",
       "submersible     6179\n",
       "motorpump       2987\n",
       "ropepump         451\n",
       "windpowered      117\n",
       "Name: extraction_type_class, dtype: int64"
      ]
     },
     "execution_count": 50,
     "metadata": {},
     "output_type": "execute_result"
    }
   ],
   "source": [
    "Train['extraction_type_class'] = Train['extraction_type_class'].str.replace(\" \",\"\")\n",
    "Train['extraction_type_class'] = Train['extraction_type_class'].str.replace(\"-\",\"\")\n",
    "Train['extraction_type_class'].value_counts()"
   ]
  },
  {
   "cell_type": "code",
   "execution_count": 57,
   "id": "polished-syndication",
   "metadata": {},
   "outputs": [
    {
     "data": {
      "text/plain": [
       "vwc                 40507\n",
       "wug                  6515\n",
       "water board          2933\n",
       "wua                  2535\n",
       "private operator     1971\n",
       "parastatal           1768\n",
       "water authority       904\n",
       "other                 844\n",
       "company               685\n",
       "unknown               561\n",
       "other - school         99\n",
       "trust                  78\n",
       "Name: management, dtype: int64"
      ]
     },
     "execution_count": 57,
     "metadata": {},
     "output_type": "execute_result"
    }
   ],
   "source": [
    "#### Cleanning - management\n",
    "Train['management'].value_counts()"
   ]
  },
  {
   "cell_type": "code",
   "execution_count": 58,
   "id": "hollywood-veteran",
   "metadata": {},
   "outputs": [
    {
     "data": {
      "text/plain": [
       "vwc                 40507\n",
       "wug                  6515\n",
       "water board          2933\n",
       "wua                  2535\n",
       "private operator     1971\n",
       "parastatal           1768\n",
       "water authority       904\n",
       "other                 844\n",
       "company               685\n",
       "unknown               561\n",
       "school                 99\n",
       "trust                  78\n",
       "Name: management, dtype: int64"
      ]
     },
     "execution_count": 58,
     "metadata": {},
     "output_type": "execute_result"
    }
   ],
   "source": [
    "Train['management'] = Train['management'].str.replace(\"other - \",\"\")\n",
    "Train['management'].value_counts()"
   ]
  },
  {
   "cell_type": "code",
   "execution_count": 60,
   "id": "equipped-constant",
   "metadata": {},
   "outputs": [],
   "source": [
    "#### Cleanning - management_group\n",
    "Train['management_group'].value_counts()\n",
    "Train['management_group'] = Train['management_group'].str.replace(\"-\",\" \") "
   ]
  },
  {
   "cell_type": "code",
   "execution_count": 61,
   "id": "invisible-handling",
   "metadata": {},
   "outputs": [
    {
     "data": {
      "text/plain": [
       "user group    52490\n",
       "commercial     3638\n",
       "parastatal     1768\n",
       "other           943\n",
       "unknown         561\n",
       "Name: management_group, dtype: int64"
      ]
     },
     "execution_count": 61,
     "metadata": {},
     "output_type": "execute_result"
    }
   ],
   "source": [
    "Train['management_group'].value_counts()"
   ]
  },
  {
   "cell_type": "code",
   "execution_count": 63,
   "id": "recognized-morning",
   "metadata": {},
   "outputs": [
    {
     "data": {
      "text/plain": [
       "never pay                25348\n",
       "pay per bucket            8985\n",
       "pay monthly               8300\n",
       "unknown                   8157\n",
       "pay when scheme fails     3914\n",
       "pay annually              3642\n",
       "other                     1054\n",
       "Name: payment, dtype: int64"
      ]
     },
     "execution_count": 63,
     "metadata": {},
     "output_type": "execute_result"
    }
   ],
   "source": [
    "#### Cleanning - payment\n",
    "Train['payment'].value_counts()"
   ]
  },
  {
   "cell_type": "code",
   "execution_count": 64,
   "id": "alternate-sequence",
   "metadata": {},
   "outputs": [
    {
     "data": {
      "text/plain": [
       "never pay     25348\n",
       "per bucket     8985\n",
       "monthly        8300\n",
       "unknown        8157\n",
       "on failure     3914\n",
       "annually       3642\n",
       "other          1054\n",
       "Name: payment_type, dtype: int64"
      ]
     },
     "execution_count": 64,
     "metadata": {},
     "output_type": "execute_result"
    }
   ],
   "source": [
    "#### Cleanning - payment_type\n",
    "Train['payment_type'].value_counts()"
   ]
  },
  {
   "cell_type": "code",
   "execution_count": 65,
   "id": "recorded-minority",
   "metadata": {},
   "outputs": [
    {
     "data": {
      "text/plain": [
       "soft                  50818\n",
       "salty                  4856\n",
       "unknown                1876\n",
       "milky                   804\n",
       "coloured                490\n",
       "salty abandoned         339\n",
       "fluoride                200\n",
       "fluoride abandoned       17\n",
       "Name: water_quality, dtype: int64"
      ]
     },
     "execution_count": 65,
     "metadata": {},
     "output_type": "execute_result"
    }
   ],
   "source": [
    "#### Cleanning - watet_qualityf\n",
    "Train['water_quality'].value_counts()"
   ]
  },
  {
   "cell_type": "code",
   "execution_count": 66,
   "id": "ceramic-cambridge",
   "metadata": {},
   "outputs": [
    {
     "data": {
      "text/plain": [
       "good        50818\n",
       "salty        5195\n",
       "unknown      1876\n",
       "milky         804\n",
       "colored       490\n",
       "fluoride      217\n",
       "Name: quality_group, dtype: int64"
      ]
     },
     "execution_count": 66,
     "metadata": {},
     "output_type": "execute_result"
    }
   ],
   "source": [
    "#### Cleanning - quality_group | quality\n",
    "Train['quality_group'].value_counts()"
   ]
  },
  {
   "cell_type": "code",
   "execution_count": 67,
   "id": "computational-proxy",
   "metadata": {},
   "outputs": [
    {
     "data": {
      "text/plain": [
       "enough          33186\n",
       "insufficient    15129\n",
       "dry              6246\n",
       "seasonal         4050\n",
       "unknown           789\n",
       "Name: quantity_group, dtype: int64"
      ]
     },
     "execution_count": 67,
     "metadata": {},
     "output_type": "execute_result"
    }
   ],
   "source": [
    "#### Cleanning - quantity_group | quantity\n",
    "Train['quantity_group'].value_counts()"
   ]
  },
  {
   "cell_type": "code",
   "execution_count": 68,
   "id": "entire-weight",
   "metadata": {},
   "outputs": [
    {
     "data": {
      "text/plain": [
       "enough          33186\n",
       "insufficient    15129\n",
       "dry              6246\n",
       "seasonal         4050\n",
       "unknown           789\n",
       "Name: quantity, dtype: int64"
      ]
     },
     "execution_count": 68,
     "metadata": {},
     "output_type": "execute_result"
    }
   ],
   "source": [
    "Train['quantity'].value_counts()"
   ]
  },
  {
   "cell_type": "markdown",
   "id": "demonstrated-divorce",
   "metadata": {},
   "source": [
    "#### Cleanning - source | source type | source_calss"
   ]
  },
  {
   "cell_type": "code",
   "execution_count": 69,
   "id": "fifteen-trust",
   "metadata": {},
   "outputs": [
    {
     "data": {
      "text/html": [
       "<div>\n",
       "<style scoped>\n",
       "    .dataframe tbody tr th:only-of-type {\n",
       "        vertical-align: middle;\n",
       "    }\n",
       "\n",
       "    .dataframe tbody tr th {\n",
       "        vertical-align: top;\n",
       "    }\n",
       "\n",
       "    .dataframe thead th {\n",
       "        text-align: right;\n",
       "    }\n",
       "</style>\n",
       "<table border=\"1\" class=\"dataframe\">\n",
       "  <thead>\n",
       "    <tr style=\"text-align: right;\">\n",
       "      <th>source</th>\n",
       "      <th>dam</th>\n",
       "      <th>hand dtw</th>\n",
       "      <th>lake</th>\n",
       "      <th>machine dbh</th>\n",
       "      <th>other</th>\n",
       "      <th>rainwater harvesting</th>\n",
       "      <th>river</th>\n",
       "      <th>shallow well</th>\n",
       "      <th>spring</th>\n",
       "      <th>unknown</th>\n",
       "    </tr>\n",
       "    <tr>\n",
       "      <th>status_group</th>\n",
       "      <th></th>\n",
       "      <th></th>\n",
       "      <th></th>\n",
       "      <th></th>\n",
       "      <th></th>\n",
       "      <th></th>\n",
       "      <th></th>\n",
       "      <th></th>\n",
       "      <th></th>\n",
       "      <th></th>\n",
       "    </tr>\n",
       "  </thead>\n",
       "  <tbody>\n",
       "    <tr>\n",
       "      <th>functional</th>\n",
       "      <td>253</td>\n",
       "      <td>497</td>\n",
       "      <td>162</td>\n",
       "      <td>5422</td>\n",
       "      <td>126</td>\n",
       "      <td>1386</td>\n",
       "      <td>5465</td>\n",
       "      <td>8324</td>\n",
       "      <td>10592</td>\n",
       "      <td>32</td>\n",
       "    </tr>\n",
       "    <tr>\n",
       "      <th>functional needs repair</th>\n",
       "      <td>24</td>\n",
       "      <td>17</td>\n",
       "      <td>12</td>\n",
       "      <td>491</td>\n",
       "      <td>1</td>\n",
       "      <td>314</td>\n",
       "      <td>1221</td>\n",
       "      <td>957</td>\n",
       "      <td>1276</td>\n",
       "      <td>4</td>\n",
       "    </tr>\n",
       "    <tr>\n",
       "      <th>non functional</th>\n",
       "      <td>379</td>\n",
       "      <td>360</td>\n",
       "      <td>591</td>\n",
       "      <td>5162</td>\n",
       "      <td>85</td>\n",
       "      <td>595</td>\n",
       "      <td>2926</td>\n",
       "      <td>7543</td>\n",
       "      <td>5153</td>\n",
       "      <td>30</td>\n",
       "    </tr>\n",
       "  </tbody>\n",
       "</table>\n",
       "</div>"
      ],
      "text/plain": [
       "source                   dam  hand dtw  lake  machine dbh  other  \\\n",
       "status_group                                                       \n",
       "functional               253       497   162         5422    126   \n",
       "functional needs repair   24        17    12          491      1   \n",
       "non functional           379       360   591         5162     85   \n",
       "\n",
       "source                   rainwater harvesting  river  shallow well  spring  \\\n",
       "status_group                                                                 \n",
       "functional                               1386   5465          8324   10592   \n",
       "functional needs repair                   314   1221           957    1276   \n",
       "non functional                            595   2926          7543    5153   \n",
       "\n",
       "source                   unknown  \n",
       "status_group                      \n",
       "functional                    32  \n",
       "functional needs repair        4  \n",
       "non functional                30  "
      ]
     },
     "execution_count": 69,
     "metadata": {},
     "output_type": "execute_result"
    }
   ],
   "source": [
    "# Source #10\n",
    "Train.groupby('source')['id'].nunique().sort_values(ascending=False)\n",
    "#10  Combine other & Unknow ;  source vs source_type similar, to consider use source_type for model\n",
    "Train.pivot_table('id','status_group','source',aggfunc='count').fillna(0).astype(int)"
   ]
  },
  {
   "cell_type": "code",
   "execution_count": 70,
   "id": "sonic-anaheim",
   "metadata": {},
   "outputs": [
    {
     "data": {
      "text/html": [
       "<div>\n",
       "<style scoped>\n",
       "    .dataframe tbody tr th:only-of-type {\n",
       "        vertical-align: middle;\n",
       "    }\n",
       "\n",
       "    .dataframe tbody tr th {\n",
       "        vertical-align: top;\n",
       "    }\n",
       "\n",
       "    .dataframe thead th {\n",
       "        text-align: right;\n",
       "    }\n",
       "</style>\n",
       "<table border=\"1\" class=\"dataframe\">\n",
       "  <thead>\n",
       "    <tr style=\"text-align: right;\">\n",
       "      <th>source_type</th>\n",
       "      <th>borehole</th>\n",
       "      <th>dam</th>\n",
       "      <th>other</th>\n",
       "      <th>rainwater harvesting</th>\n",
       "      <th>river/lake</th>\n",
       "      <th>shallow well</th>\n",
       "      <th>spring</th>\n",
       "    </tr>\n",
       "    <tr>\n",
       "      <th>status_group</th>\n",
       "      <th></th>\n",
       "      <th></th>\n",
       "      <th></th>\n",
       "      <th></th>\n",
       "      <th></th>\n",
       "      <th></th>\n",
       "      <th></th>\n",
       "    </tr>\n",
       "  </thead>\n",
       "  <tbody>\n",
       "    <tr>\n",
       "      <th>functional</th>\n",
       "      <td>5919</td>\n",
       "      <td>253</td>\n",
       "      <td>158</td>\n",
       "      <td>1386</td>\n",
       "      <td>5627</td>\n",
       "      <td>8324</td>\n",
       "      <td>10592</td>\n",
       "    </tr>\n",
       "    <tr>\n",
       "      <th>functional needs repair</th>\n",
       "      <td>508</td>\n",
       "      <td>24</td>\n",
       "      <td>5</td>\n",
       "      <td>314</td>\n",
       "      <td>1233</td>\n",
       "      <td>957</td>\n",
       "      <td>1276</td>\n",
       "    </tr>\n",
       "    <tr>\n",
       "      <th>non functional</th>\n",
       "      <td>5522</td>\n",
       "      <td>379</td>\n",
       "      <td>115</td>\n",
       "      <td>595</td>\n",
       "      <td>3517</td>\n",
       "      <td>7543</td>\n",
       "      <td>5153</td>\n",
       "    </tr>\n",
       "  </tbody>\n",
       "</table>\n",
       "</div>"
      ],
      "text/plain": [
       "source_type              borehole  dam  other  rainwater harvesting  \\\n",
       "status_group                                                          \n",
       "functional                   5919  253    158                  1386   \n",
       "functional needs repair       508   24      5                   314   \n",
       "non functional               5522  379    115                   595   \n",
       "\n",
       "source_type              river/lake  shallow well  spring  \n",
       "status_group                                               \n",
       "functional                     5627          8324   10592  \n",
       "functional needs repair        1233           957    1276  \n",
       "non functional                 3517          7543    5153  "
      ]
     },
     "execution_count": 70,
     "metadata": {},
     "output_type": "execute_result"
    }
   ],
   "source": [
    "# Source type #7\n",
    "Train.groupby('source_type')['id'].nunique().sort_values(ascending=False) \n",
    "Train.pivot_table('id','status_group','source_type',aggfunc='count').fillna(0).astype(int)"
   ]
  },
  {
   "cell_type": "code",
   "execution_count": null,
   "id": "younger-routine",
   "metadata": {},
   "outputs": [],
   "source": [
    "# source_class #3 \n",
    "Train.groupby('source_class')['id'].nunique().sort_values(ascending=False) #3\n",
    "Train.pivot_table('id','status_group','source_class',aggfunc='count').fillna(0).astype(int)"
   ]
  },
  {
   "cell_type": "markdown",
   "id": "above-passage",
   "metadata": {},
   "source": [
    "### Cleanning -  waterpoint_type  | waterpoint_type_group "
   ]
  },
  {
   "cell_type": "code",
   "execution_count": null,
   "id": "ideal-bowling",
   "metadata": {},
   "outputs": [],
   "source": [
    "Train.groupby('waterpoint_type')['id'].nunique().sort_values(ascending=False) #7\n",
    "Train.pivot_table('id','status_group','waterpoint_type',aggfunc='count').fillna(0).astype(int)"
   ]
  },
  {
   "cell_type": "code",
   "execution_count": null,
   "id": "mental-baptist",
   "metadata": {},
   "outputs": [],
   "source": [
    "Train.groupby('waterpoint_type_group')['id'].nunique().sort_values(ascending=False) #6\n",
    "Train.pivot_table('id','status_group','waterpoint_type_group',aggfunc='count').fillna(0).astype(int)"
   ]
  },
  {
   "cell_type": "code",
   "execution_count": null,
   "id": "south-parliament",
   "metadata": {},
   "outputs": [],
   "source": [
    "Train[['region','population']]\n",
    "df_pop = Train.pivot_table('id','region','population',aggfunc='sum').fillna(0).astype(int) \n",
    "df_pop['sum'] = df_pop.sum(axis = 1)\n",
    "df_pop['sum']"
   ]
  },
  {
   "cell_type": "code",
   "execution_count": null,
   "id": "presidential-diamond",
   "metadata": {},
   "outputs": [],
   "source": []
  }
 ],
 "metadata": {
  "kernelspec": {
   "display_name": "Python 3",
   "language": "python",
   "name": "python3"
  },
  "language_info": {
   "codemirror_mode": {
    "name": "ipython",
    "version": 3
   },
   "file_extension": ".py",
   "mimetype": "text/x-python",
   "name": "python",
   "nbconvert_exporter": "python",
   "pygments_lexer": "ipython3",
   "version": "3.7.10"
  }
 },
 "nbformat": 4,
 "nbformat_minor": 5
}
