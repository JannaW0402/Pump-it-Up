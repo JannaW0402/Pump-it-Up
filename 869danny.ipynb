{
  "nbformat": 4,
  "nbformat_minor": 0,
  "metadata": {
    "colab": {
      "name": "pump_working_clustering.ipynb",
      "provenance": [],
      "collapsed_sections": [],
      "include_colab_link": true
    },
    "kernelspec": {
      "display_name": "Python 3",
      "name": "python3"
    },
    "language_info": {
      "name": "python"
    }
  },
  "cells": [
    {
      "cell_type": "markdown",
      "metadata": {
        "id": "view-in-github",
        "colab_type": "text"
      },
      "source": [
        "<a href=\"https://colab.research.google.com/github/JannaW0402/Pump-it-Up/blob/main/869danny.ipynb\" target=\"_parent\"><img src=\"https://colab.research.google.com/assets/colab-badge.svg\" alt=\"Open In Colab\"/></a>"
      ]
    },
    {
      "cell_type": "code",
      "metadata": {
        "colab": {
          "resources": {
            "http://localhost:8080/nbextensions/google.colab/files.js": {
              "data": "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",
              "ok": true,
              "headers": [
                [
                  "content-type",
                  "application/javascript"
                ]
              ],
              "status": 200,
              "status_text": ""
            }
          },
          "base_uri": "https://localhost:8080/",
          "height": 72
        },
        "id": "SYrkkc-c2CV4",
        "outputId": "222bdf6f-f16e-4046-ffdb-a545647182ce"
      },
      "source": [
        "from google.colab import files\n",
        "\n",
        "uploaded = files.upload()\n"
      ],
      "execution_count": null,
      "outputs": [
        {
          "output_type": "display_data",
          "data": {
            "text/html": [
              "\n",
              "     <input type=\"file\" id=\"files-44298f13-d17a-44b5-ae96-1dff02eba9ff\" name=\"files[]\" multiple disabled\n",
              "        style=\"border:none\" />\n",
              "     <output id=\"result-44298f13-d17a-44b5-ae96-1dff02eba9ff\">\n",
              "      Upload widget is only available when the cell has been executed in the\n",
              "      current browser session. Please rerun this cell to enable.\n",
              "      </output>\n",
              "      <script src=\"/nbextensions/google.colab/files.js\"></script> "
            ],
            "text/plain": [
              "<IPython.core.display.HTML object>"
            ]
          },
          "metadata": {
            "tags": []
          }
        },
        {
          "output_type": "stream",
          "text": [
            "Saving Train value with labels (1).csv to Train value with labels (1).csv\n"
          ],
          "name": "stdout"
        }
      ]
    },
    {
      "cell_type": "code",
      "metadata": {
        "id": "WgUn_FZo3asV"
      },
      "source": [
        "import pandas as pd\n",
        "import io\n",
        "\n",
        "df = pd.read_csv(io.StringIO(uploaded['Train value with labels (1).csv'].decode('utf-8')))"
      ],
      "execution_count": null,
      "outputs": []
    },
    {
      "cell_type": "code",
      "metadata": {
        "colab": {
          "base_uri": "https://localhost:8080/"
        },
        "id": "0uQOQ9Tj4NYw",
        "outputId": "53c13fa8-c2a1-4f77-ba3c-5675e77c9a29"
      },
      "source": [
        "#Change all unknown permit to false\n",
        "df['permit'].replace(['Unknown'],'False')"
      ],
      "execution_count": null,
      "outputs": [
        {
          "output_type": "execute_result",
          "data": {
            "text/plain": [
              "0        False\n",
              "1         True\n",
              "2         True\n",
              "3         True\n",
              "4         True\n",
              "         ...  \n",
              "59395     True\n",
              "59396     True\n",
              "59397    False\n",
              "59398     True\n",
              "59399     True\n",
              "Name: permit, Length: 59400, dtype: object"
            ]
          },
          "metadata": {
            "tags": []
          },
          "execution_count": 3
        }
      ]
    },
    {
      "cell_type": "code",
      "metadata": {
        "colab": {
          "base_uri": "https://localhost:8080/"
        },
        "id": "n0BwmbamJhJo",
        "outputId": "99939bcc-7389-48c9-ce3a-2b645236cebe"
      },
      "source": [
        "df['permit'].describe()"
      ],
      "execution_count": null,
      "outputs": [
        {
          "output_type": "execute_result",
          "data": {
            "text/plain": [
              "count     56344\n",
              "unique        2\n",
              "top        True\n",
              "freq      38852\n",
              "Name: permit, dtype: object"
            ]
          },
          "metadata": {
            "tags": []
          },
          "execution_count": 4
        }
      ]
    },
    {
      "cell_type": "code",
      "metadata": {
        "id": "m8wBonvVKJUg"
      },
      "source": [
        "import pandas as pd\n",
        "import numpy as np\n",
        "\n",
        "import matplotlib.pyplot as plt\n",
        "\n",
        "from IPython.core.interactiveshell import InteractiveShell\n",
        "InteractiveShell.ast_node_interactivity = \"all\""
      ],
      "execution_count": null,
      "outputs": []
    },
    {
      "cell_type": "code",
      "metadata": {
        "colab": {
          "base_uri": "https://localhost:8080/"
        },
        "id": "k9iILBH9LU_K",
        "outputId": "6784ba48-6358-4523-ad7c-8b7b74051c46"
      },
      "source": [
        "df.info()"
      ],
      "execution_count": null,
      "outputs": [
        {
          "output_type": "stream",
          "text": [
            "<class 'pandas.core.frame.DataFrame'>\n",
            "RangeIndex: 59400 entries, 0 to 59399\n",
            "Data columns (total 41 columns):\n",
            " #   Column                 Non-Null Count  Dtype  \n",
            "---  ------                 --------------  -----  \n",
            " 0   id                     59400 non-null  int64  \n",
            " 1   amount_tsh             59400 non-null  float64\n",
            " 2   date_recorded          59400 non-null  object \n",
            " 3   funder                 55765 non-null  object \n",
            " 4   gps_height             59400 non-null  int64  \n",
            " 5   installer              55745 non-null  object \n",
            " 6   longitude              59400 non-null  float64\n",
            " 7   latitude               59400 non-null  float64\n",
            " 8   wpt_name               59400 non-null  object \n",
            " 9   num_private            59400 non-null  int64  \n",
            " 10  basin                  59400 non-null  object \n",
            " 11  subvillage             59029 non-null  object \n",
            " 12  region                 59400 non-null  object \n",
            " 13  region_code            59400 non-null  int64  \n",
            " 14  district_code          59400 non-null  int64  \n",
            " 15  lga                    59400 non-null  object \n",
            " 16  ward                   59400 non-null  object \n",
            " 17  population             59400 non-null  int64  \n",
            " 18  public_meeting         56066 non-null  object \n",
            " 19  recorded_by            59400 non-null  object \n",
            " 20  scheme_management      55523 non-null  object \n",
            " 21  scheme_name            31234 non-null  object \n",
            " 22  permit                 56344 non-null  object \n",
            " 23  construction_year      59400 non-null  int64  \n",
            " 24  extraction_type        59400 non-null  object \n",
            " 25  extraction_type_group  59400 non-null  object \n",
            " 26  extraction_type_class  59400 non-null  object \n",
            " 27  management             59400 non-null  object \n",
            " 28  management_group       59400 non-null  object \n",
            " 29  payment                59400 non-null  object \n",
            " 30  payment_type           59400 non-null  object \n",
            " 31  water_quality          59400 non-null  object \n",
            " 32  quality_group          59400 non-null  object \n",
            " 33  quantity               59400 non-null  object \n",
            " 34  quantity_group         59400 non-null  object \n",
            " 35  source                 59400 non-null  object \n",
            " 36  source_type            59400 non-null  object \n",
            " 37  source_class           59400 non-null  object \n",
            " 38  waterpoint_type        59400 non-null  object \n",
            " 39  waterpoint_type_group  59400 non-null  object \n",
            " 40  status_group           59400 non-null  object \n",
            "dtypes: float64(3), int64(7), object(31)\n",
            "memory usage: 18.6+ MB\n"
          ],
          "name": "stdout"
        }
      ]
    },
    {
      "cell_type": "code",
      "metadata": {
        "id": "tCQkXqRiJsIf"
      },
      "source": [
        "sdf = df.sample(frac=0.1, replace=True, random_state=1)"
      ],
      "execution_count": null,
      "outputs": []
    },
    {
      "cell_type": "code",
      "metadata": {
        "id": "bOJI6KJJLZqb"
      },
      "source": [
        "X = sdf.to_numpy()"
      ],
      "execution_count": null,
      "outputs": []
    },
    {
      "cell_type": "code",
      "metadata": {
        "colab": {
          "base_uri": "https://localhost:8080/"
        },
        "id": "_MARMz97LeeB",
        "outputId": "54f00dc1-437e-4e9c-ff62-63711a2eb80d"
      },
      "source": [
        "X.shape"
      ],
      "execution_count": null,
      "outputs": [
        {
          "output_type": "execute_result",
          "data": {
            "text/plain": [
              "(5940, 41)"
            ]
          },
          "metadata": {
            "tags": []
          },
          "execution_count": 12
        }
      ]
    },
    {
      "cell_type": "code",
      "metadata": {
        "colab": {
          "base_uri": "https://localhost:8080/",
          "height": 282
        },
        "id": "h1vEHTiyLgrw",
        "outputId": "ac801d7d-6d28-410b-e539-aaa28572db19"
      },
      "source": [
        "plt.figure()\n",
        "plt.scatter(X[:,13],X[:,23], c=\"black\")"
      ],
      "execution_count": null,
      "outputs": [
        {
          "output_type": "execute_result",
          "data": {
            "text/plain": [
              "<Figure size 432x288 with 0 Axes>"
            ]
          },
          "metadata": {
            "tags": []
          },
          "execution_count": 13
        },
        {
          "output_type": "execute_result",
          "data": {
            "text/plain": [
              "<matplotlib.collections.PathCollection at 0x7f19974632d0>"
            ]
          },
          "metadata": {
            "tags": []
          },
          "execution_count": 13
        },
        {
          "output_type": "display_data",
          "data": {
            "image/png": "[encoded data removed]",
            "text/plain": [
              "<Figure size 432x288 with 1 Axes>"
            ]
          },
          "metadata": {
            "tags": [],
            "needs_background": "light"
          }
        }
      ]
    },
    {
      "cell_type": "code",
      "metadata": {
        "colab": {
          "base_uri": "https://localhost:8080/"
        },
        "id": "u2HuM001Qhcz",
        "outputId": "d87e7521-0ae8-4fa8-a69f-0770912b2d36"
      },
      "source": [
        "n_features = df.shape[1]\n",
        "\n",
        "cat_col_names = list(df.select_dtypes(include=np.object).columns)\n",
        "num_col_names = list(df.select_dtypes(include=np.number).columns)\n",
        "\n",
        "print('cat_col_names: {}'.format(cat_col_names))\n",
        "print('num_col_names: {}'.format(num_col_names))"
      ],
      "execution_count": null,
      "outputs": [
        {
          "output_type": "stream",
          "text": [
            "cat_col_names: ['date_recorded', 'funder', 'installer', 'wpt_name', 'basin', 'subvillage', 'region', 'lga', 'ward', 'public_meeting', 'recorded_by', 'scheme_management', 'scheme_name', 'permit', 'extraction_type', 'extraction_type_group', 'extraction_type_class', 'management', 'management_group', 'payment', 'payment_type', 'water_quality', 'quality_group', 'quantity', 'quantity_group', 'source', 'source_type', 'source_class', 'waterpoint_type', 'waterpoint_type_group', 'status_group']\n",
            "num_col_names: ['id', 'amount_tsh', 'gps_height', 'longitude', 'latitude', 'num_private', 'region_code', 'district_code', 'population', 'construction_year']\n"
          ],
          "name": "stdout"
        }
      ]
    },
    {
      "cell_type": "code",
      "metadata": {
        "colab": {
          "base_uri": "https://localhost:8080/",
          "height": 359
        },
        "id": "maP5VRd-QmYb",
        "outputId": "7546d7c5-a391-4fda-81df-cdd14f4b87d0"
      },
      "source": [
        "sdf.describe(include=[np.number]).transpose()\n"
      ],
      "execution_count": null,
      "outputs": [
        {
          "output_type": "execute_result",
          "data": {
            "text/html": [
              "<div>\n",
              "<style scoped>\n",
              "    .dataframe tbody tr th:only-of-type {\n",
              "        vertical-align: middle;\n",
              "    }\n",
              "\n",
              "    .dataframe tbody tr th {\n",
              "        vertical-align: top;\n",
              "    }\n",
              "\n",
              "    .dataframe thead th {\n",
              "        text-align: right;\n",
              "    }\n",
              "</style>\n",
              "<table border=\"1\" class=\"dataframe\">\n",
              "  <thead>\n",
              "    <tr style=\"text-align: right;\">\n",
              "      <th></th>\n",
              "      <th>count</th>\n",
              "      <th>mean</th>\n",
              "      <th>std</th>\n",
              "      <th>min</th>\n",
              "      <th>25%</th>\n",
              "      <th>50%</th>\n",
              "      <th>75%</th>\n",
              "      <th>max</th>\n",
              "    </tr>\n",
              "  </thead>\n",
              "  <tbody>\n",
              "    <tr>\n",
              "      <th>id</th>\n",
              "      <td>5940.0</td>\n",
              "      <td>37015.020539</td>\n",
              "      <td>21634.795285</td>\n",
              "      <td>7.000000</td>\n",
              "      <td>18118.000000</td>\n",
              "      <td>37159.500000</td>\n",
              "      <td>55868.000000</td>\n",
              "      <td>7.423900e+04</td>\n",
              "    </tr>\n",
              "    <tr>\n",
              "      <th>amount_tsh</th>\n",
              "      <td>5940.0</td>\n",
              "      <td>286.051515</td>\n",
              "      <td>1887.029903</td>\n",
              "      <td>0.000000</td>\n",
              "      <td>0.000000</td>\n",
              "      <td>0.000000</td>\n",
              "      <td>20.000000</td>\n",
              "      <td>1.170000e+05</td>\n",
              "    </tr>\n",
              "    <tr>\n",
              "      <th>gps_height</th>\n",
              "      <td>5940.0</td>\n",
              "      <td>663.127609</td>\n",
              "      <td>693.261010</td>\n",
              "      <td>-53.000000</td>\n",
              "      <td>0.000000</td>\n",
              "      <td>354.000000</td>\n",
              "      <td>1319.000000</td>\n",
              "      <td>2.539000e+03</td>\n",
              "    </tr>\n",
              "    <tr>\n",
              "      <th>longitude</th>\n",
              "      <td>5940.0</td>\n",
              "      <td>34.032498</td>\n",
              "      <td>6.696751</td>\n",
              "      <td>0.000000</td>\n",
              "      <td>33.078938</td>\n",
              "      <td>34.883094</td>\n",
              "      <td>37.184736</td>\n",
              "      <td>4.034430e+01</td>\n",
              "    </tr>\n",
              "    <tr>\n",
              "      <th>latitude</th>\n",
              "      <td>5940.0</td>\n",
              "      <td>-5.682334</td>\n",
              "      <td>2.952066</td>\n",
              "      <td>-11.564509</td>\n",
              "      <td>-8.559185</td>\n",
              "      <td>-5.019712</td>\n",
              "      <td>-3.314560</td>\n",
              "      <td>-2.000000e-08</td>\n",
              "    </tr>\n",
              "    <tr>\n",
              "      <th>num_private</th>\n",
              "      <td>5940.0</td>\n",
              "      <td>0.501347</td>\n",
              "      <td>11.136322</td>\n",
              "      <td>0.000000</td>\n",
              "      <td>0.000000</td>\n",
              "      <td>0.000000</td>\n",
              "      <td>0.000000</td>\n",
              "      <td>7.550000e+02</td>\n",
              "    </tr>\n",
              "    <tr>\n",
              "      <th>region_code</th>\n",
              "      <td>5940.0</td>\n",
              "      <td>15.045455</td>\n",
              "      <td>17.118722</td>\n",
              "      <td>1.000000</td>\n",
              "      <td>5.000000</td>\n",
              "      <td>12.000000</td>\n",
              "      <td>17.000000</td>\n",
              "      <td>9.900000e+01</td>\n",
              "    </tr>\n",
              "    <tr>\n",
              "      <th>district_code</th>\n",
              "      <td>5940.0</td>\n",
              "      <td>5.474579</td>\n",
              "      <td>9.360735</td>\n",
              "      <td>0.000000</td>\n",
              "      <td>2.000000</td>\n",
              "      <td>3.000000</td>\n",
              "      <td>5.000000</td>\n",
              "      <td>6.300000e+01</td>\n",
              "    </tr>\n",
              "    <tr>\n",
              "      <th>population</th>\n",
              "      <td>5940.0</td>\n",
              "      <td>166.667340</td>\n",
              "      <td>394.148928</td>\n",
              "      <td>0.000000</td>\n",
              "      <td>0.000000</td>\n",
              "      <td>25.000000</td>\n",
              "      <td>210.000000</td>\n",
              "      <td>8.000000e+03</td>\n",
              "    </tr>\n",
              "    <tr>\n",
              "      <th>construction_year</th>\n",
              "      <td>5940.0</td>\n",
              "      <td>1290.541751</td>\n",
              "      <td>954.853807</td>\n",
              "      <td>0.000000</td>\n",
              "      <td>0.000000</td>\n",
              "      <td>1985.000000</td>\n",
              "      <td>2004.000000</td>\n",
              "      <td>2.013000e+03</td>\n",
              "    </tr>\n",
              "  </tbody>\n",
              "</table>\n",
              "</div>"
            ],
            "text/plain": [
              "                    count          mean  ...           75%           max\n",
              "id                 5940.0  37015.020539  ...  55868.000000  7.423900e+04\n",
              "amount_tsh         5940.0    286.051515  ...     20.000000  1.170000e+05\n",
              "gps_height         5940.0    663.127609  ...   1319.000000  2.539000e+03\n",
              "longitude          5940.0     34.032498  ...     37.184736  4.034430e+01\n",
              "latitude           5940.0     -5.682334  ...     -3.314560 -2.000000e-08\n",
              "num_private        5940.0      0.501347  ...      0.000000  7.550000e+02\n",
              "region_code        5940.0     15.045455  ...     17.000000  9.900000e+01\n",
              "district_code      5940.0      5.474579  ...      5.000000  6.300000e+01\n",
              "population         5940.0    166.667340  ...    210.000000  8.000000e+03\n",
              "construction_year  5940.0   1290.541751  ...   2004.000000  2.013000e+03\n",
              "\n",
              "[10 rows x 8 columns]"
            ]
          },
          "metadata": {
            "tags": []
          },
          "execution_count": 16
        }
      ]
    },
    {
      "cell_type": "code",
      "metadata": {
        "colab": {
          "base_uri": "https://localhost:8080/",
          "height": 1000
        },
        "id": "RdsWX5JJQsBX",
        "outputId": "8a61c83d-2991-4f30-ace3-d120d5aede38"
      },
      "source": [
        "sdf.describe(include=[np.object]).transpose()\n"
      ],
      "execution_count": null,
      "outputs": [
        {
          "output_type": "execute_result",
          "data": {
            "text/html": [
              "<div>\n",
              "<style scoped>\n",
              "    .dataframe tbody tr th:only-of-type {\n",
              "        vertical-align: middle;\n",
              "    }\n",
              "\n",
              "    .dataframe tbody tr th {\n",
              "        vertical-align: top;\n",
              "    }\n",
              "\n",
              "    .dataframe thead th {\n",
              "        text-align: right;\n",
              "    }\n",
              "</style>\n",
              "<table border=\"1\" class=\"dataframe\">\n",
              "  <thead>\n",
              "    <tr style=\"text-align: right;\">\n",
              "      <th></th>\n",
              "      <th>count</th>\n",
              "      <th>unique</th>\n",
              "      <th>top</th>\n",
              "      <th>freq</th>\n",
              "    </tr>\n",
              "  </thead>\n",
              "  <tbody>\n",
              "    <tr>\n",
              "      <th>date_recorded</th>\n",
              "      <td>5940</td>\n",
              "      <td>309</td>\n",
              "      <td>2011-03-17</td>\n",
              "      <td>66</td>\n",
              "    </tr>\n",
              "    <tr>\n",
              "      <th>funder</th>\n",
              "      <td>5586</td>\n",
              "      <td>618</td>\n",
              "      <td>Government Of Tanzania</td>\n",
              "      <td>893</td>\n",
              "    </tr>\n",
              "    <tr>\n",
              "      <th>installer</th>\n",
              "      <td>5581</td>\n",
              "      <td>654</td>\n",
              "      <td>DWE</td>\n",
              "      <td>1742</td>\n",
              "    </tr>\n",
              "    <tr>\n",
              "      <th>wpt_name</th>\n",
              "      <td>5940</td>\n",
              "      <td>4398</td>\n",
              "      <td>none</td>\n",
              "      <td>367</td>\n",
              "    </tr>\n",
              "    <tr>\n",
              "      <th>basin</th>\n",
              "      <td>5940</td>\n",
              "      <td>9</td>\n",
              "      <td>Lake Victoria</td>\n",
              "      <td>1064</td>\n",
              "    </tr>\n",
              "    <tr>\n",
              "      <th>subvillage</th>\n",
              "      <td>5891</td>\n",
              "      <td>3995</td>\n",
              "      <td>Majengo</td>\n",
              "      <td>54</td>\n",
              "    </tr>\n",
              "    <tr>\n",
              "      <th>region</th>\n",
              "      <td>5940</td>\n",
              "      <td>21</td>\n",
              "      <td>Iringa</td>\n",
              "      <td>543</td>\n",
              "    </tr>\n",
              "    <tr>\n",
              "      <th>lga</th>\n",
              "      <td>5940</td>\n",
              "      <td>124</td>\n",
              "      <td>Njombe</td>\n",
              "      <td>258</td>\n",
              "    </tr>\n",
              "    <tr>\n",
              "      <th>ward</th>\n",
              "      <td>5940</td>\n",
              "      <td>1614</td>\n",
              "      <td>Igosi</td>\n",
              "      <td>42</td>\n",
              "    </tr>\n",
              "    <tr>\n",
              "      <th>public_meeting</th>\n",
              "      <td>5595</td>\n",
              "      <td>2</td>\n",
              "      <td>True</td>\n",
              "      <td>5111</td>\n",
              "    </tr>\n",
              "    <tr>\n",
              "      <th>recorded_by</th>\n",
              "      <td>5940</td>\n",
              "      <td>1</td>\n",
              "      <td>GeoData Consultants Ltd</td>\n",
              "      <td>5940</td>\n",
              "    </tr>\n",
              "    <tr>\n",
              "      <th>scheme_management</th>\n",
              "      <td>5552</td>\n",
              "      <td>11</td>\n",
              "      <td>VWC</td>\n",
              "      <td>3687</td>\n",
              "    </tr>\n",
              "    <tr>\n",
              "      <th>scheme_name</th>\n",
              "      <td>3126</td>\n",
              "      <td>1141</td>\n",
              "      <td>K</td>\n",
              "      <td>76</td>\n",
              "    </tr>\n",
              "    <tr>\n",
              "      <th>permit</th>\n",
              "      <td>5646</td>\n",
              "      <td>2</td>\n",
              "      <td>True</td>\n",
              "      <td>3887</td>\n",
              "    </tr>\n",
              "    <tr>\n",
              "      <th>extraction_type</th>\n",
              "      <td>5940</td>\n",
              "      <td>17</td>\n",
              "      <td>gravity</td>\n",
              "      <td>2724</td>\n",
              "    </tr>\n",
              "    <tr>\n",
              "      <th>extraction_type_group</th>\n",
              "      <td>5940</td>\n",
              "      <td>13</td>\n",
              "      <td>gravity</td>\n",
              "      <td>2724</td>\n",
              "    </tr>\n",
              "    <tr>\n",
              "      <th>extraction_type_class</th>\n",
              "      <td>5940</td>\n",
              "      <td>7</td>\n",
              "      <td>gravity</td>\n",
              "      <td>2724</td>\n",
              "    </tr>\n",
              "    <tr>\n",
              "      <th>management</th>\n",
              "      <td>5940</td>\n",
              "      <td>12</td>\n",
              "      <td>vwc</td>\n",
              "      <td>4047</td>\n",
              "    </tr>\n",
              "    <tr>\n",
              "      <th>management_group</th>\n",
              "      <td>5940</td>\n",
              "      <td>5</td>\n",
              "      <td>user-group</td>\n",
              "      <td>5213</td>\n",
              "    </tr>\n",
              "    <tr>\n",
              "      <th>payment</th>\n",
              "      <td>5940</td>\n",
              "      <td>7</td>\n",
              "      <td>never pay</td>\n",
              "      <td>2523</td>\n",
              "    </tr>\n",
              "    <tr>\n",
              "      <th>payment_type</th>\n",
              "      <td>5940</td>\n",
              "      <td>7</td>\n",
              "      <td>never pay</td>\n",
              "      <td>2523</td>\n",
              "    </tr>\n",
              "    <tr>\n",
              "      <th>water_quality</th>\n",
              "      <td>5940</td>\n",
              "      <td>8</td>\n",
              "      <td>soft</td>\n",
              "      <td>5075</td>\n",
              "    </tr>\n",
              "    <tr>\n",
              "      <th>quality_group</th>\n",
              "      <td>5940</td>\n",
              "      <td>6</td>\n",
              "      <td>good</td>\n",
              "      <td>5075</td>\n",
              "    </tr>\n",
              "    <tr>\n",
              "      <th>quantity</th>\n",
              "      <td>5940</td>\n",
              "      <td>5</td>\n",
              "      <td>enough</td>\n",
              "      <td>3351</td>\n",
              "    </tr>\n",
              "    <tr>\n",
              "      <th>quantity_group</th>\n",
              "      <td>5940</td>\n",
              "      <td>5</td>\n",
              "      <td>enough</td>\n",
              "      <td>3351</td>\n",
              "    </tr>\n",
              "    <tr>\n",
              "      <th>source</th>\n",
              "      <td>5940</td>\n",
              "      <td>10</td>\n",
              "      <td>spring</td>\n",
              "      <td>1726</td>\n",
              "    </tr>\n",
              "    <tr>\n",
              "      <th>source_type</th>\n",
              "      <td>5940</td>\n",
              "      <td>7</td>\n",
              "      <td>spring</td>\n",
              "      <td>1726</td>\n",
              "    </tr>\n",
              "    <tr>\n",
              "      <th>source_class</th>\n",
              "      <td>5940</td>\n",
              "      <td>3</td>\n",
              "      <td>groundwater</td>\n",
              "      <td>4569</td>\n",
              "    </tr>\n",
              "    <tr>\n",
              "      <th>waterpoint_type</th>\n",
              "      <td>5940</td>\n",
              "      <td>6</td>\n",
              "      <td>communal standpipe</td>\n",
              "      <td>2877</td>\n",
              "    </tr>\n",
              "    <tr>\n",
              "      <th>waterpoint_type_group</th>\n",
              "      <td>5940</td>\n",
              "      <td>5</td>\n",
              "      <td>communal standpipe</td>\n",
              "      <td>3494</td>\n",
              "    </tr>\n",
              "    <tr>\n",
              "      <th>status_group</th>\n",
              "      <td>5940</td>\n",
              "      <td>3</td>\n",
              "      <td>functional</td>\n",
              "      <td>3307</td>\n",
              "    </tr>\n",
              "  </tbody>\n",
              "</table>\n",
              "</div>"
            ],
            "text/plain": [
              "                      count unique                      top  freq\n",
              "date_recorded          5940    309               2011-03-17    66\n",
              "funder                 5586    618   Government Of Tanzania   893\n",
              "installer              5581    654                      DWE  1742\n",
              "wpt_name               5940   4398                     none   367\n",
              "basin                  5940      9            Lake Victoria  1064\n",
              "subvillage             5891   3995                  Majengo    54\n",
              "region                 5940     21                   Iringa   543\n",
              "lga                    5940    124                   Njombe   258\n",
              "ward                   5940   1614                    Igosi    42\n",
              "public_meeting         5595      2                     True  5111\n",
              "recorded_by            5940      1  GeoData Consultants Ltd  5940\n",
              "scheme_management      5552     11                      VWC  3687\n",
              "scheme_name            3126   1141                        K    76\n",
              "permit                 5646      2                     True  3887\n",
              "extraction_type        5940     17                  gravity  2724\n",
              "extraction_type_group  5940     13                  gravity  2724\n",
              "extraction_type_class  5940      7                  gravity  2724\n",
              "management             5940     12                      vwc  4047\n",
              "management_group       5940      5               user-group  5213\n",
              "payment                5940      7                never pay  2523\n",
              "payment_type           5940      7                never pay  2523\n",
              "water_quality          5940      8                     soft  5075\n",
              "quality_group          5940      6                     good  5075\n",
              "quantity               5940      5                   enough  3351\n",
              "quantity_group         5940      5                   enough  3351\n",
              "source                 5940     10                   spring  1726\n",
              "source_type            5940      7                   spring  1726\n",
              "source_class           5940      3              groundwater  4569\n",
              "waterpoint_type        5940      6       communal standpipe  2877\n",
              "waterpoint_type_group  5940      5       communal standpipe  3494\n",
              "status_group           5940      3               functional  3307"
            ]
          },
          "metadata": {
            "tags": []
          },
          "execution_count": 17
        }
      ]
    },
    {
      "cell_type": "code",
      "metadata": {
        "colab": {
          "base_uri": "https://localhost:8080/"
        },
        "id": "aJsE-wBFMPs_",
        "outputId": "80a211c5-f2fb-4135-bb49-b9f6ab9d682a"
      },
      "source": [
        "from sklearn.preprocessing import StandardScaler\n",
        "\n",
        "X_num = sdf[num_col_names].to_numpy()\n",
        "X_cat = sdf[cat_col_names].to_numpy()\n",
        "\n",
        "# Be sure to scale all numeric features\n",
        "scaler = StandardScaler()\n",
        "X_num = scaler.fit_transform(X_num)\n",
        "\n",
        "X = np.concatenate((X_num, X_cat), axis=1)\n",
        "X"
      ],
      "execution_count": null,
      "outputs": [
        {
          "output_type": "execute_result",
          "data": {
            "text/plain": [
              "array([[-1.1941964346496308, -0.15160098739124653, -0.9566143573358573,\n",
              "        ..., 'communal standpipe multiple', 'communal standpipe',\n",
              "        'non functional'],\n",
              "       [-0.7434493503227688, -0.15160098739124653, -0.4805630914364927,\n",
              "        ..., 'communal standpipe multiple', 'communal standpipe',\n",
              "        'non functional'],\n",
              "       [0.525446913114044, -0.15160098739124653, 1.7150430500751224, ...,\n",
              "        'communal standpipe', 'communal standpipe', 'functional'],\n",
              "       ...,\n",
              "       [0.21249872719538382, -0.15160098739124653, 2.4060386754260183,\n",
              "        ..., 'communal standpipe', 'communal standpipe', 'functional'],\n",
              "       [0.29048153216507067, -0.15160098739124653, -0.9566143573358573,\n",
              "        ..., 'communal standpipe multiple', 'communal standpipe',\n",
              "        'functional'],\n",
              "       [-1.2375099428041043, -0.15160098739124653, -0.9566143573358573,\n",
              "        ..., 'hand pump', 'hand pump', 'functional']], dtype=object)"
            ]
          },
          "metadata": {
            "tags": []
          },
          "execution_count": 18
        }
      ]
    },
    {
      "cell_type": "code",
      "metadata": {
        "id": "SAvOPVxaRAqa"
      },
      "source": [
        "from scipy.spatial import distance\n",
        "\n",
        "\n",
        "def _validate_vector(u, dtype=None):\n",
        "    # XXX Is order='c' really necessary?\n",
        "    u = np.asarray(u, dtype=dtype, order='c').squeeze()\n",
        "    # Ensure values such as u=1 and u=[1] still return 1-D arrays.\n",
        "    u = np.atleast_1d(u)\n",
        "    if u.ndim > 1:\n",
        "        raise ValueError(\"Input vector should be 1-D.\")\n",
        "    return u\n",
        "\n",
        "\n",
        "def danny_dist(u, v, p=2, w=None):\n",
        "  print(u)\n",
        "  u = _validate_vector(u)\n",
        "  v = _validate_vector(v)\n",
        "  if p < 1:\n",
        "      raise ValueError(\"p must be at least 1\")\n",
        "\n",
        "  print(u)\n",
        "  print(u)\n",
        "  print(v)\n",
        "  u_v = u - v\n",
        "  if w is not None:\n",
        "      w = _validate_weights(w)\n",
        "      if p == 1:\n",
        "          root_w = w\n",
        "      if p == 2:\n",
        "          # better precision and speed\n",
        "          root_w = np.sqrt(w)\n",
        "      else:\n",
        "          root_w = np.power(w, 1/p)\n",
        "      u_v = root_w * u_v\n",
        "  dist = norm(u_v, ord=p)\n",
        "  return dist\n",
        "\n",
        "\n",
        "def custom_dist(x1,x2,cat_cols=None,num_cols=None):\n",
        "  n = len(x1)\n",
        "  #print(num_cols)\n",
        "  #dist_num = danny_dist(x1[num_cols],x2[num_cols])\n",
        "  dist_num = distance.euclidean(x1[num_cols],x2[num_cols])\n",
        "  dist_cat = distance.hamming(x1[cat_cols],x2[cat_cols])\n",
        "  dist=(dist_num*sum(num_cols) + dist_cat*sum(cat_cols)) / n\n",
        "  return dist\n"
      ],
      "execution_count": null,
      "outputs": []
    },
    {
      "cell_type": "code",
      "metadata": {
        "colab": {
          "base_uri": "https://localhost:8080/"
        },
        "id": "opB5NvFGRq_6",
        "outputId": "46f15cf1-1481-4c30-e564-428b046bcb44"
      },
      "source": [
        "from scipy.spatial.distance import pdist\n",
        "\n",
        "cat_cols = [type(x)==str for x in X[1,:]]\n",
        "num_cols = [not x for x in cat_cols]\n",
        "\n",
        "count=-1\n",
        "for x in num_cols:\n",
        "  count+=1\n",
        "  if(x == True):\n",
        "    print (x, count)\n",
        "\n",
        "#num_cols = [(not x and type(x) == int) for x in cat_cols]\n",
        "\n",
        "num_cols[19] = False\n",
        "num_cols[22] = False\n",
        "num_cols[23] = False\n",
        "#print(num_cols)\n",
        "\n",
        "Y = pdist(X, custom_dist, cat_cols=cat_cols, num_cols=num_cols)"
      ],
      "execution_count": null,
      "outputs": [
        {
          "output_type": "stream",
          "text": [
            "True 0\n",
            "True 1\n",
            "True 2\n",
            "True 3\n",
            "True 4\n",
            "True 5\n",
            "True 6\n",
            "True 7\n",
            "True 8\n",
            "True 9\n",
            "True 19\n",
            "True 23\n"
          ],
          "name": "stdout"
        }
      ]
    },
    {
      "cell_type": "code",
      "metadata": {
        "id": "Tn0fZpCCS7O6"
      },
      "source": [
        "import scipy.cluster\n",
        "\n",
        "aggl = scipy.cluster.hierarchy.linkage(Y, method='ward')"
      ],
      "execution_count": null,
      "outputs": []
    },
    {
      "cell_type": "code",
      "metadata": {
        "colab": {
          "base_uri": "https://localhost:8080/",
          "height": 486
        },
        "id": "dslwov21N4nB",
        "outputId": "9350fc3e-85ce-449d-b8ce-b3b399b896f5"
      },
      "source": [
        "plt.figure(figsize=(16, 8));\n",
        "plt.grid(False)\n",
        "dend = scipy.cluster.hierarchy.dendrogram(aggl);"
      ],
      "execution_count": null,
      "outputs": [
        {
          "output_type": "display_data",
          "data": {
            "image/png": "[encoded data removed]",
            "text/plain": [
              "<Figure size 1152x576 with 1 Axes>"
            ]
          },
          "metadata": {
            "tags": [],
            "needs_background": "light"
          }
        }
      ]
    },
    {
      "cell_type": "code",
      "metadata": {
        "id": "fM6VLL0nMfWN"
      },
      "source": [
        "# Let's find K=5 clusters\n",
        "K=5\n",
        "labels = scipy.cluster.hierarchy.fcluster(aggl, K, criterion=\"maxclust\")"
      ],
      "execution_count": null,
      "outputs": []
    },
    {
      "cell_type": "code",
      "metadata": {
        "id": "dEUrrYzQcbjl"
      },
      "source": [
        "labels100 = scipy.cluster.hierarchy.fcluster(aggl, 100, criterion=\"maxclust\")"
      ],
      "execution_count": null,
      "outputs": []
    },
    {
      "cell_type": "code",
      "metadata": {
        "id": "bmM-IfDwcfGD"
      },
      "source": [
        "sdf['cluster100'] = labels100"
      ],
      "execution_count": null,
      "outputs": []
    },
    {
      "cell_type": "code",
      "metadata": {
        "colab": {
          "base_uri": "https://localhost:8080/"
        },
        "id": "zCSkZeWze6Vx",
        "outputId": "3f7ba951-4201-4bf8-d17a-86f29930af31"
      },
      "source": [
        "#Data repair based on clustering\n",
        "\n",
        "#Repair construction year\n",
        "#For each cluster, find the min year\n",
        "#If construction year in cluster == 0\n",
        "# Insert year\n",
        "\n",
        "def replace_with_min_year (df, cluster_count, cluster_colname):\n",
        "  missing = 0\n",
        "  for i in range(cluster_count):\n",
        "    current_cluster = df[df[cluster_colname] == i]\n",
        "    current_cluster_with_construction_year = current_cluster[current_cluster['construction_year'] > 0]\n",
        "    if len(current_cluster_with_construction_year) > 0:\n",
        "      min_year = current_cluster_with_construction_year['construction_year'].min()\n",
        "      df.loc[(df[cluster_colname] == i) & (df['construction_year'] == 0)] = min_year\n",
        "    else:\n",
        "      missing += len(current_cluster)\n",
        "      print('no year in this cluster', i)\n",
        "\n",
        "  print(\"total missing\",missing)\n",
        "\n",
        "\n",
        "replace_with_min_year(sdf,100,'cluster100')\n",
        "\n"
      ],
      "execution_count": null,
      "outputs": [
        {
          "output_type": "stream",
          "text": [
            "no year in this cluster 0\n",
            "no year in this cluster 56\n",
            "no year in this cluster 57\n",
            "no year in this cluster 65\n",
            "no year in this cluster 73\n",
            "no year in this cluster 74\n",
            "no year in this cluster 75\n",
            "no year in this cluster 76\n",
            "no year in this cluster 77\n",
            "no year in this cluster 78\n",
            "no year in this cluster 79\n",
            "no year in this cluster 80\n",
            "no year in this cluster 81\n",
            "no year in this cluster 82\n",
            "no year in this cluster 83\n",
            "no year in this cluster 86\n",
            "no year in this cluster 87\n",
            "no year in this cluster 88\n",
            "no year in this cluster 89\n",
            "no year in this cluster 90\n",
            "no year in this cluster 91\n",
            "no year in this cluster 92\n",
            "no year in this cluster 93\n",
            "no year in this cluster 94\n",
            "no year in this cluster 95\n",
            "no year in this cluster 96\n",
            "no year in this cluster 97\n",
            "no year in this cluster 98\n",
            "no year in this cluster 99\n",
            "total missing 1992\n"
          ],
          "name": "stdout"
        }
      ]
    },
    {
      "cell_type": "code",
      "metadata": {
        "colab": {
          "base_uri": "https://localhost:8080/"
        },
        "id": "Kr4shW4_Qc_J",
        "outputId": "9d4375bb-f206-4104-804d-ed553f749ec8"
      },
      "source": [
        "labels"
      ],
      "execution_count": null,
      "outputs": [
        {
          "output_type": "execute_result",
          "data": {
            "text/plain": [
              "array([5, 1, 1, ..., 1, 5, 4], dtype=int32)"
            ]
          },
          "metadata": {
            "tags": []
          },
          "execution_count": 33
        }
      ]
    },
    {
      "cell_type": "code",
      "metadata": {
        "id": "DbQXrWUxRz7f"
      },
      "source": [
        "sdf['cluster'] = labels"
      ],
      "execution_count": null,
      "outputs": []
    },
    {
      "cell_type": "code",
      "metadata": {
        "id": "dBrdSea2R6PX"
      },
      "source": [
        "group1 = sdf[sdf['cluster'] == 1]\n",
        "group2 = sdf[sdf['cluster'] == 2]\n",
        "group3 = sdf[sdf['cluster'] == 3]\n",
        "group4 = sdf[sdf['cluster'] == 4]\n",
        "group5 = sdf[sdf['cluster'] == 5]"
      ],
      "execution_count": null,
      "outputs": []
    },
    {
      "cell_type": "code",
      "metadata": {
        "id": "BKh4VvbzSmF2"
      },
      "source": [
        "group1_with_construction_year = group1[group1['construction_year']>0] \n",
        "group2_with_construction_year = group2[group2['construction_year']>0] \n",
        "group3_with_construction_year = group3[group3['construction_year']>0] \n",
        "group4_with_construction_year = group4[group4['construction_year']>0] \n",
        "group5_with_construction_year = group5[group5['construction_year']>0] "
      ],
      "execution_count": null,
      "outputs": []
    },
    {
      "cell_type": "code",
      "metadata": {
        "colab": {
          "base_uri": "https://localhost:8080/",
          "height": 1000
        },
        "id": "HmEKFU0ZTQnO",
        "outputId": "e9b3f3b4-d48d-4e3a-f25b-a0f1c2398799"
      },
      "source": [
        "group1_with_construction_year.describe()\n",
        "group2_with_construction_year.describe()\n",
        "group3_with_construction_year.describe()\n",
        "group4_with_construction_year.describe()\n",
        "group5_with_construction_year.describe()"
      ],
      "execution_count": null,
      "outputs": [
        {
          "output_type": "execute_result",
          "data": {
            "text/html": [
              "<div>\n",
              "<style scoped>\n",
              "    .dataframe tbody tr th:only-of-type {\n",
              "        vertical-align: middle;\n",
              "    }\n",
              "\n",
              "    .dataframe tbody tr th {\n",
              "        vertical-align: top;\n",
              "    }\n",
              "\n",
              "    .dataframe thead th {\n",
              "        text-align: right;\n",
              "    }\n",
              "</style>\n",
              "<table border=\"1\" class=\"dataframe\">\n",
              "  <thead>\n",
              "    <tr style=\"text-align: right;\">\n",
              "      <th></th>\n",
              "      <th>id</th>\n",
              "      <th>amount_tsh</th>\n",
              "      <th>gps_height</th>\n",
              "      <th>longitude</th>\n",
              "      <th>latitude</th>\n",
              "      <th>num_private</th>\n",
              "      <th>region_code</th>\n",
              "      <th>district_code</th>\n",
              "      <th>population</th>\n",
              "      <th>construction_year</th>\n",
              "      <th>cluster</th>\n",
              "    </tr>\n",
              "  </thead>\n",
              "  <tbody>\n",
              "    <tr>\n",
              "      <th>count</th>\n",
              "      <td>3500.00</td>\n",
              "      <td>3500.00</td>\n",
              "      <td>3500.00</td>\n",
              "      <td>3500.00</td>\n",
              "      <td>3500.00</td>\n",
              "      <td>3500.00</td>\n",
              "      <td>3500.00</td>\n",
              "      <td>3500.00</td>\n",
              "      <td>3500.00</td>\n",
              "      <td>3500.00</td>\n",
              "      <td>3500.00</td>\n",
              "    </tr>\n",
              "    <tr>\n",
              "      <th>mean</th>\n",
              "      <td>36781.95</td>\n",
              "      <td>470.42</td>\n",
              "      <td>1075.26</td>\n",
              "      <td>35.74</td>\n",
              "      <td>-5.96</td>\n",
              "      <td>0.54</td>\n",
              "      <td>9.65</td>\n",
              "      <td>3.16</td>\n",
              "      <td>251.92</td>\n",
              "      <td>1996.81</td>\n",
              "      <td>1.00</td>\n",
              "    </tr>\n",
              "    <tr>\n",
              "      <th>std</th>\n",
              "      <td>21537.13</td>\n",
              "      <td>2434.74</td>\n",
              "      <td>589.89</td>\n",
              "      <td>2.47</td>\n",
              "      <td>2.68</td>\n",
              "      <td>5.90</td>\n",
              "      <td>7.14</td>\n",
              "      <td>2.67</td>\n",
              "      <td>473.41</td>\n",
              "      <td>12.53</td>\n",
              "      <td>0.00</td>\n",
              "    </tr>\n",
              "    <tr>\n",
              "      <th>min</th>\n",
              "      <td>49.00</td>\n",
              "      <td>0.00</td>\n",
              "      <td>-50.00</td>\n",
              "      <td>29.61</td>\n",
              "      <td>-11.56</td>\n",
              "      <td>0.00</td>\n",
              "      <td>2.00</td>\n",
              "      <td>1.00</td>\n",
              "      <td>0.00</td>\n",
              "      <td>1960.00</td>\n",
              "      <td>1.00</td>\n",
              "    </tr>\n",
              "    <tr>\n",
              "      <th>25%</th>\n",
              "      <td>18055.00</td>\n",
              "      <td>0.00</td>\n",
              "      <td>584.50</td>\n",
              "      <td>34.60</td>\n",
              "      <td>-8.15</td>\n",
              "      <td>0.00</td>\n",
              "      <td>4.00</td>\n",
              "      <td>2.00</td>\n",
              "      <td>30.00</td>\n",
              "      <td>1988.00</td>\n",
              "      <td>1.00</td>\n",
              "    </tr>\n",
              "    <tr>\n",
              "      <th>50%</th>\n",
              "      <td>36951.00</td>\n",
              "      <td>0.00</td>\n",
              "      <td>1213.00</td>\n",
              "      <td>36.09</td>\n",
              "      <td>-5.25</td>\n",
              "      <td>0.00</td>\n",
              "      <td>10.00</td>\n",
              "      <td>3.00</td>\n",
              "      <td>145.00</td>\n",
              "      <td>2000.00</td>\n",
              "      <td>1.00</td>\n",
              "    </tr>\n",
              "    <tr>\n",
              "      <th>75%</th>\n",
              "      <td>54938.25</td>\n",
              "      <td>250.00</td>\n",
              "      <td>1512.00</td>\n",
              "      <td>37.56</td>\n",
              "      <td>-3.56</td>\n",
              "      <td>0.00</td>\n",
              "      <td>13.00</td>\n",
              "      <td>4.00</td>\n",
              "      <td>300.00</td>\n",
              "      <td>2008.00</td>\n",
              "      <td>1.00</td>\n",
              "    </tr>\n",
              "    <tr>\n",
              "      <th>max</th>\n",
              "      <td>74239.00</td>\n",
              "      <td>117000.00</td>\n",
              "      <td>2539.00</td>\n",
              "      <td>40.32</td>\n",
              "      <td>-1.11</td>\n",
              "      <td>160.00</td>\n",
              "      <td>99.00</td>\n",
              "      <td>62.00</td>\n",
              "      <td>8000.00</td>\n",
              "      <td>2013.00</td>\n",
              "      <td>1.00</td>\n",
              "    </tr>\n",
              "  </tbody>\n",
              "</table>\n",
              "</div>"
            ],
            "text/plain": [
              "            id  amount_tsh  gps_height  ...  population  construction_year  cluster\n",
              "count  3500.00     3500.00     3500.00  ...     3500.00            3500.00  3500.00\n",
              "mean  36781.95      470.42     1075.26  ...      251.92            1996.81     1.00\n",
              "std   21537.13     2434.74      589.89  ...      473.41              12.53     0.00\n",
              "min      49.00        0.00      -50.00  ...        0.00            1960.00     1.00\n",
              "25%   18055.00        0.00      584.50  ...       30.00            1988.00     1.00\n",
              "50%   36951.00        0.00     1213.00  ...      145.00            2000.00     1.00\n",
              "75%   54938.25      250.00     1512.00  ...      300.00            2008.00     1.00\n",
              "max   74239.00   117000.00     2539.00  ...     8000.00            2013.00     1.00\n",
              "\n",
              "[8 rows x 11 columns]"
            ]
          },
          "metadata": {
            "tags": []
          },
          "execution_count": 44
        },
        {
          "output_type": "execute_result",
          "data": {
            "text/html": [
              "<div>\n",
              "<style scoped>\n",
              "    .dataframe tbody tr th:only-of-type {\n",
              "        vertical-align: middle;\n",
              "    }\n",
              "\n",
              "    .dataframe tbody tr th {\n",
              "        vertical-align: top;\n",
              "    }\n",
              "\n",
              "    .dataframe thead th {\n",
              "        text-align: right;\n",
              "    }\n",
              "</style>\n",
              "<table border=\"1\" class=\"dataframe\">\n",
              "  <thead>\n",
              "    <tr style=\"text-align: right;\">\n",
              "      <th></th>\n",
              "      <th>id</th>\n",
              "      <th>amount_tsh</th>\n",
              "      <th>gps_height</th>\n",
              "      <th>longitude</th>\n",
              "      <th>latitude</th>\n",
              "      <th>num_private</th>\n",
              "      <th>region_code</th>\n",
              "      <th>district_code</th>\n",
              "      <th>population</th>\n",
              "      <th>construction_year</th>\n",
              "      <th>cluster</th>\n",
              "    </tr>\n",
              "  </thead>\n",
              "  <tbody>\n",
              "    <tr>\n",
              "      <th>count</th>\n",
              "      <td>1.00</td>\n",
              "      <td>1.00</td>\n",
              "      <td>1.00</td>\n",
              "      <td>1.00</td>\n",
              "      <td>1.00</td>\n",
              "      <td>1.00</td>\n",
              "      <td>1.00</td>\n",
              "      <td>1.00</td>\n",
              "      <td>1.00</td>\n",
              "      <td>1.00</td>\n",
              "      <td>1.00</td>\n",
              "    </tr>\n",
              "    <tr>\n",
              "      <th>mean</th>\n",
              "      <td>12724.00</td>\n",
              "      <td>20.00</td>\n",
              "      <td>175.00</td>\n",
              "      <td>38.78</td>\n",
              "      <td>-5.17</td>\n",
              "      <td>755.00</td>\n",
              "      <td>4.00</td>\n",
              "      <td>3.00</td>\n",
              "      <td>3000.00</td>\n",
              "      <td>2005.00</td>\n",
              "      <td>2.00</td>\n",
              "    </tr>\n",
              "    <tr>\n",
              "      <th>std</th>\n",
              "      <td>nan</td>\n",
              "      <td>nan</td>\n",
              "      <td>nan</td>\n",
              "      <td>nan</td>\n",
              "      <td>nan</td>\n",
              "      <td>nan</td>\n",
              "      <td>nan</td>\n",
              "      <td>nan</td>\n",
              "      <td>nan</td>\n",
              "      <td>nan</td>\n",
              "      <td>nan</td>\n",
              "    </tr>\n",
              "    <tr>\n",
              "      <th>min</th>\n",
              "      <td>12724.00</td>\n",
              "      <td>20.00</td>\n",
              "      <td>175.00</td>\n",
              "      <td>38.78</td>\n",
              "      <td>-5.17</td>\n",
              "      <td>755.00</td>\n",
              "      <td>4.00</td>\n",
              "      <td>3.00</td>\n",
              "      <td>3000.00</td>\n",
              "      <td>2005.00</td>\n",
              "      <td>2.00</td>\n",
              "    </tr>\n",
              "    <tr>\n",
              "      <th>25%</th>\n",
              "      <td>12724.00</td>\n",
              "      <td>20.00</td>\n",
              "      <td>175.00</td>\n",
              "      <td>38.78</td>\n",
              "      <td>-5.17</td>\n",
              "      <td>755.00</td>\n",
              "      <td>4.00</td>\n",
              "      <td>3.00</td>\n",
              "      <td>3000.00</td>\n",
              "      <td>2005.00</td>\n",
              "      <td>2.00</td>\n",
              "    </tr>\n",
              "    <tr>\n",
              "      <th>50%</th>\n",
              "      <td>12724.00</td>\n",
              "      <td>20.00</td>\n",
              "      <td>175.00</td>\n",
              "      <td>38.78</td>\n",
              "      <td>-5.17</td>\n",
              "      <td>755.00</td>\n",
              "      <td>4.00</td>\n",
              "      <td>3.00</td>\n",
              "      <td>3000.00</td>\n",
              "      <td>2005.00</td>\n",
              "      <td>2.00</td>\n",
              "    </tr>\n",
              "    <tr>\n",
              "      <th>75%</th>\n",
              "      <td>12724.00</td>\n",
              "      <td>20.00</td>\n",
              "      <td>175.00</td>\n",
              "      <td>38.78</td>\n",
              "      <td>-5.17</td>\n",
              "      <td>755.00</td>\n",
              "      <td>4.00</td>\n",
              "      <td>3.00</td>\n",
              "      <td>3000.00</td>\n",
              "      <td>2005.00</td>\n",
              "      <td>2.00</td>\n",
              "    </tr>\n",
              "    <tr>\n",
              "      <th>max</th>\n",
              "      <td>12724.00</td>\n",
              "      <td>20.00</td>\n",
              "      <td>175.00</td>\n",
              "      <td>38.78</td>\n",
              "      <td>-5.17</td>\n",
              "      <td>755.00</td>\n",
              "      <td>4.00</td>\n",
              "      <td>3.00</td>\n",
              "      <td>3000.00</td>\n",
              "      <td>2005.00</td>\n",
              "      <td>2.00</td>\n",
              "    </tr>\n",
              "  </tbody>\n",
              "</table>\n",
              "</div>"
            ],
            "text/plain": [
              "            id  amount_tsh  gps_height  ...  population  construction_year  cluster\n",
              "count     1.00        1.00        1.00  ...        1.00               1.00     1.00\n",
              "mean  12724.00       20.00      175.00  ...     3000.00            2005.00     2.00\n",
              "std        nan         nan         nan  ...         nan                nan      nan\n",
              "min   12724.00       20.00      175.00  ...     3000.00            2005.00     2.00\n",
              "25%   12724.00       20.00      175.00  ...     3000.00            2005.00     2.00\n",
              "50%   12724.00       20.00      175.00  ...     3000.00            2005.00     2.00\n",
              "75%   12724.00       20.00      175.00  ...     3000.00            2005.00     2.00\n",
              "max   12724.00       20.00      175.00  ...     3000.00            2005.00     2.00\n",
              "\n",
              "[8 rows x 11 columns]"
            ]
          },
          "metadata": {
            "tags": []
          },
          "execution_count": 44
        },
        {
          "output_type": "execute_result",
          "data": {
            "text/html": [
              "<div>\n",
              "<style scoped>\n",
              "    .dataframe tbody tr th:only-of-type {\n",
              "        vertical-align: middle;\n",
              "    }\n",
              "\n",
              "    .dataframe tbody tr th {\n",
              "        vertical-align: top;\n",
              "    }\n",
              "\n",
              "    .dataframe thead th {\n",
              "        text-align: right;\n",
              "    }\n",
              "</style>\n",
              "<table border=\"1\" class=\"dataframe\">\n",
              "  <thead>\n",
              "    <tr style=\"text-align: right;\">\n",
              "      <th></th>\n",
              "      <th>id</th>\n",
              "      <th>amount_tsh</th>\n",
              "      <th>gps_height</th>\n",
              "      <th>longitude</th>\n",
              "      <th>latitude</th>\n",
              "      <th>num_private</th>\n",
              "      <th>region_code</th>\n",
              "      <th>district_code</th>\n",
              "      <th>population</th>\n",
              "      <th>construction_year</th>\n",
              "      <th>cluster</th>\n",
              "    </tr>\n",
              "  </thead>\n",
              "  <tbody>\n",
              "    <tr>\n",
              "      <th>count</th>\n",
              "      <td>305.00</td>\n",
              "      <td>305.00</td>\n",
              "      <td>305.00</td>\n",
              "      <td>305.00</td>\n",
              "      <td>305.00</td>\n",
              "      <td>305.00</td>\n",
              "      <td>305.00</td>\n",
              "      <td>305.00</td>\n",
              "      <td>305.00</td>\n",
              "      <td>305.00</td>\n",
              "      <td>305.00</td>\n",
              "    </tr>\n",
              "    <tr>\n",
              "      <th>mean</th>\n",
              "      <td>36362.99</td>\n",
              "      <td>83.34</td>\n",
              "      <td>170.29</td>\n",
              "      <td>39.16</td>\n",
              "      <td>-9.39</td>\n",
              "      <td>0.01</td>\n",
              "      <td>79.32</td>\n",
              "      <td>32.42</td>\n",
              "      <td>232.47</td>\n",
              "      <td>1996.55</td>\n",
              "      <td>3.00</td>\n",
              "    </tr>\n",
              "    <tr>\n",
              "      <th>std</th>\n",
              "      <td>21748.57</td>\n",
              "      <td>462.95</td>\n",
              "      <td>181.04</td>\n",
              "      <td>0.50</td>\n",
              "      <td>1.35</td>\n",
              "      <td>0.14</td>\n",
              "      <td>13.96</td>\n",
              "      <td>19.64</td>\n",
              "      <td>278.34</td>\n",
              "      <td>13.43</td>\n",
              "      <td>0.00</td>\n",
              "    </tr>\n",
              "    <tr>\n",
              "      <th>min</th>\n",
              "      <td>66.00</td>\n",
              "      <td>0.00</td>\n",
              "      <td>-53.00</td>\n",
              "      <td>37.71</td>\n",
              "      <td>-11.36</td>\n",
              "      <td>0.00</td>\n",
              "      <td>40.00</td>\n",
              "      <td>1.00</td>\n",
              "      <td>1.00</td>\n",
              "      <td>1962.00</td>\n",
              "      <td>3.00</td>\n",
              "    </tr>\n",
              "    <tr>\n",
              "      <th>25%</th>\n",
              "      <td>17918.00</td>\n",
              "      <td>0.00</td>\n",
              "      <td>24.00</td>\n",
              "      <td>38.92</td>\n",
              "      <td>-10.48</td>\n",
              "      <td>0.00</td>\n",
              "      <td>60.00</td>\n",
              "      <td>13.00</td>\n",
              "      <td>1.00</td>\n",
              "      <td>1985.00</td>\n",
              "      <td>3.00</td>\n",
              "    </tr>\n",
              "    <tr>\n",
              "      <th>50%</th>\n",
              "      <td>37161.00</td>\n",
              "      <td>0.00</td>\n",
              "      <td>110.00</td>\n",
              "      <td>39.11</td>\n",
              "      <td>-10.03</td>\n",
              "      <td>0.00</td>\n",
              "      <td>80.00</td>\n",
              "      <td>33.00</td>\n",
              "      <td>200.00</td>\n",
              "      <td>2002.00</td>\n",
              "      <td>3.00</td>\n",
              "    </tr>\n",
              "    <tr>\n",
              "      <th>75%</th>\n",
              "      <td>56440.00</td>\n",
              "      <td>25.00</td>\n",
              "      <td>307.00</td>\n",
              "      <td>39.41</td>\n",
              "      <td>-7.99</td>\n",
              "      <td>0.00</td>\n",
              "      <td>90.00</td>\n",
              "      <td>53.00</td>\n",
              "      <td>350.00</td>\n",
              "      <td>2008.00</td>\n",
              "      <td>3.00</td>\n",
              "    </tr>\n",
              "    <tr>\n",
              "      <th>max</th>\n",
              "      <td>73471.00</td>\n",
              "      <td>5000.00</td>\n",
              "      <td>731.00</td>\n",
              "      <td>40.34</td>\n",
              "      <td>-7.00</td>\n",
              "      <td>2.00</td>\n",
              "      <td>99.00</td>\n",
              "      <td>63.00</td>\n",
              "      <td>2000.00</td>\n",
              "      <td>2013.00</td>\n",
              "      <td>3.00</td>\n",
              "    </tr>\n",
              "  </tbody>\n",
              "</table>\n",
              "</div>"
            ],
            "text/plain": [
              "            id  amount_tsh  gps_height  ...  population  construction_year  cluster\n",
              "count   305.00      305.00      305.00  ...      305.00             305.00   305.00\n",
              "mean  36362.99       83.34      170.29  ...      232.47            1996.55     3.00\n",
              "std   21748.57      462.95      181.04  ...      278.34              13.43     0.00\n",
              "min      66.00        0.00      -53.00  ...        1.00            1962.00     3.00\n",
              "25%   17918.00        0.00       24.00  ...        1.00            1985.00     3.00\n",
              "50%   37161.00        0.00      110.00  ...      200.00            2002.00     3.00\n",
              "75%   56440.00       25.00      307.00  ...      350.00            2008.00     3.00\n",
              "max   73471.00     5000.00      731.00  ...     2000.00            2013.00     3.00\n",
              "\n",
              "[8 rows x 11 columns]"
            ]
          },
          "metadata": {
            "tags": []
          },
          "execution_count": 44
        },
        {
          "output_type": "execute_result",
          "data": {
            "text/html": [
              "<div>\n",
              "<style scoped>\n",
              "    .dataframe tbody tr th:only-of-type {\n",
              "        vertical-align: middle;\n",
              "    }\n",
              "\n",
              "    .dataframe tbody tr th {\n",
              "        vertical-align: top;\n",
              "    }\n",
              "\n",
              "    .dataframe thead th {\n",
              "        text-align: right;\n",
              "    }\n",
              "</style>\n",
              "<table border=\"1\" class=\"dataframe\">\n",
              "  <thead>\n",
              "    <tr style=\"text-align: right;\">\n",
              "      <th></th>\n",
              "      <th>id</th>\n",
              "      <th>amount_tsh</th>\n",
              "      <th>gps_height</th>\n",
              "      <th>longitude</th>\n",
              "      <th>latitude</th>\n",
              "      <th>num_private</th>\n",
              "      <th>region_code</th>\n",
              "      <th>district_code</th>\n",
              "      <th>population</th>\n",
              "      <th>construction_year</th>\n",
              "      <th>cluster</th>\n",
              "    </tr>\n",
              "  </thead>\n",
              "  <tbody>\n",
              "    <tr>\n",
              "      <th>count</th>\n",
              "      <td>0.00</td>\n",
              "      <td>0.00</td>\n",
              "      <td>0.00</td>\n",
              "      <td>0.00</td>\n",
              "      <td>0.00</td>\n",
              "      <td>0.00</td>\n",
              "      <td>0.00</td>\n",
              "      <td>0.00</td>\n",
              "      <td>0.00</td>\n",
              "      <td>0.00</td>\n",
              "      <td>0.00</td>\n",
              "    </tr>\n",
              "    <tr>\n",
              "      <th>mean</th>\n",
              "      <td>nan</td>\n",
              "      <td>nan</td>\n",
              "      <td>nan</td>\n",
              "      <td>nan</td>\n",
              "      <td>nan</td>\n",
              "      <td>nan</td>\n",
              "      <td>nan</td>\n",
              "      <td>nan</td>\n",
              "      <td>nan</td>\n",
              "      <td>nan</td>\n",
              "      <td>nan</td>\n",
              "    </tr>\n",
              "    <tr>\n",
              "      <th>std</th>\n",
              "      <td>nan</td>\n",
              "      <td>nan</td>\n",
              "      <td>nan</td>\n",
              "      <td>nan</td>\n",
              "      <td>nan</td>\n",
              "      <td>nan</td>\n",
              "      <td>nan</td>\n",
              "      <td>nan</td>\n",
              "      <td>nan</td>\n",
              "      <td>nan</td>\n",
              "      <td>nan</td>\n",
              "    </tr>\n",
              "    <tr>\n",
              "      <th>min</th>\n",
              "      <td>nan</td>\n",
              "      <td>nan</td>\n",
              "      <td>nan</td>\n",
              "      <td>nan</td>\n",
              "      <td>nan</td>\n",
              "      <td>nan</td>\n",
              "      <td>nan</td>\n",
              "      <td>nan</td>\n",
              "      <td>nan</td>\n",
              "      <td>nan</td>\n",
              "      <td>nan</td>\n",
              "    </tr>\n",
              "    <tr>\n",
              "      <th>25%</th>\n",
              "      <td>nan</td>\n",
              "      <td>nan</td>\n",
              "      <td>nan</td>\n",
              "      <td>nan</td>\n",
              "      <td>nan</td>\n",
              "      <td>nan</td>\n",
              "      <td>nan</td>\n",
              "      <td>nan</td>\n",
              "      <td>nan</td>\n",
              "      <td>nan</td>\n",
              "      <td>nan</td>\n",
              "    </tr>\n",
              "    <tr>\n",
              "      <th>50%</th>\n",
              "      <td>nan</td>\n",
              "      <td>nan</td>\n",
              "      <td>nan</td>\n",
              "      <td>nan</td>\n",
              "      <td>nan</td>\n",
              "      <td>nan</td>\n",
              "      <td>nan</td>\n",
              "      <td>nan</td>\n",
              "      <td>nan</td>\n",
              "      <td>nan</td>\n",
              "      <td>nan</td>\n",
              "    </tr>\n",
              "    <tr>\n",
              "      <th>75%</th>\n",
              "      <td>nan</td>\n",
              "      <td>nan</td>\n",
              "      <td>nan</td>\n",
              "      <td>nan</td>\n",
              "      <td>nan</td>\n",
              "      <td>nan</td>\n",
              "      <td>nan</td>\n",
              "      <td>nan</td>\n",
              "      <td>nan</td>\n",
              "      <td>nan</td>\n",
              "      <td>nan</td>\n",
              "    </tr>\n",
              "    <tr>\n",
              "      <th>max</th>\n",
              "      <td>nan</td>\n",
              "      <td>nan</td>\n",
              "      <td>nan</td>\n",
              "      <td>nan</td>\n",
              "      <td>nan</td>\n",
              "      <td>nan</td>\n",
              "      <td>nan</td>\n",
              "      <td>nan</td>\n",
              "      <td>nan</td>\n",
              "      <td>nan</td>\n",
              "      <td>nan</td>\n",
              "    </tr>\n",
              "  </tbody>\n",
              "</table>\n",
              "</div>"
            ],
            "text/plain": [
              "        id  amount_tsh  gps_height  ...  population  construction_year  cluster\n",
              "count 0.00        0.00        0.00  ...        0.00               0.00     0.00\n",
              "mean   nan         nan         nan  ...         nan                nan      nan\n",
              "std    nan         nan         nan  ...         nan                nan      nan\n",
              "min    nan         nan         nan  ...         nan                nan      nan\n",
              "25%    nan         nan         nan  ...         nan                nan      nan\n",
              "50%    nan         nan         nan  ...         nan                nan      nan\n",
              "75%    nan         nan         nan  ...         nan                nan      nan\n",
              "max    nan         nan         nan  ...         nan                nan      nan\n",
              "\n",
              "[8 rows x 11 columns]"
            ]
          },
          "metadata": {
            "tags": []
          },
          "execution_count": 44
        },
        {
          "output_type": "execute_result",
          "data": {
            "text/html": [
              "<div>\n",
              "<style scoped>\n",
              "    .dataframe tbody tr th:only-of-type {\n",
              "        vertical-align: middle;\n",
              "    }\n",
              "\n",
              "    .dataframe tbody tr th {\n",
              "        vertical-align: top;\n",
              "    }\n",
              "\n",
              "    .dataframe thead th {\n",
              "        text-align: right;\n",
              "    }\n",
              "</style>\n",
              "<table border=\"1\" class=\"dataframe\">\n",
              "  <thead>\n",
              "    <tr style=\"text-align: right;\">\n",
              "      <th></th>\n",
              "      <th>id</th>\n",
              "      <th>amount_tsh</th>\n",
              "      <th>gps_height</th>\n",
              "      <th>longitude</th>\n",
              "      <th>latitude</th>\n",
              "      <th>num_private</th>\n",
              "      <th>region_code</th>\n",
              "      <th>district_code</th>\n",
              "      <th>population</th>\n",
              "      <th>construction_year</th>\n",
              "      <th>cluster</th>\n",
              "    </tr>\n",
              "  </thead>\n",
              "  <tbody>\n",
              "    <tr>\n",
              "      <th>count</th>\n",
              "      <td>33.00</td>\n",
              "      <td>33.00</td>\n",
              "      <td>33.00</td>\n",
              "      <td>33.00</td>\n",
              "      <td>33.00</td>\n",
              "      <td>33.00</td>\n",
              "      <td>33.00</td>\n",
              "      <td>33.00</td>\n",
              "      <td>33.00</td>\n",
              "      <td>33.00</td>\n",
              "      <td>33.00</td>\n",
              "    </tr>\n",
              "    <tr>\n",
              "      <th>mean</th>\n",
              "      <td>32307.18</td>\n",
              "      <td>13.18</td>\n",
              "      <td>1455.76</td>\n",
              "      <td>35.63</td>\n",
              "      <td>-3.42</td>\n",
              "      <td>0.00</td>\n",
              "      <td>24.00</td>\n",
              "      <td>30.00</td>\n",
              "      <td>544.58</td>\n",
              "      <td>2000.67</td>\n",
              "      <td>5.00</td>\n",
              "    </tr>\n",
              "    <tr>\n",
              "      <th>std</th>\n",
              "      <td>20784.95</td>\n",
              "      <td>11.31</td>\n",
              "      <td>186.89</td>\n",
              "      <td>0.14</td>\n",
              "      <td>0.11</td>\n",
              "      <td>0.00</td>\n",
              "      <td>0.00</td>\n",
              "      <td>0.00</td>\n",
              "      <td>591.02</td>\n",
              "      <td>5.79</td>\n",
              "      <td>0.00</td>\n",
              "    </tr>\n",
              "    <tr>\n",
              "      <th>min</th>\n",
              "      <td>1744.00</td>\n",
              "      <td>0.00</td>\n",
              "      <td>1036.00</td>\n",
              "      <td>35.33</td>\n",
              "      <td>-3.67</td>\n",
              "      <td>0.00</td>\n",
              "      <td>24.00</td>\n",
              "      <td>30.00</td>\n",
              "      <td>1.00</td>\n",
              "      <td>1994.00</td>\n",
              "      <td>5.00</td>\n",
              "    </tr>\n",
              "    <tr>\n",
              "      <th>25%</th>\n",
              "      <td>16472.00</td>\n",
              "      <td>10.00</td>\n",
              "      <td>1411.00</td>\n",
              "      <td>35.59</td>\n",
              "      <td>-3.52</td>\n",
              "      <td>0.00</td>\n",
              "      <td>24.00</td>\n",
              "      <td>30.00</td>\n",
              "      <td>150.00</td>\n",
              "      <td>1994.00</td>\n",
              "      <td>5.00</td>\n",
              "    </tr>\n",
              "    <tr>\n",
              "      <th>50%</th>\n",
              "      <td>27504.00</td>\n",
              "      <td>10.00</td>\n",
              "      <td>1502.00</td>\n",
              "      <td>35.63</td>\n",
              "      <td>-3.38</td>\n",
              "      <td>0.00</td>\n",
              "      <td>24.00</td>\n",
              "      <td>30.00</td>\n",
              "      <td>250.00</td>\n",
              "      <td>2002.00</td>\n",
              "      <td>5.00</td>\n",
              "    </tr>\n",
              "    <tr>\n",
              "      <th>75%</th>\n",
              "      <td>40737.00</td>\n",
              "      <td>10.00</td>\n",
              "      <td>1560.00</td>\n",
              "      <td>35.72</td>\n",
              "      <td>-3.33</td>\n",
              "      <td>0.00</td>\n",
              "      <td>24.00</td>\n",
              "      <td>30.00</td>\n",
              "      <td>600.00</td>\n",
              "      <td>2006.00</td>\n",
              "      <td>5.00</td>\n",
              "    </tr>\n",
              "    <tr>\n",
              "      <th>max</th>\n",
              "      <td>72523.00</td>\n",
              "      <td>50.00</td>\n",
              "      <td>1713.00</td>\n",
              "      <td>35.89</td>\n",
              "      <td>-3.25</td>\n",
              "      <td>0.00</td>\n",
              "      <td>24.00</td>\n",
              "      <td>30.00</td>\n",
              "      <td>2000.00</td>\n",
              "      <td>2012.00</td>\n",
              "      <td>5.00</td>\n",
              "    </tr>\n",
              "  </tbody>\n",
              "</table>\n",
              "</div>"
            ],
            "text/plain": [
              "            id  amount_tsh  gps_height  ...  population  construction_year  cluster\n",
              "count    33.00       33.00       33.00  ...       33.00              33.00    33.00\n",
              "mean  32307.18       13.18     1455.76  ...      544.58            2000.67     5.00\n",
              "std   20784.95       11.31      186.89  ...      591.02               5.79     0.00\n",
              "min    1744.00        0.00     1036.00  ...        1.00            1994.00     5.00\n",
              "25%   16472.00       10.00     1411.00  ...      150.00            1994.00     5.00\n",
              "50%   27504.00       10.00     1502.00  ...      250.00            2002.00     5.00\n",
              "75%   40737.00       10.00     1560.00  ...      600.00            2006.00     5.00\n",
              "max   72523.00       50.00     1713.00  ...     2000.00            2012.00     5.00\n",
              "\n",
              "[8 rows x 11 columns]"
            ]
          },
          "metadata": {
            "tags": []
          },
          "execution_count": 44
        }
      ]
    },
    {
      "cell_type": "code",
      "metadata": {
        "colab": {
          "base_uri": "https://localhost:8080/"
        },
        "id": "BeGTZ2VAZL9y",
        "outputId": "0c3139e7-c1df-4754-ae65-5203b2a8bf07"
      },
      "source": [
        "#group1_with_construction_year.min()\n",
        "group2_with_construction_year['construction_year'].min()\n",
        "#group3_with_construction_year.describe()\n",
        "#group4_with_construction_year.describe()\n",
        "#group5_with_construction_year.describe()"
      ],
      "execution_count": null,
      "outputs": [
        {
          "output_type": "execute_result",
          "data": {
            "text/plain": [
              "2005"
            ]
          },
          "metadata": {
            "tags": []
          },
          "execution_count": 50
        }
      ]
    },
    {
      "cell_type": "code",
      "metadata": {
        "colab": {
          "base_uri": "https://localhost:8080/",
          "height": 394
        },
        "id": "l_ZNKHHlY1od",
        "outputId": "e63ec27d-9a71-4aec-d46c-d934d7762944"
      },
      "source": [
        "group4.head()"
      ],
      "execution_count": null,
      "outputs": [
        {
          "output_type": "execute_result",
          "data": {
            "text/html": [
              "<div>\n",
              "<style scoped>\n",
              "    .dataframe tbody tr th:only-of-type {\n",
              "        vertical-align: middle;\n",
              "    }\n",
              "\n",
              "    .dataframe tbody tr th {\n",
              "        vertical-align: top;\n",
              "    }\n",
              "\n",
              "    .dataframe thead th {\n",
              "        text-align: right;\n",
              "    }\n",
              "</style>\n",
              "<table border=\"1\" class=\"dataframe\">\n",
              "  <thead>\n",
              "    <tr style=\"text-align: right;\">\n",
              "      <th></th>\n",
              "      <th>id</th>\n",
              "      <th>amount_tsh</th>\n",
              "      <th>date_recorded</th>\n",
              "      <th>funder</th>\n",
              "      <th>gps_height</th>\n",
              "      <th>installer</th>\n",
              "      <th>longitude</th>\n",
              "      <th>latitude</th>\n",
              "      <th>wpt_name</th>\n",
              "      <th>num_private</th>\n",
              "      <th>basin</th>\n",
              "      <th>subvillage</th>\n",
              "      <th>region</th>\n",
              "      <th>region_code</th>\n",
              "      <th>district_code</th>\n",
              "      <th>lga</th>\n",
              "      <th>ward</th>\n",
              "      <th>population</th>\n",
              "      <th>public_meeting</th>\n",
              "      <th>recorded_by</th>\n",
              "      <th>scheme_management</th>\n",
              "      <th>scheme_name</th>\n",
              "      <th>permit</th>\n",
              "      <th>construction_year</th>\n",
              "      <th>extraction_type</th>\n",
              "      <th>extraction_type_group</th>\n",
              "      <th>extraction_type_class</th>\n",
              "      <th>management</th>\n",
              "      <th>management_group</th>\n",
              "      <th>payment</th>\n",
              "      <th>payment_type</th>\n",
              "      <th>water_quality</th>\n",
              "      <th>quality_group</th>\n",
              "      <th>quantity</th>\n",
              "      <th>quantity_group</th>\n",
              "      <th>source</th>\n",
              "      <th>source_type</th>\n",
              "      <th>source_class</th>\n",
              "      <th>waterpoint_type</th>\n",
              "      <th>waterpoint_type_group</th>\n",
              "      <th>status_group</th>\n",
              "      <th>cluster</th>\n",
              "    </tr>\n",
              "  </thead>\n",
              "  <tbody>\n",
              "    <tr>\n",
              "      <th>7751</th>\n",
              "      <td>6794</td>\n",
              "      <td>0.00</td>\n",
              "      <td>2013-01-29</td>\n",
              "      <td>Dwsp</td>\n",
              "      <td>0</td>\n",
              "      <td>DWE</td>\n",
              "      <td>0.00</td>\n",
              "      <td>-0.00</td>\n",
              "      <td>Maji Ni Uhai</td>\n",
              "      <td>0</td>\n",
              "      <td>Lake Victoria</td>\n",
              "      <td>Magungulu</td>\n",
              "      <td>Shinyanga</td>\n",
              "      <td>17</td>\n",
              "      <td>1</td>\n",
              "      <td>Bariadi</td>\n",
              "      <td>Gamboshi</td>\n",
              "      <td>0</td>\n",
              "      <td>NaN</td>\n",
              "      <td>GeoData Consultants Ltd</td>\n",
              "      <td>WUG</td>\n",
              "      <td>NaN</td>\n",
              "      <td>False</td>\n",
              "      <td>0</td>\n",
              "      <td>nira/tanira</td>\n",
              "      <td>nira/tanira</td>\n",
              "      <td>handpump</td>\n",
              "      <td>wug</td>\n",
              "      <td>user-group</td>\n",
              "      <td>unknown</td>\n",
              "      <td>unknown</td>\n",
              "      <td>soft</td>\n",
              "      <td>good</td>\n",
              "      <td>enough</td>\n",
              "      <td>enough</td>\n",
              "      <td>shallow well</td>\n",
              "      <td>shallow well</td>\n",
              "      <td>groundwater</td>\n",
              "      <td>hand pump</td>\n",
              "      <td>hand pump</td>\n",
              "      <td>functional</td>\n",
              "      <td>4</td>\n",
              "    </tr>\n",
              "    <tr>\n",
              "      <th>24535</th>\n",
              "      <td>30945</td>\n",
              "      <td>0.00</td>\n",
              "      <td>2013-01-21</td>\n",
              "      <td>Dwsp</td>\n",
              "      <td>0</td>\n",
              "      <td>DWE</td>\n",
              "      <td>0.00</td>\n",
              "      <td>-0.00</td>\n",
              "      <td>Tupendane Wazee</td>\n",
              "      <td>0</td>\n",
              "      <td>Lake Victoria</td>\n",
              "      <td>Kabasa</td>\n",
              "      <td>Shinyanga</td>\n",
              "      <td>17</td>\n",
              "      <td>1</td>\n",
              "      <td>Bariadi</td>\n",
              "      <td>Mwamapalala</td>\n",
              "      <td>0</td>\n",
              "      <td>False</td>\n",
              "      <td>GeoData Consultants Ltd</td>\n",
              "      <td>WUG</td>\n",
              "      <td>NaN</td>\n",
              "      <td>False</td>\n",
              "      <td>0</td>\n",
              "      <td>swn 80</td>\n",
              "      <td>swn 80</td>\n",
              "      <td>handpump</td>\n",
              "      <td>wug</td>\n",
              "      <td>user-group</td>\n",
              "      <td>never pay</td>\n",
              "      <td>never pay</td>\n",
              "      <td>soft</td>\n",
              "      <td>good</td>\n",
              "      <td>enough</td>\n",
              "      <td>enough</td>\n",
              "      <td>shallow well</td>\n",
              "      <td>shallow well</td>\n",
              "      <td>groundwater</td>\n",
              "      <td>hand pump</td>\n",
              "      <td>hand pump</td>\n",
              "      <td>functional needs repair</td>\n",
              "      <td>4</td>\n",
              "    </tr>\n",
              "    <tr>\n",
              "      <th>2561</th>\n",
              "      <td>28210</td>\n",
              "      <td>0.00</td>\n",
              "      <td>2013-01-29</td>\n",
              "      <td>Wsdp &amp; Sdg</td>\n",
              "      <td>0</td>\n",
              "      <td>DWE</td>\n",
              "      <td>0.00</td>\n",
              "      <td>-0.00</td>\n",
              "      <td>Baruasa</td>\n",
              "      <td>0</td>\n",
              "      <td>Lake Victoria</td>\n",
              "      <td>Budeka</td>\n",
              "      <td>Shinyanga</td>\n",
              "      <td>17</td>\n",
              "      <td>1</td>\n",
              "      <td>Bariadi</td>\n",
              "      <td>Bunamhala</td>\n",
              "      <td>0</td>\n",
              "      <td>False</td>\n",
              "      <td>GeoData Consultants Ltd</td>\n",
              "      <td>Water authority</td>\n",
              "      <td>NaN</td>\n",
              "      <td>False</td>\n",
              "      <td>0</td>\n",
              "      <td>other</td>\n",
              "      <td>other</td>\n",
              "      <td>other</td>\n",
              "      <td>water authority</td>\n",
              "      <td>commercial</td>\n",
              "      <td>pay monthly</td>\n",
              "      <td>monthly</td>\n",
              "      <td>soft</td>\n",
              "      <td>good</td>\n",
              "      <td>enough</td>\n",
              "      <td>enough</td>\n",
              "      <td>machine dbh</td>\n",
              "      <td>borehole</td>\n",
              "      <td>groundwater</td>\n",
              "      <td>hand pump</td>\n",
              "      <td>hand pump</td>\n",
              "      <td>functional</td>\n",
              "      <td>4</td>\n",
              "    </tr>\n",
              "    <tr>\n",
              "      <th>16926</th>\n",
              "      <td>59142</td>\n",
              "      <td>0.00</td>\n",
              "      <td>2012-10-04</td>\n",
              "      <td>Hesawa</td>\n",
              "      <td>0</td>\n",
              "      <td>DWR</td>\n",
              "      <td>0.00</td>\n",
              "      <td>-0.00</td>\n",
              "      <td>Kwa Shabi</td>\n",
              "      <td>0</td>\n",
              "      <td>Lake Victoria</td>\n",
              "      <td>Mwanoni</td>\n",
              "      <td>Mwanza</td>\n",
              "      <td>19</td>\n",
              "      <td>2</td>\n",
              "      <td>Magu</td>\n",
              "      <td>Nyaluhande</td>\n",
              "      <td>0</td>\n",
              "      <td>True</td>\n",
              "      <td>GeoData Consultants Ltd</td>\n",
              "      <td>VWC</td>\n",
              "      <td>NaN</td>\n",
              "      <td>True</td>\n",
              "      <td>0</td>\n",
              "      <td>other</td>\n",
              "      <td>other</td>\n",
              "      <td>other</td>\n",
              "      <td>vwc</td>\n",
              "      <td>user-group</td>\n",
              "      <td>never pay</td>\n",
              "      <td>never pay</td>\n",
              "      <td>soft</td>\n",
              "      <td>good</td>\n",
              "      <td>enough</td>\n",
              "      <td>enough</td>\n",
              "      <td>shallow well</td>\n",
              "      <td>shallow well</td>\n",
              "      <td>groundwater</td>\n",
              "      <td>other</td>\n",
              "      <td>other</td>\n",
              "      <td>non functional</td>\n",
              "      <td>4</td>\n",
              "    </tr>\n",
              "    <tr>\n",
              "      <th>48835</th>\n",
              "      <td>70366</td>\n",
              "      <td>0.00</td>\n",
              "      <td>2012-12-16</td>\n",
              "      <td>Unicef</td>\n",
              "      <td>0</td>\n",
              "      <td>World bank</td>\n",
              "      <td>0.00</td>\n",
              "      <td>-0.00</td>\n",
              "      <td>Kwa Lugodisha</td>\n",
              "      <td>0</td>\n",
              "      <td>Lake Victoria</td>\n",
              "      <td>Kayenze</td>\n",
              "      <td>Mwanza</td>\n",
              "      <td>19</td>\n",
              "      <td>2</td>\n",
              "      <td>Magu</td>\n",
              "      <td>Kalemela</td>\n",
              "      <td>0</td>\n",
              "      <td>True</td>\n",
              "      <td>GeoData Consultants Ltd</td>\n",
              "      <td>VWC</td>\n",
              "      <td>NaN</td>\n",
              "      <td>True</td>\n",
              "      <td>0</td>\n",
              "      <td>india mark ii</td>\n",
              "      <td>india mark ii</td>\n",
              "      <td>handpump</td>\n",
              "      <td>vwc</td>\n",
              "      <td>user-group</td>\n",
              "      <td>never pay</td>\n",
              "      <td>never pay</td>\n",
              "      <td>salty</td>\n",
              "      <td>salty</td>\n",
              "      <td>enough</td>\n",
              "      <td>enough</td>\n",
              "      <td>machine dbh</td>\n",
              "      <td>borehole</td>\n",
              "      <td>groundwater</td>\n",
              "      <td>hand pump</td>\n",
              "      <td>hand pump</td>\n",
              "      <td>functional</td>\n",
              "      <td>4</td>\n",
              "    </tr>\n",
              "  </tbody>\n",
              "</table>\n",
              "</div>"
            ],
            "text/plain": [
              "          id  amount_tsh  ...             status_group cluster\n",
              "7751    6794        0.00  ...               functional       4\n",
              "24535  30945        0.00  ...  functional needs repair       4\n",
              "2561   28210        0.00  ...               functional       4\n",
              "16926  59142        0.00  ...           non functional       4\n",
              "48835  70366        0.00  ...               functional       4\n",
              "\n",
              "[5 rows x 42 columns]"
            ]
          },
          "metadata": {
            "tags": []
          },
          "execution_count": 46
        }
      ]
    },
    {
      "cell_type": "code",
      "metadata": {
        "colab": {
          "base_uri": "https://localhost:8080/",
          "height": 1000
        },
        "id": "8tdU2G0OO-fc",
        "outputId": "5905a08d-a5ac-4926-b906-552745606f11"
      },
      "source": [
        "from scipy import stats\n",
        "import seaborn as sns\n",
        "\n",
        "pd.set_option(\"display.precision\", 2)\n",
        "pd.set_option('display.float_format', lambda x: '%.2f' % x)\n",
        "\n",
        "print('All Data:')\n",
        "print('Number of Instances: {}'.format(X.shape[0]))\n",
        "sdf.describe(include=[np.number]).transpose()\n",
        "sdf.describe(include=[np.object]).transpose()\n",
        "for col in cat_col_names:\n",
        "    sdf[col].value_counts()\n",
        "\n",
        "\n",
        "for i, label in enumerate(set(labels)):\n",
        "    n = sdf.iloc[labels==label].shape[0]\n",
        "      \n",
        "    print('\\nCluster {}:'.format(label))\n",
        "    print('Number of Instances: {}'.format(n))\n",
        "\n",
        "    sdf.iloc[labels==label].describe(include=[np.number]).transpose()\n",
        "    sdf.iloc[labels==label].describe(include=[np.object]).transpose()\n",
        "    for col in cat_col_names:\n",
        "        sdf.iloc[labels==label][col].value_counts()"
      ],
      "execution_count": null,
      "outputs": [
        {
          "output_type": "stream",
          "text": [
            "All Data:\n",
            "Number of Instances: 5940\n"
          ],
          "name": "stdout"
        },
        {
          "output_type": "execute_result",
          "data": {
            "text/html": [
              "<div>\n",
              "<style scoped>\n",
              "    .dataframe tbody tr th:only-of-type {\n",
              "        vertical-align: middle;\n",
              "    }\n",
              "\n",
              "    .dataframe tbody tr th {\n",
              "        vertical-align: top;\n",
              "    }\n",
              "\n",
              "    .dataframe thead th {\n",
              "        text-align: right;\n",
              "    }\n",
              "</style>\n",
              "<table border=\"1\" class=\"dataframe\">\n",
              "  <thead>\n",
              "    <tr style=\"text-align: right;\">\n",
              "      <th></th>\n",
              "      <th>count</th>\n",
              "      <th>mean</th>\n",
              "      <th>std</th>\n",
              "      <th>min</th>\n",
              "      <th>25%</th>\n",
              "      <th>50%</th>\n",
              "      <th>75%</th>\n",
              "      <th>max</th>\n",
              "    </tr>\n",
              "  </thead>\n",
              "  <tbody>\n",
              "    <tr>\n",
              "      <th>id</th>\n",
              "      <td>5940.00</td>\n",
              "      <td>37015.02</td>\n",
              "      <td>21634.80</td>\n",
              "      <td>7.00</td>\n",
              "      <td>18118.00</td>\n",
              "      <td>37159.50</td>\n",
              "      <td>55868.00</td>\n",
              "      <td>74239.00</td>\n",
              "    </tr>\n",
              "    <tr>\n",
              "      <th>amount_tsh</th>\n",
              "      <td>5940.00</td>\n",
              "      <td>286.05</td>\n",
              "      <td>1887.03</td>\n",
              "      <td>0.00</td>\n",
              "      <td>0.00</td>\n",
              "      <td>0.00</td>\n",
              "      <td>20.00</td>\n",
              "      <td>117000.00</td>\n",
              "    </tr>\n",
              "    <tr>\n",
              "      <th>gps_height</th>\n",
              "      <td>5940.00</td>\n",
              "      <td>663.13</td>\n",
              "      <td>693.26</td>\n",
              "      <td>-53.00</td>\n",
              "      <td>0.00</td>\n",
              "      <td>354.00</td>\n",
              "      <td>1319.00</td>\n",
              "      <td>2539.00</td>\n",
              "    </tr>\n",
              "    <tr>\n",
              "      <th>longitude</th>\n",
              "      <td>5940.00</td>\n",
              "      <td>34.03</td>\n",
              "      <td>6.70</td>\n",
              "      <td>0.00</td>\n",
              "      <td>33.08</td>\n",
              "      <td>34.88</td>\n",
              "      <td>37.18</td>\n",
              "      <td>40.34</td>\n",
              "    </tr>\n",
              "    <tr>\n",
              "      <th>latitude</th>\n",
              "      <td>5940.00</td>\n",
              "      <td>-5.68</td>\n",
              "      <td>2.95</td>\n",
              "      <td>-11.56</td>\n",
              "      <td>-8.56</td>\n",
              "      <td>-5.02</td>\n",
              "      <td>-3.31</td>\n",
              "      <td>-0.00</td>\n",
              "    </tr>\n",
              "    <tr>\n",
              "      <th>num_private</th>\n",
              "      <td>5940.00</td>\n",
              "      <td>0.50</td>\n",
              "      <td>11.14</td>\n",
              "      <td>0.00</td>\n",
              "      <td>0.00</td>\n",
              "      <td>0.00</td>\n",
              "      <td>0.00</td>\n",
              "      <td>755.00</td>\n",
              "    </tr>\n",
              "    <tr>\n",
              "      <th>region_code</th>\n",
              "      <td>5940.00</td>\n",
              "      <td>15.05</td>\n",
              "      <td>17.12</td>\n",
              "      <td>1.00</td>\n",
              "      <td>5.00</td>\n",
              "      <td>12.00</td>\n",
              "      <td>17.00</td>\n",
              "      <td>99.00</td>\n",
              "    </tr>\n",
              "    <tr>\n",
              "      <th>district_code</th>\n",
              "      <td>5940.00</td>\n",
              "      <td>5.47</td>\n",
              "      <td>9.36</td>\n",
              "      <td>0.00</td>\n",
              "      <td>2.00</td>\n",
              "      <td>3.00</td>\n",
              "      <td>5.00</td>\n",
              "      <td>63.00</td>\n",
              "    </tr>\n",
              "    <tr>\n",
              "      <th>population</th>\n",
              "      <td>5940.00</td>\n",
              "      <td>166.67</td>\n",
              "      <td>394.15</td>\n",
              "      <td>0.00</td>\n",
              "      <td>0.00</td>\n",
              "      <td>25.00</td>\n",
              "      <td>210.00</td>\n",
              "      <td>8000.00</td>\n",
              "    </tr>\n",
              "    <tr>\n",
              "      <th>construction_year</th>\n",
              "      <td>5940.00</td>\n",
              "      <td>1290.54</td>\n",
              "      <td>954.85</td>\n",
              "      <td>0.00</td>\n",
              "      <td>0.00</td>\n",
              "      <td>1985.00</td>\n",
              "      <td>2004.00</td>\n",
              "      <td>2013.00</td>\n",
              "    </tr>\n",
              "  </tbody>\n",
              "</table>\n",
              "</div>"
            ],
            "text/plain": [
              "                    count     mean      std  ...      50%      75%       max\n",
              "id                5940.00 37015.02 21634.80  ... 37159.50 55868.00  74239.00\n",
              "amount_tsh        5940.00   286.05  1887.03  ...     0.00    20.00 117000.00\n",
              "gps_height        5940.00   663.13   693.26  ...   354.00  1319.00   2539.00\n",
              "longitude         5940.00    34.03     6.70  ...    34.88    37.18     40.34\n",
              "latitude          5940.00    -5.68     2.95  ...    -5.02    -3.31     -0.00\n",
              "num_private       5940.00     0.50    11.14  ...     0.00     0.00    755.00\n",
              "region_code       5940.00    15.05    17.12  ...    12.00    17.00     99.00\n",
              "district_code     5940.00     5.47     9.36  ...     3.00     5.00     63.00\n",
              "population        5940.00   166.67   394.15  ...    25.00   210.00   8000.00\n",
              "construction_year 5940.00  1290.54   954.85  ...  1985.00  2004.00   2013.00\n",
              "\n",
              "[10 rows x 8 columns]"
            ]
          },
          "metadata": {
            "tags": []
          },
          "execution_count": 27
        },
        {
          "output_type": "execute_result",
          "data": {
            "text/html": [
              "<div>\n",
              "<style scoped>\n",
              "    .dataframe tbody tr th:only-of-type {\n",
              "        vertical-align: middle;\n",
              "    }\n",
              "\n",
              "    .dataframe tbody tr th {\n",
              "        vertical-align: top;\n",
              "    }\n",
              "\n",
              "    .dataframe thead th {\n",
              "        text-align: right;\n",
              "    }\n",
              "</style>\n",
              "<table border=\"1\" class=\"dataframe\">\n",
              "  <thead>\n",
              "    <tr style=\"text-align: right;\">\n",
              "      <th></th>\n",
              "      <th>count</th>\n",
              "      <th>unique</th>\n",
              "      <th>top</th>\n",
              "      <th>freq</th>\n",
              "    </tr>\n",
              "  </thead>\n",
              "  <tbody>\n",
              "    <tr>\n",
              "      <th>date_recorded</th>\n",
              "      <td>5940</td>\n",
              "      <td>309</td>\n",
              "      <td>2011-03-17</td>\n",
              "      <td>66</td>\n",
              "    </tr>\n",
              "    <tr>\n",
              "      <th>funder</th>\n",
              "      <td>5586</td>\n",
              "      <td>618</td>\n",
              "      <td>Government Of Tanzania</td>\n",
              "      <td>893</td>\n",
              "    </tr>\n",
              "    <tr>\n",
              "      <th>installer</th>\n",
              "      <td>5581</td>\n",
              "      <td>654</td>\n",
              "      <td>DWE</td>\n",
              "      <td>1742</td>\n",
              "    </tr>\n",
              "    <tr>\n",
              "      <th>wpt_name</th>\n",
              "      <td>5940</td>\n",
              "      <td>4398</td>\n",
              "      <td>none</td>\n",
              "      <td>367</td>\n",
              "    </tr>\n",
              "    <tr>\n",
              "      <th>basin</th>\n",
              "      <td>5940</td>\n",
              "      <td>9</td>\n",
              "      <td>Lake Victoria</td>\n",
              "      <td>1064</td>\n",
              "    </tr>\n",
              "    <tr>\n",
              "      <th>subvillage</th>\n",
              "      <td>5891</td>\n",
              "      <td>3995</td>\n",
              "      <td>Majengo</td>\n",
              "      <td>54</td>\n",
              "    </tr>\n",
              "    <tr>\n",
              "      <th>region</th>\n",
              "      <td>5940</td>\n",
              "      <td>21</td>\n",
              "      <td>Iringa</td>\n",
              "      <td>543</td>\n",
              "    </tr>\n",
              "    <tr>\n",
              "      <th>lga</th>\n",
              "      <td>5940</td>\n",
              "      <td>124</td>\n",
              "      <td>Njombe</td>\n",
              "      <td>258</td>\n",
              "    </tr>\n",
              "    <tr>\n",
              "      <th>ward</th>\n",
              "      <td>5940</td>\n",
              "      <td>1614</td>\n",
              "      <td>Igosi</td>\n",
              "      <td>42</td>\n",
              "    </tr>\n",
              "    <tr>\n",
              "      <th>public_meeting</th>\n",
              "      <td>5595</td>\n",
              "      <td>2</td>\n",
              "      <td>True</td>\n",
              "      <td>5111</td>\n",
              "    </tr>\n",
              "    <tr>\n",
              "      <th>recorded_by</th>\n",
              "      <td>5940</td>\n",
              "      <td>1</td>\n",
              "      <td>GeoData Consultants Ltd</td>\n",
              "      <td>5940</td>\n",
              "    </tr>\n",
              "    <tr>\n",
              "      <th>scheme_management</th>\n",
              "      <td>5552</td>\n",
              "      <td>11</td>\n",
              "      <td>VWC</td>\n",
              "      <td>3687</td>\n",
              "    </tr>\n",
              "    <tr>\n",
              "      <th>scheme_name</th>\n",
              "      <td>3126</td>\n",
              "      <td>1141</td>\n",
              "      <td>K</td>\n",
              "      <td>76</td>\n",
              "    </tr>\n",
              "    <tr>\n",
              "      <th>permit</th>\n",
              "      <td>5646</td>\n",
              "      <td>2</td>\n",
              "      <td>True</td>\n",
              "      <td>3887</td>\n",
              "    </tr>\n",
              "    <tr>\n",
              "      <th>extraction_type</th>\n",
              "      <td>5940</td>\n",
              "      <td>17</td>\n",
              "      <td>gravity</td>\n",
              "      <td>2724</td>\n",
              "    </tr>\n",
              "    <tr>\n",
              "      <th>extraction_type_group</th>\n",
              "      <td>5940</td>\n",
              "      <td>13</td>\n",
              "      <td>gravity</td>\n",
              "      <td>2724</td>\n",
              "    </tr>\n",
              "    <tr>\n",
              "      <th>extraction_type_class</th>\n",
              "      <td>5940</td>\n",
              "      <td>7</td>\n",
              "      <td>gravity</td>\n",
              "      <td>2724</td>\n",
              "    </tr>\n",
              "    <tr>\n",
              "      <th>management</th>\n",
              "      <td>5940</td>\n",
              "      <td>12</td>\n",
              "      <td>vwc</td>\n",
              "      <td>4047</td>\n",
              "    </tr>\n",
              "    <tr>\n",
              "      <th>management_group</th>\n",
              "      <td>5940</td>\n",
              "      <td>5</td>\n",
              "      <td>user-group</td>\n",
              "      <td>5213</td>\n",
              "    </tr>\n",
              "    <tr>\n",
              "      <th>payment</th>\n",
              "      <td>5940</td>\n",
              "      <td>7</td>\n",
              "      <td>never pay</td>\n",
              "      <td>2523</td>\n",
              "    </tr>\n",
              "    <tr>\n",
              "      <th>payment_type</th>\n",
              "      <td>5940</td>\n",
              "      <td>7</td>\n",
              "      <td>never pay</td>\n",
              "      <td>2523</td>\n",
              "    </tr>\n",
              "    <tr>\n",
              "      <th>water_quality</th>\n",
              "      <td>5940</td>\n",
              "      <td>8</td>\n",
              "      <td>soft</td>\n",
              "      <td>5075</td>\n",
              "    </tr>\n",
              "    <tr>\n",
              "      <th>quality_group</th>\n",
              "      <td>5940</td>\n",
              "      <td>6</td>\n",
              "      <td>good</td>\n",
              "      <td>5075</td>\n",
              "    </tr>\n",
              "    <tr>\n",
              "      <th>quantity</th>\n",
              "      <td>5940</td>\n",
              "      <td>5</td>\n",
              "      <td>enough</td>\n",
              "      <td>3351</td>\n",
              "    </tr>\n",
              "    <tr>\n",
              "      <th>quantity_group</th>\n",
              "      <td>5940</td>\n",
              "      <td>5</td>\n",
              "      <td>enough</td>\n",
              "      <td>3351</td>\n",
              "    </tr>\n",
              "    <tr>\n",
              "      <th>source</th>\n",
              "      <td>5940</td>\n",
              "      <td>10</td>\n",
              "      <td>spring</td>\n",
              "      <td>1726</td>\n",
              "    </tr>\n",
              "    <tr>\n",
              "      <th>source_type</th>\n",
              "      <td>5940</td>\n",
              "      <td>7</td>\n",
              "      <td>spring</td>\n",
              "      <td>1726</td>\n",
              "    </tr>\n",
              "    <tr>\n",
              "      <th>source_class</th>\n",
              "      <td>5940</td>\n",
              "      <td>3</td>\n",
              "      <td>groundwater</td>\n",
              "      <td>4569</td>\n",
              "    </tr>\n",
              "    <tr>\n",
              "      <th>waterpoint_type</th>\n",
              "      <td>5940</td>\n",
              "      <td>6</td>\n",
              "      <td>communal standpipe</td>\n",
              "      <td>2877</td>\n",
              "    </tr>\n",
              "    <tr>\n",
              "      <th>waterpoint_type_group</th>\n",
              "      <td>5940</td>\n",
              "      <td>5</td>\n",
              "      <td>communal standpipe</td>\n",
              "      <td>3494</td>\n",
              "    </tr>\n",
              "    <tr>\n",
              "      <th>status_group</th>\n",
              "      <td>5940</td>\n",
              "      <td>3</td>\n",
              "      <td>functional</td>\n",
              "      <td>3307</td>\n",
              "    </tr>\n",
              "  </tbody>\n",
              "</table>\n",
              "</div>"
            ],
            "text/plain": [
              "                      count unique                      top  freq\n",
              "date_recorded          5940    309               2011-03-17    66\n",
              "funder                 5586    618   Government Of Tanzania   893\n",
              "installer              5581    654                      DWE  1742\n",
              "wpt_name               5940   4398                     none   367\n",
              "basin                  5940      9            Lake Victoria  1064\n",
              "subvillage             5891   3995                  Majengo    54\n",
              "region                 5940     21                   Iringa   543\n",
              "lga                    5940    124                   Njombe   258\n",
              "ward                   5940   1614                    Igosi    42\n",
              "public_meeting         5595      2                     True  5111\n",
              "recorded_by            5940      1  GeoData Consultants Ltd  5940\n",
              "scheme_management      5552     11                      VWC  3687\n",
              "scheme_name            3126   1141                        K    76\n",
              "permit                 5646      2                     True  3887\n",
              "extraction_type        5940     17                  gravity  2724\n",
              "extraction_type_group  5940     13                  gravity  2724\n",
              "extraction_type_class  5940      7                  gravity  2724\n",
              "management             5940     12                      vwc  4047\n",
              "management_group       5940      5               user-group  5213\n",
              "payment                5940      7                never pay  2523\n",
              "payment_type           5940      7                never pay  2523\n",
              "water_quality          5940      8                     soft  5075\n",
              "quality_group          5940      6                     good  5075\n",
              "quantity               5940      5                   enough  3351\n",
              "quantity_group         5940      5                   enough  3351\n",
              "source                 5940     10                   spring  1726\n",
              "source_type            5940      7                   spring  1726\n",
              "source_class           5940      3              groundwater  4569\n",
              "waterpoint_type        5940      6       communal standpipe  2877\n",
              "waterpoint_type_group  5940      5       communal standpipe  3494\n",
              "status_group           5940      3               functional  3307"
            ]
          },
          "metadata": {
            "tags": []
          },
          "execution_count": 27
        },
        {
          "output_type": "execute_result",
          "data": {
            "text/plain": [
              "2011-03-17    66\n",
              "2011-03-16    61\n",
              "2013-01-29    59\n",
              "2011-03-18    59\n",
              "2011-03-15    59\n",
              "              ..\n",
              "2012-12-11     1\n",
              "2012-12-23     1\n",
              "2011-10-03     1\n",
              "2012-12-21     1\n",
              "2013-01-08     1\n",
              "Name: date_recorded, Length: 309, dtype: int64"
            ]
          },
          "metadata": {
            "tags": []
          },
          "execution_count": 27
        },
        {
          "output_type": "execute_result",
          "data": {
            "text/plain": [
              "Government Of Tanzania    893\n",
              "Danida                    303\n",
              "Hesawa                    223\n",
              "World Bank                156\n",
              "Kkkt                      137\n",
              "                         ... \n",
              "Summit For Water            1\n",
              "Regwa Company Of Egypt      1\n",
              "Waitaliano                  1\n",
              "Ambwene Mwaikek             1\n",
              "M And P                     1\n",
              "Name: funder, Length: 618, dtype: int64"
            ]
          },
          "metadata": {
            "tags": []
          },
          "execution_count": 27
        },
        {
          "output_type": "execute_result",
          "data": {
            "text/plain": [
              "DWE                        1742\n",
              "Government                  191\n",
              "Commu                       118\n",
              "RWE                         113\n",
              "DANIDA                      106\n",
              "                           ... \n",
              "GERMAN MISSIONSRY             1\n",
              "DWE/Anglican church           1\n",
              "CHINA HENAN CONSTUCTION       1\n",
              "Village Government            1\n",
              "RWSP                          1\n",
              "Name: installer, Length: 654, dtype: int64"
            ]
          },
          "metadata": {
            "tags": []
          },
          "execution_count": 27
        },
        {
          "output_type": "execute_result",
          "data": {
            "text/plain": [
              "none             367\n",
              "Shuleni          160\n",
              "Zahanati          75\n",
              "Msikitini         50\n",
              "Ofisini           31\n",
              "                ... \n",
              "Kwa Mama Anna      1\n",
              "Kwa Suleimani      1\n",
              "Kwa Kang`Anga      1\n",
              "Kwa Haule          1\n",
              "Kwa Abdallar       1\n",
              "Name: wpt_name, Length: 4398, dtype: int64"
            ]
          },
          "metadata": {
            "tags": []
          },
          "execution_count": 27
        },
        {
          "output_type": "execute_result",
          "data": {
            "text/plain": [
              "Lake Victoria              1064\n",
              "Pangani                     936\n",
              "Rufiji                      794\n",
              "Internal                    735\n",
              "Lake Tanganyika             617\n",
              "Wami / Ruvu                 596\n",
              "Lake Nyasa                  542\n",
              "Ruvuma / Southern Coast     411\n",
              "Lake Rukwa                  245\n",
              "Name: basin, dtype: int64"
            ]
          },
          "metadata": {
            "tags": []
          },
          "execution_count": 27
        },
        {
          "output_type": "execute_result",
          "data": {
            "text/plain": [
              "Majengo          54\n",
              "Shuleni          49\n",
              "Madukani         45\n",
              "Kati             38\n",
              "Muungano         26\n",
              "                 ..\n",
              "Igumbiro Kati     1\n",
              "Kisangari         1\n",
              "Kopiro            1\n",
              "Kasanvu           1\n",
              "Kwefivi           1\n",
              "Name: subvillage, Length: 3995, dtype: int64"
            ]
          },
          "metadata": {
            "tags": []
          },
          "execution_count": 27
        },
        {
          "output_type": "execute_result",
          "data": {
            "text/plain": [
              "Iringa           543\n",
              "Mbeya            479\n",
              "Shinyanga        459\n",
              "Kilimanjaro      457\n",
              "Morogoro         364\n",
              "Mwanza           338\n",
              "Kagera           336\n",
              "Arusha           326\n",
              "Tanga            280\n",
              "Pwani            268\n",
              "Kigoma           266\n",
              "Ruvuma           263\n",
              "Dodoma           229\n",
              "Tabora           208\n",
              "Mara             208\n",
              "Singida          200\n",
              "Rukwa            168\n",
              "Manyara          167\n",
              "Mtwara           158\n",
              "Lindi            143\n",
              "Dar es Salaam     80\n",
              "Name: region, dtype: int64"
            ]
          },
          "metadata": {
            "tags": []
          },
          "execution_count": 27
        },
        {
          "output_type": "execute_result",
          "data": {
            "text/plain": [
              "Njombe          258\n",
              "Arusha Rural    125\n",
              "Bariadi         124\n",
              "Rungwe          121\n",
              "Mbozi           114\n",
              "               ... \n",
              "Kinondoni         7\n",
              "Songea Urban      7\n",
              "Moshi Urban       5\n",
              "Arusha Urban      4\n",
              "Lindi Urban       2\n",
              "Name: lga, Length: 124, dtype: int64"
            ]
          },
          "metadata": {
            "tags": []
          },
          "execution_count": 27
        },
        {
          "output_type": "execute_result",
          "data": {
            "text/plain": [
              "Igosi        42\n",
              "Chanika      24\n",
              "Usuka        24\n",
              "Nduruma      24\n",
              "Imalinyi     23\n",
              "             ..\n",
              "Mkwedu        1\n",
              "Bweni         1\n",
              "Tawa          1\n",
              "Ilagala       1\n",
              "Kwamkonje     1\n",
              "Name: ward, Length: 1614, dtype: int64"
            ]
          },
          "metadata": {
            "tags": []
          },
          "execution_count": 27
        },
        {
          "output_type": "execute_result",
          "data": {
            "text/plain": [
              "True     5111\n",
              "False     484\n",
              "Name: public_meeting, dtype: int64"
            ]
          },
          "metadata": {
            "tags": []
          },
          "execution_count": 27
        },
        {
          "output_type": "execute_result",
          "data": {
            "text/plain": [
              "GeoData Consultants Ltd    5940\n",
              "Name: recorded_by, dtype: int64"
            ]
          },
          "metadata": {
            "tags": []
          },
          "execution_count": 27
        },
        {
          "output_type": "execute_result",
          "data": {
            "text/plain": [
              "VWC                 3687\n",
              "WUG                  484\n",
              "Water authority      326\n",
              "WUA                  297\n",
              "Water Board          275\n",
              "Parastatal           153\n",
              "Private operator     121\n",
              "Company              106\n",
              "Other                 80\n",
              "Trust                 12\n",
              "SWC                   11\n",
              "Name: scheme_management, dtype: int64"
            ]
          },
          "metadata": {
            "tags": []
          },
          "execution_count": 27
        },
        {
          "output_type": "execute_result",
          "data": {
            "text/plain": [
              "K                            76\n",
              "None                         71\n",
              "Borehole                     60\n",
              "M                            38\n",
              "Chalinze wate                35\n",
              "                             ..\n",
              "Water AID                     1\n",
              "image water supply scheme     1\n",
              "Mradi wa maji wa litisha      1\n",
              "Kilesi water supply           1\n",
              "Magula mountains spr          1\n",
              "Name: scheme_name, Length: 1141, dtype: int64"
            ]
          },
          "metadata": {
            "tags": []
          },
          "execution_count": 27
        },
        {
          "output_type": "execute_result",
          "data": {
            "text/plain": [
              "True     3887\n",
              "False    1759\n",
              "Name: permit, dtype: int64"
            ]
          },
          "metadata": {
            "tags": []
          },
          "execution_count": 27
        },
        {
          "output_type": "execute_result",
          "data": {
            "text/plain": [
              "gravity              2724\n",
              "nira/tanira           772\n",
              "other                 664\n",
              "submersible           473\n",
              "swn 80                334\n",
              "mono                  266\n",
              "india mark ii         243\n",
              "afridev               212\n",
              "ksb                   133\n",
              "other - rope pump      52\n",
              "other - swn 81         26\n",
              "other - play pump       9\n",
              "cemo                    9\n",
              "windmill                8\n",
              "walimi                  7\n",
              "india mark iii          5\n",
              "climax                  3\n",
              "Name: extraction_type, dtype: int64"
            ]
          },
          "metadata": {
            "tags": []
          },
          "execution_count": 27
        },
        {
          "output_type": "execute_result",
          "data": {
            "text/plain": [
              "gravity            2724\n",
              "nira/tanira         772\n",
              "other               664\n",
              "submersible         606\n",
              "swn 80              334\n",
              "mono                266\n",
              "india mark ii       243\n",
              "afridev             212\n",
              "rope pump            52\n",
              "other handpump       42\n",
              "other motorpump      12\n",
              "wind-powered          8\n",
              "india mark iii        5\n",
              "Name: extraction_type_group, dtype: int64"
            ]
          },
          "metadata": {
            "tags": []
          },
          "execution_count": 27
        },
        {
          "output_type": "execute_result",
          "data": {
            "text/plain": [
              "gravity         2724\n",
              "handpump        1608\n",
              "other            664\n",
              "submersible      606\n",
              "motorpump        278\n",
              "rope pump         52\n",
              "wind-powered       8\n",
              "Name: extraction_type_class, dtype: int64"
            ]
          },
          "metadata": {
            "tags": []
          },
          "execution_count": 27
        },
        {
          "output_type": "execute_result",
          "data": {
            "text/plain": [
              "vwc                 4047\n",
              "wug                  624\n",
              "water board          283\n",
              "wua                  259\n",
              "private operator     212\n",
              "parastatal           163\n",
              "other                110\n",
              "water authority       94\n",
              "company               71\n",
              "unknown               55\n",
              "trust                 13\n",
              "other - school         9\n",
              "Name: management, dtype: int64"
            ]
          },
          "metadata": {
            "tags": []
          },
          "execution_count": 27
        },
        {
          "output_type": "execute_result",
          "data": {
            "text/plain": [
              "user-group    5213\n",
              "commercial     390\n",
              "parastatal     163\n",
              "other          119\n",
              "unknown         55\n",
              "Name: management_group, dtype: int64"
            ]
          },
          "metadata": {
            "tags": []
          },
          "execution_count": 27
        },
        {
          "output_type": "execute_result",
          "data": {
            "text/plain": [
              "never pay                2523\n",
              "pay per bucket            883\n",
              "pay monthly               817\n",
              "unknown                   774\n",
              "pay when scheme fails     441\n",
              "pay annually              391\n",
              "other                     111\n",
              "Name: payment, dtype: int64"
            ]
          },
          "metadata": {
            "tags": []
          },
          "execution_count": 27
        },
        {
          "output_type": "execute_result",
          "data": {
            "text/plain": [
              "never pay     2523\n",
              "per bucket     883\n",
              "monthly        817\n",
              "unknown        774\n",
              "on failure     441\n",
              "annually       391\n",
              "other          111\n",
              "Name: payment_type, dtype: int64"
            ]
          },
          "metadata": {
            "tags": []
          },
          "execution_count": 27
        },
        {
          "output_type": "execute_result",
          "data": {
            "text/plain": [
              "soft                  5075\n",
              "salty                  494\n",
              "unknown                169\n",
              "milky                   98\n",
              "coloured                44\n",
              "salty abandoned         40\n",
              "fluoride                18\n",
              "fluoride abandoned       2\n",
              "Name: water_quality, dtype: int64"
            ]
          },
          "metadata": {
            "tags": []
          },
          "execution_count": 27
        },
        {
          "output_type": "execute_result",
          "data": {
            "text/plain": [
              "good        5075\n",
              "salty        534\n",
              "unknown      169\n",
              "milky         98\n",
              "colored       44\n",
              "fluoride      20\n",
              "Name: quality_group, dtype: int64"
            ]
          },
          "metadata": {
            "tags": []
          },
          "execution_count": 27
        },
        {
          "output_type": "execute_result",
          "data": {
            "text/plain": [
              "enough          3351\n",
              "insufficient    1530\n",
              "dry              589\n",
              "seasonal         401\n",
              "unknown           69\n",
              "Name: quantity, dtype: int64"
            ]
          },
          "metadata": {
            "tags": []
          },
          "execution_count": 27
        },
        {
          "output_type": "execute_result",
          "data": {
            "text/plain": [
              "enough          3351\n",
              "insufficient    1530\n",
              "dry              589\n",
              "seasonal         401\n",
              "unknown           69\n",
              "Name: quantity_group, dtype: int64"
            ]
          },
          "metadata": {
            "tags": []
          },
          "execution_count": 27
        },
        {
          "output_type": "execute_result",
          "data": {
            "text/plain": [
              "spring                  1726\n",
              "shallow well            1670\n",
              "machine dbh             1078\n",
              "river                    949\n",
              "rainwater harvesting     236\n",
              "hand dtw                  95\n",
              "lake                      83\n",
              "dam                       82\n",
              "other                     19\n",
              "unknown                    2\n",
              "Name: source, dtype: int64"
            ]
          },
          "metadata": {
            "tags": []
          },
          "execution_count": 27
        },
        {
          "output_type": "execute_result",
          "data": {
            "text/plain": [
              "spring                  1726\n",
              "shallow well            1670\n",
              "borehole                1173\n",
              "river/lake              1032\n",
              "rainwater harvesting     236\n",
              "dam                       82\n",
              "other                     21\n",
              "Name: source_type, dtype: int64"
            ]
          },
          "metadata": {
            "tags": []
          },
          "execution_count": 27
        },
        {
          "output_type": "execute_result",
          "data": {
            "text/plain": [
              "groundwater    4569\n",
              "surface        1350\n",
              "unknown          21\n",
              "Name: source_class, dtype: int64"
            ]
          },
          "metadata": {
            "tags": []
          },
          "execution_count": 27
        },
        {
          "output_type": "execute_result",
          "data": {
            "text/plain": [
              "communal standpipe             2877\n",
              "hand pump                      1727\n",
              "other                           632\n",
              "communal standpipe multiple     617\n",
              "improved spring                  76\n",
              "cattle trough                    11\n",
              "Name: waterpoint_type, dtype: int64"
            ]
          },
          "metadata": {
            "tags": []
          },
          "execution_count": 27
        },
        {
          "output_type": "execute_result",
          "data": {
            "text/plain": [
              "communal standpipe    3494\n",
              "hand pump             1727\n",
              "other                  632\n",
              "improved spring         76\n",
              "cattle trough           11\n",
              "Name: waterpoint_type_group, dtype: int64"
            ]
          },
          "metadata": {
            "tags": []
          },
          "execution_count": 27
        },
        {
          "output_type": "execute_result",
          "data": {
            "text/plain": [
              "functional                 3307\n",
              "non functional             2213\n",
              "functional needs repair     420\n",
              "Name: status_group, dtype: int64"
            ]
          },
          "metadata": {
            "tags": []
          },
          "execution_count": 27
        },
        {
          "output_type": "stream",
          "text": [
            "\n",
            "Cluster 1:\n",
            "Number of Instances: 3544\n"
          ],
          "name": "stdout"
        },
        {
          "output_type": "execute_result",
          "data": {
            "text/html": [
              "<div>\n",
              "<style scoped>\n",
              "    .dataframe tbody tr th:only-of-type {\n",
              "        vertical-align: middle;\n",
              "    }\n",
              "\n",
              "    .dataframe tbody tr th {\n",
              "        vertical-align: top;\n",
              "    }\n",
              "\n",
              "    .dataframe thead th {\n",
              "        text-align: right;\n",
              "    }\n",
              "</style>\n",
              "<table border=\"1\" class=\"dataframe\">\n",
              "  <thead>\n",
              "    <tr style=\"text-align: right;\">\n",
              "      <th></th>\n",
              "      <th>count</th>\n",
              "      <th>mean</th>\n",
              "      <th>std</th>\n",
              "      <th>min</th>\n",
              "      <th>25%</th>\n",
              "      <th>50%</th>\n",
              "      <th>75%</th>\n",
              "      <th>max</th>\n",
              "    </tr>\n",
              "  </thead>\n",
              "  <tbody>\n",
              "    <tr>\n",
              "      <th>id</th>\n",
              "      <td>3544.00</td>\n",
              "      <td>36820.35</td>\n",
              "      <td>21505.38</td>\n",
              "      <td>49.00</td>\n",
              "      <td>18101.50</td>\n",
              "      <td>36977.50</td>\n",
              "      <td>54983.50</td>\n",
              "      <td>74239.00</td>\n",
              "    </tr>\n",
              "    <tr>\n",
              "      <th>amount_tsh</th>\n",
              "      <td>3544.00</td>\n",
              "      <td>472.03</td>\n",
              "      <td>2421.63</td>\n",
              "      <td>0.00</td>\n",
              "      <td>0.00</td>\n",
              "      <td>0.00</td>\n",
              "      <td>250.00</td>\n",
              "      <td>117000.00</td>\n",
              "    </tr>\n",
              "    <tr>\n",
              "      <th>gps_height</th>\n",
              "      <td>3544.00</td>\n",
              "      <td>1080.61</td>\n",
              "      <td>590.07</td>\n",
              "      <td>-50.00</td>\n",
              "      <td>608.75</td>\n",
              "      <td>1219.00</td>\n",
              "      <td>1516.00</td>\n",
              "      <td>2539.00</td>\n",
              "    </tr>\n",
              "    <tr>\n",
              "      <th>longitude</th>\n",
              "      <td>3544.00</td>\n",
              "      <td>35.74</td>\n",
              "      <td>2.46</td>\n",
              "      <td>29.61</td>\n",
              "      <td>34.61</td>\n",
              "      <td>36.04</td>\n",
              "      <td>37.56</td>\n",
              "      <td>40.32</td>\n",
              "    </tr>\n",
              "    <tr>\n",
              "      <th>latitude</th>\n",
              "      <td>3544.00</td>\n",
              "      <td>-5.97</td>\n",
              "      <td>2.68</td>\n",
              "      <td>-11.56</td>\n",
              "      <td>-8.22</td>\n",
              "      <td>-5.28</td>\n",
              "      <td>-3.56</td>\n",
              "      <td>-1.11</td>\n",
              "    </tr>\n",
              "    <tr>\n",
              "      <th>num_private</th>\n",
              "      <td>3544.00</td>\n",
              "      <td>0.62</td>\n",
              "      <td>6.85</td>\n",
              "      <td>0.00</td>\n",
              "      <td>0.00</td>\n",
              "      <td>0.00</td>\n",
              "      <td>0.00</td>\n",
              "      <td>160.00</td>\n",
              "    </tr>\n",
              "    <tr>\n",
              "      <th>region_code</th>\n",
              "      <td>3544.00</td>\n",
              "      <td>9.66</td>\n",
              "      <td>7.11</td>\n",
              "      <td>2.00</td>\n",
              "      <td>4.00</td>\n",
              "      <td>10.00</td>\n",
              "      <td>13.00</td>\n",
              "      <td>99.00</td>\n",
              "    </tr>\n",
              "    <tr>\n",
              "      <th>district_code</th>\n",
              "      <td>3544.00</td>\n",
              "      <td>3.16</td>\n",
              "      <td>2.66</td>\n",
              "      <td>1.00</td>\n",
              "      <td>2.00</td>\n",
              "      <td>3.00</td>\n",
              "      <td>4.00</td>\n",
              "      <td>62.00</td>\n",
              "    </tr>\n",
              "    <tr>\n",
              "      <th>population</th>\n",
              "      <td>3544.00</td>\n",
              "      <td>249.77</td>\n",
              "      <td>471.48</td>\n",
              "      <td>0.00</td>\n",
              "      <td>30.00</td>\n",
              "      <td>140.00</td>\n",
              "      <td>300.00</td>\n",
              "      <td>8000.00</td>\n",
              "    </tr>\n",
              "    <tr>\n",
              "      <th>construction_year</th>\n",
              "      <td>3544.00</td>\n",
              "      <td>1972.02</td>\n",
              "      <td>221.49</td>\n",
              "      <td>0.00</td>\n",
              "      <td>1987.00</td>\n",
              "      <td>2000.00</td>\n",
              "      <td>2008.00</td>\n",
              "      <td>2013.00</td>\n",
              "    </tr>\n",
              "  </tbody>\n",
              "</table>\n",
              "</div>"
            ],
            "text/plain": [
              "                    count     mean      std  ...      50%      75%       max\n",
              "id                3544.00 36820.35 21505.38  ... 36977.50 54983.50  74239.00\n",
              "amount_tsh        3544.00   472.03  2421.63  ...     0.00   250.00 117000.00\n",
              "gps_height        3544.00  1080.61   590.07  ...  1219.00  1516.00   2539.00\n",
              "longitude         3544.00    35.74     2.46  ...    36.04    37.56     40.32\n",
              "latitude          3544.00    -5.97     2.68  ...    -5.28    -3.56     -1.11\n",
              "num_private       3544.00     0.62     6.85  ...     0.00     0.00    160.00\n",
              "region_code       3544.00     9.66     7.11  ...    10.00    13.00     99.00\n",
              "district_code     3544.00     3.16     2.66  ...     3.00     4.00     62.00\n",
              "population        3544.00   249.77   471.48  ...   140.00   300.00   8000.00\n",
              "construction_year 3544.00  1972.02   221.49  ...  2000.00  2008.00   2013.00\n",
              "\n",
              "[10 rows x 8 columns]"
            ]
          },
          "metadata": {
            "tags": []
          },
          "execution_count": 27
        },
        {
          "output_type": "execute_result",
          "data": {
            "text/html": [
              "<div>\n",
              "<style scoped>\n",
              "    .dataframe tbody tr th:only-of-type {\n",
              "        vertical-align: middle;\n",
              "    }\n",
              "\n",
              "    .dataframe tbody tr th {\n",
              "        vertical-align: top;\n",
              "    }\n",
              "\n",
              "    .dataframe thead th {\n",
              "        text-align: right;\n",
              "    }\n",
              "</style>\n",
              "<table border=\"1\" class=\"dataframe\">\n",
              "  <thead>\n",
              "    <tr style=\"text-align: right;\">\n",
              "      <th></th>\n",
              "      <th>count</th>\n",
              "      <th>unique</th>\n",
              "      <th>top</th>\n",
              "      <th>freq</th>\n",
              "    </tr>\n",
              "  </thead>\n",
              "  <tbody>\n",
              "    <tr>\n",
              "      <th>date_recorded</th>\n",
              "      <td>3544</td>\n",
              "      <td>260</td>\n",
              "      <td>2011-03-17</td>\n",
              "      <td>63</td>\n",
              "    </tr>\n",
              "    <tr>\n",
              "      <th>funder</th>\n",
              "      <td>3431</td>\n",
              "      <td>427</td>\n",
              "      <td>Government Of Tanzania</td>\n",
              "      <td>594</td>\n",
              "    </tr>\n",
              "    <tr>\n",
              "      <th>installer</th>\n",
              "      <td>3431</td>\n",
              "      <td>440</td>\n",
              "      <td>DWE</td>\n",
              "      <td>1079</td>\n",
              "    </tr>\n",
              "    <tr>\n",
              "      <th>wpt_name</th>\n",
              "      <td>3544</td>\n",
              "      <td>2616</td>\n",
              "      <td>none</td>\n",
              "      <td>345</td>\n",
              "    </tr>\n",
              "    <tr>\n",
              "      <th>basin</th>\n",
              "      <td>3544</td>\n",
              "      <td>9</td>\n",
              "      <td>Pangani</td>\n",
              "      <td>926</td>\n",
              "    </tr>\n",
              "    <tr>\n",
              "      <th>subvillage</th>\n",
              "      <td>3544</td>\n",
              "      <td>2424</td>\n",
              "      <td>Shuleni</td>\n",
              "      <td>32</td>\n",
              "    </tr>\n",
              "    <tr>\n",
              "      <th>region</th>\n",
              "      <td>3544</td>\n",
              "      <td>17</td>\n",
              "      <td>Iringa</td>\n",
              "      <td>543</td>\n",
              "    </tr>\n",
              "    <tr>\n",
              "      <th>lga</th>\n",
              "      <td>3544</td>\n",
              "      <td>81</td>\n",
              "      <td>Njombe</td>\n",
              "      <td>258</td>\n",
              "    </tr>\n",
              "    <tr>\n",
              "      <th>ward</th>\n",
              "      <td>3544</td>\n",
              "      <td>917</td>\n",
              "      <td>Igosi</td>\n",
              "      <td>42</td>\n",
              "    </tr>\n",
              "    <tr>\n",
              "      <th>public_meeting</th>\n",
              "      <td>3319</td>\n",
              "      <td>2</td>\n",
              "      <td>True</td>\n",
              "      <td>3037</td>\n",
              "    </tr>\n",
              "    <tr>\n",
              "      <th>recorded_by</th>\n",
              "      <td>3544</td>\n",
              "      <td>1</td>\n",
              "      <td>GeoData Consultants Ltd</td>\n",
              "      <td>3544</td>\n",
              "    </tr>\n",
              "    <tr>\n",
              "      <th>scheme_management</th>\n",
              "      <td>3367</td>\n",
              "      <td>11</td>\n",
              "      <td>VWC</td>\n",
              "      <td>2047</td>\n",
              "    </tr>\n",
              "    <tr>\n",
              "      <th>scheme_name</th>\n",
              "      <td>2269</td>\n",
              "      <td>824</td>\n",
              "      <td>Borehole</td>\n",
              "      <td>43</td>\n",
              "    </tr>\n",
              "    <tr>\n",
              "      <th>permit</th>\n",
              "      <td>3373</td>\n",
              "      <td>2</td>\n",
              "      <td>True</td>\n",
              "      <td>2422</td>\n",
              "    </tr>\n",
              "    <tr>\n",
              "      <th>extraction_type</th>\n",
              "      <td>3544</td>\n",
              "      <td>16</td>\n",
              "      <td>gravity</td>\n",
              "      <td>1960</td>\n",
              "    </tr>\n",
              "    <tr>\n",
              "      <th>extraction_type_group</th>\n",
              "      <td>3544</td>\n",
              "      <td>13</td>\n",
              "      <td>gravity</td>\n",
              "      <td>1960</td>\n",
              "    </tr>\n",
              "    <tr>\n",
              "      <th>extraction_type_class</th>\n",
              "      <td>3544</td>\n",
              "      <td>7</td>\n",
              "      <td>gravity</td>\n",
              "      <td>1960</td>\n",
              "    </tr>\n",
              "    <tr>\n",
              "      <th>management</th>\n",
              "      <td>3544</td>\n",
              "      <td>12</td>\n",
              "      <td>vwc</td>\n",
              "      <td>2333</td>\n",
              "    </tr>\n",
              "    <tr>\n",
              "      <th>management_group</th>\n",
              "      <td>3544</td>\n",
              "      <td>5</td>\n",
              "      <td>user-group</td>\n",
              "      <td>3042</td>\n",
              "    </tr>\n",
              "    <tr>\n",
              "      <th>payment</th>\n",
              "      <td>3544</td>\n",
              "      <td>7</td>\n",
              "      <td>never pay</td>\n",
              "      <td>1240</td>\n",
              "    </tr>\n",
              "    <tr>\n",
              "      <th>payment_type</th>\n",
              "      <td>3544</td>\n",
              "      <td>7</td>\n",
              "      <td>never pay</td>\n",
              "      <td>1240</td>\n",
              "    </tr>\n",
              "    <tr>\n",
              "      <th>water_quality</th>\n",
              "      <td>3544</td>\n",
              "      <td>8</td>\n",
              "      <td>soft</td>\n",
              "      <td>3106</td>\n",
              "    </tr>\n",
              "    <tr>\n",
              "      <th>quality_group</th>\n",
              "      <td>3544</td>\n",
              "      <td>6</td>\n",
              "      <td>good</td>\n",
              "      <td>3106</td>\n",
              "    </tr>\n",
              "    <tr>\n",
              "      <th>quantity</th>\n",
              "      <td>3544</td>\n",
              "      <td>5</td>\n",
              "      <td>enough</td>\n",
              "      <td>2086</td>\n",
              "    </tr>\n",
              "    <tr>\n",
              "      <th>quantity_group</th>\n",
              "      <td>3544</td>\n",
              "      <td>5</td>\n",
              "      <td>enough</td>\n",
              "      <td>2086</td>\n",
              "    </tr>\n",
              "    <tr>\n",
              "      <th>source</th>\n",
              "      <td>3544</td>\n",
              "      <td>10</td>\n",
              "      <td>spring</td>\n",
              "      <td>1254</td>\n",
              "    </tr>\n",
              "    <tr>\n",
              "      <th>source_type</th>\n",
              "      <td>3544</td>\n",
              "      <td>7</td>\n",
              "      <td>spring</td>\n",
              "      <td>1254</td>\n",
              "    </tr>\n",
              "    <tr>\n",
              "      <th>source_class</th>\n",
              "      <td>3544</td>\n",
              "      <td>3</td>\n",
              "      <td>groundwater</td>\n",
              "      <td>2593</td>\n",
              "    </tr>\n",
              "    <tr>\n",
              "      <th>waterpoint_type</th>\n",
              "      <td>3544</td>\n",
              "      <td>6</td>\n",
              "      <td>communal standpipe</td>\n",
              "      <td>2077</td>\n",
              "    </tr>\n",
              "    <tr>\n",
              "      <th>waterpoint_type_group</th>\n",
              "      <td>3544</td>\n",
              "      <td>5</td>\n",
              "      <td>communal standpipe</td>\n",
              "      <td>2434</td>\n",
              "    </tr>\n",
              "    <tr>\n",
              "      <th>status_group</th>\n",
              "      <td>3544</td>\n",
              "      <td>3</td>\n",
              "      <td>functional</td>\n",
              "      <td>2083</td>\n",
              "    </tr>\n",
              "  </tbody>\n",
              "</table>\n",
              "</div>"
            ],
            "text/plain": [
              "                      count unique                      top  freq\n",
              "date_recorded          3544    260               2011-03-17    63\n",
              "funder                 3431    427   Government Of Tanzania   594\n",
              "installer              3431    440                      DWE  1079\n",
              "wpt_name               3544   2616                     none   345\n",
              "basin                  3544      9                  Pangani   926\n",
              "subvillage             3544   2424                  Shuleni    32\n",
              "region                 3544     17                   Iringa   543\n",
              "lga                    3544     81                   Njombe   258\n",
              "ward                   3544    917                    Igosi    42\n",
              "public_meeting         3319      2                     True  3037\n",
              "recorded_by            3544      1  GeoData Consultants Ltd  3544\n",
              "scheme_management      3367     11                      VWC  2047\n",
              "scheme_name            2269    824                 Borehole    43\n",
              "permit                 3373      2                     True  2422\n",
              "extraction_type        3544     16                  gravity  1960\n",
              "extraction_type_group  3544     13                  gravity  1960\n",
              "extraction_type_class  3544      7                  gravity  1960\n",
              "management             3544     12                      vwc  2333\n",
              "management_group       3544      5               user-group  3042\n",
              "payment                3544      7                never pay  1240\n",
              "payment_type           3544      7                never pay  1240\n",
              "water_quality          3544      8                     soft  3106\n",
              "quality_group          3544      6                     good  3106\n",
              "quantity               3544      5                   enough  2086\n",
              "quantity_group         3544      5                   enough  2086\n",
              "source                 3544     10                   spring  1254\n",
              "source_type            3544      7                   spring  1254\n",
              "source_class           3544      3              groundwater  2593\n",
              "waterpoint_type        3544      6       communal standpipe  2077\n",
              "waterpoint_type_group  3544      5       communal standpipe  2434\n",
              "status_group           3544      3               functional  2083"
            ]
          },
          "metadata": {
            "tags": []
          },
          "execution_count": 27
        },
        {
          "output_type": "execute_result",
          "data": {
            "text/plain": [
              "2011-03-17    63\n",
              "2011-03-16    56\n",
              "2011-03-15    52\n",
              "2011-03-13    46\n",
              "2011-03-18    45\n",
              "              ..\n",
              "2012-12-13     1\n",
              "2013-01-08     1\n",
              "2011-04-21     1\n",
              "2011-04-22     1\n",
              "2012-11-30     1\n",
              "Name: date_recorded, Length: 260, dtype: int64"
            ]
          },
          "metadata": {
            "tags": []
          },
          "execution_count": 27
        },
        {
          "output_type": "execute_result",
          "data": {
            "text/plain": [
              "Government Of Tanzania      594\n",
              "Danida                      213\n",
              "Unicef                       88\n",
              "World Bank                   82\n",
              "Hesawa                       77\n",
              "                           ... \n",
              "Pmo                           1\n",
              "Lotary International          1\n",
              "Saleh Zaharani                1\n",
              "Vifaf                         1\n",
              "Village Water Commission      1\n",
              "Name: funder, Length: 427, dtype: int64"
            ]
          },
          "metadata": {
            "tags": []
          },
          "execution_count": 27
        },
        {
          "output_type": "execute_result",
          "data": {
            "text/plain": [
              "DWE            1079\n",
              "RWE              99\n",
              "Government       96\n",
              "DANIDA           77\n",
              "0                74\n",
              "               ... \n",
              "TASSAF/TCRS       1\n",
              "SERONERA          1\n",
              "Hanja Lt          1\n",
              "villagers         1\n",
              "Elina             1\n",
              "Name: installer, Length: 440, dtype: int64"
            ]
          },
          "metadata": {
            "tags": []
          },
          "execution_count": 27
        },
        {
          "output_type": "execute_result",
          "data": {
            "text/plain": [
              "none                 345\n",
              "Shuleni               94\n",
              "Zahanati              47\n",
              "Msikitini             22\n",
              "School                18\n",
              "                    ... \n",
              "Kwa Alfayo             1\n",
              "Shambani               1\n",
              "Kwa Hosia Nyimbo       1\n",
              "Kwa Abdalah Abasi      1\n",
              "Foresti                1\n",
              "Name: wpt_name, Length: 2616, dtype: int64"
            ]
          },
          "metadata": {
            "tags": []
          },
          "execution_count": 27
        },
        {
          "output_type": "execute_result",
          "data": {
            "text/plain": [
              "Pangani                    926\n",
              "Rufiji                     579\n",
              "Wami / Ruvu                447\n",
              "Internal                   423\n",
              "Lake Tanganyika            340\n",
              "Lake Nyasa                 289\n",
              "Lake Victoria              257\n",
              "Ruvuma / Southern Coast    188\n",
              "Lake Rukwa                  95\n",
              "Name: basin, dtype: int64"
            ]
          },
          "metadata": {
            "tags": []
          },
          "execution_count": 27
        },
        {
          "output_type": "execute_result",
          "data": {
            "text/plain": [
              "Shuleni        32\n",
              "Madukani       30\n",
              "Kati           29\n",
              "Majengo        25\n",
              "Muungano       20\n",
              "               ..\n",
              "Kishewa         1\n",
              "Kagina          1\n",
              "Kwalock         1\n",
              "Mwakilihoma     1\n",
              "Lobon           1\n",
              "Name: subvillage, Length: 2424, dtype: int64"
            ]
          },
          "metadata": {
            "tags": []
          },
          "execution_count": 27
        },
        {
          "output_type": "execute_result",
          "data": {
            "text/plain": [
              "Iringa           543\n",
              "Kilimanjaro      457\n",
              "Morogoro         362\n",
              "Arusha           292\n",
              "Tanga            271\n",
              "Kigoma           266\n",
              "Ruvuma           262\n",
              "Mara             208\n",
              "Singida          200\n",
              "Rukwa            168\n",
              "Manyara          167\n",
              "Pwani            163\n",
              "Dar es Salaam     75\n",
              "Mtwara            39\n",
              "Mwanza            33\n",
              "Lindi             24\n",
              "Shinyanga         14\n",
              "Name: region, dtype: int64"
            ]
          },
          "metadata": {
            "tags": []
          },
          "execution_count": 27
        },
        {
          "output_type": "execute_result",
          "data": {
            "text/plain": [
              "Njombe          258\n",
              "Arusha Rural    125\n",
              "Moshi Rural     111\n",
              "Same            106\n",
              "Kilosa          106\n",
              "               ... \n",
              "Masasi            1\n",
              "Ruangwa           1\n",
              "Lindi Urban       1\n",
              "Kilwa             1\n",
              "Newala            1\n",
              "Name: lga, Length: 81, dtype: int64"
            ]
          },
          "metadata": {
            "tags": []
          },
          "execution_count": 27
        },
        {
          "output_type": "execute_result",
          "data": {
            "text/plain": [
              "Igosi        42\n",
              "Usuka        24\n",
              "Nduruma      24\n",
              "Imalinyi     23\n",
              "Chalinze     22\n",
              "             ..\n",
              "Roche         1\n",
              "Mchesi        1\n",
              "Mtoa          1\n",
              "Mbelekese     1\n",
              "Kigunga       1\n",
              "Name: ward, Length: 917, dtype: int64"
            ]
          },
          "metadata": {
            "tags": []
          },
          "execution_count": 27
        },
        {
          "output_type": "execute_result",
          "data": {
            "text/plain": [
              "True     3037\n",
              "False     282\n",
              "Name: public_meeting, dtype: int64"
            ]
          },
          "metadata": {
            "tags": []
          },
          "execution_count": 27
        },
        {
          "output_type": "execute_result",
          "data": {
            "text/plain": [
              "GeoData Consultants Ltd    3544\n",
              "Name: recorded_by, dtype: int64"
            ]
          },
          "metadata": {
            "tags": []
          },
          "execution_count": 27
        },
        {
          "output_type": "execute_result",
          "data": {
            "text/plain": [
              "VWC                 2047\n",
              "Water authority      258\n",
              "WUA                  257\n",
              "Water Board          251\n",
              "WUG                  187\n",
              "Company              103\n",
              "Parastatal            90\n",
              "Private operator      87\n",
              "Other                 71\n",
              "SWC                   11\n",
              "Trust                  5\n",
              "Name: scheme_management, dtype: int64"
            ]
          },
          "metadata": {
            "tags": []
          },
          "execution_count": 27
        },
        {
          "output_type": "execute_result",
          "data": {
            "text/plain": [
              "Borehole                               43\n",
              "Government                             35\n",
              "DANIDA                                 34\n",
              "Chalinze wate                          34\n",
              "wanging'ombe supply scheme             30\n",
              "                                       ..\n",
              "Imbaseny pumping water supply           1\n",
              "Kiumba water supply                     1\n",
              "Kakonko /Mbizi gravity water supply     1\n",
              "Tengeru gravity water supply            1\n",
              "Mago                                    1\n",
              "Name: scheme_name, Length: 824, dtype: int64"
            ]
          },
          "metadata": {
            "tags": []
          },
          "execution_count": 27
        },
        {
          "output_type": "execute_result",
          "data": {
            "text/plain": [
              "True     2422\n",
              "False     951\n",
              "Name: permit, dtype: int64"
            ]
          },
          "metadata": {
            "tags": []
          },
          "execution_count": 27
        },
        {
          "output_type": "execute_result",
          "data": {
            "text/plain": [
              "gravity              1960\n",
              "submersible           340\n",
              "other                 319\n",
              "nira/tanira           221\n",
              "swn 80                206\n",
              "india mark ii         128\n",
              "mono                  113\n",
              "afridev                96\n",
              "ksb                    84\n",
              "other - rope pump      43\n",
              "other - swn 81         17\n",
              "windmill                6\n",
              "other - play pump       5\n",
              "india mark iii          3\n",
              "climax                  2\n",
              "walimi                  1\n",
              "Name: extraction_type, dtype: int64"
            ]
          },
          "metadata": {
            "tags": []
          },
          "execution_count": 27
        },
        {
          "output_type": "execute_result",
          "data": {
            "text/plain": [
              "gravity            1960\n",
              "submersible         424\n",
              "other               319\n",
              "nira/tanira         221\n",
              "swn 80              206\n",
              "india mark ii       128\n",
              "mono                113\n",
              "afridev              96\n",
              "rope pump            43\n",
              "other handpump       23\n",
              "wind-powered          6\n",
              "india mark iii        3\n",
              "other motorpump       2\n",
              "Name: extraction_type_group, dtype: int64"
            ]
          },
          "metadata": {
            "tags": []
          },
          "execution_count": 27
        },
        {
          "output_type": "execute_result",
          "data": {
            "text/plain": [
              "gravity         1960\n",
              "handpump         677\n",
              "submersible      424\n",
              "other            319\n",
              "motorpump        115\n",
              "rope pump         43\n",
              "wind-powered       6\n",
              "Name: extraction_type_class, dtype: int64"
            ]
          },
          "metadata": {
            "tags": []
          },
          "execution_count": 27
        },
        {
          "output_type": "execute_result",
          "data": {
            "text/plain": [
              "vwc                 2333\n",
              "water board          267\n",
              "wua                  225\n",
              "wug                  217\n",
              "private operator     153\n",
              "parastatal            99\n",
              "other                 71\n",
              "company               70\n",
              "water authority       62\n",
              "unknown               32\n",
              "other - school         9\n",
              "trust                  6\n",
              "Name: management, dtype: int64"
            ]
          },
          "metadata": {
            "tags": []
          },
          "execution_count": 27
        },
        {
          "output_type": "execute_result",
          "data": {
            "text/plain": [
              "user-group    3042\n",
              "commercial     291\n",
              "parastatal      99\n",
              "other           80\n",
              "unknown         32\n",
              "Name: management_group, dtype: int64"
            ]
          },
          "metadata": {
            "tags": []
          },
          "execution_count": 27
        },
        {
          "output_type": "execute_result",
          "data": {
            "text/plain": [
              "never pay                1240\n",
              "pay monthly               691\n",
              "pay per bucket            552\n",
              "unknown                   436\n",
              "pay annually              301\n",
              "pay when scheme fails     283\n",
              "other                      41\n",
              "Name: payment, dtype: int64"
            ]
          },
          "metadata": {
            "tags": []
          },
          "execution_count": 27
        },
        {
          "output_type": "execute_result",
          "data": {
            "text/plain": [
              "never pay     1240\n",
              "monthly        691\n",
              "per bucket     552\n",
              "unknown        436\n",
              "annually       301\n",
              "on failure     283\n",
              "other           41\n",
              "Name: payment_type, dtype: int64"
            ]
          },
          "metadata": {
            "tags": []
          },
          "execution_count": 27
        },
        {
          "output_type": "execute_result",
          "data": {
            "text/plain": [
              "soft                  3106\n",
              "salty                  270\n",
              "unknown                101\n",
              "coloured                22\n",
              "salty abandoned         17\n",
              "fluoride                14\n",
              "milky                   13\n",
              "fluoride abandoned       1\n",
              "Name: water_quality, dtype: int64"
            ]
          },
          "metadata": {
            "tags": []
          },
          "execution_count": 27
        },
        {
          "output_type": "execute_result",
          "data": {
            "text/plain": [
              "good        3106\n",
              "salty        287\n",
              "unknown      101\n",
              "colored       22\n",
              "fluoride      15\n",
              "milky         13\n",
              "Name: quality_group, dtype: int64"
            ]
          },
          "metadata": {
            "tags": []
          },
          "execution_count": 27
        },
        {
          "output_type": "execute_result",
          "data": {
            "text/plain": [
              "enough          2086\n",
              "insufficient     987\n",
              "dry              263\n",
              "seasonal         167\n",
              "unknown           41\n",
              "Name: quantity, dtype: int64"
            ]
          },
          "metadata": {
            "tags": []
          },
          "execution_count": 27
        },
        {
          "output_type": "execute_result",
          "data": {
            "text/plain": [
              "enough          2086\n",
              "insufficient     987\n",
              "dry              263\n",
              "seasonal         167\n",
              "unknown           41\n",
              "Name: quantity_group, dtype: int64"
            ]
          },
          "metadata": {
            "tags": []
          },
          "execution_count": 27
        },
        {
          "output_type": "execute_result",
          "data": {
            "text/plain": [
              "spring                  1254\n",
              "river                    719\n",
              "shallow well             655\n",
              "machine dbh              609\n",
              "rainwater harvesting     130\n",
              "hand dtw                  75\n",
              "lake                      43\n",
              "dam                       41\n",
              "other                     16\n",
              "unknown                    2\n",
              "Name: source, dtype: int64"
            ]
          },
          "metadata": {
            "tags": []
          },
          "execution_count": 27
        },
        {
          "output_type": "execute_result",
          "data": {
            "text/plain": [
              "spring                  1254\n",
              "river/lake               762\n",
              "borehole                 684\n",
              "shallow well             655\n",
              "rainwater harvesting     130\n",
              "dam                       41\n",
              "other                     18\n",
              "Name: source_type, dtype: int64"
            ]
          },
          "metadata": {
            "tags": []
          },
          "execution_count": 27
        },
        {
          "output_type": "execute_result",
          "data": {
            "text/plain": [
              "groundwater    2593\n",
              "surface         933\n",
              "unknown          18\n",
              "Name: source_class, dtype: int64"
            ]
          },
          "metadata": {
            "tags": []
          },
          "execution_count": 27
        },
        {
          "output_type": "execute_result",
          "data": {
            "text/plain": [
              "communal standpipe             2077\n",
              "hand pump                       766\n",
              "communal standpipe multiple     357\n",
              "other                           313\n",
              "improved spring                  25\n",
              "cattle trough                     6\n",
              "Name: waterpoint_type, dtype: int64"
            ]
          },
          "metadata": {
            "tags": []
          },
          "execution_count": 27
        },
        {
          "output_type": "execute_result",
          "data": {
            "text/plain": [
              "communal standpipe    2434\n",
              "hand pump              766\n",
              "other                  313\n",
              "improved spring         25\n",
              "cattle trough            6\n",
              "Name: waterpoint_type_group, dtype: int64"
            ]
          },
          "metadata": {
            "tags": []
          },
          "execution_count": 27
        },
        {
          "output_type": "execute_result",
          "data": {
            "text/plain": [
              "functional                 2083\n",
              "non functional             1225\n",
              "functional needs repair     236\n",
              "Name: status_group, dtype: int64"
            ]
          },
          "metadata": {
            "tags": []
          },
          "execution_count": 27
        },
        {
          "output_type": "stream",
          "text": [
            "\n",
            "Cluster 2:\n",
            "Number of Instances: 1\n"
          ],
          "name": "stdout"
        },
        {
          "output_type": "execute_result",
          "data": {
            "text/html": [
              "<div>\n",
              "<style scoped>\n",
              "    .dataframe tbody tr th:only-of-type {\n",
              "        vertical-align: middle;\n",
              "    }\n",
              "\n",
              "    .dataframe tbody tr th {\n",
              "        vertical-align: top;\n",
              "    }\n",
              "\n",
              "    .dataframe thead th {\n",
              "        text-align: right;\n",
              "    }\n",
              "</style>\n",
              "<table border=\"1\" class=\"dataframe\">\n",
              "  <thead>\n",
              "    <tr style=\"text-align: right;\">\n",
              "      <th></th>\n",
              "      <th>count</th>\n",
              "      <th>mean</th>\n",
              "      <th>std</th>\n",
              "      <th>min</th>\n",
              "      <th>25%</th>\n",
              "      <th>50%</th>\n",
              "      <th>75%</th>\n",
              "      <th>max</th>\n",
              "    </tr>\n",
              "  </thead>\n",
              "  <tbody>\n",
              "    <tr>\n",
              "      <th>id</th>\n",
              "      <td>1.00</td>\n",
              "      <td>12724.00</td>\n",
              "      <td>nan</td>\n",
              "      <td>12724.00</td>\n",
              "      <td>12724.00</td>\n",
              "      <td>12724.00</td>\n",
              "      <td>12724.00</td>\n",
              "      <td>12724.00</td>\n",
              "    </tr>\n",
              "    <tr>\n",
              "      <th>amount_tsh</th>\n",
              "      <td>1.00</td>\n",
              "      <td>20.00</td>\n",
              "      <td>nan</td>\n",
              "      <td>20.00</td>\n",
              "      <td>20.00</td>\n",
              "      <td>20.00</td>\n",
              "      <td>20.00</td>\n",
              "      <td>20.00</td>\n",
              "    </tr>\n",
              "    <tr>\n",
              "      <th>gps_height</th>\n",
              "      <td>1.00</td>\n",
              "      <td>175.00</td>\n",
              "      <td>nan</td>\n",
              "      <td>175.00</td>\n",
              "      <td>175.00</td>\n",
              "      <td>175.00</td>\n",
              "      <td>175.00</td>\n",
              "      <td>175.00</td>\n",
              "    </tr>\n",
              "    <tr>\n",
              "      <th>longitude</th>\n",
              "      <td>1.00</td>\n",
              "      <td>38.78</td>\n",
              "      <td>nan</td>\n",
              "      <td>38.78</td>\n",
              "      <td>38.78</td>\n",
              "      <td>38.78</td>\n",
              "      <td>38.78</td>\n",
              "      <td>38.78</td>\n",
              "    </tr>\n",
              "    <tr>\n",
              "      <th>latitude</th>\n",
              "      <td>1.00</td>\n",
              "      <td>-5.17</td>\n",
              "      <td>nan</td>\n",
              "      <td>-5.17</td>\n",
              "      <td>-5.17</td>\n",
              "      <td>-5.17</td>\n",
              "      <td>-5.17</td>\n",
              "      <td>-5.17</td>\n",
              "    </tr>\n",
              "    <tr>\n",
              "      <th>num_private</th>\n",
              "      <td>1.00</td>\n",
              "      <td>755.00</td>\n",
              "      <td>nan</td>\n",
              "      <td>755.00</td>\n",
              "      <td>755.00</td>\n",
              "      <td>755.00</td>\n",
              "      <td>755.00</td>\n",
              "      <td>755.00</td>\n",
              "    </tr>\n",
              "    <tr>\n",
              "      <th>region_code</th>\n",
              "      <td>1.00</td>\n",
              "      <td>4.00</td>\n",
              "      <td>nan</td>\n",
              "      <td>4.00</td>\n",
              "      <td>4.00</td>\n",
              "      <td>4.00</td>\n",
              "      <td>4.00</td>\n",
              "      <td>4.00</td>\n",
              "    </tr>\n",
              "    <tr>\n",
              "      <th>district_code</th>\n",
              "      <td>1.00</td>\n",
              "      <td>3.00</td>\n",
              "      <td>nan</td>\n",
              "      <td>3.00</td>\n",
              "      <td>3.00</td>\n",
              "      <td>3.00</td>\n",
              "      <td>3.00</td>\n",
              "      <td>3.00</td>\n",
              "    </tr>\n",
              "    <tr>\n",
              "      <th>population</th>\n",
              "      <td>1.00</td>\n",
              "      <td>3000.00</td>\n",
              "      <td>nan</td>\n",
              "      <td>3000.00</td>\n",
              "      <td>3000.00</td>\n",
              "      <td>3000.00</td>\n",
              "      <td>3000.00</td>\n",
              "      <td>3000.00</td>\n",
              "    </tr>\n",
              "    <tr>\n",
              "      <th>construction_year</th>\n",
              "      <td>1.00</td>\n",
              "      <td>2005.00</td>\n",
              "      <td>nan</td>\n",
              "      <td>2005.00</td>\n",
              "      <td>2005.00</td>\n",
              "      <td>2005.00</td>\n",
              "      <td>2005.00</td>\n",
              "      <td>2005.00</td>\n",
              "    </tr>\n",
              "  </tbody>\n",
              "</table>\n",
              "</div>"
            ],
            "text/plain": [
              "                   count     mean  std  ...      50%      75%      max\n",
              "id                  1.00 12724.00  nan  ... 12724.00 12724.00 12724.00\n",
              "amount_tsh          1.00    20.00  nan  ...    20.00    20.00    20.00\n",
              "gps_height          1.00   175.00  nan  ...   175.00   175.00   175.00\n",
              "longitude           1.00    38.78  nan  ...    38.78    38.78    38.78\n",
              "latitude            1.00    -5.17  nan  ...    -5.17    -5.17    -5.17\n",
              "num_private         1.00   755.00  nan  ...   755.00   755.00   755.00\n",
              "region_code         1.00     4.00  nan  ...     4.00     4.00     4.00\n",
              "district_code       1.00     3.00  nan  ...     3.00     3.00     3.00\n",
              "population          1.00  3000.00  nan  ...  3000.00  3000.00  3000.00\n",
              "construction_year   1.00  2005.00  nan  ...  2005.00  2005.00  2005.00\n",
              "\n",
              "[10 rows x 8 columns]"
            ]
          },
          "metadata": {
            "tags": []
          },
          "execution_count": 27
        },
        {
          "output_type": "execute_result",
          "data": {
            "text/html": [
              "<div>\n",
              "<style scoped>\n",
              "    .dataframe tbody tr th:only-of-type {\n",
              "        vertical-align: middle;\n",
              "    }\n",
              "\n",
              "    .dataframe tbody tr th {\n",
              "        vertical-align: top;\n",
              "    }\n",
              "\n",
              "    .dataframe thead th {\n",
              "        text-align: right;\n",
              "    }\n",
              "</style>\n",
              "<table border=\"1\" class=\"dataframe\">\n",
              "  <thead>\n",
              "    <tr style=\"text-align: right;\">\n",
              "      <th></th>\n",
              "      <th>count</th>\n",
              "      <th>unique</th>\n",
              "      <th>top</th>\n",
              "      <th>freq</th>\n",
              "    </tr>\n",
              "  </thead>\n",
              "  <tbody>\n",
              "    <tr>\n",
              "      <th>date_recorded</th>\n",
              "      <td>1</td>\n",
              "      <td>1</td>\n",
              "      <td>2011-03-12</td>\n",
              "      <td>1</td>\n",
              "    </tr>\n",
              "    <tr>\n",
              "      <th>funder</th>\n",
              "      <td>1</td>\n",
              "      <td>1</td>\n",
              "      <td>Government Of Tanzania</td>\n",
              "      <td>1</td>\n",
              "    </tr>\n",
              "    <tr>\n",
              "      <th>installer</th>\n",
              "      <td>1</td>\n",
              "      <td>1</td>\n",
              "      <td>DWE</td>\n",
              "      <td>1</td>\n",
              "    </tr>\n",
              "    <tr>\n",
              "      <th>wpt_name</th>\n",
              "      <td>1</td>\n",
              "      <td>1</td>\n",
              "      <td>Masimbani</td>\n",
              "      <td>1</td>\n",
              "    </tr>\n",
              "    <tr>\n",
              "      <th>basin</th>\n",
              "      <td>1</td>\n",
              "      <td>1</td>\n",
              "      <td>Pangani</td>\n",
              "      <td>1</td>\n",
              "    </tr>\n",
              "    <tr>\n",
              "      <th>subvillage</th>\n",
              "      <td>1</td>\n",
              "      <td>1</td>\n",
              "      <td>Masimbani</td>\n",
              "      <td>1</td>\n",
              "    </tr>\n",
              "    <tr>\n",
              "      <th>region</th>\n",
              "      <td>1</td>\n",
              "      <td>1</td>\n",
              "      <td>Tanga</td>\n",
              "      <td>1</td>\n",
              "    </tr>\n",
              "    <tr>\n",
              "      <th>lga</th>\n",
              "      <td>1</td>\n",
              "      <td>1</td>\n",
              "      <td>Muheza</td>\n",
              "      <td>1</td>\n",
              "    </tr>\n",
              "    <tr>\n",
              "      <th>ward</th>\n",
              "      <td>1</td>\n",
              "      <td>1</td>\n",
              "      <td>Mbaramo</td>\n",
              "      <td>1</td>\n",
              "    </tr>\n",
              "    <tr>\n",
              "      <th>public_meeting</th>\n",
              "      <td>1</td>\n",
              "      <td>1</td>\n",
              "      <td>True</td>\n",
              "      <td>1</td>\n",
              "    </tr>\n",
              "    <tr>\n",
              "      <th>recorded_by</th>\n",
              "      <td>1</td>\n",
              "      <td>1</td>\n",
              "      <td>GeoData Consultants Ltd</td>\n",
              "      <td>1</td>\n",
              "    </tr>\n",
              "    <tr>\n",
              "      <th>scheme_management</th>\n",
              "      <td>1</td>\n",
              "      <td>1</td>\n",
              "      <td>VWC</td>\n",
              "      <td>1</td>\n",
              "    </tr>\n",
              "    <tr>\n",
              "      <th>scheme_name</th>\n",
              "      <td>0</td>\n",
              "      <td>0</td>\n",
              "      <td>NaN</td>\n",
              "      <td>NaN</td>\n",
              "    </tr>\n",
              "    <tr>\n",
              "      <th>permit</th>\n",
              "      <td>1</td>\n",
              "      <td>1</td>\n",
              "      <td>False</td>\n",
              "      <td>1</td>\n",
              "    </tr>\n",
              "    <tr>\n",
              "      <th>extraction_type</th>\n",
              "      <td>1</td>\n",
              "      <td>1</td>\n",
              "      <td>nira/tanira</td>\n",
              "      <td>1</td>\n",
              "    </tr>\n",
              "    <tr>\n",
              "      <th>extraction_type_group</th>\n",
              "      <td>1</td>\n",
              "      <td>1</td>\n",
              "      <td>nira/tanira</td>\n",
              "      <td>1</td>\n",
              "    </tr>\n",
              "    <tr>\n",
              "      <th>extraction_type_class</th>\n",
              "      <td>1</td>\n",
              "      <td>1</td>\n",
              "      <td>handpump</td>\n",
              "      <td>1</td>\n",
              "    </tr>\n",
              "    <tr>\n",
              "      <th>management</th>\n",
              "      <td>1</td>\n",
              "      <td>1</td>\n",
              "      <td>vwc</td>\n",
              "      <td>1</td>\n",
              "    </tr>\n",
              "    <tr>\n",
              "      <th>management_group</th>\n",
              "      <td>1</td>\n",
              "      <td>1</td>\n",
              "      <td>user-group</td>\n",
              "      <td>1</td>\n",
              "    </tr>\n",
              "    <tr>\n",
              "      <th>payment</th>\n",
              "      <td>1</td>\n",
              "      <td>1</td>\n",
              "      <td>pay per bucket</td>\n",
              "      <td>1</td>\n",
              "    </tr>\n",
              "    <tr>\n",
              "      <th>payment_type</th>\n",
              "      <td>1</td>\n",
              "      <td>1</td>\n",
              "      <td>per bucket</td>\n",
              "      <td>1</td>\n",
              "    </tr>\n",
              "    <tr>\n",
              "      <th>water_quality</th>\n",
              "      <td>1</td>\n",
              "      <td>1</td>\n",
              "      <td>salty</td>\n",
              "      <td>1</td>\n",
              "    </tr>\n",
              "    <tr>\n",
              "      <th>quality_group</th>\n",
              "      <td>1</td>\n",
              "      <td>1</td>\n",
              "      <td>salty</td>\n",
              "      <td>1</td>\n",
              "    </tr>\n",
              "    <tr>\n",
              "      <th>quantity</th>\n",
              "      <td>1</td>\n",
              "      <td>1</td>\n",
              "      <td>enough</td>\n",
              "      <td>1</td>\n",
              "    </tr>\n",
              "    <tr>\n",
              "      <th>quantity_group</th>\n",
              "      <td>1</td>\n",
              "      <td>1</td>\n",
              "      <td>enough</td>\n",
              "      <td>1</td>\n",
              "    </tr>\n",
              "    <tr>\n",
              "      <th>source</th>\n",
              "      <td>1</td>\n",
              "      <td>1</td>\n",
              "      <td>shallow well</td>\n",
              "      <td>1</td>\n",
              "    </tr>\n",
              "    <tr>\n",
              "      <th>source_type</th>\n",
              "      <td>1</td>\n",
              "      <td>1</td>\n",
              "      <td>shallow well</td>\n",
              "      <td>1</td>\n",
              "    </tr>\n",
              "    <tr>\n",
              "      <th>source_class</th>\n",
              "      <td>1</td>\n",
              "      <td>1</td>\n",
              "      <td>groundwater</td>\n",
              "      <td>1</td>\n",
              "    </tr>\n",
              "    <tr>\n",
              "      <th>waterpoint_type</th>\n",
              "      <td>1</td>\n",
              "      <td>1</td>\n",
              "      <td>hand pump</td>\n",
              "      <td>1</td>\n",
              "    </tr>\n",
              "    <tr>\n",
              "      <th>waterpoint_type_group</th>\n",
              "      <td>1</td>\n",
              "      <td>1</td>\n",
              "      <td>hand pump</td>\n",
              "      <td>1</td>\n",
              "    </tr>\n",
              "    <tr>\n",
              "      <th>status_group</th>\n",
              "      <td>1</td>\n",
              "      <td>1</td>\n",
              "      <td>functional</td>\n",
              "      <td>1</td>\n",
              "    </tr>\n",
              "  </tbody>\n",
              "</table>\n",
              "</div>"
            ],
            "text/plain": [
              "                      count unique                      top freq\n",
              "date_recorded             1      1               2011-03-12    1\n",
              "funder                    1      1   Government Of Tanzania    1\n",
              "installer                 1      1                      DWE    1\n",
              "wpt_name                  1      1                Masimbani    1\n",
              "basin                     1      1                  Pangani    1\n",
              "subvillage                1      1                Masimbani    1\n",
              "region                    1      1                    Tanga    1\n",
              "lga                       1      1                   Muheza    1\n",
              "ward                      1      1                  Mbaramo    1\n",
              "public_meeting            1      1                     True    1\n",
              "recorded_by               1      1  GeoData Consultants Ltd    1\n",
              "scheme_management         1      1                      VWC    1\n",
              "scheme_name               0      0                      NaN  NaN\n",
              "permit                    1      1                    False    1\n",
              "extraction_type           1      1              nira/tanira    1\n",
              "extraction_type_group     1      1              nira/tanira    1\n",
              "extraction_type_class     1      1                 handpump    1\n",
              "management                1      1                      vwc    1\n",
              "management_group          1      1               user-group    1\n",
              "payment                   1      1           pay per bucket    1\n",
              "payment_type              1      1               per bucket    1\n",
              "water_quality             1      1                    salty    1\n",
              "quality_group             1      1                    salty    1\n",
              "quantity                  1      1                   enough    1\n",
              "quantity_group            1      1                   enough    1\n",
              "source                    1      1             shallow well    1\n",
              "source_type               1      1             shallow well    1\n",
              "source_class              1      1              groundwater    1\n",
              "waterpoint_type           1      1                hand pump    1\n",
              "waterpoint_type_group     1      1                hand pump    1\n",
              "status_group              1      1               functional    1"
            ]
          },
          "metadata": {
            "tags": []
          },
          "execution_count": 27
        },
        {
          "output_type": "execute_result",
          "data": {
            "text/plain": [
              "2011-03-12    1\n",
              "Name: date_recorded, dtype: int64"
            ]
          },
          "metadata": {
            "tags": []
          },
          "execution_count": 27
        },
        {
          "output_type": "execute_result",
          "data": {
            "text/plain": [
              "Government Of Tanzania    1\n",
              "Name: funder, dtype: int64"
            ]
          },
          "metadata": {
            "tags": []
          },
          "execution_count": 27
        },
        {
          "output_type": "execute_result",
          "data": {
            "text/plain": [
              "DWE    1\n",
              "Name: installer, dtype: int64"
            ]
          },
          "metadata": {
            "tags": []
          },
          "execution_count": 27
        },
        {
          "output_type": "execute_result",
          "data": {
            "text/plain": [
              "Masimbani    1\n",
              "Name: wpt_name, dtype: int64"
            ]
          },
          "metadata": {
            "tags": []
          },
          "execution_count": 27
        },
        {
          "output_type": "execute_result",
          "data": {
            "text/plain": [
              "Pangani    1\n",
              "Name: basin, dtype: int64"
            ]
          },
          "metadata": {
            "tags": []
          },
          "execution_count": 27
        },
        {
          "output_type": "execute_result",
          "data": {
            "text/plain": [
              "Masimbani    1\n",
              "Name: subvillage, dtype: int64"
            ]
          },
          "metadata": {
            "tags": []
          },
          "execution_count": 27
        },
        {
          "output_type": "execute_result",
          "data": {
            "text/plain": [
              "Tanga    1\n",
              "Name: region, dtype: int64"
            ]
          },
          "metadata": {
            "tags": []
          },
          "execution_count": 27
        },
        {
          "output_type": "execute_result",
          "data": {
            "text/plain": [
              "Muheza    1\n",
              "Name: lga, dtype: int64"
            ]
          },
          "metadata": {
            "tags": []
          },
          "execution_count": 27
        },
        {
          "output_type": "execute_result",
          "data": {
            "text/plain": [
              "Mbaramo    1\n",
              "Name: ward, dtype: int64"
            ]
          },
          "metadata": {
            "tags": []
          },
          "execution_count": 27
        },
        {
          "output_type": "execute_result",
          "data": {
            "text/plain": [
              "True    1\n",
              "Name: public_meeting, dtype: int64"
            ]
          },
          "metadata": {
            "tags": []
          },
          "execution_count": 27
        },
        {
          "output_type": "execute_result",
          "data": {
            "text/plain": [
              "GeoData Consultants Ltd    1\n",
              "Name: recorded_by, dtype: int64"
            ]
          },
          "metadata": {
            "tags": []
          },
          "execution_count": 27
        },
        {
          "output_type": "execute_result",
          "data": {
            "text/plain": [
              "VWC    1\n",
              "Name: scheme_management, dtype: int64"
            ]
          },
          "metadata": {
            "tags": []
          },
          "execution_count": 27
        },
        {
          "output_type": "execute_result",
          "data": {
            "text/plain": [
              "Series([], Name: scheme_name, dtype: int64)"
            ]
          },
          "metadata": {
            "tags": []
          },
          "execution_count": 27
        },
        {
          "output_type": "execute_result",
          "data": {
            "text/plain": [
              "False    1\n",
              "Name: permit, dtype: int64"
            ]
          },
          "metadata": {
            "tags": []
          },
          "execution_count": 27
        },
        {
          "output_type": "execute_result",
          "data": {
            "text/plain": [
              "nira/tanira    1\n",
              "Name: extraction_type, dtype: int64"
            ]
          },
          "metadata": {
            "tags": []
          },
          "execution_count": 27
        },
        {
          "output_type": "execute_result",
          "data": {
            "text/plain": [
              "nira/tanira    1\n",
              "Name: extraction_type_group, dtype: int64"
            ]
          },
          "metadata": {
            "tags": []
          },
          "execution_count": 27
        },
        {
          "output_type": "execute_result",
          "data": {
            "text/plain": [
              "handpump    1\n",
              "Name: extraction_type_class, dtype: int64"
            ]
          },
          "metadata": {
            "tags": []
          },
          "execution_count": 27
        },
        {
          "output_type": "execute_result",
          "data": {
            "text/plain": [
              "vwc    1\n",
              "Name: management, dtype: int64"
            ]
          },
          "metadata": {
            "tags": []
          },
          "execution_count": 27
        },
        {
          "output_type": "execute_result",
          "data": {
            "text/plain": [
              "user-group    1\n",
              "Name: management_group, dtype: int64"
            ]
          },
          "metadata": {
            "tags": []
          },
          "execution_count": 27
        },
        {
          "output_type": "execute_result",
          "data": {
            "text/plain": [
              "pay per bucket    1\n",
              "Name: payment, dtype: int64"
            ]
          },
          "metadata": {
            "tags": []
          },
          "execution_count": 27
        },
        {
          "output_type": "execute_result",
          "data": {
            "text/plain": [
              "per bucket    1\n",
              "Name: payment_type, dtype: int64"
            ]
          },
          "metadata": {
            "tags": []
          },
          "execution_count": 27
        },
        {
          "output_type": "execute_result",
          "data": {
            "text/plain": [
              "salty    1\n",
              "Name: water_quality, dtype: int64"
            ]
          },
          "metadata": {
            "tags": []
          },
          "execution_count": 27
        },
        {
          "output_type": "execute_result",
          "data": {
            "text/plain": [
              "salty    1\n",
              "Name: quality_group, dtype: int64"
            ]
          },
          "metadata": {
            "tags": []
          },
          "execution_count": 27
        },
        {
          "output_type": "execute_result",
          "data": {
            "text/plain": [
              "enough    1\n",
              "Name: quantity, dtype: int64"
            ]
          },
          "metadata": {
            "tags": []
          },
          "execution_count": 27
        },
        {
          "output_type": "execute_result",
          "data": {
            "text/plain": [
              "enough    1\n",
              "Name: quantity_group, dtype: int64"
            ]
          },
          "metadata": {
            "tags": []
          },
          "execution_count": 27
        },
        {
          "output_type": "execute_result",
          "data": {
            "text/plain": [
              "shallow well    1\n",
              "Name: source, dtype: int64"
            ]
          },
          "metadata": {
            "tags": []
          },
          "execution_count": 27
        },
        {
          "output_type": "execute_result",
          "data": {
            "text/plain": [
              "shallow well    1\n",
              "Name: source_type, dtype: int64"
            ]
          },
          "metadata": {
            "tags": []
          },
          "execution_count": 27
        },
        {
          "output_type": "execute_result",
          "data": {
            "text/plain": [
              "groundwater    1\n",
              "Name: source_class, dtype: int64"
            ]
          },
          "metadata": {
            "tags": []
          },
          "execution_count": 27
        },
        {
          "output_type": "execute_result",
          "data": {
            "text/plain": [
              "hand pump    1\n",
              "Name: waterpoint_type, dtype: int64"
            ]
          },
          "metadata": {
            "tags": []
          },
          "execution_count": 27
        },
        {
          "output_type": "execute_result",
          "data": {
            "text/plain": [
              "hand pump    1\n",
              "Name: waterpoint_type_group, dtype: int64"
            ]
          },
          "metadata": {
            "tags": []
          },
          "execution_count": 27
        },
        {
          "output_type": "execute_result",
          "data": {
            "text/plain": [
              "functional    1\n",
              "Name: status_group, dtype: int64"
            ]
          },
          "metadata": {
            "tags": []
          },
          "execution_count": 27
        },
        {
          "output_type": "stream",
          "text": [
            "\n",
            "Cluster 3:\n",
            "Number of Instances: 329\n"
          ],
          "name": "stdout"
        },
        {
          "output_type": "execute_result",
          "data": {
            "text/html": [
              "<div>\n",
              "<style scoped>\n",
              "    .dataframe tbody tr th:only-of-type {\n",
              "        vertical-align: middle;\n",
              "    }\n",
              "\n",
              "    .dataframe tbody tr th {\n",
              "        vertical-align: top;\n",
              "    }\n",
              "\n",
              "    .dataframe thead th {\n",
              "        text-align: right;\n",
              "    }\n",
              "</style>\n",
              "<table border=\"1\" class=\"dataframe\">\n",
              "  <thead>\n",
              "    <tr style=\"text-align: right;\">\n",
              "      <th></th>\n",
              "      <th>count</th>\n",
              "      <th>mean</th>\n",
              "      <th>std</th>\n",
              "      <th>min</th>\n",
              "      <th>25%</th>\n",
              "      <th>50%</th>\n",
              "      <th>75%</th>\n",
              "      <th>max</th>\n",
              "    </tr>\n",
              "  </thead>\n",
              "  <tbody>\n",
              "    <tr>\n",
              "      <th>id</th>\n",
              "      <td>329.00</td>\n",
              "      <td>36239.53</td>\n",
              "      <td>21915.31</td>\n",
              "      <td>66.00</td>\n",
              "      <td>17757.00</td>\n",
              "      <td>36929.00</td>\n",
              "      <td>56440.00</td>\n",
              "      <td>73969.00</td>\n",
              "    </tr>\n",
              "    <tr>\n",
              "      <th>amount_tsh</th>\n",
              "      <td>329.00</td>\n",
              "      <td>77.42</td>\n",
              "      <td>446.20</td>\n",
              "      <td>0.00</td>\n",
              "      <td>0.00</td>\n",
              "      <td>0.00</td>\n",
              "      <td>20.00</td>\n",
              "      <td>5000.00</td>\n",
              "    </tr>\n",
              "    <tr>\n",
              "      <th>gps_height</th>\n",
              "      <td>329.00</td>\n",
              "      <td>161.22</td>\n",
              "      <td>181.77</td>\n",
              "      <td>-53.00</td>\n",
              "      <td>7.00</td>\n",
              "      <td>101.00</td>\n",
              "      <td>303.00</td>\n",
              "      <td>731.00</td>\n",
              "    </tr>\n",
              "    <tr>\n",
              "      <th>longitude</th>\n",
              "      <td>329.00</td>\n",
              "      <td>39.19</td>\n",
              "      <td>0.50</td>\n",
              "      <td>37.71</td>\n",
              "      <td>38.93</td>\n",
              "      <td>39.14</td>\n",
              "      <td>39.47</td>\n",
              "      <td>40.34</td>\n",
              "    </tr>\n",
              "    <tr>\n",
              "      <th>latitude</th>\n",
              "      <td>329.00</td>\n",
              "      <td>-9.34</td>\n",
              "      <td>1.35</td>\n",
              "      <td>-11.36</td>\n",
              "      <td>-10.45</td>\n",
              "      <td>-9.97</td>\n",
              "      <td>-7.92</td>\n",
              "      <td>-7.00</td>\n",
              "    </tr>\n",
              "    <tr>\n",
              "      <th>num_private</th>\n",
              "      <td>329.00</td>\n",
              "      <td>0.01</td>\n",
              "      <td>0.13</td>\n",
              "      <td>0.00</td>\n",
              "      <td>0.00</td>\n",
              "      <td>0.00</td>\n",
              "      <td>0.00</td>\n",
              "      <td>2.00</td>\n",
              "    </tr>\n",
              "    <tr>\n",
              "      <th>region_code</th>\n",
              "      <td>329.00</td>\n",
              "      <td>78.58</td>\n",
              "      <td>14.19</td>\n",
              "      <td>40.00</td>\n",
              "      <td>60.00</td>\n",
              "      <td>80.00</td>\n",
              "      <td>90.00</td>\n",
              "      <td>99.00</td>\n",
              "    </tr>\n",
              "    <tr>\n",
              "      <th>district_code</th>\n",
              "      <td>329.00</td>\n",
              "      <td>33.69</td>\n",
              "      <td>20.16</td>\n",
              "      <td>1.00</td>\n",
              "      <td>13.00</td>\n",
              "      <td>33.00</td>\n",
              "      <td>53.00</td>\n",
              "      <td>63.00</td>\n",
              "    </tr>\n",
              "    <tr>\n",
              "      <th>population</th>\n",
              "      <td>329.00</td>\n",
              "      <td>230.95</td>\n",
              "      <td>278.04</td>\n",
              "      <td>1.00</td>\n",
              "      <td>1.00</td>\n",
              "      <td>200.00</td>\n",
              "      <td>350.00</td>\n",
              "      <td>2000.00</td>\n",
              "    </tr>\n",
              "    <tr>\n",
              "      <th>construction_year</th>\n",
              "      <td>329.00</td>\n",
              "      <td>1850.91</td>\n",
              "      <td>520.16</td>\n",
              "      <td>0.00</td>\n",
              "      <td>1980.00</td>\n",
              "      <td>2000.00</td>\n",
              "      <td>2008.00</td>\n",
              "      <td>2013.00</td>\n",
              "    </tr>\n",
              "  </tbody>\n",
              "</table>\n",
              "</div>"
            ],
            "text/plain": [
              "                   count     mean      std  ...      50%      75%      max\n",
              "id                329.00 36239.53 21915.31  ... 36929.00 56440.00 73969.00\n",
              "amount_tsh        329.00    77.42   446.20  ...     0.00    20.00  5000.00\n",
              "gps_height        329.00   161.22   181.77  ...   101.00   303.00   731.00\n",
              "longitude         329.00    39.19     0.50  ...    39.14    39.47    40.34\n",
              "latitude          329.00    -9.34     1.35  ...    -9.97    -7.92    -7.00\n",
              "num_private       329.00     0.01     0.13  ...     0.00     0.00     2.00\n",
              "region_code       329.00    78.58    14.19  ...    80.00    90.00    99.00\n",
              "district_code     329.00    33.69    20.16  ...    33.00    53.00    63.00\n",
              "population        329.00   230.95   278.04  ...   200.00   350.00  2000.00\n",
              "construction_year 329.00  1850.91   520.16  ...  2000.00  2008.00  2013.00\n",
              "\n",
              "[10 rows x 8 columns]"
            ]
          },
          "metadata": {
            "tags": []
          },
          "execution_count": 27
        },
        {
          "output_type": "execute_result",
          "data": {
            "text/html": [
              "<div>\n",
              "<style scoped>\n",
              "    .dataframe tbody tr th:only-of-type {\n",
              "        vertical-align: middle;\n",
              "    }\n",
              "\n",
              "    .dataframe tbody tr th {\n",
              "        vertical-align: top;\n",
              "    }\n",
              "\n",
              "    .dataframe thead th {\n",
              "        text-align: right;\n",
              "    }\n",
              "</style>\n",
              "<table border=\"1\" class=\"dataframe\">\n",
              "  <thead>\n",
              "    <tr style=\"text-align: right;\">\n",
              "      <th></th>\n",
              "      <th>count</th>\n",
              "      <th>unique</th>\n",
              "      <th>top</th>\n",
              "      <th>freq</th>\n",
              "    </tr>\n",
              "  </thead>\n",
              "  <tbody>\n",
              "    <tr>\n",
              "      <th>date_recorded</th>\n",
              "      <td>329</td>\n",
              "      <td>60</td>\n",
              "      <td>2013-01-24</td>\n",
              "      <td>16</td>\n",
              "    </tr>\n",
              "    <tr>\n",
              "      <th>funder</th>\n",
              "      <td>313</td>\n",
              "      <td>55</td>\n",
              "      <td>Government Of Tanzania</td>\n",
              "      <td>50</td>\n",
              "    </tr>\n",
              "    <tr>\n",
              "      <th>installer</th>\n",
              "      <td>313</td>\n",
              "      <td>60</td>\n",
              "      <td>DWE</td>\n",
              "      <td>50</td>\n",
              "    </tr>\n",
              "    <tr>\n",
              "      <th>wpt_name</th>\n",
              "      <td>329</td>\n",
              "      <td>261</td>\n",
              "      <td>Shuleni</td>\n",
              "      <td>18</td>\n",
              "    </tr>\n",
              "    <tr>\n",
              "      <th>basin</th>\n",
              "      <td>329</td>\n",
              "      <td>3</td>\n",
              "      <td>Ruvuma / Southern Coast</td>\n",
              "      <td>210</td>\n",
              "    </tr>\n",
              "    <tr>\n",
              "      <th>subvillage</th>\n",
              "      <td>329</td>\n",
              "      <td>243</td>\n",
              "      <td>Majengo</td>\n",
              "      <td>7</td>\n",
              "    </tr>\n",
              "    <tr>\n",
              "      <th>region</th>\n",
              "      <td>329</td>\n",
              "      <td>3</td>\n",
              "      <td>Mtwara</td>\n",
              "      <td>118</td>\n",
              "    </tr>\n",
              "    <tr>\n",
              "      <th>lga</th>\n",
              "      <td>329</td>\n",
              "      <td>13</td>\n",
              "      <td>Rufiji</td>\n",
              "      <td>51</td>\n",
              "    </tr>\n",
              "    <tr>\n",
              "      <th>ward</th>\n",
              "      <td>329</td>\n",
              "      <td>123</td>\n",
              "      <td>Vikindu</td>\n",
              "      <td>12</td>\n",
              "    </tr>\n",
              "    <tr>\n",
              "      <th>public_meeting</th>\n",
              "      <td>319</td>\n",
              "      <td>2</td>\n",
              "      <td>True</td>\n",
              "      <td>288</td>\n",
              "    </tr>\n",
              "    <tr>\n",
              "      <th>recorded_by</th>\n",
              "      <td>329</td>\n",
              "      <td>1</td>\n",
              "      <td>GeoData Consultants Ltd</td>\n",
              "      <td>329</td>\n",
              "    </tr>\n",
              "    <tr>\n",
              "      <th>scheme_management</th>\n",
              "      <td>266</td>\n",
              "      <td>9</td>\n",
              "      <td>VWC</td>\n",
              "      <td>233</td>\n",
              "    </tr>\n",
              "    <tr>\n",
              "      <th>scheme_name</th>\n",
              "      <td>100</td>\n",
              "      <td>48</td>\n",
              "      <td>Mbuo mkunwa water supply</td>\n",
              "      <td>11</td>\n",
              "    </tr>\n",
              "    <tr>\n",
              "      <th>permit</th>\n",
              "      <td>329</td>\n",
              "      <td>2</td>\n",
              "      <td>True</td>\n",
              "      <td>212</td>\n",
              "    </tr>\n",
              "    <tr>\n",
              "      <th>extraction_type</th>\n",
              "      <td>329</td>\n",
              "      <td>12</td>\n",
              "      <td>other</td>\n",
              "      <td>83</td>\n",
              "    </tr>\n",
              "    <tr>\n",
              "      <th>extraction_type_group</th>\n",
              "      <td>329</td>\n",
              "      <td>11</td>\n",
              "      <td>other</td>\n",
              "      <td>83</td>\n",
              "    </tr>\n",
              "    <tr>\n",
              "      <th>extraction_type_class</th>\n",
              "      <td>329</td>\n",
              "      <td>6</td>\n",
              "      <td>handpump</td>\n",
              "      <td>92</td>\n",
              "    </tr>\n",
              "    <tr>\n",
              "      <th>management</th>\n",
              "      <td>329</td>\n",
              "      <td>9</td>\n",
              "      <td>vwc</td>\n",
              "      <td>285</td>\n",
              "    </tr>\n",
              "    <tr>\n",
              "      <th>management_group</th>\n",
              "      <td>329</td>\n",
              "      <td>5</td>\n",
              "      <td>user-group</td>\n",
              "      <td>292</td>\n",
              "    </tr>\n",
              "    <tr>\n",
              "      <th>payment</th>\n",
              "      <td>329</td>\n",
              "      <td>6</td>\n",
              "      <td>never pay</td>\n",
              "      <td>159</td>\n",
              "    </tr>\n",
              "    <tr>\n",
              "      <th>payment_type</th>\n",
              "      <td>329</td>\n",
              "      <td>6</td>\n",
              "      <td>never pay</td>\n",
              "      <td>159</td>\n",
              "    </tr>\n",
              "    <tr>\n",
              "      <th>water_quality</th>\n",
              "      <td>329</td>\n",
              "      <td>6</td>\n",
              "      <td>soft</td>\n",
              "      <td>249</td>\n",
              "    </tr>\n",
              "    <tr>\n",
              "      <th>quality_group</th>\n",
              "      <td>329</td>\n",
              "      <td>5</td>\n",
              "      <td>good</td>\n",
              "      <td>249</td>\n",
              "    </tr>\n",
              "    <tr>\n",
              "      <th>quantity</th>\n",
              "      <td>329</td>\n",
              "      <td>5</td>\n",
              "      <td>enough</td>\n",
              "      <td>196</td>\n",
              "    </tr>\n",
              "    <tr>\n",
              "      <th>quantity_group</th>\n",
              "      <td>329</td>\n",
              "      <td>5</td>\n",
              "      <td>enough</td>\n",
              "      <td>196</td>\n",
              "    </tr>\n",
              "    <tr>\n",
              "      <th>source</th>\n",
              "      <td>329</td>\n",
              "      <td>8</td>\n",
              "      <td>machine dbh</td>\n",
              "      <td>148</td>\n",
              "    </tr>\n",
              "    <tr>\n",
              "      <th>source_type</th>\n",
              "      <td>329</td>\n",
              "      <td>7</td>\n",
              "      <td>borehole</td>\n",
              "      <td>150</td>\n",
              "    </tr>\n",
              "    <tr>\n",
              "      <th>source_class</th>\n",
              "      <td>329</td>\n",
              "      <td>3</td>\n",
              "      <td>groundwater</td>\n",
              "      <td>304</td>\n",
              "    </tr>\n",
              "    <tr>\n",
              "      <th>waterpoint_type</th>\n",
              "      <td>329</td>\n",
              "      <td>5</td>\n",
              "      <td>hand pump</td>\n",
              "      <td>96</td>\n",
              "    </tr>\n",
              "    <tr>\n",
              "      <th>waterpoint_type_group</th>\n",
              "      <td>329</td>\n",
              "      <td>4</td>\n",
              "      <td>communal standpipe</td>\n",
              "      <td>148</td>\n",
              "    </tr>\n",
              "    <tr>\n",
              "      <th>status_group</th>\n",
              "      <td>329</td>\n",
              "      <td>3</td>\n",
              "      <td>non functional</td>\n",
              "      <td>195</td>\n",
              "    </tr>\n",
              "  </tbody>\n",
              "</table>\n",
              "</div>"
            ],
            "text/plain": [
              "                      count unique                       top freq\n",
              "date_recorded           329     60                2013-01-24   16\n",
              "funder                  313     55    Government Of Tanzania   50\n",
              "installer               313     60                       DWE   50\n",
              "wpt_name                329    261                   Shuleni   18\n",
              "basin                   329      3   Ruvuma / Southern Coast  210\n",
              "subvillage              329    243                   Majengo    7\n",
              "region                  329      3                    Mtwara  118\n",
              "lga                     329     13                    Rufiji   51\n",
              "ward                    329    123                   Vikindu   12\n",
              "public_meeting          319      2                      True  288\n",
              "recorded_by             329      1   GeoData Consultants Ltd  329\n",
              "scheme_management       266      9                       VWC  233\n",
              "scheme_name             100     48  Mbuo mkunwa water supply   11\n",
              "permit                  329      2                      True  212\n",
              "extraction_type         329     12                     other   83\n",
              "extraction_type_group   329     11                     other   83\n",
              "extraction_type_class   329      6                  handpump   92\n",
              "management              329      9                       vwc  285\n",
              "management_group        329      5                user-group  292\n",
              "payment                 329      6                 never pay  159\n",
              "payment_type            329      6                 never pay  159\n",
              "water_quality           329      6                      soft  249\n",
              "quality_group           329      5                      good  249\n",
              "quantity                329      5                    enough  196\n",
              "quantity_group          329      5                    enough  196\n",
              "source                  329      8               machine dbh  148\n",
              "source_type             329      7                  borehole  150\n",
              "source_class            329      3               groundwater  304\n",
              "waterpoint_type         329      5                 hand pump   96\n",
              "waterpoint_type_group   329      4        communal standpipe  148\n",
              "status_group            329      3            non functional  195"
            ]
          },
          "metadata": {
            "tags": []
          },
          "execution_count": 27
        },
        {
          "output_type": "execute_result",
          "data": {
            "text/plain": [
              "2013-01-24    16\n",
              "2013-02-03    14\n",
              "2013-01-29    14\n",
              "2011-03-05    12\n",
              "2011-02-28    11\n",
              "2013-02-01    11\n",
              "2013-02-08    11\n",
              "2013-01-22    10\n",
              "2013-02-02    10\n",
              "2013-02-06     9\n",
              "2011-02-23     9\n",
              "2013-01-31     8\n",
              "2013-01-23     8\n",
              "2013-01-16     8\n",
              "2011-02-22     8\n",
              "2013-02-09     7\n",
              "2011-02-24     7\n",
              "2011-03-03     7\n",
              "2013-02-04     7\n",
              "2011-02-21     7\n",
              "2013-01-21     7\n",
              "2013-01-30     6\n",
              "2011-03-02     6\n",
              "2013-02-10     6\n",
              "2013-02-15     6\n",
              "2013-01-28     6\n",
              "2013-02-07     6\n",
              "2013-01-27     6\n",
              "2011-02-19     6\n",
              "2013-01-25     6\n",
              "2011-03-04     5\n",
              "2011-02-26     5\n",
              "2013-01-26     5\n",
              "2013-01-20     5\n",
              "2013-02-05     4\n",
              "2013-02-16     4\n",
              "2013-01-17     3\n",
              "2013-02-23     3\n",
              "2011-03-06     3\n",
              "2011-02-25     3\n",
              "2013-02-12     3\n",
              "2011-03-08     3\n",
              "2013-01-18     3\n",
              "2011-02-16     3\n",
              "2013-02-18     2\n",
              "2013-02-24     2\n",
              "2011-02-17     2\n",
              "2013-02-17     2\n",
              "2011-02-20     2\n",
              "2011-02-27     2\n",
              "2013-02-11     1\n",
              "2013-02-19     1\n",
              "2013-02-14     1\n",
              "2013-01-19     1\n",
              "2013-03-04     1\n",
              "2004-03-01     1\n",
              "2013-02-13     1\n",
              "2011-02-15     1\n",
              "2011-03-07     1\n",
              "2013-02-21     1\n",
              "Name: date_recorded, dtype: int64"
            ]
          },
          "metadata": {
            "tags": []
          },
          "execution_count": 27
        },
        {
          "output_type": "execute_result",
          "data": {
            "text/plain": [
              "Government Of Tanzania         50\n",
              "Fini Water                     28\n",
              "Lga                            25\n",
              "Unicef                         24\n",
              "Amref                          19\n",
              "Jaica                          18\n",
              "Private                        14\n",
              "Fw                             12\n",
              "W.B                            10\n",
              "World Bank                     10\n",
              "Dwe                             9\n",
              "Fin Water                       8\n",
              "District Council                5\n",
              "Finida German Tanzania Govt     5\n",
              "Jica                            4\n",
              "Lifetime                        4\n",
              "Kuwait                          4\n",
              "Lips                            4\n",
              "Tasaf                           4\n",
              "Songas                          4\n",
              "Cspd                            4\n",
              "Gen                             4\n",
              "Cct                             3\n",
              "Sabodo                          3\n",
              "Father Bonifasi                 3\n",
              "Asb                             2\n",
              "Mchukwi Hos                     2\n",
              "Roman Cathoric Church           2\n",
              "Plan Int                        2\n",
              "Finn Water                      2\n",
              "Abs                             1\n",
              "Japan Embassy                   1\n",
              "Serikali Ya Kijiji              1\n",
              "Finland Government              1\n",
              "Church                          1\n",
              "Rdc                             1\n",
              "Fptc - Pent                     1\n",
              "Us Embassy                      1\n",
              "Bio Fuel Company                1\n",
              "Finidagermantanzania Govt       1\n",
              "Mafwimbo                        1\n",
              "Kyela-morogoro                  1\n",
              "Halmashauli                     1\n",
              "Anglican Church                 1\n",
              "M And P                         1\n",
              "Tasaf 1                         1\n",
              "Concern                         1\n",
              "Member Of Parliament            1\n",
              "Canada                          1\n",
              "Dar Al Ber                      1\n",
              "Msikiti                         1\n",
              "Quwkwin                         1\n",
              "Gain                            1\n",
              "Belgian Government              1\n",
              "Water Sector Development        1\n",
              "Name: funder, dtype: int64"
            ]
          },
          "metadata": {
            "tags": []
          },
          "execution_count": 27
        },
        {
          "output_type": "execute_result",
          "data": {
            "text/plain": [
              "DWE                          50\n",
              "LGA                          28\n",
              "Fini water                   20\n",
              "Unisef                       19\n",
              "JAICA                        13\n",
              "AMREF                        13\n",
              "District Council             13\n",
              "Artisan                      12\n",
              "FW                           12\n",
              "FINI WATER                    8\n",
              "Private                       8\n",
              "Centr                         8\n",
              "RDC                           7\n",
              "FIN WATER                     7\n",
              "Finwater                      6\n",
              "Amref                         6\n",
              "Jaica                         5\n",
              "Government                    5\n",
              "GEN                           4\n",
              "KUWAIT                        4\n",
              "Orien                         3\n",
              "District water department     3\n",
              "GOVERNMENT                    3\n",
              "Ndanda missions               3\n",
              "Sabodo                        3\n",
              "TASAF                         3\n",
              "Priva                         3\n",
              "Songa                         3\n",
              "Kokeni                        2\n",
              "Makonde water supply          2\n",
              "FINN WATER                    2\n",
              "private                       2\n",
              "CCT                           2\n",
              "UNICEF                        2\n",
              "Mchuk                         2\n",
              "WORLD BANK                    2\n",
              "SAXON BUILDING CONTRACTOR     2\n",
              "JAPAN EMBASSY                 1\n",
              "US Embassy                    1\n",
              "Serikali ya kijiji            1\n",
              "Kilwa company                 1\n",
              "Msiki                         1\n",
              "Belgiam Government            1\n",
              "Church                        1\n",
              "The I                         1\n",
              "Halmashauli                   1\n",
              "Finland Government            1\n",
              "KYELA_MOROGORO                1\n",
              "TASAF 1                       1\n",
              "CONCERN                       1\n",
              "FPTC                          1\n",
              "Canada na Tanzania            1\n",
              "Nandra Construction           1\n",
              "Plan Int                      1\n",
              "Phase                         1\n",
              "JICA                          1\n",
              "Prima                         1\n",
              "M and P                       1\n",
              "Regional Water                1\n",
              "District  Council             1\n",
              "Name: installer, dtype: int64"
            ]
          },
          "metadata": {
            "tags": []
          },
          "execution_count": 27
        },
        {
          "output_type": "execute_result",
          "data": {
            "text/plain": [
              "Shuleni                    18\n",
              "Msikitini                  16\n",
              "Ofisini                     5\n",
              "none                        4\n",
              "Bombani                     4\n",
              "                           ..\n",
              "Mahakamani                  1\n",
              "Nyanjati Primary School     1\n",
              "Senta                       1\n",
              "Cheboni                     1\n",
              "Kwa Namalili                1\n",
              "Name: wpt_name, Length: 261, dtype: int64"
            ]
          },
          "metadata": {
            "tags": []
          },
          "execution_count": 27
        },
        {
          "output_type": "execute_result",
          "data": {
            "text/plain": [
              "Ruvuma / Southern Coast    210\n",
              "Rufiji                      88\n",
              "Wami / Ruvu                 31\n",
              "Name: basin, dtype: int64"
            ]
          },
          "metadata": {
            "tags": []
          },
          "execution_count": 27
        },
        {
          "output_type": "execute_result",
          "data": {
            "text/plain": [
              "Majengo        7\n",
              "Shuleni        6\n",
              "Mnazi Mmoja    4\n",
              "Bondeni        4\n",
              "Mkwajuni       4\n",
              "              ..\n",
              "Kidala         1\n",
              "Nyipala        1\n",
              "Plot           1\n",
              "Kibe           1\n",
              "Dihimba        1\n",
              "Name: subvillage, Length: 243, dtype: int64"
            ]
          },
          "metadata": {
            "tags": []
          },
          "execution_count": 27
        },
        {
          "output_type": "execute_result",
          "data": {
            "text/plain": [
              "Mtwara    118\n",
              "Lindi     108\n",
              "Pwani     103\n",
              "Name: region, dtype: int64"
            ]
          },
          "metadata": {
            "tags": []
          },
          "execution_count": 27
        },
        {
          "output_type": "execute_result",
          "data": {
            "text/plain": [
              "Rufiji          51\n",
              "Mtwara Rural    48\n",
              "Kilwa           43\n",
              "Masasi          36\n",
              "Lindi Rural     34\n",
              "Mkuranga        30\n",
              "Ruangwa         19\n",
              "Nanyumbu        17\n",
              "Newala          17\n",
              "Mafia           15\n",
              "Liwale          11\n",
              "Kisarawe         7\n",
              "Lindi Urban      1\n",
              "Name: lga, dtype: int64"
            ]
          },
          "metadata": {
            "tags": []
          },
          "execution_count": 27
        },
        {
          "output_type": "execute_result",
          "data": {
            "text/plain": [
              "Vikindu       12\n",
              "Kipatimu      10\n",
              "Nyengedi       7\n",
              "Kilindoni      7\n",
              "Mayanga        6\n",
              "              ..\n",
              "Miteja         1\n",
              "Sindano        1\n",
              "Mnyambe        1\n",
              "Songosongo     1\n",
              "Liwale A       1\n",
              "Name: ward, Length: 123, dtype: int64"
            ]
          },
          "metadata": {
            "tags": []
          },
          "execution_count": 27
        },
        {
          "output_type": "execute_result",
          "data": {
            "text/plain": [
              "True     288\n",
              "False     31\n",
              "Name: public_meeting, dtype: int64"
            ]
          },
          "metadata": {
            "tags": []
          },
          "execution_count": 27
        },
        {
          "output_type": "execute_result",
          "data": {
            "text/plain": [
              "GeoData Consultants Ltd    329\n",
              "Name: recorded_by, dtype: int64"
            ]
          },
          "metadata": {
            "tags": []
          },
          "execution_count": 27
        },
        {
          "output_type": "execute_result",
          "data": {
            "text/plain": [
              "VWC                 233\n",
              "Private operator     20\n",
              "Trust                 4\n",
              "WUA                   4\n",
              "Water Board           1\n",
              "Company               1\n",
              "WUG                   1\n",
              "Parastatal            1\n",
              "Other                 1\n",
              "Name: scheme_management, dtype: int64"
            ]
          },
          "metadata": {
            "tags": []
          },
          "execution_count": 27
        },
        {
          "output_type": "execute_result",
          "data": {
            "text/plain": [
              "Mbuo mkunwa water supply      11\n",
              "Mitema                         7\n",
              "MWS                            6\n",
              "JAICA Borehole Scheme          6\n",
              "LIPS Water Scheme              4\n",
              "GEN Borehole Scheme            4\n",
              "Sabodo Borehole Scheme         3\n",
              "Michenga                       3\n",
              "Dihimba water supply           3\n",
              "Kitere water supply            3\n",
              "Mtandao wa Mabomba             2\n",
              "Mtiniko water supply           2\n",
              "Vianzi Water Supply            2\n",
              "Lipumburu Water                2\n",
              "Mnyawi water supply            2\n",
              "Nyangao Water Supply           2\n",
              "Kandawale Water supply         2\n",
              "Riv                            2\n",
              "Rondo Water Supply             2\n",
              "Ilala water supply             2\n",
              "Luchelengwa                    2\n",
              "Mbawala chini water supply     2\n",
              "Mitema /MWS                    1\n",
              "Vikindu Water Supply           1\n",
              "Nahukahuka Water Supply        1\n",
              "Likawage Water supply          1\n",
              "Namajani                       1\n",
              "Arusha chini water supply      1\n",
              "Kilimahewa water supply        1\n",
              "FW                             1\n",
              "Nyangamala Water Supply        1\n",
              "Malatu Chini                   1\n",
              "Machang'anja                   1\n",
              "Kitomanga Water Supply         1\n",
              "Kanga  Dam                     1\n",
              "Borehole pumped scheme         1\n",
              "TASAF Water Supply             1\n",
              "CONCERN Water Supply           1\n",
              "FinWater                       1\n",
              "Madawa water supply            1\n",
              "Chawi water supply             1\n",
              "Mkunya/MWS                     1\n",
              "Milola Water Scheme            1\n",
              "Songas Water supply            1\n",
              "US Embassy Borehole Scheme     1\n",
              "Ziwani water supply            1\n",
              "Ng'au                          1\n",
              "Mtanga water supply            1\n",
              "Name: scheme_name, dtype: int64"
            ]
          },
          "metadata": {
            "tags": []
          },
          "execution_count": 27
        },
        {
          "output_type": "execute_result",
          "data": {
            "text/plain": [
              "True     212\n",
              "False    117\n",
              "Name: permit, dtype: int64"
            ]
          },
          "metadata": {
            "tags": []
          },
          "execution_count": 27
        },
        {
          "output_type": "execute_result",
          "data": {
            "text/plain": [
              "other                83\n",
              "submersible          65\n",
              "mono                 38\n",
              "gravity              38\n",
              "nira/tanira          36\n",
              "india mark ii        30\n",
              "afridev              21\n",
              "ksb                  12\n",
              "swn 80                3\n",
              "india mark iii        1\n",
              "other - rope pump     1\n",
              "other - play pump     1\n",
              "Name: extraction_type, dtype: int64"
            ]
          },
          "metadata": {
            "tags": []
          },
          "execution_count": 27
        },
        {
          "output_type": "execute_result",
          "data": {
            "text/plain": [
              "other             83\n",
              "submersible       77\n",
              "mono              38\n",
              "gravity           38\n",
              "nira/tanira       36\n",
              "india mark ii     30\n",
              "afridev           21\n",
              "swn 80             3\n",
              "other handpump     1\n",
              "india mark iii     1\n",
              "rope pump          1\n",
              "Name: extraction_type_group, dtype: int64"
            ]
          },
          "metadata": {
            "tags": []
          },
          "execution_count": 27
        },
        {
          "output_type": "execute_result",
          "data": {
            "text/plain": [
              "handpump       92\n",
              "other          83\n",
              "submersible    77\n",
              "gravity        38\n",
              "motorpump      38\n",
              "rope pump       1\n",
              "Name: extraction_type_class, dtype: int64"
            ]
          },
          "metadata": {
            "tags": []
          },
          "execution_count": 27
        },
        {
          "output_type": "execute_result",
          "data": {
            "text/plain": [
              "vwc                 285\n",
              "private operator     22\n",
              "other                 6\n",
              "trust                 5\n",
              "wua                   4\n",
              "wug                   2\n",
              "unknown               2\n",
              "parastatal            2\n",
              "water board           1\n",
              "Name: management, dtype: int64"
            ]
          },
          "metadata": {
            "tags": []
          },
          "execution_count": 27
        },
        {
          "output_type": "execute_result",
          "data": {
            "text/plain": [
              "user-group    292\n",
              "commercial     27\n",
              "other           6\n",
              "parastatal      2\n",
              "unknown         2\n",
              "Name: management_group, dtype: int64"
            ]
          },
          "metadata": {
            "tags": []
          },
          "execution_count": 27
        },
        {
          "output_type": "execute_result",
          "data": {
            "text/plain": [
              "never pay         159\n",
              "pay per bucket    102\n",
              "unknown            54\n",
              "pay monthly        10\n",
              "pay annually        2\n",
              "other               2\n",
              "Name: payment, dtype: int64"
            ]
          },
          "metadata": {
            "tags": []
          },
          "execution_count": 27
        },
        {
          "output_type": "execute_result",
          "data": {
            "text/plain": [
              "never pay     159\n",
              "per bucket    102\n",
              "unknown        54\n",
              "monthly        10\n",
              "annually        2\n",
              "other           2\n",
              "Name: payment_type, dtype: int64"
            ]
          },
          "metadata": {
            "tags": []
          },
          "execution_count": 27
        },
        {
          "output_type": "execute_result",
          "data": {
            "text/plain": [
              "soft               249\n",
              "salty               66\n",
              "milky                9\n",
              "unknown              3\n",
              "coloured             1\n",
              "salty abandoned      1\n",
              "Name: water_quality, dtype: int64"
            ]
          },
          "metadata": {
            "tags": []
          },
          "execution_count": 27
        },
        {
          "output_type": "execute_result",
          "data": {
            "text/plain": [
              "good       249\n",
              "salty       67\n",
              "milky        9\n",
              "unknown      3\n",
              "colored      1\n",
              "Name: quality_group, dtype: int64"
            ]
          },
          "metadata": {
            "tags": []
          },
          "execution_count": 27
        },
        {
          "output_type": "execute_result",
          "data": {
            "text/plain": [
              "enough          196\n",
              "dry              64\n",
              "insufficient     55\n",
              "seasonal         11\n",
              "unknown           3\n",
              "Name: quantity, dtype: int64"
            ]
          },
          "metadata": {
            "tags": []
          },
          "execution_count": 27
        },
        {
          "output_type": "execute_result",
          "data": {
            "text/plain": [
              "enough          196\n",
              "dry              64\n",
              "insufficient     55\n",
              "seasonal         11\n",
              "unknown           3\n",
              "Name: quantity_group, dtype: int64"
            ]
          },
          "metadata": {
            "tags": []
          },
          "execution_count": 27
        },
        {
          "output_type": "execute_result",
          "data": {
            "text/plain": [
              "machine dbh             148\n",
              "shallow well            123\n",
              "spring                   31\n",
              "river                    12\n",
              "rainwater harvesting      8\n",
              "other                     3\n",
              "dam                       2\n",
              "hand dtw                  2\n",
              "Name: source, dtype: int64"
            ]
          },
          "metadata": {
            "tags": []
          },
          "execution_count": 27
        },
        {
          "output_type": "execute_result",
          "data": {
            "text/plain": [
              "borehole                150\n",
              "shallow well            123\n",
              "spring                   31\n",
              "river/lake               12\n",
              "rainwater harvesting      8\n",
              "other                     3\n",
              "dam                       2\n",
              "Name: source_type, dtype: int64"
            ]
          },
          "metadata": {
            "tags": []
          },
          "execution_count": 27
        },
        {
          "output_type": "execute_result",
          "data": {
            "text/plain": [
              "groundwater    304\n",
              "surface         22\n",
              "unknown          3\n",
              "Name: source_class, dtype: int64"
            ]
          },
          "metadata": {
            "tags": []
          },
          "execution_count": 27
        },
        {
          "output_type": "execute_result",
          "data": {
            "text/plain": [
              "hand pump                      96\n",
              "communal standpipe             84\n",
              "other                          84\n",
              "communal standpipe multiple    64\n",
              "improved spring                 1\n",
              "Name: waterpoint_type, dtype: int64"
            ]
          },
          "metadata": {
            "tags": []
          },
          "execution_count": 27
        },
        {
          "output_type": "execute_result",
          "data": {
            "text/plain": [
              "communal standpipe    148\n",
              "hand pump              96\n",
              "other                  84\n",
              "improved spring         1\n",
              "Name: waterpoint_type_group, dtype: int64"
            ]
          },
          "metadata": {
            "tags": []
          },
          "execution_count": 27
        },
        {
          "output_type": "execute_result",
          "data": {
            "text/plain": [
              "non functional             195\n",
              "functional                 120\n",
              "functional needs repair     14\n",
              "Name: status_group, dtype: int64"
            ]
          },
          "metadata": {
            "tags": []
          },
          "execution_count": 27
        },
        {
          "output_type": "stream",
          "text": [
            "\n",
            "Cluster 4:\n",
            "Number of Instances: 190\n"
          ],
          "name": "stdout"
        },
        {
          "output_type": "execute_result",
          "data": {
            "text/html": [
              "<div>\n",
              "<style scoped>\n",
              "    .dataframe tbody tr th:only-of-type {\n",
              "        vertical-align: middle;\n",
              "    }\n",
              "\n",
              "    .dataframe tbody tr th {\n",
              "        vertical-align: top;\n",
              "    }\n",
              "\n",
              "    .dataframe thead th {\n",
              "        text-align: right;\n",
              "    }\n",
              "</style>\n",
              "<table border=\"1\" class=\"dataframe\">\n",
              "  <thead>\n",
              "    <tr style=\"text-align: right;\">\n",
              "      <th></th>\n",
              "      <th>count</th>\n",
              "      <th>mean</th>\n",
              "      <th>std</th>\n",
              "      <th>min</th>\n",
              "      <th>25%</th>\n",
              "      <th>50%</th>\n",
              "      <th>75%</th>\n",
              "      <th>max</th>\n",
              "    </tr>\n",
              "  </thead>\n",
              "  <tbody>\n",
              "    <tr>\n",
              "      <th>id</th>\n",
              "      <td>190.00</td>\n",
              "      <td>37003.59</td>\n",
              "      <td>22112.14</td>\n",
              "      <td>50.00</td>\n",
              "      <td>18410.50</td>\n",
              "      <td>34200.00</td>\n",
              "      <td>58040.75</td>\n",
              "      <td>74164.00</td>\n",
              "    </tr>\n",
              "    <tr>\n",
              "      <th>amount_tsh</th>\n",
              "      <td>190.00</td>\n",
              "      <td>0.00</td>\n",
              "      <td>0.00</td>\n",
              "      <td>0.00</td>\n",
              "      <td>0.00</td>\n",
              "      <td>0.00</td>\n",
              "      <td>0.00</td>\n",
              "      <td>0.00</td>\n",
              "    </tr>\n",
              "    <tr>\n",
              "      <th>gps_height</th>\n",
              "      <td>190.00</td>\n",
              "      <td>0.00</td>\n",
              "      <td>0.00</td>\n",
              "      <td>0.00</td>\n",
              "      <td>0.00</td>\n",
              "      <td>0.00</td>\n",
              "      <td>0.00</td>\n",
              "      <td>0.00</td>\n",
              "    </tr>\n",
              "    <tr>\n",
              "      <th>longitude</th>\n",
              "      <td>190.00</td>\n",
              "      <td>0.00</td>\n",
              "      <td>0.00</td>\n",
              "      <td>0.00</td>\n",
              "      <td>0.00</td>\n",
              "      <td>0.00</td>\n",
              "      <td>0.00</td>\n",
              "      <td>0.00</td>\n",
              "    </tr>\n",
              "    <tr>\n",
              "      <th>latitude</th>\n",
              "      <td>190.00</td>\n",
              "      <td>-0.00</td>\n",
              "      <td>0.00</td>\n",
              "      <td>-0.00</td>\n",
              "      <td>-0.00</td>\n",
              "      <td>-0.00</td>\n",
              "      <td>-0.00</td>\n",
              "      <td>-0.00</td>\n",
              "    </tr>\n",
              "    <tr>\n",
              "      <th>num_private</th>\n",
              "      <td>190.00</td>\n",
              "      <td>0.00</td>\n",
              "      <td>0.00</td>\n",
              "      <td>0.00</td>\n",
              "      <td>0.00</td>\n",
              "      <td>0.00</td>\n",
              "      <td>0.00</td>\n",
              "      <td>0.00</td>\n",
              "    </tr>\n",
              "    <tr>\n",
              "      <th>region_code</th>\n",
              "      <td>190.00</td>\n",
              "      <td>17.78</td>\n",
              "      <td>0.98</td>\n",
              "      <td>17.00</td>\n",
              "      <td>17.00</td>\n",
              "      <td>17.00</td>\n",
              "      <td>19.00</td>\n",
              "      <td>19.00</td>\n",
              "    </tr>\n",
              "    <tr>\n",
              "      <th>district_code</th>\n",
              "      <td>190.00</td>\n",
              "      <td>2.42</td>\n",
              "      <td>2.14</td>\n",
              "      <td>1.00</td>\n",
              "      <td>1.00</td>\n",
              "      <td>1.00</td>\n",
              "      <td>6.00</td>\n",
              "      <td>6.00</td>\n",
              "    </tr>\n",
              "    <tr>\n",
              "      <th>population</th>\n",
              "      <td>190.00</td>\n",
              "      <td>0.00</td>\n",
              "      <td>0.00</td>\n",
              "      <td>0.00</td>\n",
              "      <td>0.00</td>\n",
              "      <td>0.00</td>\n",
              "      <td>0.00</td>\n",
              "      <td>0.00</td>\n",
              "    </tr>\n",
              "    <tr>\n",
              "      <th>construction_year</th>\n",
              "      <td>190.00</td>\n",
              "      <td>0.00</td>\n",
              "      <td>0.00</td>\n",
              "      <td>0.00</td>\n",
              "      <td>0.00</td>\n",
              "      <td>0.00</td>\n",
              "      <td>0.00</td>\n",
              "      <td>0.00</td>\n",
              "    </tr>\n",
              "  </tbody>\n",
              "</table>\n",
              "</div>"
            ],
            "text/plain": [
              "                   count     mean      std  ...      50%      75%      max\n",
              "id                190.00 37003.59 22112.14  ... 34200.00 58040.75 74164.00\n",
              "amount_tsh        190.00     0.00     0.00  ...     0.00     0.00     0.00\n",
              "gps_height        190.00     0.00     0.00  ...     0.00     0.00     0.00\n",
              "longitude         190.00     0.00     0.00  ...     0.00     0.00     0.00\n",
              "latitude          190.00    -0.00     0.00  ...    -0.00    -0.00    -0.00\n",
              "num_private       190.00     0.00     0.00  ...     0.00     0.00     0.00\n",
              "region_code       190.00    17.78     0.98  ...    17.00    19.00    19.00\n",
              "district_code     190.00     2.42     2.14  ...     1.00     6.00     6.00\n",
              "population        190.00     0.00     0.00  ...     0.00     0.00     0.00\n",
              "construction_year 190.00     0.00     0.00  ...     0.00     0.00     0.00\n",
              "\n",
              "[10 rows x 8 columns]"
            ]
          },
          "metadata": {
            "tags": []
          },
          "execution_count": 27
        },
        {
          "output_type": "execute_result",
          "data": {
            "text/html": [
              "<div>\n",
              "<style scoped>\n",
              "    .dataframe tbody tr th:only-of-type {\n",
              "        vertical-align: middle;\n",
              "    }\n",
              "\n",
              "    .dataframe tbody tr th {\n",
              "        vertical-align: top;\n",
              "    }\n",
              "\n",
              "    .dataframe thead th {\n",
              "        text-align: right;\n",
              "    }\n",
              "</style>\n",
              "<table border=\"1\" class=\"dataframe\">\n",
              "  <thead>\n",
              "    <tr style=\"text-align: right;\">\n",
              "      <th></th>\n",
              "      <th>count</th>\n",
              "      <th>unique</th>\n",
              "      <th>top</th>\n",
              "      <th>freq</th>\n",
              "    </tr>\n",
              "  </thead>\n",
              "  <tbody>\n",
              "    <tr>\n",
              "      <th>date_recorded</th>\n",
              "      <td>190</td>\n",
              "      <td>67</td>\n",
              "      <td>2013-02-04</td>\n",
              "      <td>10</td>\n",
              "    </tr>\n",
              "    <tr>\n",
              "      <th>funder</th>\n",
              "      <td>187</td>\n",
              "      <td>30</td>\n",
              "      <td>Dwsp</td>\n",
              "      <td>42</td>\n",
              "    </tr>\n",
              "    <tr>\n",
              "      <th>installer</th>\n",
              "      <td>187</td>\n",
              "      <td>24</td>\n",
              "      <td>DWE</td>\n",
              "      <td>112</td>\n",
              "    </tr>\n",
              "    <tr>\n",
              "      <th>wpt_name</th>\n",
              "      <td>190</td>\n",
              "      <td>143</td>\n",
              "      <td>none</td>\n",
              "      <td>8</td>\n",
              "    </tr>\n",
              "    <tr>\n",
              "      <th>basin</th>\n",
              "      <td>190</td>\n",
              "      <td>2</td>\n",
              "      <td>Lake Victoria</td>\n",
              "      <td>180</td>\n",
              "    </tr>\n",
              "    <tr>\n",
              "      <th>subvillage</th>\n",
              "      <td>190</td>\n",
              "      <td>161</td>\n",
              "      <td>Madukani</td>\n",
              "      <td>5</td>\n",
              "    </tr>\n",
              "    <tr>\n",
              "      <th>region</th>\n",
              "      <td>190</td>\n",
              "      <td>2</td>\n",
              "      <td>Shinyanga</td>\n",
              "      <td>110</td>\n",
              "    </tr>\n",
              "    <tr>\n",
              "      <th>lga</th>\n",
              "      <td>190</td>\n",
              "      <td>3</td>\n",
              "      <td>Bariadi</td>\n",
              "      <td>110</td>\n",
              "    </tr>\n",
              "    <tr>\n",
              "      <th>ward</th>\n",
              "      <td>190</td>\n",
              "      <td>53</td>\n",
              "      <td>Chinamili</td>\n",
              "      <td>15</td>\n",
              "    </tr>\n",
              "    <tr>\n",
              "      <th>public_meeting</th>\n",
              "      <td>151</td>\n",
              "      <td>2</td>\n",
              "      <td>True</td>\n",
              "      <td>136</td>\n",
              "    </tr>\n",
              "    <tr>\n",
              "      <th>recorded_by</th>\n",
              "      <td>190</td>\n",
              "      <td>1</td>\n",
              "      <td>GeoData Consultants Ltd</td>\n",
              "      <td>190</td>\n",
              "    </tr>\n",
              "    <tr>\n",
              "      <th>scheme_management</th>\n",
              "      <td>182</td>\n",
              "      <td>4</td>\n",
              "      <td>WUG</td>\n",
              "      <td>102</td>\n",
              "    </tr>\n",
              "    <tr>\n",
              "      <th>scheme_name</th>\n",
              "      <td>39</td>\n",
              "      <td>12</td>\n",
              "      <td>Borehole</td>\n",
              "      <td>13</td>\n",
              "    </tr>\n",
              "    <tr>\n",
              "      <th>permit</th>\n",
              "      <td>190</td>\n",
              "      <td>2</td>\n",
              "      <td>False</td>\n",
              "      <td>117</td>\n",
              "    </tr>\n",
              "    <tr>\n",
              "      <th>extraction_type</th>\n",
              "      <td>190</td>\n",
              "      <td>11</td>\n",
              "      <td>nira/tanira</td>\n",
              "      <td>88</td>\n",
              "    </tr>\n",
              "    <tr>\n",
              "      <th>extraction_type_group</th>\n",
              "      <td>190</td>\n",
              "      <td>10</td>\n",
              "      <td>nira/tanira</td>\n",
              "      <td>88</td>\n",
              "    </tr>\n",
              "    <tr>\n",
              "      <th>extraction_type_class</th>\n",
              "      <td>190</td>\n",
              "      <td>5</td>\n",
              "      <td>handpump</td>\n",
              "      <td>135</td>\n",
              "    </tr>\n",
              "    <tr>\n",
              "      <th>management</th>\n",
              "      <td>190</td>\n",
              "      <td>5</td>\n",
              "      <td>wug</td>\n",
              "      <td>102</td>\n",
              "    </tr>\n",
              "    <tr>\n",
              "      <th>management_group</th>\n",
              "      <td>190</td>\n",
              "      <td>4</td>\n",
              "      <td>user-group</td>\n",
              "      <td>176</td>\n",
              "    </tr>\n",
              "    <tr>\n",
              "      <th>payment</th>\n",
              "      <td>190</td>\n",
              "      <td>7</td>\n",
              "      <td>never pay</td>\n",
              "      <td>100</td>\n",
              "    </tr>\n",
              "    <tr>\n",
              "      <th>payment_type</th>\n",
              "      <td>190</td>\n",
              "      <td>7</td>\n",
              "      <td>never pay</td>\n",
              "      <td>100</td>\n",
              "    </tr>\n",
              "    <tr>\n",
              "      <th>water_quality</th>\n",
              "      <td>190</td>\n",
              "      <td>5</td>\n",
              "      <td>soft</td>\n",
              "      <td>147</td>\n",
              "    </tr>\n",
              "    <tr>\n",
              "      <th>quality_group</th>\n",
              "      <td>190</td>\n",
              "      <td>4</td>\n",
              "      <td>good</td>\n",
              "      <td>147</td>\n",
              "    </tr>\n",
              "    <tr>\n",
              "      <th>quantity</th>\n",
              "      <td>190</td>\n",
              "      <td>5</td>\n",
              "      <td>enough</td>\n",
              "      <td>108</td>\n",
              "    </tr>\n",
              "    <tr>\n",
              "      <th>quantity_group</th>\n",
              "      <td>190</td>\n",
              "      <td>5</td>\n",
              "      <td>enough</td>\n",
              "      <td>108</td>\n",
              "    </tr>\n",
              "    <tr>\n",
              "      <th>source</th>\n",
              "      <td>190</td>\n",
              "      <td>5</td>\n",
              "      <td>shallow well</td>\n",
              "      <td>136</td>\n",
              "    </tr>\n",
              "    <tr>\n",
              "      <th>source_type</th>\n",
              "      <td>190</td>\n",
              "      <td>5</td>\n",
              "      <td>shallow well</td>\n",
              "      <td>136</td>\n",
              "    </tr>\n",
              "    <tr>\n",
              "      <th>source_class</th>\n",
              "      <td>190</td>\n",
              "      <td>2</td>\n",
              "      <td>groundwater</td>\n",
              "      <td>160</td>\n",
              "    </tr>\n",
              "    <tr>\n",
              "      <th>waterpoint_type</th>\n",
              "      <td>190</td>\n",
              "      <td>4</td>\n",
              "      <td>hand pump</td>\n",
              "      <td>140</td>\n",
              "    </tr>\n",
              "    <tr>\n",
              "      <th>waterpoint_type_group</th>\n",
              "      <td>190</td>\n",
              "      <td>3</td>\n",
              "      <td>hand pump</td>\n",
              "      <td>140</td>\n",
              "    </tr>\n",
              "    <tr>\n",
              "      <th>status_group</th>\n",
              "      <td>190</td>\n",
              "      <td>3</td>\n",
              "      <td>functional</td>\n",
              "      <td>97</td>\n",
              "    </tr>\n",
              "  </tbody>\n",
              "</table>\n",
              "</div>"
            ],
            "text/plain": [
              "                      count unique                      top freq\n",
              "date_recorded           190     67               2013-02-04   10\n",
              "funder                  187     30                     Dwsp   42\n",
              "installer               187     24                      DWE  112\n",
              "wpt_name                190    143                     none    8\n",
              "basin                   190      2            Lake Victoria  180\n",
              "subvillage              190    161                 Madukani    5\n",
              "region                  190      2                Shinyanga  110\n",
              "lga                     190      3                  Bariadi  110\n",
              "ward                    190     53                Chinamili   15\n",
              "public_meeting          151      2                     True  136\n",
              "recorded_by             190      1  GeoData Consultants Ltd  190\n",
              "scheme_management       182      4                      WUG  102\n",
              "scheme_name              39     12                 Borehole   13\n",
              "permit                  190      2                    False  117\n",
              "extraction_type         190     11              nira/tanira   88\n",
              "extraction_type_group   190     10              nira/tanira   88\n",
              "extraction_type_class   190      5                 handpump  135\n",
              "management              190      5                      wug  102\n",
              "management_group        190      4               user-group  176\n",
              "payment                 190      7                never pay  100\n",
              "payment_type            190      7                never pay  100\n",
              "water_quality           190      5                     soft  147\n",
              "quality_group           190      4                     good  147\n",
              "quantity                190      5                   enough  108\n",
              "quantity_group          190      5                   enough  108\n",
              "source                  190      5             shallow well  136\n",
              "source_type             190      5             shallow well  136\n",
              "source_class            190      2              groundwater  160\n",
              "waterpoint_type         190      4                hand pump  140\n",
              "waterpoint_type_group   190      3                hand pump  140\n",
              "status_group            190      3               functional   97"
            ]
          },
          "metadata": {
            "tags": []
          },
          "execution_count": 27
        },
        {
          "output_type": "execute_result",
          "data": {
            "text/plain": [
              "2013-02-04    10\n",
              "2012-10-26     9\n",
              "2011-07-18     9\n",
              "2012-10-24     7\n",
              "2013-01-30     7\n",
              "              ..\n",
              "2013-01-22     1\n",
              "2011-07-25     1\n",
              "2013-02-27     1\n",
              "2011-08-12     1\n",
              "2011-08-21     1\n",
              "Name: date_recorded, Length: 67, dtype: int64"
            ]
          },
          "metadata": {
            "tags": []
          },
          "execution_count": 27
        },
        {
          "output_type": "execute_result",
          "data": {
            "text/plain": [
              "Dwsp                        42\n",
              "Hesawa                      27\n",
              "Government Of Tanzania      25\n",
              "Rwssp                       22\n",
              "Lwi                         14\n",
              "Wsdp                         9\n",
              "Wvt                          7\n",
              "Dwssp                        6\n",
              "Jica                         5\n",
              "Unicef                       4\n",
              "Tasaf                        3\n",
              "Sdg                          2\n",
              "Kmcl                         2\n",
              "Holland                      2\n",
              "Wsdp & Sdg                   2\n",
              "World Bank                   1\n",
              "Aic                          1\n",
              "Dassip                       1\n",
              "Lwi & Central Government     1\n",
              "Dasip                        1\n",
              "Plan International           1\n",
              "Ridep                        1\n",
              "Elct                         1\n",
              "Private Individual           1\n",
              "Lidep                        1\n",
              "Jimbo Fund                   1\n",
              "Pmo                          1\n",
              "Nrwssp                       1\n",
              "Caritas                      1\n",
              "Tanapa                       1\n",
              "Name: funder, dtype: int64"
            ]
          },
          "metadata": {
            "tags": []
          },
          "execution_count": 27
        },
        {
          "output_type": "execute_result",
          "data": {
            "text/plain": [
              "DWE                   112\n",
              "Government             19\n",
              "LWI                    14\n",
              "WVT                     7\n",
              "RWE                     5\n",
              "JICA                    5\n",
              "Hesawa                  4\n",
              "TASAF                   3\n",
              "KMCL                    2\n",
              "HOLLAND                 2\n",
              "HESAWA                  1\n",
              "DALDO                   1\n",
              "ELCT                    1\n",
              "DASIP                   1\n",
              "AIC                     1\n",
              "Maswi company           1\n",
              "TANAPA                  1\n",
              "World bank              1\n",
              "Plan Internationa       1\n",
              "CARITAS                 1\n",
              "Local technitian        1\n",
              "DWR                     1\n",
              "DWE & LWI               1\n",
              "Central government      1\n",
              "Name: installer, dtype: int64"
            ]
          },
          "metadata": {
            "tags": []
          },
          "execution_count": 27
        },
        {
          "output_type": "execute_result",
          "data": {
            "text/plain": [
              "none        8\n",
              "Bombani     7\n",
              "Muungano    5\n",
              "Mkombozi    5\n",
              "Upendo      5\n",
              "           ..\n",
              "Budagala    1\n",
              "Faraji      1\n",
              "Ushirika    1\n",
              "Kitula      1\n",
              "Pastor      1\n",
              "Name: wpt_name, Length: 143, dtype: int64"
            ]
          },
          "metadata": {
            "tags": []
          },
          "execution_count": 27
        },
        {
          "output_type": "execute_result",
          "data": {
            "text/plain": [
              "Lake Victoria      180\n",
              "Lake Tanganyika     10\n",
              "Name: basin, dtype: int64"
            ]
          },
          "metadata": {
            "tags": []
          },
          "execution_count": 27
        },
        {
          "output_type": "execute_result",
          "data": {
            "text/plain": [
              "Madukani               5\n",
              "Mwamijondo             4\n",
              "Bubale                 3\n",
              "Isanga                 3\n",
              "Nyanza                 3\n",
              "                      ..\n",
              "Mwanza                 1\n",
              "Kasoli A               1\n",
              "Mwabuma                1\n",
              "Mwamabu Bupandagila    1\n",
              "Mwamahala              1\n",
              "Name: subvillage, Length: 161, dtype: int64"
            ]
          },
          "metadata": {
            "tags": []
          },
          "execution_count": 27
        },
        {
          "output_type": "execute_result",
          "data": {
            "text/plain": [
              "Shinyanga    110\n",
              "Mwanza        80\n",
              "Name: region, dtype: int64"
            ]
          },
          "metadata": {
            "tags": []
          },
          "execution_count": 27
        },
        {
          "output_type": "execute_result",
          "data": {
            "text/plain": [
              "Bariadi    110\n",
              "Geita       49\n",
              "Magu        31\n",
              "Name: lga, dtype: int64"
            ]
          },
          "metadata": {
            "tags": []
          },
          "execution_count": 27
        },
        {
          "output_type": "execute_result",
          "data": {
            "text/plain": [
              "Chinamili            15\n",
              "Nkololo              13\n",
              "Kalangalala          10\n",
              "Sakwe                10\n",
              "Bumera               10\n",
              "Nyang'hwale           7\n",
              "Somanda               7\n",
              "Nkoma                 7\n",
              "Sapiwi                6\n",
              "Nkungulu              6\n",
              "Kasoli                5\n",
              "Mwadobana             4\n",
              "Malili                4\n",
              "Mwamapalala           4\n",
              "Mwaubingi             4\n",
              "Bukoli                4\n",
              "Lugulu                4\n",
              "Kharumwa              4\n",
              "Bunamhala             3\n",
              "Nyachiluluma          3\n",
              "Kakora                3\n",
              "Katoro                3\n",
              "Mwaswale              3\n",
              "Kalemela              3\n",
              "Mwananyili            3\n",
              "Kamena                3\n",
              "Dutwa                 3\n",
              "Igalukilo             3\n",
              "Kamhanga              2\n",
              "Zagayu                2\n",
              "Badugu                2\n",
              "Nyaluhande            2\n",
              "Chigunga              2\n",
              "Shigala               2\n",
              "Mkula                 2\n",
              "Mbita                 2\n",
              "Nyakabindi            2\n",
              "Kiloleli              2\n",
              "Lubanga               2\n",
              "Mhango                1\n",
              "Sagata                1\n",
              "Kabita                1\n",
              "Mwingiro              1\n",
              "Ngasamo               1\n",
              "Gamboshi              1\n",
              "Mtakuja               1\n",
              "Mhunze                1\n",
              "Ikungulyabashashi     1\n",
              "Kasamwa               1\n",
              "Bariadi               1\n",
              "Busolwa               1\n",
              "Lwamgasa              1\n",
              "Kafita                1\n",
              "Name: ward, dtype: int64"
            ]
          },
          "metadata": {
            "tags": []
          },
          "execution_count": 27
        },
        {
          "output_type": "execute_result",
          "data": {
            "text/plain": [
              "True     136\n",
              "False     15\n",
              "Name: public_meeting, dtype: int64"
            ]
          },
          "metadata": {
            "tags": []
          },
          "execution_count": 27
        },
        {
          "output_type": "execute_result",
          "data": {
            "text/plain": [
              "GeoData Consultants Ltd    190\n",
              "Name: recorded_by, dtype: int64"
            ]
          },
          "metadata": {
            "tags": []
          },
          "execution_count": 27
        },
        {
          "output_type": "execute_result",
          "data": {
            "text/plain": [
              "WUG                102\n",
              "VWC                 67\n",
              "Parastatal          11\n",
              "Water authority      2\n",
              "Name: scheme_management, dtype: int64"
            ]
          },
          "metadata": {
            "tags": []
          },
          "execution_count": 27
        },
        {
          "output_type": "execute_result",
          "data": {
            "text/plain": [
              "Borehole                 13\n",
              "Nyamtukuza                9\n",
              "Ngasamo Water Supply      3\n",
              "Nyakagomba                3\n",
              "Katoro                    2\n",
              "Kalemela Water Supply     2\n",
              "Nyang'hwale               2\n",
              "Nungwe                    1\n",
              "Nyashimo                  1\n",
              "Tambukaleri               1\n",
              "Nyaluhande                1\n",
              "Kalangalala               1\n",
              "Name: scheme_name, dtype: int64"
            ]
          },
          "metadata": {
            "tags": []
          },
          "execution_count": 27
        },
        {
          "output_type": "execute_result",
          "data": {
            "text/plain": [
              "False    117\n",
              "True      73\n",
              "Name: permit, dtype: int64"
            ]
          },
          "metadata": {
            "tags": []
          },
          "execution_count": 27
        },
        {
          "output_type": "execute_result",
          "data": {
            "text/plain": [
              "nira/tanira       88\n",
              "other             23\n",
              "india mark ii     17\n",
              "swn 80            16\n",
              "gravity           15\n",
              "afridev            9\n",
              "ksb                8\n",
              "submersible        5\n",
              "mono               4\n",
              "walimi             4\n",
              "india mark iii     1\n",
              "Name: extraction_type, dtype: int64"
            ]
          },
          "metadata": {
            "tags": []
          },
          "execution_count": 27
        },
        {
          "output_type": "execute_result",
          "data": {
            "text/plain": [
              "nira/tanira       88\n",
              "other             23\n",
              "india mark ii     17\n",
              "swn 80            16\n",
              "gravity           15\n",
              "submersible       13\n",
              "afridev            9\n",
              "mono               4\n",
              "other handpump     4\n",
              "india mark iii     1\n",
              "Name: extraction_type_group, dtype: int64"
            ]
          },
          "metadata": {
            "tags": []
          },
          "execution_count": 27
        },
        {
          "output_type": "execute_result",
          "data": {
            "text/plain": [
              "handpump       135\n",
              "other           23\n",
              "gravity         15\n",
              "submersible     13\n",
              "motorpump        4\n",
              "Name: extraction_type_class, dtype: int64"
            ]
          },
          "metadata": {
            "tags": []
          },
          "execution_count": 27
        },
        {
          "output_type": "execute_result",
          "data": {
            "text/plain": [
              "wug                102\n",
              "vwc                 74\n",
              "parastatal          11\n",
              "water authority      2\n",
              "unknown              1\n",
              "Name: management, dtype: int64"
            ]
          },
          "metadata": {
            "tags": []
          },
          "execution_count": 27
        },
        {
          "output_type": "execute_result",
          "data": {
            "text/plain": [
              "user-group    176\n",
              "parastatal     11\n",
              "commercial      2\n",
              "unknown         1\n",
              "Name: management_group, dtype: int64"
            ]
          },
          "metadata": {
            "tags": []
          },
          "execution_count": 27
        },
        {
          "output_type": "execute_result",
          "data": {
            "text/plain": [
              "never pay                100\n",
              "unknown                   54\n",
              "other                     15\n",
              "pay monthly               10\n",
              "pay when scheme fails      6\n",
              "pay per bucket             4\n",
              "pay annually               1\n",
              "Name: payment, dtype: int64"
            ]
          },
          "metadata": {
            "tags": []
          },
          "execution_count": 27
        },
        {
          "output_type": "execute_result",
          "data": {
            "text/plain": [
              "never pay     100\n",
              "unknown        54\n",
              "other          15\n",
              "monthly        10\n",
              "on failure      6\n",
              "per bucket      4\n",
              "annually        1\n",
              "Name: payment_type, dtype: int64"
            ]
          },
          "metadata": {
            "tags": []
          },
          "execution_count": 27
        },
        {
          "output_type": "execute_result",
          "data": {
            "text/plain": [
              "soft               147\n",
              "unknown             22\n",
              "salty abandoned     15\n",
              "salty                5\n",
              "milky                1\n",
              "Name: water_quality, dtype: int64"
            ]
          },
          "metadata": {
            "tags": []
          },
          "execution_count": 27
        },
        {
          "output_type": "execute_result",
          "data": {
            "text/plain": [
              "good       147\n",
              "unknown     22\n",
              "salty       20\n",
              "milky        1\n",
              "Name: quality_group, dtype: int64"
            ]
          },
          "metadata": {
            "tags": []
          },
          "execution_count": 27
        },
        {
          "output_type": "execute_result",
          "data": {
            "text/plain": [
              "enough          108\n",
              "insufficient     48\n",
              "dry              23\n",
              "seasonal          9\n",
              "unknown           2\n",
              "Name: quantity, dtype: int64"
            ]
          },
          "metadata": {
            "tags": []
          },
          "execution_count": 27
        },
        {
          "output_type": "execute_result",
          "data": {
            "text/plain": [
              "enough          108\n",
              "insufficient     48\n",
              "dry              23\n",
              "seasonal          9\n",
              "unknown           2\n",
              "Name: quantity_group, dtype: int64"
            ]
          },
          "metadata": {
            "tags": []
          },
          "execution_count": 27
        },
        {
          "output_type": "execute_result",
          "data": {
            "text/plain": [
              "shallow well            136\n",
              "machine dbh              21\n",
              "lake                     20\n",
              "rainwater harvesting     10\n",
              "spring                    3\n",
              "Name: source, dtype: int64"
            ]
          },
          "metadata": {
            "tags": []
          },
          "execution_count": 27
        },
        {
          "output_type": "execute_result",
          "data": {
            "text/plain": [
              "shallow well            136\n",
              "borehole                 21\n",
              "river/lake               20\n",
              "rainwater harvesting     10\n",
              "spring                    3\n",
              "Name: source_type, dtype: int64"
            ]
          },
          "metadata": {
            "tags": []
          },
          "execution_count": 27
        },
        {
          "output_type": "execute_result",
          "data": {
            "text/plain": [
              "groundwater    160\n",
              "surface         30\n",
              "Name: source_class, dtype: int64"
            ]
          },
          "metadata": {
            "tags": []
          },
          "execution_count": 27
        },
        {
          "output_type": "execute_result",
          "data": {
            "text/plain": [
              "hand pump                      140\n",
              "communal standpipe              22\n",
              "other                           15\n",
              "communal standpipe multiple     13\n",
              "Name: waterpoint_type, dtype: int64"
            ]
          },
          "metadata": {
            "tags": []
          },
          "execution_count": 27
        },
        {
          "output_type": "execute_result",
          "data": {
            "text/plain": [
              "hand pump             140\n",
              "communal standpipe     35\n",
              "other                  15\n",
              "Name: waterpoint_type_group, dtype: int64"
            ]
          },
          "metadata": {
            "tags": []
          },
          "execution_count": 27
        },
        {
          "output_type": "execute_result",
          "data": {
            "text/plain": [
              "functional                 97\n",
              "non functional             50\n",
              "functional needs repair    43\n",
              "Name: status_group, dtype: int64"
            ]
          },
          "metadata": {
            "tags": []
          },
          "execution_count": 27
        },
        {
          "output_type": "stream",
          "text": [
            "\n",
            "Cluster 5:\n",
            "Number of Instances: 1876\n"
          ],
          "name": "stdout"
        },
        {
          "output_type": "execute_result",
          "data": {
            "text/html": [
              "<div>\n",
              "<style scoped>\n",
              "    .dataframe tbody tr th:only-of-type {\n",
              "        vertical-align: middle;\n",
              "    }\n",
              "\n",
              "    .dataframe tbody tr th {\n",
              "        vertical-align: top;\n",
              "    }\n",
              "\n",
              "    .dataframe thead th {\n",
              "        text-align: right;\n",
              "    }\n",
              "</style>\n",
              "<table border=\"1\" class=\"dataframe\">\n",
              "  <thead>\n",
              "    <tr style=\"text-align: right;\">\n",
              "      <th></th>\n",
              "      <th>count</th>\n",
              "      <th>mean</th>\n",
              "      <th>std</th>\n",
              "      <th>min</th>\n",
              "      <th>25%</th>\n",
              "      <th>50%</th>\n",
              "      <th>75%</th>\n",
              "      <th>max</th>\n",
              "    </tr>\n",
              "  </thead>\n",
              "  <tbody>\n",
              "    <tr>\n",
              "      <th>id</th>\n",
              "      <td>1876.00</td>\n",
              "      <td>37532.89</td>\n",
              "      <td>21785.55</td>\n",
              "      <td>7.00</td>\n",
              "      <td>18360.00</td>\n",
              "      <td>37995.50</td>\n",
              "      <td>56841.50</td>\n",
              "      <td>74236.00</td>\n",
              "    </tr>\n",
              "    <tr>\n",
              "      <th>amount_tsh</th>\n",
              "      <td>1876.00</td>\n",
              "      <td>0.41</td>\n",
              "      <td>3.52</td>\n",
              "      <td>0.00</td>\n",
              "      <td>0.00</td>\n",
              "      <td>0.00</td>\n",
              "      <td>0.00</td>\n",
              "      <td>50.00</td>\n",
              "    </tr>\n",
              "    <tr>\n",
              "      <th>gps_height</th>\n",
              "      <td>1876.00</td>\n",
              "      <td>29.89</td>\n",
              "      <td>197.66</td>\n",
              "      <td>-46.00</td>\n",
              "      <td>0.00</td>\n",
              "      <td>0.00</td>\n",
              "      <td>0.00</td>\n",
              "      <td>1713.00</td>\n",
              "    </tr>\n",
              "    <tr>\n",
              "      <th>longitude</th>\n",
              "      <td>1876.00</td>\n",
              "      <td>33.35</td>\n",
              "      <td>1.61</td>\n",
              "      <td>30.46</td>\n",
              "      <td>32.43</td>\n",
              "      <td>33.21</td>\n",
              "      <td>33.88</td>\n",
              "      <td>40.11</td>\n",
              "    </tr>\n",
              "    <tr>\n",
              "      <th>latitude</th>\n",
              "      <td>1876.00</td>\n",
              "      <td>-5.08</td>\n",
              "      <td>2.76</td>\n",
              "      <td>-10.75</td>\n",
              "      <td>-8.55</td>\n",
              "      <td>-4.11</td>\n",
              "      <td>-2.88</td>\n",
              "      <td>-1.00</td>\n",
              "    </tr>\n",
              "    <tr>\n",
              "      <th>num_private</th>\n",
              "      <td>1876.00</td>\n",
              "      <td>0.01</td>\n",
              "      <td>0.37</td>\n",
              "      <td>0.00</td>\n",
              "      <td>0.00</td>\n",
              "      <td>0.00</td>\n",
              "      <td>0.00</td>\n",
              "      <td>16.00</td>\n",
              "    </tr>\n",
              "    <tr>\n",
              "      <th>region_code</th>\n",
              "      <td>1876.00</td>\n",
              "      <td>13.80</td>\n",
              "      <td>5.65</td>\n",
              "      <td>1.00</td>\n",
              "      <td>12.00</td>\n",
              "      <td>14.00</td>\n",
              "      <td>18.00</td>\n",
              "      <td>24.00</td>\n",
              "    </tr>\n",
              "    <tr>\n",
              "      <th>district_code</th>\n",
              "      <td>1876.00</td>\n",
              "      <td>5.22</td>\n",
              "      <td>6.46</td>\n",
              "      <td>0.00</td>\n",
              "      <td>2.00</td>\n",
              "      <td>4.00</td>\n",
              "      <td>6.00</td>\n",
              "      <td>30.00</td>\n",
              "    </tr>\n",
              "    <tr>\n",
              "      <th>population</th>\n",
              "      <td>1876.00</td>\n",
              "      <td>13.77</td>\n",
              "      <td>119.35</td>\n",
              "      <td>0.00</td>\n",
              "      <td>0.00</td>\n",
              "      <td>0.00</td>\n",
              "      <td>0.00</td>\n",
              "      <td>2000.00</td>\n",
              "    </tr>\n",
              "    <tr>\n",
              "      <th>construction_year</th>\n",
              "      <td>1876.00</td>\n",
              "      <td>35.19</td>\n",
              "      <td>263.07</td>\n",
              "      <td>0.00</td>\n",
              "      <td>0.00</td>\n",
              "      <td>0.00</td>\n",
              "      <td>0.00</td>\n",
              "      <td>2012.00</td>\n",
              "    </tr>\n",
              "  </tbody>\n",
              "</table>\n",
              "</div>"
            ],
            "text/plain": [
              "                    count     mean      std  ...      50%      75%      max\n",
              "id                1876.00 37532.89 21785.55  ... 37995.50 56841.50 74236.00\n",
              "amount_tsh        1876.00     0.41     3.52  ...     0.00     0.00    50.00\n",
              "gps_height        1876.00    29.89   197.66  ...     0.00     0.00  1713.00\n",
              "longitude         1876.00    33.35     1.61  ...    33.21    33.88    40.11\n",
              "latitude          1876.00    -5.08     2.76  ...    -4.11    -2.88    -1.00\n",
              "num_private       1876.00     0.01     0.37  ...     0.00     0.00    16.00\n",
              "region_code       1876.00    13.80     5.65  ...    14.00    18.00    24.00\n",
              "district_code     1876.00     5.22     6.46  ...     4.00     6.00    30.00\n",
              "population        1876.00    13.77   119.35  ...     0.00     0.00  2000.00\n",
              "construction_year 1876.00    35.19   263.07  ...     0.00     0.00  2012.00\n",
              "\n",
              "[10 rows x 8 columns]"
            ]
          },
          "metadata": {
            "tags": []
          },
          "execution_count": 27
        },
        {
          "output_type": "execute_result",
          "data": {
            "text/html": [
              "<div>\n",
              "<style scoped>\n",
              "    .dataframe tbody tr th:only-of-type {\n",
              "        vertical-align: middle;\n",
              "    }\n",
              "\n",
              "    .dataframe tbody tr th {\n",
              "        vertical-align: top;\n",
              "    }\n",
              "\n",
              "    .dataframe thead th {\n",
              "        text-align: right;\n",
              "    }\n",
              "</style>\n",
              "<table border=\"1\" class=\"dataframe\">\n",
              "  <thead>\n",
              "    <tr style=\"text-align: right;\">\n",
              "      <th></th>\n",
              "      <th>count</th>\n",
              "      <th>unique</th>\n",
              "      <th>top</th>\n",
              "      <th>freq</th>\n",
              "    </tr>\n",
              "  </thead>\n",
              "  <tbody>\n",
              "    <tr>\n",
              "      <th>date_recorded</th>\n",
              "      <td>1876</td>\n",
              "      <td>207</td>\n",
              "      <td>2011-04-17</td>\n",
              "      <td>39</td>\n",
              "    </tr>\n",
              "    <tr>\n",
              "      <th>funder</th>\n",
              "      <td>1654</td>\n",
              "      <td>214</td>\n",
              "      <td>Government Of Tanzania</td>\n",
              "      <td>223</td>\n",
              "    </tr>\n",
              "    <tr>\n",
              "      <th>installer</th>\n",
              "      <td>1649</td>\n",
              "      <td>225</td>\n",
              "      <td>DWE</td>\n",
              "      <td>500</td>\n",
              "    </tr>\n",
              "    <tr>\n",
              "      <th>wpt_name</th>\n",
              "      <td>1876</td>\n",
              "      <td>1556</td>\n",
              "      <td>Shuleni</td>\n",
              "      <td>47</td>\n",
              "    </tr>\n",
              "    <tr>\n",
              "      <th>basin</th>\n",
              "      <td>1876</td>\n",
              "      <td>9</td>\n",
              "      <td>Lake Victoria</td>\n",
              "      <td>627</td>\n",
              "    </tr>\n",
              "    <tr>\n",
              "      <th>subvillage</th>\n",
              "      <td>1827</td>\n",
              "      <td>1369</td>\n",
              "      <td>Majengo</td>\n",
              "      <td>21</td>\n",
              "    </tr>\n",
              "    <tr>\n",
              "      <th>region</th>\n",
              "      <td>1876</td>\n",
              "      <td>14</td>\n",
              "      <td>Mbeya</td>\n",
              "      <td>479</td>\n",
              "    </tr>\n",
              "    <tr>\n",
              "      <th>lga</th>\n",
              "      <td>1876</td>\n",
              "      <td>51</td>\n",
              "      <td>Rungwe</td>\n",
              "      <td>121</td>\n",
              "    </tr>\n",
              "    <tr>\n",
              "      <th>ward</th>\n",
              "      <td>1876</td>\n",
              "      <td>579</td>\n",
              "      <td>Rusumo</td>\n",
              "      <td>15</td>\n",
              "    </tr>\n",
              "    <tr>\n",
              "      <th>public_meeting</th>\n",
              "      <td>1805</td>\n",
              "      <td>2</td>\n",
              "      <td>True</td>\n",
              "      <td>1649</td>\n",
              "    </tr>\n",
              "    <tr>\n",
              "      <th>recorded_by</th>\n",
              "      <td>1876</td>\n",
              "      <td>1</td>\n",
              "      <td>GeoData Consultants Ltd</td>\n",
              "      <td>1876</td>\n",
              "    </tr>\n",
              "    <tr>\n",
              "      <th>scheme_management</th>\n",
              "      <td>1736</td>\n",
              "      <td>10</td>\n",
              "      <td>VWC</td>\n",
              "      <td>1339</td>\n",
              "    </tr>\n",
              "    <tr>\n",
              "      <th>scheme_name</th>\n",
              "      <td>718</td>\n",
              "      <td>276</td>\n",
              "      <td>K</td>\n",
              "      <td>70</td>\n",
              "    </tr>\n",
              "    <tr>\n",
              "      <th>permit</th>\n",
              "      <td>1753</td>\n",
              "      <td>2</td>\n",
              "      <td>True</td>\n",
              "      <td>1180</td>\n",
              "    </tr>\n",
              "    <tr>\n",
              "      <th>extraction_type</th>\n",
              "      <td>1876</td>\n",
              "      <td>16</td>\n",
              "      <td>gravity</td>\n",
              "      <td>711</td>\n",
              "    </tr>\n",
              "    <tr>\n",
              "      <th>extraction_type_group</th>\n",
              "      <td>1876</td>\n",
              "      <td>12</td>\n",
              "      <td>gravity</td>\n",
              "      <td>711</td>\n",
              "    </tr>\n",
              "    <tr>\n",
              "      <th>extraction_type_class</th>\n",
              "      <td>1876</td>\n",
              "      <td>7</td>\n",
              "      <td>gravity</td>\n",
              "      <td>711</td>\n",
              "    </tr>\n",
              "    <tr>\n",
              "      <th>management</th>\n",
              "      <td>1876</td>\n",
              "      <td>11</td>\n",
              "      <td>vwc</td>\n",
              "      <td>1354</td>\n",
              "    </tr>\n",
              "    <tr>\n",
              "      <th>management_group</th>\n",
              "      <td>1876</td>\n",
              "      <td>5</td>\n",
              "      <td>user-group</td>\n",
              "      <td>1702</td>\n",
              "    </tr>\n",
              "    <tr>\n",
              "      <th>payment</th>\n",
              "      <td>1876</td>\n",
              "      <td>7</td>\n",
              "      <td>never pay</td>\n",
              "      <td>1024</td>\n",
              "    </tr>\n",
              "    <tr>\n",
              "      <th>payment_type</th>\n",
              "      <td>1876</td>\n",
              "      <td>7</td>\n",
              "      <td>never pay</td>\n",
              "      <td>1024</td>\n",
              "    </tr>\n",
              "    <tr>\n",
              "      <th>water_quality</th>\n",
              "      <td>1876</td>\n",
              "      <td>8</td>\n",
              "      <td>soft</td>\n",
              "      <td>1573</td>\n",
              "    </tr>\n",
              "    <tr>\n",
              "      <th>quality_group</th>\n",
              "      <td>1876</td>\n",
              "      <td>6</td>\n",
              "      <td>good</td>\n",
              "      <td>1573</td>\n",
              "    </tr>\n",
              "    <tr>\n",
              "      <th>quantity</th>\n",
              "      <td>1876</td>\n",
              "      <td>5</td>\n",
              "      <td>enough</td>\n",
              "      <td>960</td>\n",
              "    </tr>\n",
              "    <tr>\n",
              "      <th>quantity_group</th>\n",
              "      <td>1876</td>\n",
              "      <td>5</td>\n",
              "      <td>enough</td>\n",
              "      <td>960</td>\n",
              "    </tr>\n",
              "    <tr>\n",
              "      <th>source</th>\n",
              "      <td>1876</td>\n",
              "      <td>8</td>\n",
              "      <td>shallow well</td>\n",
              "      <td>755</td>\n",
              "    </tr>\n",
              "    <tr>\n",
              "      <th>source_type</th>\n",
              "      <td>1876</td>\n",
              "      <td>6</td>\n",
              "      <td>shallow well</td>\n",
              "      <td>755</td>\n",
              "    </tr>\n",
              "    <tr>\n",
              "      <th>source_class</th>\n",
              "      <td>1876</td>\n",
              "      <td>2</td>\n",
              "      <td>groundwater</td>\n",
              "      <td>1511</td>\n",
              "    </tr>\n",
              "    <tr>\n",
              "      <th>waterpoint_type</th>\n",
              "      <td>1876</td>\n",
              "      <td>6</td>\n",
              "      <td>hand pump</td>\n",
              "      <td>724</td>\n",
              "    </tr>\n",
              "    <tr>\n",
              "      <th>waterpoint_type_group</th>\n",
              "      <td>1876</td>\n",
              "      <td>5</td>\n",
              "      <td>communal standpipe</td>\n",
              "      <td>877</td>\n",
              "    </tr>\n",
              "    <tr>\n",
              "      <th>status_group</th>\n",
              "      <td>1876</td>\n",
              "      <td>3</td>\n",
              "      <td>functional</td>\n",
              "      <td>1006</td>\n",
              "    </tr>\n",
              "  </tbody>\n",
              "</table>\n",
              "</div>"
            ],
            "text/plain": [
              "                      count unique                      top  freq\n",
              "date_recorded          1876    207               2011-04-17    39\n",
              "funder                 1654    214   Government Of Tanzania   223\n",
              "installer              1649    225                      DWE   500\n",
              "wpt_name               1876   1556                  Shuleni    47\n",
              "basin                  1876      9            Lake Victoria   627\n",
              "subvillage             1827   1369                  Majengo    21\n",
              "region                 1876     14                    Mbeya   479\n",
              "lga                    1876     51                   Rungwe   121\n",
              "ward                   1876    579                   Rusumo    15\n",
              "public_meeting         1805      2                     True  1649\n",
              "recorded_by            1876      1  GeoData Consultants Ltd  1876\n",
              "scheme_management      1736     10                      VWC  1339\n",
              "scheme_name             718    276                        K    70\n",
              "permit                 1753      2                     True  1180\n",
              "extraction_type        1876     16                  gravity   711\n",
              "extraction_type_group  1876     12                  gravity   711\n",
              "extraction_type_class  1876      7                  gravity   711\n",
              "management             1876     11                      vwc  1354\n",
              "management_group       1876      5               user-group  1702\n",
              "payment                1876      7                never pay  1024\n",
              "payment_type           1876      7                never pay  1024\n",
              "water_quality          1876      8                     soft  1573\n",
              "quality_group          1876      6                     good  1573\n",
              "quantity               1876      5                   enough   960\n",
              "quantity_group         1876      5                   enough   960\n",
              "source                 1876      8             shallow well   755\n",
              "source_type            1876      6             shallow well   755\n",
              "source_class           1876      2              groundwater  1511\n",
              "waterpoint_type        1876      6                hand pump   724\n",
              "waterpoint_type_group  1876      5       communal standpipe   877\n",
              "status_group           1876      3               functional  1006"
            ]
          },
          "metadata": {
            "tags": []
          },
          "execution_count": 27
        },
        {
          "output_type": "execute_result",
          "data": {
            "text/plain": [
              "2011-04-17    39\n",
              "2011-07-29    35\n",
              "2011-07-20    34\n",
              "2011-07-23    31\n",
              "2011-07-30    29\n",
              "              ..\n",
              "2011-02-28     1\n",
              "2013-03-19     1\n",
              "2012-10-30     1\n",
              "2011-03-06     1\n",
              "2011-08-28     1\n",
              "Name: date_recorded, Length: 207, dtype: int64"
            ]
          },
          "metadata": {
            "tags": []
          },
          "execution_count": 27
        },
        {
          "output_type": "execute_result",
          "data": {
            "text/plain": [
              "Government Of Tanzania    223\n",
              "Hesawa                    119\n",
              "Rwssp                     103\n",
              "Danida                     90\n",
              "World Vision               89\n",
              "                         ... \n",
              "Bukwang Church Saint        1\n",
              "Village Government          1\n",
              "Vw                          1\n",
              "Council                     1\n",
              "Tom                         1\n",
              "Name: funder, Length: 214, dtype: int64"
            ]
          },
          "metadata": {
            "tags": []
          },
          "execution_count": 27
        },
        {
          "output_type": "execute_result",
          "data": {
            "text/plain": [
              "DWE                   500\n",
              "KKKT                   79\n",
              "Government             71\n",
              "Central government     53\n",
              "Hesawa                 51\n",
              "                     ... \n",
              "Water  Aid/Sema         1\n",
              "Nathal Hamadi           1\n",
              "GEOTAN                  1\n",
              "hesawa                  1\n",
              "Tom                     1\n",
              "Name: installer, Length: 225, dtype: int64"
            ]
          },
          "metadata": {
            "tags": []
          },
          "execution_count": 27
        },
        {
          "output_type": "execute_result",
          "data": {
            "text/plain": [
              "Shuleni                  47\n",
              "Zahanati                 25\n",
              "Kanisani                 12\n",
              "Msikitini                12\n",
              "none                     10\n",
              "                         ..\n",
              "Mwabayanda                1\n",
              "Kwa Ng'Ingo               1\n",
              "Kares                     1\n",
              "Kwa Mzee Atilio Tonga     1\n",
              "Semchoko                  1\n",
              "Name: wpt_name, Length: 1556, dtype: int64"
            ]
          },
          "metadata": {
            "tags": []
          },
          "execution_count": 27
        },
        {
          "output_type": "execute_result",
          "data": {
            "text/plain": [
              "Lake Victoria              627\n",
              "Internal                   312\n",
              "Lake Tanganyika            267\n",
              "Lake Nyasa                 253\n",
              "Lake Rukwa                 150\n",
              "Rufiji                     127\n",
              "Wami / Ruvu                118\n",
              "Ruvuma / Southern Coast     13\n",
              "Pangani                      9\n",
              "Name: basin, dtype: int64"
            ]
          },
          "metadata": {
            "tags": []
          },
          "execution_count": 27
        },
        {
          "output_type": "execute_result",
          "data": {
            "text/plain": [
              "Majengo      21\n",
              "1            14\n",
              "Shuleni      10\n",
              "Kati          8\n",
              "Madukani      8\n",
              "             ..\n",
              "Chiyanga      1\n",
              "Ukenyenge     1\n",
              "Kigusha       1\n",
              "Isevia        1\n",
              "Itotowe       1\n",
              "Name: subvillage, Length: 1369, dtype: int64"
            ]
          },
          "metadata": {
            "tags": []
          },
          "execution_count": 27
        },
        {
          "output_type": "execute_result",
          "data": {
            "text/plain": [
              "Mbeya            479\n",
              "Kagera           336\n",
              "Shinyanga        335\n",
              "Dodoma           229\n",
              "Mwanza           225\n",
              "Tabora           208\n",
              "Arusha            34\n",
              "Lindi             11\n",
              "Tanga              8\n",
              "Dar es Salaam      5\n",
              "Morogoro           2\n",
              "Pwani              2\n",
              "Ruvuma             1\n",
              "Mtwara             1\n",
              "Name: region, dtype: int64"
            ]
          },
          "metadata": {
            "tags": []
          },
          "execution_count": 27
        },
        {
          "output_type": "execute_result",
          "data": {
            "text/plain": [
              "Rungwe             121\n",
              "Mbozi              114\n",
              "Kahama              94\n",
              "Karagwe             83\n",
              "Kyela               78\n",
              "Ngara               76\n",
              "Maswa               75\n",
              "Kwimba              70\n",
              "Nzega               63\n",
              "Mbarali             59\n",
              "Mpwapwa             56\n",
              "Bukoba Rural        54\n",
              "Magu                54\n",
              "Kondoa              52\n",
              "Mbeya Rural         52\n",
              "Shinyanga Rural     50\n",
              "Kongwa              49\n",
              "Sengerema           46\n",
              "Bukombe             41\n",
              "Urambo              41\n",
              "Igunga              40\n",
              "Missungwi           39\n",
              "Biharamulo          35\n",
              "Uyui                34\n",
              "Karatu              33\n",
              "Meatu               33\n",
              "Dodoma Urban        33\n",
              "Muleba              31\n",
              "Chunya              29\n",
              "Kishapu             28\n",
              "Chamwino            27\n",
              "Misenyi             26\n",
              "Ileje               26\n",
              "Chato               23\n",
              "Ilemela             16\n",
              "Sikonge             16\n",
              "Shinyanga Urban     14\n",
              "Tabora Urban        14\n",
              "Bahi                12\n",
              "Nachingwea          11\n",
              "Bukoba Urban         8\n",
              "Ilala                5\n",
              "Pangani              5\n",
              "Handeni              2\n",
              "Kilosa               2\n",
              "Meru                 1\n",
              "Namtumbo             1\n",
              "Bagamoyo             1\n",
              "Mafia                1\n",
              "Mtwara Urban         1\n",
              "Korogwe              1\n",
              "Name: lga, dtype: int64"
            ]
          },
          "metadata": {
            "tags": []
          },
          "execution_count": 27
        },
        {
          "output_type": "execute_result",
          "data": {
            "text/plain": [
              "Rusumo        15\n",
              "Tinde         14\n",
              "Itete         14\n",
              "Rujewa        13\n",
              "Nyimbili      13\n",
              "              ..\n",
              "Sigili         1\n",
              "Kasharu        1\n",
              "Mphwayungu     1\n",
              "Kagondo        1\n",
              "Lutende        1\n",
              "Name: ward, Length: 579, dtype: int64"
            ]
          },
          "metadata": {
            "tags": []
          },
          "execution_count": 27
        },
        {
          "output_type": "execute_result",
          "data": {
            "text/plain": [
              "True     1649\n",
              "False     156\n",
              "Name: public_meeting, dtype: int64"
            ]
          },
          "metadata": {
            "tags": []
          },
          "execution_count": 27
        },
        {
          "output_type": "execute_result",
          "data": {
            "text/plain": [
              "GeoData Consultants Ltd    1876\n",
              "Name: recorded_by, dtype: int64"
            ]
          },
          "metadata": {
            "tags": []
          },
          "execution_count": 27
        },
        {
          "output_type": "execute_result",
          "data": {
            "text/plain": [
              "VWC                 1339\n",
              "WUG                  194\n",
              "Water authority       66\n",
              "Parastatal            51\n",
              "WUA                   36\n",
              "Water Board           23\n",
              "Private operator      14\n",
              "Other                  8\n",
              "Trust                  3\n",
              "Company                2\n",
              "Name: scheme_management, dtype: int64"
            ]
          },
          "metadata": {
            "tags": []
          },
          "execution_count": 27
        },
        {
          "output_type": "execute_result",
          "data": {
            "text/plain": [
              "K                              70\n",
              "None                           68\n",
              "Ngana water supplied scheme    27\n",
              "Makwale water supplied sche    14\n",
              "N                              14\n",
              "                               ..\n",
              "Zois                            1\n",
              "Kumsasa spring source           1\n",
              "Mwit                            1\n",
              "Busulwa                         1\n",
              "Handeni Trunk Main(H            1\n",
              "Name: scheme_name, Length: 276, dtype: int64"
            ]
          },
          "metadata": {
            "tags": []
          },
          "execution_count": 27
        },
        {
          "output_type": "execute_result",
          "data": {
            "text/plain": [
              "True     1180\n",
              "False     573\n",
              "Name: permit, dtype: int64"
            ]
          },
          "metadata": {
            "tags": []
          },
          "execution_count": 27
        },
        {
          "output_type": "execute_result",
          "data": {
            "text/plain": [
              "gravity              711\n",
              "nira/tanira          426\n",
              "other                239\n",
              "mono                 111\n",
              "swn 80               109\n",
              "afridev               86\n",
              "india mark ii         68\n",
              "submersible           63\n",
              "ksb                   29\n",
              "other - swn 81         9\n",
              "cemo                   9\n",
              "other - rope pump      8\n",
              "other - play pump      3\n",
              "windmill               2\n",
              "walimi                 2\n",
              "climax                 1\n",
              "Name: extraction_type, dtype: int64"
            ]
          },
          "metadata": {
            "tags": []
          },
          "execution_count": 27
        },
        {
          "output_type": "execute_result",
          "data": {
            "text/plain": [
              "gravity            711\n",
              "nira/tanira        426\n",
              "other              239\n",
              "mono               111\n",
              "swn 80             109\n",
              "submersible         92\n",
              "afridev             86\n",
              "india mark ii       68\n",
              "other handpump      14\n",
              "other motorpump     10\n",
              "rope pump            8\n",
              "wind-powered         2\n",
              "Name: extraction_type_group, dtype: int64"
            ]
          },
          "metadata": {
            "tags": []
          },
          "execution_count": 27
        },
        {
          "output_type": "execute_result",
          "data": {
            "text/plain": [
              "gravity         711\n",
              "handpump        703\n",
              "other           239\n",
              "motorpump       121\n",
              "submersible      92\n",
              "rope pump         8\n",
              "wind-powered      2\n",
              "Name: extraction_type_class, dtype: int64"
            ]
          },
          "metadata": {
            "tags": []
          },
          "execution_count": 27
        },
        {
          "output_type": "execute_result",
          "data": {
            "text/plain": [
              "vwc                 1354\n",
              "wug                  303\n",
              "parastatal            51\n",
              "private operator      37\n",
              "other                 33\n",
              "wua                   30\n",
              "water authority       30\n",
              "unknown               20\n",
              "water board           15\n",
              "trust                  2\n",
              "company                1\n",
              "Name: management, dtype: int64"
            ]
          },
          "metadata": {
            "tags": []
          },
          "execution_count": 27
        },
        {
          "output_type": "execute_result",
          "data": {
            "text/plain": [
              "user-group    1702\n",
              "commercial      70\n",
              "parastatal      51\n",
              "other           33\n",
              "unknown         20\n",
              "Name: management_group, dtype: int64"
            ]
          },
          "metadata": {
            "tags": []
          },
          "execution_count": 27
        },
        {
          "output_type": "execute_result",
          "data": {
            "text/plain": [
              "never pay                1024\n",
              "unknown                   230\n",
              "pay per bucket            224\n",
              "pay when scheme fails     152\n",
              "pay monthly               106\n",
              "pay annually               87\n",
              "other                      53\n",
              "Name: payment, dtype: int64"
            ]
          },
          "metadata": {
            "tags": []
          },
          "execution_count": 27
        },
        {
          "output_type": "execute_result",
          "data": {
            "text/plain": [
              "never pay     1024\n",
              "unknown        230\n",
              "per bucket     224\n",
              "on failure     152\n",
              "monthly        106\n",
              "annually        87\n",
              "other           53\n",
              "Name: payment_type, dtype: int64"
            ]
          },
          "metadata": {
            "tags": []
          },
          "execution_count": 27
        },
        {
          "output_type": "execute_result",
          "data": {
            "text/plain": [
              "soft                  1573\n",
              "salty                  152\n",
              "milky                   75\n",
              "unknown                 43\n",
              "coloured                21\n",
              "salty abandoned          7\n",
              "fluoride                 4\n",
              "fluoride abandoned       1\n",
              "Name: water_quality, dtype: int64"
            ]
          },
          "metadata": {
            "tags": []
          },
          "execution_count": 27
        },
        {
          "output_type": "execute_result",
          "data": {
            "text/plain": [
              "good        1573\n",
              "salty        159\n",
              "milky         75\n",
              "unknown       43\n",
              "colored       21\n",
              "fluoride       5\n",
              "Name: quality_group, dtype: int64"
            ]
          },
          "metadata": {
            "tags": []
          },
          "execution_count": 27
        },
        {
          "output_type": "execute_result",
          "data": {
            "text/plain": [
              "enough          960\n",
              "insufficient    440\n",
              "dry             239\n",
              "seasonal        214\n",
              "unknown          23\n",
              "Name: quantity, dtype: int64"
            ]
          },
          "metadata": {
            "tags": []
          },
          "execution_count": 27
        },
        {
          "output_type": "execute_result",
          "data": {
            "text/plain": [
              "enough          960\n",
              "insufficient    440\n",
              "dry             239\n",
              "seasonal        214\n",
              "unknown          23\n",
              "Name: quantity_group, dtype: int64"
            ]
          },
          "metadata": {
            "tags": []
          },
          "execution_count": 27
        },
        {
          "output_type": "execute_result",
          "data": {
            "text/plain": [
              "shallow well            755\n",
              "spring                  438\n",
              "machine dbh             300\n",
              "river                   218\n",
              "rainwater harvesting     88\n",
              "dam                      39\n",
              "lake                     20\n",
              "hand dtw                 18\n",
              "Name: source, dtype: int64"
            ]
          },
          "metadata": {
            "tags": []
          },
          "execution_count": 27
        },
        {
          "output_type": "execute_result",
          "data": {
            "text/plain": [
              "shallow well            755\n",
              "spring                  438\n",
              "borehole                318\n",
              "river/lake              238\n",
              "rainwater harvesting     88\n",
              "dam                      39\n",
              "Name: source_type, dtype: int64"
            ]
          },
          "metadata": {
            "tags": []
          },
          "execution_count": 27
        },
        {
          "output_type": "execute_result",
          "data": {
            "text/plain": [
              "groundwater    1511\n",
              "surface         365\n",
              "Name: source_class, dtype: int64"
            ]
          },
          "metadata": {
            "tags": []
          },
          "execution_count": 27
        },
        {
          "output_type": "execute_result",
          "data": {
            "text/plain": [
              "hand pump                      724\n",
              "communal standpipe             694\n",
              "other                          220\n",
              "communal standpipe multiple    183\n",
              "improved spring                 50\n",
              "cattle trough                    5\n",
              "Name: waterpoint_type, dtype: int64"
            ]
          },
          "metadata": {
            "tags": []
          },
          "execution_count": 27
        },
        {
          "output_type": "execute_result",
          "data": {
            "text/plain": [
              "communal standpipe    877\n",
              "hand pump             724\n",
              "other                 220\n",
              "improved spring        50\n",
              "cattle trough           5\n",
              "Name: waterpoint_type_group, dtype: int64"
            ]
          },
          "metadata": {
            "tags": []
          },
          "execution_count": 27
        },
        {
          "output_type": "execute_result",
          "data": {
            "text/plain": [
              "functional                 1006\n",
              "non functional              743\n",
              "functional needs repair     127\n",
              "Name: status_group, dtype: int64"
            ]
          },
          "metadata": {
            "tags": []
          },
          "execution_count": 27
        }
      ]
    },
    {
      "cell_type": "code",
      "metadata": {
        "colab": {
          "base_uri": "https://localhost:8080/",
          "height": 784
        },
        "id": "2bBbs-oLPTD8",
        "outputId": "bf690bc2-9cf8-4f64-b282-bc54971f613f"
      },
      "source": [
        "from scipy import stats\n",
        "import seaborn as sns\n",
        "\n",
        "df = sdf\n",
        "\n",
        "f, axes = plt.subplots(K, n_features, figsize=(24, 12), sharex='col', sharey='col')\n",
        "\n",
        "cols = [x for x in num_col_names]\n",
        "cols += [x for x in cat_col_names]\n",
        "rows = ['Cluster {}'.format(i+1) for i in np.arange(K)]\n",
        "\n",
        "\n",
        "for i, label in enumerate(set(labels)):\n",
        "    n = df.iloc[labels==label].shape[0]\n",
        "  \n",
        "\n",
        "    col_idx = 0\n",
        "    for col in num_col_names:\n",
        "        sns.distplot(df[[col]], hist=False, rug=False, label=\"All\", ax=axes[i-1, col_idx]);\n",
        "        chart = sns.distplot(df.iloc[labels==label][[col]], hist=False, rug=False, label=\"Cluster {}\".format(label), ax=axes[i-1,col_idx]);\n",
        "        chart.set_yticklabels([])\n",
        "        col_idx=col_idx+1\n",
        "    for col in cat_col_names:\n",
        "        \n",
        "        # It's a bit complicated, and it took me a while to figure out, but what we're doing here is this:\n",
        "        # Finding out the (normalized) distribution of each level for \"all data\"\n",
        "        # Finding out the (normalized) distribution fo each level for this cluster\n",
        "        # Plotting both on a bar chart\n",
        "        \n",
        "        all_prop_df = (df[col].value_counts(normalize=True).reset_index())\n",
        "        all_prop_df['Cluster']= 'All'\n",
        "\n",
        "        prop_df = (df.iloc[labels==label][col]\n",
        "           .value_counts(normalize=True)\n",
        "           .reset_index())\n",
        "\n",
        "        prop_df['Cluster']= 'Cluster {}'.format(label)\n",
        "\n",
        "        prop_df = pd.concat([all_prop_df, prop_df])\n",
        "        prop_df = prop_df.reset_index(drop=True)\n",
        "\n",
        "        chart = sns.barplot(x='index', y=col, hue='Cluster', data=prop_df, ci=None, ax=axes[i-1, col_idx])\n",
        "        #chart.set_xticklabels(chart.get_xticklabels(), rotation=55)\n",
        "        \n",
        "        col_idx=col_idx+1\n",
        "\n",
        "for ax1 in axes:\n",
        "    for ax in ax1:\n",
        "        ax.get_legend().remove()\n",
        "        ax.set_ylabel('')\n",
        "        ax.set_xlabel('')\n",
        "        \n",
        "for ax, col in zip(axes[0], cols):\n",
        "    ax.set_title(col, size='large')\n",
        "\n",
        "for ax, row in zip(axes[:,0], rows):\n",
        "    ax.set_ylabel(row, rotation=90, size='large')\n",
        "\n",
        "for j in np.arange(n_features):\n",
        "    ax = axes[K-1,j]\n",
        "    if j >= len(num_col_names): #Tmp hack to avoid rotating numeric lablels\n",
        "        ax.set_xticklabels(ax.get_xticklabels(), rotation=90)\n",
        "    \n",
        "plt.show();"
      ],
      "execution_count": null,
      "outputs": [
        {
          "output_type": "error",
          "ename": "KeyboardInterrupt",
          "evalue": "ignored",
          "traceback": [
            "\u001b[0;31m---------------------------------------------------------------------------\u001b[0m",
            "\u001b[0;31mKeyboardInterrupt\u001b[0m                         Traceback (most recent call last)",
            "\u001b[0;32m<ipython-input-61-8b79a7a99edc>\u001b[0m in \u001b[0;36m<module>\u001b[0;34m()\u001b[0m\n\u001b[1;32m      4\u001b[0m \u001b[0mdf\u001b[0m \u001b[0;34m=\u001b[0m \u001b[0msdf\u001b[0m\u001b[0;34m\u001b[0m\u001b[0;34m\u001b[0m\u001b[0m\n\u001b[1;32m      5\u001b[0m \u001b[0;34m\u001b[0m\u001b[0m\n\u001b[0;32m----> 6\u001b[0;31m \u001b[0mf\u001b[0m\u001b[0;34m,\u001b[0m \u001b[0maxes\u001b[0m \u001b[0;34m=\u001b[0m \u001b[0mplt\u001b[0m\u001b[0;34m.\u001b[0m\u001b[0msubplots\u001b[0m\u001b[0;34m(\u001b[0m\u001b[0mK\u001b[0m\u001b[0;34m,\u001b[0m \u001b[0mn_features\u001b[0m\u001b[0;34m,\u001b[0m \u001b[0mfigsize\u001b[0m\u001b[0;34m=\u001b[0m\u001b[0;34m(\u001b[0m\u001b[0;36m24\u001b[0m\u001b[0;34m,\u001b[0m \u001b[0;36m12\u001b[0m\u001b[0;34m)\u001b[0m\u001b[0;34m,\u001b[0m \u001b[0msharex\u001b[0m\u001b[0;34m=\u001b[0m\u001b[0;34m'col'\u001b[0m\u001b[0;34m,\u001b[0m \u001b[0msharey\u001b[0m\u001b[0;34m=\u001b[0m\u001b[0;34m'col'\u001b[0m\u001b[0;34m)\u001b[0m\u001b[0;34m\u001b[0m\u001b[0;34m\u001b[0m\u001b[0m\n\u001b[0m\u001b[1;32m      7\u001b[0m \u001b[0;34m\u001b[0m\u001b[0m\n\u001b[1;32m      8\u001b[0m \u001b[0mcols\u001b[0m \u001b[0;34m=\u001b[0m \u001b[0;34m[\u001b[0m\u001b[0mx\u001b[0m \u001b[0;32mfor\u001b[0m \u001b[0mx\u001b[0m \u001b[0;32min\u001b[0m \u001b[0mnum_col_names\u001b[0m\u001b[0;34m]\u001b[0m\u001b[0;34m\u001b[0m\u001b[0;34m\u001b[0m\u001b[0m\n",
            "\u001b[0;32m/usr/local/lib/python3.7/dist-packages/matplotlib/pyplot.py\u001b[0m in \u001b[0;36msubplots\u001b[0;34m(nrows, ncols, sharex, sharey, squeeze, subplot_kw, gridspec_kw, **fig_kw)\u001b[0m\n\u001b[1;32m   1178\u001b[0m     axs = fig.subplots(nrows=nrows, ncols=ncols, sharex=sharex, sharey=sharey,\n\u001b[1;32m   1179\u001b[0m                        \u001b[0msqueeze\u001b[0m\u001b[0;34m=\u001b[0m\u001b[0msqueeze\u001b[0m\u001b[0;34m,\u001b[0m \u001b[0msubplot_kw\u001b[0m\u001b[0;34m=\u001b[0m\u001b[0msubplot_kw\u001b[0m\u001b[0;34m,\u001b[0m\u001b[0;34m\u001b[0m\u001b[0;34m\u001b[0m\u001b[0m\n\u001b[0;32m-> 1180\u001b[0;31m                        gridspec_kw=gridspec_kw)\n\u001b[0m\u001b[1;32m   1181\u001b[0m     \u001b[0;32mreturn\u001b[0m \u001b[0mfig\u001b[0m\u001b[0;34m,\u001b[0m \u001b[0maxs\u001b[0m\u001b[0;34m\u001b[0m\u001b[0;34m\u001b[0m\u001b[0m\n\u001b[1;32m   1182\u001b[0m \u001b[0;34m\u001b[0m\u001b[0m\n",
            "\u001b[0;32m/usr/local/lib/python3.7/dist-packages/matplotlib/figure.py\u001b[0m in \u001b[0;36msubplots\u001b[0;34m(self, nrows, ncols, sharex, sharey, squeeze, subplot_kw, gridspec_kw)\u001b[0m\n\u001b[1;32m   1574\u001b[0m                 \u001b[0msubplot_kw\u001b[0m\u001b[0;34m[\u001b[0m\u001b[0;34m\"sharex\"\u001b[0m\u001b[0;34m]\u001b[0m \u001b[0;34m=\u001b[0m \u001b[0mshared_with\u001b[0m\u001b[0;34m[\u001b[0m\u001b[0msharex\u001b[0m\u001b[0;34m]\u001b[0m\u001b[0;34m\u001b[0m\u001b[0;34m\u001b[0m\u001b[0m\n\u001b[1;32m   1575\u001b[0m                 \u001b[0msubplot_kw\u001b[0m\u001b[0;34m[\u001b[0m\u001b[0;34m\"sharey\"\u001b[0m\u001b[0;34m]\u001b[0m \u001b[0;34m=\u001b[0m \u001b[0mshared_with\u001b[0m\u001b[0;34m[\u001b[0m\u001b[0msharey\u001b[0m\u001b[0;34m]\u001b[0m\u001b[0;34m\u001b[0m\u001b[0;34m\u001b[0m\u001b[0m\n\u001b[0;32m-> 1576\u001b[0;31m                 \u001b[0maxarr\u001b[0m\u001b[0;34m[\u001b[0m\u001b[0mrow\u001b[0m\u001b[0;34m,\u001b[0m \u001b[0mcol\u001b[0m\u001b[0;34m]\u001b[0m \u001b[0;34m=\u001b[0m \u001b[0mself\u001b[0m\u001b[0;34m.\u001b[0m\u001b[0madd_subplot\u001b[0m\u001b[0;34m(\u001b[0m\u001b[0mgs\u001b[0m\u001b[0;34m[\u001b[0m\u001b[0mrow\u001b[0m\u001b[0;34m,\u001b[0m \u001b[0mcol\u001b[0m\u001b[0;34m]\u001b[0m\u001b[0;34m,\u001b[0m \u001b[0;34m**\u001b[0m\u001b[0msubplot_kw\u001b[0m\u001b[0;34m)\u001b[0m\u001b[0;34m\u001b[0m\u001b[0;34m\u001b[0m\u001b[0m\n\u001b[0m\u001b[1;32m   1577\u001b[0m \u001b[0;34m\u001b[0m\u001b[0m\n\u001b[1;32m   1578\u001b[0m         \u001b[0;31m# turn off redundant tick labeling\u001b[0m\u001b[0;34m\u001b[0m\u001b[0;34m\u001b[0m\u001b[0;34m\u001b[0m\u001b[0m\n",
            "\u001b[0;32m/usr/local/lib/python3.7/dist-packages/matplotlib/figure.py\u001b[0m in \u001b[0;36madd_subplot\u001b[0;34m(self, *args, **kwargs)\u001b[0m\n\u001b[1;32m   1417\u001b[0m                     \u001b[0mself\u001b[0m\u001b[0;34m.\u001b[0m\u001b[0m_axstack\u001b[0m\u001b[0;34m.\u001b[0m\u001b[0mremove\u001b[0m\u001b[0;34m(\u001b[0m\u001b[0max\u001b[0m\u001b[0;34m)\u001b[0m\u001b[0;34m\u001b[0m\u001b[0;34m\u001b[0m\u001b[0m\n\u001b[1;32m   1418\u001b[0m \u001b[0;34m\u001b[0m\u001b[0m\n\u001b[0;32m-> 1419\u001b[0;31m             \u001b[0ma\u001b[0m \u001b[0;34m=\u001b[0m \u001b[0msubplot_class_factory\u001b[0m\u001b[0;34m(\u001b[0m\u001b[0mprojection_class\u001b[0m\u001b[0;34m)\u001b[0m\u001b[0;34m(\u001b[0m\u001b[0mself\u001b[0m\u001b[0;34m,\u001b[0m \u001b[0;34m*\u001b[0m\u001b[0margs\u001b[0m\u001b[0;34m,\u001b[0m \u001b[0;34m**\u001b[0m\u001b[0mkwargs\u001b[0m\u001b[0;34m)\u001b[0m\u001b[0;34m\u001b[0m\u001b[0;34m\u001b[0m\u001b[0m\n\u001b[0m\u001b[1;32m   1420\u001b[0m \u001b[0;34m\u001b[0m\u001b[0m\n\u001b[1;32m   1421\u001b[0m         \u001b[0;32mreturn\u001b[0m \u001b[0mself\u001b[0m\u001b[0;34m.\u001b[0m\u001b[0m_add_axes_internal\u001b[0m\u001b[0;34m(\u001b[0m\u001b[0mkey\u001b[0m\u001b[0;34m,\u001b[0m \u001b[0ma\u001b[0m\u001b[0;34m)\u001b[0m\u001b[0;34m\u001b[0m\u001b[0;34m\u001b[0m\u001b[0m\n",
            "\u001b[0;32m/usr/local/lib/python3.7/dist-packages/matplotlib/axes/_subplots.py\u001b[0m in \u001b[0;36m__init__\u001b[0;34m(self, fig, *args, **kwargs)\u001b[0m\n\u001b[1;32m     74\u001b[0m \u001b[0;34m\u001b[0m\u001b[0m\n\u001b[1;32m     75\u001b[0m         \u001b[0;31m# _axes_class is set in the subplot_class_factory\u001b[0m\u001b[0;34m\u001b[0m\u001b[0;34m\u001b[0m\u001b[0;34m\u001b[0m\u001b[0m\n\u001b[0;32m---> 76\u001b[0;31m         \u001b[0mself\u001b[0m\u001b[0;34m.\u001b[0m\u001b[0m_axes_class\u001b[0m\u001b[0;34m.\u001b[0m\u001b[0m__init__\u001b[0m\u001b[0;34m(\u001b[0m\u001b[0mself\u001b[0m\u001b[0;34m,\u001b[0m \u001b[0mfig\u001b[0m\u001b[0;34m,\u001b[0m \u001b[0mself\u001b[0m\u001b[0;34m.\u001b[0m\u001b[0mfigbox\u001b[0m\u001b[0;34m,\u001b[0m \u001b[0;34m**\u001b[0m\u001b[0mkwargs\u001b[0m\u001b[0;34m)\u001b[0m\u001b[0;34m\u001b[0m\u001b[0;34m\u001b[0m\u001b[0m\n\u001b[0m\u001b[1;32m     77\u001b[0m         \u001b[0;31m# add a layout box to this, for both the full axis, and the poss\u001b[0m\u001b[0;34m\u001b[0m\u001b[0;34m\u001b[0m\u001b[0;34m\u001b[0m\u001b[0m\n\u001b[1;32m     78\u001b[0m         \u001b[0;31m# of the axis.  We need both because the axes may become smaller\u001b[0m\u001b[0;34m\u001b[0m\u001b[0;34m\u001b[0m\u001b[0;34m\u001b[0m\u001b[0m\n",
            "\u001b[0;32m/usr/local/lib/python3.7/dist-packages/matplotlib/axes/_base.py\u001b[0m in \u001b[0;36m__init__\u001b[0;34m(self, fig, rect, facecolor, frameon, sharex, sharey, label, xscale, yscale, **kwargs)\u001b[0m\n\u001b[1;32m    452\u001b[0m \u001b[0;34m\u001b[0m\u001b[0m\n\u001b[1;32m    453\u001b[0m         \u001b[0mself\u001b[0m\u001b[0;34m.\u001b[0m\u001b[0m_rasterization_zorder\u001b[0m \u001b[0;34m=\u001b[0m \u001b[0;32mNone\u001b[0m\u001b[0;34m\u001b[0m\u001b[0;34m\u001b[0m\u001b[0m\n\u001b[0;32m--> 454\u001b[0;31m         \u001b[0mself\u001b[0m\u001b[0;34m.\u001b[0m\u001b[0mcla\u001b[0m\u001b[0;34m(\u001b[0m\u001b[0;34m)\u001b[0m\u001b[0;34m\u001b[0m\u001b[0;34m\u001b[0m\u001b[0m\n\u001b[0m\u001b[1;32m    455\u001b[0m \u001b[0;34m\u001b[0m\u001b[0m\n\u001b[1;32m    456\u001b[0m         \u001b[0;31m# funcs used to format x and y - fall back on major formatters\u001b[0m\u001b[0;34m\u001b[0m\u001b[0;34m\u001b[0m\u001b[0;34m\u001b[0m\u001b[0m\n",
            "\u001b[0;32m/usr/local/lib/python3.7/dist-packages/matplotlib/axes/_base.py\u001b[0m in \u001b[0;36mcla\u001b[0;34m(self)\u001b[0m\n\u001b[1;32m   1078\u001b[0m \u001b[0;34m\u001b[0m\u001b[0m\n\u001b[1;32m   1079\u001b[0m         \u001b[0mself\u001b[0m\u001b[0;34m.\u001b[0m\u001b[0mxaxis\u001b[0m\u001b[0;34m.\u001b[0m\u001b[0mset_clip_path\u001b[0m\u001b[0;34m(\u001b[0m\u001b[0mself\u001b[0m\u001b[0;34m.\u001b[0m\u001b[0mpatch\u001b[0m\u001b[0;34m)\u001b[0m\u001b[0;34m\u001b[0m\u001b[0;34m\u001b[0m\u001b[0m\n\u001b[0;32m-> 1080\u001b[0;31m         \u001b[0mself\u001b[0m\u001b[0;34m.\u001b[0m\u001b[0myaxis\u001b[0m\u001b[0;34m.\u001b[0m\u001b[0mset_clip_path\u001b[0m\u001b[0;34m(\u001b[0m\u001b[0mself\u001b[0m\u001b[0;34m.\u001b[0m\u001b[0mpatch\u001b[0m\u001b[0;34m)\u001b[0m\u001b[0;34m\u001b[0m\u001b[0;34m\u001b[0m\u001b[0m\n\u001b[0m\u001b[1;32m   1081\u001b[0m \u001b[0;34m\u001b[0m\u001b[0m\n\u001b[1;32m   1082\u001b[0m         \u001b[0mself\u001b[0m\u001b[0;34m.\u001b[0m\u001b[0m_shared_x_axes\u001b[0m\u001b[0;34m.\u001b[0m\u001b[0mclean\u001b[0m\u001b[0;34m(\u001b[0m\u001b[0;34m)\u001b[0m\u001b[0;34m\u001b[0m\u001b[0;34m\u001b[0m\u001b[0m\n",
            "\u001b[0;32m/usr/local/lib/python3.7/dist-packages/matplotlib/axis.py\u001b[0m in \u001b[0;36mset_clip_path\u001b[0;34m(self, clippath, transform)\u001b[0m\n\u001b[1;32m    967\u001b[0m     \u001b[0;32mdef\u001b[0m \u001b[0mset_clip_path\u001b[0m\u001b[0;34m(\u001b[0m\u001b[0mself\u001b[0m\u001b[0;34m,\u001b[0m \u001b[0mclippath\u001b[0m\u001b[0;34m,\u001b[0m \u001b[0mtransform\u001b[0m\u001b[0;34m=\u001b[0m\u001b[0;32mNone\u001b[0m\u001b[0;34m)\u001b[0m\u001b[0;34m:\u001b[0m\u001b[0;34m\u001b[0m\u001b[0;34m\u001b[0m\u001b[0m\n\u001b[1;32m    968\u001b[0m         \u001b[0mmartist\u001b[0m\u001b[0;34m.\u001b[0m\u001b[0mArtist\u001b[0m\u001b[0;34m.\u001b[0m\u001b[0mset_clip_path\u001b[0m\u001b[0;34m(\u001b[0m\u001b[0mself\u001b[0m\u001b[0;34m,\u001b[0m \u001b[0mclippath\u001b[0m\u001b[0;34m,\u001b[0m \u001b[0mtransform\u001b[0m\u001b[0;34m)\u001b[0m\u001b[0;34m\u001b[0m\u001b[0;34m\u001b[0m\u001b[0m\n\u001b[0;32m--> 969\u001b[0;31m         \u001b[0;32mfor\u001b[0m \u001b[0mchild\u001b[0m \u001b[0;32min\u001b[0m \u001b[0mself\u001b[0m\u001b[0;34m.\u001b[0m\u001b[0mmajorTicks\u001b[0m \u001b[0;34m+\u001b[0m \u001b[0mself\u001b[0m\u001b[0;34m.\u001b[0m\u001b[0mminorTicks\u001b[0m\u001b[0;34m:\u001b[0m\u001b[0;34m\u001b[0m\u001b[0;34m\u001b[0m\u001b[0m\n\u001b[0m\u001b[1;32m    970\u001b[0m             \u001b[0mchild\u001b[0m\u001b[0;34m.\u001b[0m\u001b[0mset_clip_path\u001b[0m\u001b[0;34m(\u001b[0m\u001b[0mclippath\u001b[0m\u001b[0;34m,\u001b[0m \u001b[0mtransform\u001b[0m\u001b[0;34m)\u001b[0m\u001b[0;34m\u001b[0m\u001b[0;34m\u001b[0m\u001b[0m\n\u001b[1;32m    971\u001b[0m         \u001b[0mself\u001b[0m\u001b[0;34m.\u001b[0m\u001b[0mstale\u001b[0m \u001b[0;34m=\u001b[0m \u001b[0;32mTrue\u001b[0m\u001b[0;34m\u001b[0m\u001b[0;34m\u001b[0m\u001b[0m\n",
            "\u001b[0;32m/usr/local/lib/python3.7/dist-packages/matplotlib/axis.py\u001b[0m in \u001b[0;36m__get__\u001b[0;34m(self, instance, cls)\u001b[0m\n\u001b[1;32m    701\u001b[0m             \u001b[0;32melse\u001b[0m\u001b[0;34m:\u001b[0m\u001b[0;34m\u001b[0m\u001b[0;34m\u001b[0m\u001b[0m\n\u001b[1;32m    702\u001b[0m                 \u001b[0minstance\u001b[0m\u001b[0;34m.\u001b[0m\u001b[0mminorTicks\u001b[0m \u001b[0;34m=\u001b[0m \u001b[0;34m[\u001b[0m\u001b[0;34m]\u001b[0m\u001b[0;34m\u001b[0m\u001b[0;34m\u001b[0m\u001b[0m\n\u001b[0;32m--> 703\u001b[0;31m                 \u001b[0mtick\u001b[0m \u001b[0;34m=\u001b[0m \u001b[0minstance\u001b[0m\u001b[0;34m.\u001b[0m\u001b[0m_get_tick\u001b[0m\u001b[0;34m(\u001b[0m\u001b[0mmajor\u001b[0m\u001b[0;34m=\u001b[0m\u001b[0;32mFalse\u001b[0m\u001b[0;34m)\u001b[0m\u001b[0;34m\u001b[0m\u001b[0;34m\u001b[0m\u001b[0m\n\u001b[0m\u001b[1;32m    704\u001b[0m                 \u001b[0minstance\u001b[0m\u001b[0;34m.\u001b[0m\u001b[0mminorTicks\u001b[0m\u001b[0;34m.\u001b[0m\u001b[0mappend\u001b[0m\u001b[0;34m(\u001b[0m\u001b[0mtick\u001b[0m\u001b[0;34m)\u001b[0m\u001b[0;34m\u001b[0m\u001b[0;34m\u001b[0m\u001b[0m\n\u001b[1;32m    705\u001b[0m                 \u001b[0;32mreturn\u001b[0m \u001b[0minstance\u001b[0m\u001b[0;34m.\u001b[0m\u001b[0mminorTicks\u001b[0m\u001b[0;34m\u001b[0m\u001b[0;34m\u001b[0m\u001b[0m\n",
            "\u001b[0;32m/usr/local/lib/python3.7/dist-packages/matplotlib/axis.py\u001b[0m in \u001b[0;36m_get_tick\u001b[0;34m(self, major)\u001b[0m\n\u001b[1;32m   2228\u001b[0m         \u001b[0;32melse\u001b[0m\u001b[0;34m:\u001b[0m\u001b[0;34m\u001b[0m\u001b[0;34m\u001b[0m\u001b[0m\n\u001b[1;32m   2229\u001b[0m             \u001b[0mtick_kw\u001b[0m \u001b[0;34m=\u001b[0m \u001b[0mself\u001b[0m\u001b[0;34m.\u001b[0m\u001b[0m_minor_tick_kw\u001b[0m\u001b[0;34m\u001b[0m\u001b[0;34m\u001b[0m\u001b[0m\n\u001b[0;32m-> 2230\u001b[0;31m         \u001b[0;32mreturn\u001b[0m \u001b[0mYTick\u001b[0m\u001b[0;34m(\u001b[0m\u001b[0mself\u001b[0m\u001b[0;34m.\u001b[0m\u001b[0maxes\u001b[0m\u001b[0;34m,\u001b[0m \u001b[0;36m0\u001b[0m\u001b[0;34m,\u001b[0m \u001b[0;34m''\u001b[0m\u001b[0;34m,\u001b[0m \u001b[0mmajor\u001b[0m\u001b[0;34m=\u001b[0m\u001b[0mmajor\u001b[0m\u001b[0;34m,\u001b[0m \u001b[0;34m**\u001b[0m\u001b[0mtick_kw\u001b[0m\u001b[0;34m)\u001b[0m\u001b[0;34m\u001b[0m\u001b[0;34m\u001b[0m\u001b[0m\n\u001b[0m\u001b[1;32m   2231\u001b[0m \u001b[0;34m\u001b[0m\u001b[0m\n\u001b[1;32m   2232\u001b[0m     \u001b[0;32mdef\u001b[0m \u001b[0m_get_label\u001b[0m\u001b[0;34m(\u001b[0m\u001b[0mself\u001b[0m\u001b[0;34m)\u001b[0m\u001b[0;34m:\u001b[0m\u001b[0;34m\u001b[0m\u001b[0;34m\u001b[0m\u001b[0m\n",
            "\u001b[0;32m/usr/local/lib/python3.7/dist-packages/matplotlib/axis.py\u001b[0m in \u001b[0;36m__init__\u001b[0;34m(self, axes, loc, label, size, width, color, tickdir, pad, labelsize, labelcolor, zorder, gridOn, tick1On, tick2On, label1On, label2On, major, labelrotation, grid_color, grid_linestyle, grid_linewidth, grid_alpha, **kw)\u001b[0m\n\u001b[1;32m    157\u001b[0m         \u001b[0mself\u001b[0m\u001b[0;34m.\u001b[0m\u001b[0mtick1line\u001b[0m \u001b[0;34m=\u001b[0m \u001b[0mself\u001b[0m\u001b[0;34m.\u001b[0m\u001b[0m_get_tick1line\u001b[0m\u001b[0;34m(\u001b[0m\u001b[0;34m)\u001b[0m\u001b[0;34m\u001b[0m\u001b[0;34m\u001b[0m\u001b[0m\n\u001b[1;32m    158\u001b[0m         \u001b[0mself\u001b[0m\u001b[0;34m.\u001b[0m\u001b[0mtick2line\u001b[0m \u001b[0;34m=\u001b[0m \u001b[0mself\u001b[0m\u001b[0;34m.\u001b[0m\u001b[0m_get_tick2line\u001b[0m\u001b[0;34m(\u001b[0m\u001b[0;34m)\u001b[0m\u001b[0;34m\u001b[0m\u001b[0;34m\u001b[0m\u001b[0m\n\u001b[0;32m--> 159\u001b[0;31m         \u001b[0mself\u001b[0m\u001b[0;34m.\u001b[0m\u001b[0mgridline\u001b[0m \u001b[0;34m=\u001b[0m \u001b[0mself\u001b[0m\u001b[0;34m.\u001b[0m\u001b[0m_get_gridline\u001b[0m\u001b[0;34m(\u001b[0m\u001b[0;34m)\u001b[0m\u001b[0;34m\u001b[0m\u001b[0;34m\u001b[0m\u001b[0m\n\u001b[0m\u001b[1;32m    160\u001b[0m         \u001b[0mself\u001b[0m\u001b[0;34m.\u001b[0m\u001b[0mlabel1\u001b[0m \u001b[0;34m=\u001b[0m \u001b[0mself\u001b[0m\u001b[0;34m.\u001b[0m\u001b[0m_get_text1\u001b[0m\u001b[0;34m(\u001b[0m\u001b[0;34m)\u001b[0m\u001b[0;34m\u001b[0m\u001b[0;34m\u001b[0m\u001b[0m\n\u001b[1;32m    161\u001b[0m         \u001b[0mself\u001b[0m\u001b[0;34m.\u001b[0m\u001b[0mlabel2\u001b[0m \u001b[0;34m=\u001b[0m \u001b[0mself\u001b[0m\u001b[0;34m.\u001b[0m\u001b[0m_get_text2\u001b[0m\u001b[0;34m(\u001b[0m\u001b[0;34m)\u001b[0m\u001b[0;34m\u001b[0m\u001b[0;34m\u001b[0m\u001b[0m\n",
            "\u001b[0;32m/usr/local/lib/python3.7/dist-packages/matplotlib/axis.py\u001b[0m in \u001b[0;36m_get_gridline\u001b[0;34m(self)\u001b[0m\n\u001b[1;32m    610\u001b[0m                           \u001b[0malpha\u001b[0m\u001b[0;34m=\u001b[0m\u001b[0mself\u001b[0m\u001b[0;34m.\u001b[0m\u001b[0m_grid_alpha\u001b[0m\u001b[0;34m,\u001b[0m\u001b[0;34m\u001b[0m\u001b[0;34m\u001b[0m\u001b[0m\n\u001b[1;32m    611\u001b[0m                           \u001b[0mmarkersize\u001b[0m\u001b[0;34m=\u001b[0m\u001b[0;36m0\u001b[0m\u001b[0;34m,\u001b[0m\u001b[0;34m\u001b[0m\u001b[0;34m\u001b[0m\u001b[0m\n\u001b[0;32m--> 612\u001b[0;31m                           **self._grid_kw)\n\u001b[0m\u001b[1;32m    613\u001b[0m         \u001b[0ml\u001b[0m\u001b[0;34m.\u001b[0m\u001b[0mset_transform\u001b[0m\u001b[0;34m(\u001b[0m\u001b[0mself\u001b[0m\u001b[0;34m.\u001b[0m\u001b[0maxes\u001b[0m\u001b[0;34m.\u001b[0m\u001b[0mget_yaxis_transform\u001b[0m\u001b[0;34m(\u001b[0m\u001b[0mwhich\u001b[0m\u001b[0;34m=\u001b[0m\u001b[0;34m'grid'\u001b[0m\u001b[0;34m)\u001b[0m\u001b[0;34m)\u001b[0m\u001b[0;34m\u001b[0m\u001b[0;34m\u001b[0m\u001b[0m\n\u001b[1;32m    614\u001b[0m         \u001b[0ml\u001b[0m\u001b[0;34m.\u001b[0m\u001b[0mget_path\u001b[0m\u001b[0;34m(\u001b[0m\u001b[0;34m)\u001b[0m\u001b[0;34m.\u001b[0m\u001b[0m_interpolation_steps\u001b[0m \u001b[0;34m=\u001b[0m \u001b[0mGRIDLINE_INTERPOLATION_STEPS\u001b[0m\u001b[0;34m\u001b[0m\u001b[0;34m\u001b[0m\u001b[0m\n",
            "\u001b[0;32m/usr/local/lib/python3.7/dist-packages/matplotlib/lines.py\u001b[0m in \u001b[0;36m__init__\u001b[0;34m(self, xdata, ydata, linewidth, linestyle, color, marker, markersize, markeredgewidth, markeredgecolor, markerfacecolor, markerfacecoloralt, fillstyle, antialiased, dash_capstyle, solid_capstyle, dash_joinstyle, solid_joinstyle, pickradius, drawstyle, markevery, **kwargs)\u001b[0m\n\u001b[1;32m    353\u001b[0m         \u001b[0mself\u001b[0m\u001b[0;34m.\u001b[0m\u001b[0m_solidjoinstyle\u001b[0m \u001b[0;34m=\u001b[0m \u001b[0;32mNone\u001b[0m\u001b[0;34m\u001b[0m\u001b[0;34m\u001b[0m\u001b[0m\n\u001b[1;32m    354\u001b[0m         \u001b[0mself\u001b[0m\u001b[0;34m.\u001b[0m\u001b[0m_solidcapstyle\u001b[0m \u001b[0;34m=\u001b[0m \u001b[0;32mNone\u001b[0m\u001b[0;34m\u001b[0m\u001b[0;34m\u001b[0m\u001b[0m\n\u001b[0;32m--> 355\u001b[0;31m         \u001b[0mself\u001b[0m\u001b[0;34m.\u001b[0m\u001b[0mset_dash_capstyle\u001b[0m\u001b[0;34m(\u001b[0m\u001b[0mdash_capstyle\u001b[0m\u001b[0;34m)\u001b[0m\u001b[0;34m\u001b[0m\u001b[0;34m\u001b[0m\u001b[0m\n\u001b[0m\u001b[1;32m    356\u001b[0m         \u001b[0mself\u001b[0m\u001b[0;34m.\u001b[0m\u001b[0mset_dash_joinstyle\u001b[0m\u001b[0;34m(\u001b[0m\u001b[0mdash_joinstyle\u001b[0m\u001b[0;34m)\u001b[0m\u001b[0;34m\u001b[0m\u001b[0;34m\u001b[0m\u001b[0m\n\u001b[1;32m    357\u001b[0m         \u001b[0mself\u001b[0m\u001b[0;34m.\u001b[0m\u001b[0mset_solid_capstyle\u001b[0m\u001b[0;34m(\u001b[0m\u001b[0msolid_capstyle\u001b[0m\u001b[0;34m)\u001b[0m\u001b[0;34m\u001b[0m\u001b[0;34m\u001b[0m\u001b[0m\n",
            "\u001b[0;32m/usr/local/lib/python3.7/dist-packages/matplotlib/lines.py\u001b[0m in \u001b[0;36mset_dash_capstyle\u001b[0;34m(self, s)\u001b[0m\n\u001b[1;32m   1411\u001b[0m         \u001b[0mcbook\u001b[0m\u001b[0;34m.\u001b[0m\u001b[0m_check_in_list\u001b[0m\u001b[0;34m(\u001b[0m\u001b[0mself\u001b[0m\u001b[0;34m.\u001b[0m\u001b[0mvalidCap\u001b[0m\u001b[0;34m,\u001b[0m \u001b[0ms\u001b[0m\u001b[0;34m=\u001b[0m\u001b[0ms\u001b[0m\u001b[0;34m)\u001b[0m\u001b[0;34m\u001b[0m\u001b[0;34m\u001b[0m\u001b[0m\n\u001b[1;32m   1412\u001b[0m         \u001b[0;32mif\u001b[0m \u001b[0mself\u001b[0m\u001b[0;34m.\u001b[0m\u001b[0m_dashcapstyle\u001b[0m \u001b[0;34m!=\u001b[0m \u001b[0ms\u001b[0m\u001b[0;34m:\u001b[0m\u001b[0;34m\u001b[0m\u001b[0;34m\u001b[0m\u001b[0m\n\u001b[0;32m-> 1413\u001b[0;31m             \u001b[0mself\u001b[0m\u001b[0;34m.\u001b[0m\u001b[0mstale\u001b[0m \u001b[0;34m=\u001b[0m \u001b[0;32mTrue\u001b[0m\u001b[0;34m\u001b[0m\u001b[0;34m\u001b[0m\u001b[0m\n\u001b[0m\u001b[1;32m   1414\u001b[0m         \u001b[0mself\u001b[0m\u001b[0;34m.\u001b[0m\u001b[0m_dashcapstyle\u001b[0m \u001b[0;34m=\u001b[0m \u001b[0ms\u001b[0m\u001b[0;34m\u001b[0m\u001b[0;34m\u001b[0m\u001b[0m\n\u001b[1;32m   1415\u001b[0m \u001b[0;34m\u001b[0m\u001b[0m\n",
            "\u001b[0;32m/usr/local/lib/python3.7/dist-packages/matplotlib/artist.py\u001b[0m in \u001b[0;36mstale\u001b[0;34m(self, val)\u001b[0m\n\u001b[1;32m    222\u001b[0m         \u001b[0;31m# draw stack and is not expected to be drawn as part of the normal\u001b[0m\u001b[0;34m\u001b[0m\u001b[0;34m\u001b[0m\u001b[0;34m\u001b[0m\u001b[0m\n\u001b[1;32m    223\u001b[0m         \u001b[0;31m# draw loop (when not saving) so do not propagate this change\u001b[0m\u001b[0;34m\u001b[0m\u001b[0;34m\u001b[0m\u001b[0;34m\u001b[0m\u001b[0m\n\u001b[0;32m--> 224\u001b[0;31m         \u001b[0;32mif\u001b[0m \u001b[0mself\u001b[0m\u001b[0;34m.\u001b[0m\u001b[0mget_animated\u001b[0m\u001b[0;34m(\u001b[0m\u001b[0;34m)\u001b[0m\u001b[0;34m:\u001b[0m\u001b[0;34m\u001b[0m\u001b[0;34m\u001b[0m\u001b[0m\n\u001b[0m\u001b[1;32m    225\u001b[0m             \u001b[0;32mreturn\u001b[0m\u001b[0;34m\u001b[0m\u001b[0;34m\u001b[0m\u001b[0m\n\u001b[1;32m    226\u001b[0m \u001b[0;34m\u001b[0m\u001b[0m\n",
            "\u001b[0;31mKeyboardInterrupt\u001b[0m: "
          ]
        },
        {
          "output_type": "stream",
          "text": [
            "Error in callback <function flush_figures at 0x7f199da0fdd0> (for post_execute):\n"
          ],
          "name": "stdout"
        },
        {
          "output_type": "error",
          "ename": "KeyboardInterrupt",
          "evalue": "ignored",
          "traceback": [
            "\u001b[0;31m---------------------------------------------------------------------------\u001b[0m",
            "\u001b[0;31mKeyboardInterrupt\u001b[0m                         Traceback (most recent call last)",
            "\u001b[0;32m/usr/local/lib/python3.7/dist-packages/ipykernel/pylab/backend_inline.py\u001b[0m in \u001b[0;36mflush_figures\u001b[0;34m()\u001b[0m\n\u001b[1;32m    115\u001b[0m         \u001b[0;31m# ignore the tracking, just draw and close all figures\u001b[0m\u001b[0;34m\u001b[0m\u001b[0;34m\u001b[0m\u001b[0;34m\u001b[0m\u001b[0m\n\u001b[1;32m    116\u001b[0m         \u001b[0;32mtry\u001b[0m\u001b[0;34m:\u001b[0m\u001b[0;34m\u001b[0m\u001b[0;34m\u001b[0m\u001b[0m\n\u001b[0;32m--> 117\u001b[0;31m             \u001b[0;32mreturn\u001b[0m \u001b[0mshow\u001b[0m\u001b[0;34m(\u001b[0m\u001b[0;32mTrue\u001b[0m\u001b[0;34m)\u001b[0m\u001b[0;34m\u001b[0m\u001b[0;34m\u001b[0m\u001b[0m\n\u001b[0m\u001b[1;32m    118\u001b[0m         \u001b[0;32mexcept\u001b[0m \u001b[0mException\u001b[0m \u001b[0;32mas\u001b[0m \u001b[0me\u001b[0m\u001b[0;34m:\u001b[0m\u001b[0;34m\u001b[0m\u001b[0;34m\u001b[0m\u001b[0m\n\u001b[1;32m    119\u001b[0m             \u001b[0;31m# safely show traceback if in IPython, else raise\u001b[0m\u001b[0;34m\u001b[0m\u001b[0;34m\u001b[0m\u001b[0;34m\u001b[0m\u001b[0m\n",
            "\u001b[0;32m/usr/local/lib/python3.7/dist-packages/ipykernel/pylab/backend_inline.py\u001b[0m in \u001b[0;36mshow\u001b[0;34m(close, block)\u001b[0m\n\u001b[1;32m     37\u001b[0m             display(\n\u001b[1;32m     38\u001b[0m                 \u001b[0mfigure_manager\u001b[0m\u001b[0;34m.\u001b[0m\u001b[0mcanvas\u001b[0m\u001b[0;34m.\u001b[0m\u001b[0mfigure\u001b[0m\u001b[0;34m,\u001b[0m\u001b[0;34m\u001b[0m\u001b[0;34m\u001b[0m\u001b[0m\n\u001b[0;32m---> 39\u001b[0;31m                 \u001b[0mmetadata\u001b[0m\u001b[0;34m=\u001b[0m\u001b[0m_fetch_figure_metadata\u001b[0m\u001b[0;34m(\u001b[0m\u001b[0mfigure_manager\u001b[0m\u001b[0;34m.\u001b[0m\u001b[0mcanvas\u001b[0m\u001b[0;34m.\u001b[0m\u001b[0mfigure\u001b[0m\u001b[0;34m)\u001b[0m\u001b[0;34m\u001b[0m\u001b[0;34m\u001b[0m\u001b[0m\n\u001b[0m\u001b[1;32m     40\u001b[0m             )\n\u001b[1;32m     41\u001b[0m     \u001b[0;32mfinally\u001b[0m\u001b[0;34m:\u001b[0m\u001b[0;34m\u001b[0m\u001b[0;34m\u001b[0m\u001b[0m\n",
            "\u001b[0;32m/usr/local/lib/python3.7/dist-packages/IPython/core/display.py\u001b[0m in \u001b[0;36mdisplay\u001b[0;34m(*objs, **kwargs)\u001b[0m\n\u001b[1;32m    304\u001b[0m             \u001b[0mpublish_display_data\u001b[0m\u001b[0;34m(\u001b[0m\u001b[0mdata\u001b[0m\u001b[0;34m=\u001b[0m\u001b[0mobj\u001b[0m\u001b[0;34m,\u001b[0m \u001b[0mmetadata\u001b[0m\u001b[0;34m=\u001b[0m\u001b[0mmetadata\u001b[0m\u001b[0;34m,\u001b[0m \u001b[0;34m**\u001b[0m\u001b[0mkwargs\u001b[0m\u001b[0;34m)\u001b[0m\u001b[0;34m\u001b[0m\u001b[0;34m\u001b[0m\u001b[0m\n\u001b[1;32m    305\u001b[0m         \u001b[0;32melse\u001b[0m\u001b[0;34m:\u001b[0m\u001b[0;34m\u001b[0m\u001b[0;34m\u001b[0m\u001b[0m\n\u001b[0;32m--> 306\u001b[0;31m             \u001b[0mformat_dict\u001b[0m\u001b[0;34m,\u001b[0m \u001b[0mmd_dict\u001b[0m \u001b[0;34m=\u001b[0m \u001b[0mformat\u001b[0m\u001b[0;34m(\u001b[0m\u001b[0mobj\u001b[0m\u001b[0;34m,\u001b[0m \u001b[0minclude\u001b[0m\u001b[0;34m=\u001b[0m\u001b[0minclude\u001b[0m\u001b[0;34m,\u001b[0m \u001b[0mexclude\u001b[0m\u001b[0;34m=\u001b[0m\u001b[0mexclude\u001b[0m\u001b[0;34m)\u001b[0m\u001b[0;34m\u001b[0m\u001b[0;34m\u001b[0m\u001b[0m\n\u001b[0m\u001b[1;32m    307\u001b[0m             \u001b[0;32mif\u001b[0m \u001b[0;32mnot\u001b[0m \u001b[0mformat_dict\u001b[0m\u001b[0;34m:\u001b[0m\u001b[0;34m\u001b[0m\u001b[0;34m\u001b[0m\u001b[0m\n\u001b[1;32m    308\u001b[0m                 \u001b[0;31m# nothing to display (e.g. _ipython_display_ took over)\u001b[0m\u001b[0;34m\u001b[0m\u001b[0;34m\u001b[0m\u001b[0;34m\u001b[0m\u001b[0m\n",
            "\u001b[0;32m/usr/local/lib/python3.7/dist-packages/IPython/core/formatters.py\u001b[0m in \u001b[0;36mformat\u001b[0;34m(self, obj, include, exclude)\u001b[0m\n\u001b[1;32m    171\u001b[0m             \u001b[0mmd\u001b[0m \u001b[0;34m=\u001b[0m \u001b[0;32mNone\u001b[0m\u001b[0;34m\u001b[0m\u001b[0;34m\u001b[0m\u001b[0m\n\u001b[1;32m    172\u001b[0m             \u001b[0;32mtry\u001b[0m\u001b[0;34m:\u001b[0m\u001b[0;34m\u001b[0m\u001b[0;34m\u001b[0m\u001b[0m\n\u001b[0;32m--> 173\u001b[0;31m                 \u001b[0mdata\u001b[0m \u001b[0;34m=\u001b[0m \u001b[0mformatter\u001b[0m\u001b[0;34m(\u001b[0m\u001b[0mobj\u001b[0m\u001b[0;34m)\u001b[0m\u001b[0;34m\u001b[0m\u001b[0;34m\u001b[0m\u001b[0m\n\u001b[0m\u001b[1;32m    174\u001b[0m             \u001b[0;32mexcept\u001b[0m\u001b[0;34m:\u001b[0m\u001b[0;34m\u001b[0m\u001b[0;34m\u001b[0m\u001b[0m\n\u001b[1;32m    175\u001b[0m                 \u001b[0;31m# FIXME: log the exception\u001b[0m\u001b[0;34m\u001b[0m\u001b[0;34m\u001b[0m\u001b[0;34m\u001b[0m\u001b[0m\n",
            "\u001b[0;32m<decorator-gen-2>\u001b[0m in \u001b[0;36m__call__\u001b[0;34m(self, obj)\u001b[0m\n",
            "\u001b[0;32m/usr/local/lib/python3.7/dist-packages/IPython/core/formatters.py\u001b[0m in \u001b[0;36mcatch_format_error\u001b[0;34m(method, self, *args, **kwargs)\u001b[0m\n\u001b[1;32m    215\u001b[0m     \u001b[0;34m\"\"\"show traceback on failed format call\"\"\"\u001b[0m\u001b[0;34m\u001b[0m\u001b[0;34m\u001b[0m\u001b[0m\n\u001b[1;32m    216\u001b[0m     \u001b[0;32mtry\u001b[0m\u001b[0;34m:\u001b[0m\u001b[0;34m\u001b[0m\u001b[0;34m\u001b[0m\u001b[0m\n\u001b[0;32m--> 217\u001b[0;31m         \u001b[0mr\u001b[0m \u001b[0;34m=\u001b[0m \u001b[0mmethod\u001b[0m\u001b[0;34m(\u001b[0m\u001b[0mself\u001b[0m\u001b[0;34m,\u001b[0m \u001b[0;34m*\u001b[0m\u001b[0margs\u001b[0m\u001b[0;34m,\u001b[0m \u001b[0;34m**\u001b[0m\u001b[0mkwargs\u001b[0m\u001b[0;34m)\u001b[0m\u001b[0;34m\u001b[0m\u001b[0;34m\u001b[0m\u001b[0m\n\u001b[0m\u001b[1;32m    218\u001b[0m     \u001b[0;32mexcept\u001b[0m \u001b[0mNotImplementedError\u001b[0m\u001b[0;34m:\u001b[0m\u001b[0;34m\u001b[0m\u001b[0;34m\u001b[0m\u001b[0m\n\u001b[1;32m    219\u001b[0m         \u001b[0;31m# don't warn on NotImplementedErrors\u001b[0m\u001b[0;34m\u001b[0m\u001b[0;34m\u001b[0m\u001b[0;34m\u001b[0m\u001b[0m\n",
            "\u001b[0;32m/usr/local/lib/python3.7/dist-packages/IPython/core/formatters.py\u001b[0m in \u001b[0;36m__call__\u001b[0;34m(self, obj)\u001b[0m\n\u001b[1;32m    332\u001b[0m                 \u001b[0;32mpass\u001b[0m\u001b[0;34m\u001b[0m\u001b[0;34m\u001b[0m\u001b[0m\n\u001b[1;32m    333\u001b[0m             \u001b[0;32melse\u001b[0m\u001b[0;34m:\u001b[0m\u001b[0;34m\u001b[0m\u001b[0;34m\u001b[0m\u001b[0m\n\u001b[0;32m--> 334\u001b[0;31m                 \u001b[0;32mreturn\u001b[0m \u001b[0mprinter\u001b[0m\u001b[0;34m(\u001b[0m\u001b[0mobj\u001b[0m\u001b[0;34m)\u001b[0m\u001b[0;34m\u001b[0m\u001b[0;34m\u001b[0m\u001b[0m\n\u001b[0m\u001b[1;32m    335\u001b[0m             \u001b[0;31m# Finally look for special method names\u001b[0m\u001b[0;34m\u001b[0m\u001b[0;34m\u001b[0m\u001b[0;34m\u001b[0m\u001b[0m\n\u001b[1;32m    336\u001b[0m             \u001b[0mmethod\u001b[0m \u001b[0;34m=\u001b[0m \u001b[0mget_real_method\u001b[0m\u001b[0;34m(\u001b[0m\u001b[0mobj\u001b[0m\u001b[0;34m,\u001b[0m \u001b[0mself\u001b[0m\u001b[0;34m.\u001b[0m\u001b[0mprint_method\u001b[0m\u001b[0;34m)\u001b[0m\u001b[0;34m\u001b[0m\u001b[0;34m\u001b[0m\u001b[0m\n",
            "\u001b[0;32m/usr/local/lib/python3.7/dist-packages/IPython/core/pylabtools.py\u001b[0m in \u001b[0;36m<lambda>\u001b[0;34m(fig)\u001b[0m\n\u001b[1;32m    239\u001b[0m \u001b[0;34m\u001b[0m\u001b[0m\n\u001b[1;32m    240\u001b[0m     \u001b[0;32mif\u001b[0m \u001b[0;34m'png'\u001b[0m \u001b[0;32min\u001b[0m \u001b[0mformats\u001b[0m\u001b[0;34m:\u001b[0m\u001b[0;34m\u001b[0m\u001b[0;34m\u001b[0m\u001b[0m\n\u001b[0;32m--> 241\u001b[0;31m         \u001b[0mpng_formatter\u001b[0m\u001b[0;34m.\u001b[0m\u001b[0mfor_type\u001b[0m\u001b[0;34m(\u001b[0m\u001b[0mFigure\u001b[0m\u001b[0;34m,\u001b[0m \u001b[0;32mlambda\u001b[0m \u001b[0mfig\u001b[0m\u001b[0;34m:\u001b[0m \u001b[0mprint_figure\u001b[0m\u001b[0;34m(\u001b[0m\u001b[0mfig\u001b[0m\u001b[0;34m,\u001b[0m \u001b[0;34m'png'\u001b[0m\u001b[0;34m,\u001b[0m \u001b[0;34m**\u001b[0m\u001b[0mkwargs\u001b[0m\u001b[0;34m)\u001b[0m\u001b[0;34m)\u001b[0m\u001b[0;34m\u001b[0m\u001b[0;34m\u001b[0m\u001b[0m\n\u001b[0m\u001b[1;32m    242\u001b[0m     \u001b[0;32mif\u001b[0m \u001b[0;34m'retina'\u001b[0m \u001b[0;32min\u001b[0m \u001b[0mformats\u001b[0m \u001b[0;32mor\u001b[0m \u001b[0;34m'png2x'\u001b[0m \u001b[0;32min\u001b[0m \u001b[0mformats\u001b[0m\u001b[0;34m:\u001b[0m\u001b[0;34m\u001b[0m\u001b[0;34m\u001b[0m\u001b[0m\n\u001b[1;32m    243\u001b[0m         \u001b[0mpng_formatter\u001b[0m\u001b[0;34m.\u001b[0m\u001b[0mfor_type\u001b[0m\u001b[0;34m(\u001b[0m\u001b[0mFigure\u001b[0m\u001b[0;34m,\u001b[0m \u001b[0;32mlambda\u001b[0m \u001b[0mfig\u001b[0m\u001b[0;34m:\u001b[0m \u001b[0mretina_figure\u001b[0m\u001b[0;34m(\u001b[0m\u001b[0mfig\u001b[0m\u001b[0;34m,\u001b[0m \u001b[0;34m**\u001b[0m\u001b[0mkwargs\u001b[0m\u001b[0;34m)\u001b[0m\u001b[0;34m)\u001b[0m\u001b[0;34m\u001b[0m\u001b[0;34m\u001b[0m\u001b[0m\n",
            "\u001b[0;32m/usr/local/lib/python3.7/dist-packages/IPython/core/pylabtools.py\u001b[0m in \u001b[0;36mprint_figure\u001b[0;34m(fig, fmt, bbox_inches, **kwargs)\u001b[0m\n\u001b[1;32m    123\u001b[0m \u001b[0;34m\u001b[0m\u001b[0m\n\u001b[1;32m    124\u001b[0m     \u001b[0mbytes_io\u001b[0m \u001b[0;34m=\u001b[0m \u001b[0mBytesIO\u001b[0m\u001b[0;34m(\u001b[0m\u001b[0;34m)\u001b[0m\u001b[0;34m\u001b[0m\u001b[0;34m\u001b[0m\u001b[0m\n\u001b[0;32m--> 125\u001b[0;31m     \u001b[0mfig\u001b[0m\u001b[0;34m.\u001b[0m\u001b[0mcanvas\u001b[0m\u001b[0;34m.\u001b[0m\u001b[0mprint_figure\u001b[0m\u001b[0;34m(\u001b[0m\u001b[0mbytes_io\u001b[0m\u001b[0;34m,\u001b[0m \u001b[0;34m**\u001b[0m\u001b[0mkw\u001b[0m\u001b[0;34m)\u001b[0m\u001b[0;34m\u001b[0m\u001b[0;34m\u001b[0m\u001b[0m\n\u001b[0m\u001b[1;32m    126\u001b[0m     \u001b[0mdata\u001b[0m \u001b[0;34m=\u001b[0m \u001b[0mbytes_io\u001b[0m\u001b[0;34m.\u001b[0m\u001b[0mgetvalue\u001b[0m\u001b[0;34m(\u001b[0m\u001b[0;34m)\u001b[0m\u001b[0;34m\u001b[0m\u001b[0;34m\u001b[0m\u001b[0m\n\u001b[1;32m    127\u001b[0m     \u001b[0;32mif\u001b[0m \u001b[0mfmt\u001b[0m \u001b[0;34m==\u001b[0m \u001b[0;34m'svg'\u001b[0m\u001b[0;34m:\u001b[0m\u001b[0;34m\u001b[0m\u001b[0;34m\u001b[0m\u001b[0m\n",
            "\u001b[0;32m/usr/local/lib/python3.7/dist-packages/matplotlib/backend_bases.py\u001b[0m in \u001b[0;36mprint_figure\u001b[0;34m(self, filename, dpi, facecolor, edgecolor, orientation, format, bbox_inches, **kwargs)\u001b[0m\n\u001b[1;32m   2098\u001b[0m                            else suppress())\n\u001b[1;32m   2099\u001b[0m                     \u001b[0;32mwith\u001b[0m \u001b[0mctx\u001b[0m\u001b[0;34m:\u001b[0m\u001b[0;34m\u001b[0m\u001b[0;34m\u001b[0m\u001b[0m\n\u001b[0;32m-> 2100\u001b[0;31m                         \u001b[0mself\u001b[0m\u001b[0;34m.\u001b[0m\u001b[0mfigure\u001b[0m\u001b[0;34m.\u001b[0m\u001b[0mdraw\u001b[0m\u001b[0;34m(\u001b[0m\u001b[0mrenderer\u001b[0m\u001b[0;34m)\u001b[0m\u001b[0;34m\u001b[0m\u001b[0;34m\u001b[0m\u001b[0m\n\u001b[0m\u001b[1;32m   2101\u001b[0m                     \u001b[0mbbox_artists\u001b[0m \u001b[0;34m=\u001b[0m \u001b[0mkwargs\u001b[0m\u001b[0;34m.\u001b[0m\u001b[0mpop\u001b[0m\u001b[0;34m(\u001b[0m\u001b[0;34m\"bbox_extra_artists\"\u001b[0m\u001b[0;34m,\u001b[0m \u001b[0;32mNone\u001b[0m\u001b[0;34m)\u001b[0m\u001b[0;34m\u001b[0m\u001b[0;34m\u001b[0m\u001b[0m\n\u001b[1;32m   2102\u001b[0m                     bbox_inches = self.figure.get_tightbbox(renderer,\n",
            "\u001b[0;32m/usr/local/lib/python3.7/dist-packages/matplotlib/artist.py\u001b[0m in \u001b[0;36mdraw_wrapper\u001b[0;34m(artist, renderer, *args, **kwargs)\u001b[0m\n\u001b[1;32m     36\u001b[0m                 \u001b[0mrenderer\u001b[0m\u001b[0;34m.\u001b[0m\u001b[0mstart_filter\u001b[0m\u001b[0;34m(\u001b[0m\u001b[0;34m)\u001b[0m\u001b[0;34m\u001b[0m\u001b[0;34m\u001b[0m\u001b[0m\n\u001b[1;32m     37\u001b[0m \u001b[0;34m\u001b[0m\u001b[0m\n\u001b[0;32m---> 38\u001b[0;31m             \u001b[0;32mreturn\u001b[0m \u001b[0mdraw\u001b[0m\u001b[0;34m(\u001b[0m\u001b[0martist\u001b[0m\u001b[0;34m,\u001b[0m \u001b[0mrenderer\u001b[0m\u001b[0;34m,\u001b[0m \u001b[0;34m*\u001b[0m\u001b[0margs\u001b[0m\u001b[0;34m,\u001b[0m \u001b[0;34m**\u001b[0m\u001b[0mkwargs\u001b[0m\u001b[0;34m)\u001b[0m\u001b[0;34m\u001b[0m\u001b[0;34m\u001b[0m\u001b[0m\n\u001b[0m\u001b[1;32m     39\u001b[0m         \u001b[0;32mfinally\u001b[0m\u001b[0;34m:\u001b[0m\u001b[0;34m\u001b[0m\u001b[0;34m\u001b[0m\u001b[0m\n\u001b[1;32m     40\u001b[0m             \u001b[0;32mif\u001b[0m \u001b[0martist\u001b[0m\u001b[0;34m.\u001b[0m\u001b[0mget_agg_filter\u001b[0m\u001b[0;34m(\u001b[0m\u001b[0;34m)\u001b[0m \u001b[0;32mis\u001b[0m \u001b[0;32mnot\u001b[0m \u001b[0;32mNone\u001b[0m\u001b[0;34m:\u001b[0m\u001b[0;34m\u001b[0m\u001b[0;34m\u001b[0m\u001b[0m\n",
            "\u001b[0;32m/usr/local/lib/python3.7/dist-packages/matplotlib/figure.py\u001b[0m in \u001b[0;36mdraw\u001b[0;34m(self, renderer)\u001b[0m\n\u001b[1;32m   1734\u001b[0m             \u001b[0mself\u001b[0m\u001b[0;34m.\u001b[0m\u001b[0mpatch\u001b[0m\u001b[0;34m.\u001b[0m\u001b[0mdraw\u001b[0m\u001b[0;34m(\u001b[0m\u001b[0mrenderer\u001b[0m\u001b[0;34m)\u001b[0m\u001b[0;34m\u001b[0m\u001b[0;34m\u001b[0m\u001b[0m\n\u001b[1;32m   1735\u001b[0m             mimage._draw_list_compositing_images(\n\u001b[0;32m-> 1736\u001b[0;31m                 renderer, self, artists, self.suppressComposite)\n\u001b[0m\u001b[1;32m   1737\u001b[0m \u001b[0;34m\u001b[0m\u001b[0m\n\u001b[1;32m   1738\u001b[0m             \u001b[0mrenderer\u001b[0m\u001b[0;34m.\u001b[0m\u001b[0mclose_group\u001b[0m\u001b[0;34m(\u001b[0m\u001b[0;34m'figure'\u001b[0m\u001b[0;34m)\u001b[0m\u001b[0;34m\u001b[0m\u001b[0;34m\u001b[0m\u001b[0m\n",
            "\u001b[0;32m/usr/local/lib/python3.7/dist-packages/matplotlib/image.py\u001b[0m in \u001b[0;36m_draw_list_compositing_images\u001b[0;34m(renderer, parent, artists, suppress_composite)\u001b[0m\n\u001b[1;32m    135\u001b[0m     \u001b[0;32mif\u001b[0m \u001b[0mnot_composite\u001b[0m \u001b[0;32mor\u001b[0m \u001b[0;32mnot\u001b[0m \u001b[0mhas_images\u001b[0m\u001b[0;34m:\u001b[0m\u001b[0;34m\u001b[0m\u001b[0;34m\u001b[0m\u001b[0m\n\u001b[1;32m    136\u001b[0m         \u001b[0;32mfor\u001b[0m \u001b[0ma\u001b[0m \u001b[0;32min\u001b[0m \u001b[0martists\u001b[0m\u001b[0;34m:\u001b[0m\u001b[0;34m\u001b[0m\u001b[0;34m\u001b[0m\u001b[0m\n\u001b[0;32m--> 137\u001b[0;31m             \u001b[0ma\u001b[0m\u001b[0;34m.\u001b[0m\u001b[0mdraw\u001b[0m\u001b[0;34m(\u001b[0m\u001b[0mrenderer\u001b[0m\u001b[0;34m)\u001b[0m\u001b[0;34m\u001b[0m\u001b[0;34m\u001b[0m\u001b[0m\n\u001b[0m\u001b[1;32m    138\u001b[0m     \u001b[0;32melse\u001b[0m\u001b[0;34m:\u001b[0m\u001b[0;34m\u001b[0m\u001b[0;34m\u001b[0m\u001b[0m\n\u001b[1;32m    139\u001b[0m         \u001b[0;31m# Composite any adjacent images together\u001b[0m\u001b[0;34m\u001b[0m\u001b[0;34m\u001b[0m\u001b[0;34m\u001b[0m\u001b[0m\n",
            "\u001b[0;32m/usr/local/lib/python3.7/dist-packages/matplotlib/artist.py\u001b[0m in \u001b[0;36mdraw_wrapper\u001b[0;34m(artist, renderer, *args, **kwargs)\u001b[0m\n\u001b[1;32m     36\u001b[0m                 \u001b[0mrenderer\u001b[0m\u001b[0;34m.\u001b[0m\u001b[0mstart_filter\u001b[0m\u001b[0;34m(\u001b[0m\u001b[0;34m)\u001b[0m\u001b[0;34m\u001b[0m\u001b[0;34m\u001b[0m\u001b[0m\n\u001b[1;32m     37\u001b[0m \u001b[0;34m\u001b[0m\u001b[0m\n\u001b[0;32m---> 38\u001b[0;31m             \u001b[0;32mreturn\u001b[0m \u001b[0mdraw\u001b[0m\u001b[0;34m(\u001b[0m\u001b[0martist\u001b[0m\u001b[0;34m,\u001b[0m \u001b[0mrenderer\u001b[0m\u001b[0;34m,\u001b[0m \u001b[0;34m*\u001b[0m\u001b[0margs\u001b[0m\u001b[0;34m,\u001b[0m \u001b[0;34m**\u001b[0m\u001b[0mkwargs\u001b[0m\u001b[0;34m)\u001b[0m\u001b[0;34m\u001b[0m\u001b[0;34m\u001b[0m\u001b[0m\n\u001b[0m\u001b[1;32m     39\u001b[0m         \u001b[0;32mfinally\u001b[0m\u001b[0;34m:\u001b[0m\u001b[0;34m\u001b[0m\u001b[0;34m\u001b[0m\u001b[0m\n\u001b[1;32m     40\u001b[0m             \u001b[0;32mif\u001b[0m \u001b[0martist\u001b[0m\u001b[0;34m.\u001b[0m\u001b[0mget_agg_filter\u001b[0m\u001b[0;34m(\u001b[0m\u001b[0;34m)\u001b[0m \u001b[0;32mis\u001b[0m \u001b[0;32mnot\u001b[0m \u001b[0;32mNone\u001b[0m\u001b[0;34m:\u001b[0m\u001b[0;34m\u001b[0m\u001b[0;34m\u001b[0m\u001b[0m\n",
            "\u001b[0;32m/usr/local/lib/python3.7/dist-packages/matplotlib/axes/_base.py\u001b[0m in \u001b[0;36mdraw\u001b[0;34m(self, renderer, inframe)\u001b[0m\n\u001b[1;32m   2628\u001b[0m             \u001b[0mrenderer\u001b[0m\u001b[0;34m.\u001b[0m\u001b[0mstop_rasterizing\u001b[0m\u001b[0;34m(\u001b[0m\u001b[0;34m)\u001b[0m\u001b[0;34m\u001b[0m\u001b[0;34m\u001b[0m\u001b[0m\n\u001b[1;32m   2629\u001b[0m \u001b[0;34m\u001b[0m\u001b[0m\n\u001b[0;32m-> 2630\u001b[0;31m         \u001b[0mmimage\u001b[0m\u001b[0;34m.\u001b[0m\u001b[0m_draw_list_compositing_images\u001b[0m\u001b[0;34m(\u001b[0m\u001b[0mrenderer\u001b[0m\u001b[0;34m,\u001b[0m \u001b[0mself\u001b[0m\u001b[0;34m,\u001b[0m \u001b[0martists\u001b[0m\u001b[0;34m)\u001b[0m\u001b[0;34m\u001b[0m\u001b[0;34m\u001b[0m\u001b[0m\n\u001b[0m\u001b[1;32m   2631\u001b[0m \u001b[0;34m\u001b[0m\u001b[0m\n\u001b[1;32m   2632\u001b[0m         \u001b[0mrenderer\u001b[0m\u001b[0;34m.\u001b[0m\u001b[0mclose_group\u001b[0m\u001b[0;34m(\u001b[0m\u001b[0;34m'axes'\u001b[0m\u001b[0;34m)\u001b[0m\u001b[0;34m\u001b[0m\u001b[0;34m\u001b[0m\u001b[0m\n",
            "\u001b[0;32m/usr/local/lib/python3.7/dist-packages/matplotlib/image.py\u001b[0m in \u001b[0;36m_draw_list_compositing_images\u001b[0;34m(renderer, parent, artists, suppress_composite)\u001b[0m\n\u001b[1;32m    135\u001b[0m     \u001b[0;32mif\u001b[0m \u001b[0mnot_composite\u001b[0m \u001b[0;32mor\u001b[0m \u001b[0;32mnot\u001b[0m \u001b[0mhas_images\u001b[0m\u001b[0;34m:\u001b[0m\u001b[0;34m\u001b[0m\u001b[0;34m\u001b[0m\u001b[0m\n\u001b[1;32m    136\u001b[0m         \u001b[0;32mfor\u001b[0m \u001b[0ma\u001b[0m \u001b[0;32min\u001b[0m \u001b[0martists\u001b[0m\u001b[0;34m:\u001b[0m\u001b[0;34m\u001b[0m\u001b[0;34m\u001b[0m\u001b[0m\n\u001b[0;32m--> 137\u001b[0;31m             \u001b[0ma\u001b[0m\u001b[0;34m.\u001b[0m\u001b[0mdraw\u001b[0m\u001b[0;34m(\u001b[0m\u001b[0mrenderer\u001b[0m\u001b[0;34m)\u001b[0m\u001b[0;34m\u001b[0m\u001b[0;34m\u001b[0m\u001b[0m\n\u001b[0m\u001b[1;32m    138\u001b[0m     \u001b[0;32melse\u001b[0m\u001b[0;34m:\u001b[0m\u001b[0;34m\u001b[0m\u001b[0;34m\u001b[0m\u001b[0m\n\u001b[1;32m    139\u001b[0m         \u001b[0;31m# Composite any adjacent images together\u001b[0m\u001b[0;34m\u001b[0m\u001b[0;34m\u001b[0m\u001b[0;34m\u001b[0m\u001b[0m\n",
            "\u001b[0;32m/usr/local/lib/python3.7/dist-packages/matplotlib/artist.py\u001b[0m in \u001b[0;36mdraw_wrapper\u001b[0;34m(artist, renderer, *args, **kwargs)\u001b[0m\n\u001b[1;32m     36\u001b[0m                 \u001b[0mrenderer\u001b[0m\u001b[0;34m.\u001b[0m\u001b[0mstart_filter\u001b[0m\u001b[0;34m(\u001b[0m\u001b[0;34m)\u001b[0m\u001b[0;34m\u001b[0m\u001b[0;34m\u001b[0m\u001b[0m\n\u001b[1;32m     37\u001b[0m \u001b[0;34m\u001b[0m\u001b[0m\n\u001b[0;32m---> 38\u001b[0;31m             \u001b[0;32mreturn\u001b[0m \u001b[0mdraw\u001b[0m\u001b[0;34m(\u001b[0m\u001b[0martist\u001b[0m\u001b[0;34m,\u001b[0m \u001b[0mrenderer\u001b[0m\u001b[0;34m,\u001b[0m \u001b[0;34m*\u001b[0m\u001b[0margs\u001b[0m\u001b[0;34m,\u001b[0m \u001b[0;34m**\u001b[0m\u001b[0mkwargs\u001b[0m\u001b[0;34m)\u001b[0m\u001b[0;34m\u001b[0m\u001b[0;34m\u001b[0m\u001b[0m\n\u001b[0m\u001b[1;32m     39\u001b[0m         \u001b[0;32mfinally\u001b[0m\u001b[0;34m:\u001b[0m\u001b[0;34m\u001b[0m\u001b[0;34m\u001b[0m\u001b[0m\n\u001b[1;32m     40\u001b[0m             \u001b[0;32mif\u001b[0m \u001b[0martist\u001b[0m\u001b[0;34m.\u001b[0m\u001b[0mget_agg_filter\u001b[0m\u001b[0;34m(\u001b[0m\u001b[0;34m)\u001b[0m \u001b[0;32mis\u001b[0m \u001b[0;32mnot\u001b[0m \u001b[0;32mNone\u001b[0m\u001b[0;34m:\u001b[0m\u001b[0;34m\u001b[0m\u001b[0;34m\u001b[0m\u001b[0m\n",
            "\u001b[0;32m/usr/local/lib/python3.7/dist-packages/matplotlib/axis.py\u001b[0m in \u001b[0;36mdraw\u001b[0;34m(self, renderer, *args, **kwargs)\u001b[0m\n\u001b[1;32m   1225\u001b[0m         \u001b[0mrenderer\u001b[0m\u001b[0;34m.\u001b[0m\u001b[0mopen_group\u001b[0m\u001b[0;34m(\u001b[0m\u001b[0m__name__\u001b[0m\u001b[0;34m,\u001b[0m \u001b[0mgid\u001b[0m\u001b[0;34m=\u001b[0m\u001b[0mself\u001b[0m\u001b[0;34m.\u001b[0m\u001b[0mget_gid\u001b[0m\u001b[0;34m(\u001b[0m\u001b[0;34m)\u001b[0m\u001b[0;34m)\u001b[0m\u001b[0;34m\u001b[0m\u001b[0;34m\u001b[0m\u001b[0m\n\u001b[1;32m   1226\u001b[0m \u001b[0;34m\u001b[0m\u001b[0m\n\u001b[0;32m-> 1227\u001b[0;31m         \u001b[0mticks_to_draw\u001b[0m \u001b[0;34m=\u001b[0m \u001b[0mself\u001b[0m\u001b[0;34m.\u001b[0m\u001b[0m_update_ticks\u001b[0m\u001b[0;34m(\u001b[0m\u001b[0;34m)\u001b[0m\u001b[0;34m\u001b[0m\u001b[0;34m\u001b[0m\u001b[0m\n\u001b[0m\u001b[1;32m   1228\u001b[0m         ticklabelBoxes, ticklabelBoxes2 = self._get_tick_bboxes(ticks_to_draw,\n\u001b[1;32m   1229\u001b[0m                                                                 renderer)\n",
            "\u001b[0;32m/usr/local/lib/python3.7/dist-packages/matplotlib/axis.py\u001b[0m in \u001b[0;36m_update_ticks\u001b[0;34m(self)\u001b[0m\n\u001b[1;32m   1109\u001b[0m             \u001b[0mtick\u001b[0m\u001b[0;34m.\u001b[0m\u001b[0mset_label1\u001b[0m\u001b[0;34m(\u001b[0m\u001b[0mlabel\u001b[0m\u001b[0;34m)\u001b[0m\u001b[0;34m\u001b[0m\u001b[0;34m\u001b[0m\u001b[0m\n\u001b[1;32m   1110\u001b[0m             \u001b[0mtick\u001b[0m\u001b[0;34m.\u001b[0m\u001b[0mset_label2\u001b[0m\u001b[0;34m(\u001b[0m\u001b[0mlabel\u001b[0m\u001b[0;34m)\u001b[0m\u001b[0;34m\u001b[0m\u001b[0;34m\u001b[0m\u001b[0m\n\u001b[0;32m-> 1111\u001b[0;31m         \u001b[0mminor_locs\u001b[0m \u001b[0;34m=\u001b[0m \u001b[0mself\u001b[0m\u001b[0;34m.\u001b[0m\u001b[0mget_minorticklocs\u001b[0m\u001b[0;34m(\u001b[0m\u001b[0;34m)\u001b[0m\u001b[0;34m\u001b[0m\u001b[0;34m\u001b[0m\u001b[0m\n\u001b[0m\u001b[1;32m   1112\u001b[0m         \u001b[0mminor_labels\u001b[0m \u001b[0;34m=\u001b[0m \u001b[0mself\u001b[0m\u001b[0;34m.\u001b[0m\u001b[0mminor\u001b[0m\u001b[0;34m.\u001b[0m\u001b[0mformatter\u001b[0m\u001b[0;34m.\u001b[0m\u001b[0mformat_ticks\u001b[0m\u001b[0;34m(\u001b[0m\u001b[0mminor_locs\u001b[0m\u001b[0;34m)\u001b[0m\u001b[0;34m\u001b[0m\u001b[0;34m\u001b[0m\u001b[0m\n\u001b[1;32m   1113\u001b[0m         \u001b[0mminor_ticks\u001b[0m \u001b[0;34m=\u001b[0m \u001b[0mself\u001b[0m\u001b[0;34m.\u001b[0m\u001b[0mget_minor_ticks\u001b[0m\u001b[0;34m(\u001b[0m\u001b[0mlen\u001b[0m\u001b[0;34m(\u001b[0m\u001b[0mminor_locs\u001b[0m\u001b[0;34m)\u001b[0m\u001b[0;34m)\u001b[0m\u001b[0;34m\u001b[0m\u001b[0;34m\u001b[0m\u001b[0m\n",
            "\u001b[0;32m/usr/local/lib/python3.7/dist-packages/matplotlib/axis.py\u001b[0m in \u001b[0;36mget_minorticklocs\u001b[0;34m(self)\u001b[0m\n\u001b[1;32m   1351\u001b[0m         \u001b[0;34m\"\"\"Get the array of minor tick locations in data coordinates.\"\"\"\u001b[0m\u001b[0;34m\u001b[0m\u001b[0;34m\u001b[0m\u001b[0m\n\u001b[1;32m   1352\u001b[0m         \u001b[0;31m# Remove minor ticks duplicating major ticks.\u001b[0m\u001b[0;34m\u001b[0m\u001b[0;34m\u001b[0m\u001b[0;34m\u001b[0m\u001b[0m\n\u001b[0;32m-> 1353\u001b[0;31m         \u001b[0mmajor_locs\u001b[0m \u001b[0;34m=\u001b[0m \u001b[0mself\u001b[0m\u001b[0;34m.\u001b[0m\u001b[0mmajor\u001b[0m\u001b[0;34m.\u001b[0m\u001b[0mlocator\u001b[0m\u001b[0;34m(\u001b[0m\u001b[0;34m)\u001b[0m\u001b[0;34m\u001b[0m\u001b[0;34m\u001b[0m\u001b[0m\n\u001b[0m\u001b[1;32m   1354\u001b[0m         \u001b[0mminor_locs\u001b[0m \u001b[0;34m=\u001b[0m \u001b[0mself\u001b[0m\u001b[0;34m.\u001b[0m\u001b[0mminor\u001b[0m\u001b[0;34m.\u001b[0m\u001b[0mlocator\u001b[0m\u001b[0;34m(\u001b[0m\u001b[0;34m)\u001b[0m\u001b[0;34m\u001b[0m\u001b[0;34m\u001b[0m\u001b[0m\n\u001b[1;32m   1355\u001b[0m         \u001b[0mtransform\u001b[0m \u001b[0;34m=\u001b[0m \u001b[0mself\u001b[0m\u001b[0;34m.\u001b[0m\u001b[0m_scale\u001b[0m\u001b[0;34m.\u001b[0m\u001b[0mget_transform\u001b[0m\u001b[0;34m(\u001b[0m\u001b[0;34m)\u001b[0m\u001b[0;34m\u001b[0m\u001b[0;34m\u001b[0m\u001b[0m\n",
            "\u001b[0;32m/usr/local/lib/python3.7/dist-packages/matplotlib/ticker.py\u001b[0m in \u001b[0;36m__call__\u001b[0;34m(self)\u001b[0m\n\u001b[1;32m   2201\u001b[0m     \u001b[0;32mdef\u001b[0m \u001b[0m__call__\u001b[0m\u001b[0;34m(\u001b[0m\u001b[0mself\u001b[0m\u001b[0;34m)\u001b[0m\u001b[0;34m:\u001b[0m\u001b[0;34m\u001b[0m\u001b[0;34m\u001b[0m\u001b[0m\n\u001b[1;32m   2202\u001b[0m         \u001b[0mvmin\u001b[0m\u001b[0;34m,\u001b[0m \u001b[0mvmax\u001b[0m \u001b[0;34m=\u001b[0m \u001b[0mself\u001b[0m\u001b[0;34m.\u001b[0m\u001b[0maxis\u001b[0m\u001b[0;34m.\u001b[0m\u001b[0mget_view_interval\u001b[0m\u001b[0;34m(\u001b[0m\u001b[0;34m)\u001b[0m\u001b[0;34m\u001b[0m\u001b[0;34m\u001b[0m\u001b[0m\n\u001b[0;32m-> 2203\u001b[0;31m         \u001b[0;32mreturn\u001b[0m \u001b[0mself\u001b[0m\u001b[0;34m.\u001b[0m\u001b[0mtick_values\u001b[0m\u001b[0;34m(\u001b[0m\u001b[0mvmin\u001b[0m\u001b[0;34m,\u001b[0m \u001b[0mvmax\u001b[0m\u001b[0;34m)\u001b[0m\u001b[0;34m\u001b[0m\u001b[0;34m\u001b[0m\u001b[0m\n\u001b[0m\u001b[1;32m   2204\u001b[0m \u001b[0;34m\u001b[0m\u001b[0m\n\u001b[1;32m   2205\u001b[0m     \u001b[0;32mdef\u001b[0m \u001b[0mtick_values\u001b[0m\u001b[0;34m(\u001b[0m\u001b[0mself\u001b[0m\u001b[0;34m,\u001b[0m \u001b[0mvmin\u001b[0m\u001b[0;34m,\u001b[0m \u001b[0mvmax\u001b[0m\u001b[0;34m)\u001b[0m\u001b[0;34m:\u001b[0m\u001b[0;34m\u001b[0m\u001b[0;34m\u001b[0m\u001b[0m\n",
            "\u001b[0;32m/usr/local/lib/python3.7/dist-packages/matplotlib/ticker.py\u001b[0m in \u001b[0;36mtick_values\u001b[0;34m(self, vmin, vmax)\u001b[0m\n\u001b[1;32m   2209\u001b[0m         vmin, vmax = mtransforms.nonsingular(\n\u001b[1;32m   2210\u001b[0m             vmin, vmax, expander=1e-13, tiny=1e-14)\n\u001b[0;32m-> 2211\u001b[0;31m         \u001b[0mlocs\u001b[0m \u001b[0;34m=\u001b[0m \u001b[0mself\u001b[0m\u001b[0;34m.\u001b[0m\u001b[0m_raw_ticks\u001b[0m\u001b[0;34m(\u001b[0m\u001b[0mvmin\u001b[0m\u001b[0;34m,\u001b[0m \u001b[0mvmax\u001b[0m\u001b[0;34m)\u001b[0m\u001b[0;34m\u001b[0m\u001b[0;34m\u001b[0m\u001b[0m\n\u001b[0m\u001b[1;32m   2212\u001b[0m \u001b[0;34m\u001b[0m\u001b[0m\n\u001b[1;32m   2213\u001b[0m         \u001b[0mprune\u001b[0m \u001b[0;34m=\u001b[0m \u001b[0mself\u001b[0m\u001b[0;34m.\u001b[0m\u001b[0m_prune\u001b[0m\u001b[0;34m\u001b[0m\u001b[0;34m\u001b[0m\u001b[0m\n",
            "\u001b[0;32m/usr/local/lib/python3.7/dist-packages/matplotlib/ticker.py\u001b[0m in \u001b[0;36m_raw_ticks\u001b[0;34m(self, vmin, vmax)\u001b[0m\n\u001b[1;32m   2148\u001b[0m         \u001b[0;32mif\u001b[0m \u001b[0mself\u001b[0m\u001b[0;34m.\u001b[0m\u001b[0m_nbins\u001b[0m \u001b[0;34m==\u001b[0m \u001b[0;34m'auto'\u001b[0m\u001b[0;34m:\u001b[0m\u001b[0;34m\u001b[0m\u001b[0;34m\u001b[0m\u001b[0m\n\u001b[1;32m   2149\u001b[0m             \u001b[0;32mif\u001b[0m \u001b[0mself\u001b[0m\u001b[0;34m.\u001b[0m\u001b[0maxis\u001b[0m \u001b[0;32mis\u001b[0m \u001b[0;32mnot\u001b[0m \u001b[0;32mNone\u001b[0m\u001b[0;34m:\u001b[0m\u001b[0;34m\u001b[0m\u001b[0;34m\u001b[0m\u001b[0m\n\u001b[0;32m-> 2150\u001b[0;31m                 nbins = np.clip(self.axis.get_tick_space(),\n\u001b[0m\u001b[1;32m   2151\u001b[0m                                 max(1, self._min_n_ticks - 1), 9)\n\u001b[1;32m   2152\u001b[0m             \u001b[0;32melse\u001b[0m\u001b[0;34m:\u001b[0m\u001b[0;34m\u001b[0m\u001b[0;34m\u001b[0m\u001b[0m\n",
            "\u001b[0;32m/usr/local/lib/python3.7/dist-packages/matplotlib/axis.py\u001b[0m in \u001b[0;36mget_tick_space\u001b[0;34m(self)\u001b[0m\n\u001b[1;32m   2188\u001b[0m         \u001b[0mends\u001b[0m \u001b[0;34m=\u001b[0m \u001b[0mself\u001b[0m\u001b[0;34m.\u001b[0m\u001b[0maxes\u001b[0m\u001b[0;34m.\u001b[0m\u001b[0mtransAxes\u001b[0m\u001b[0;34m.\u001b[0m\u001b[0mtransform\u001b[0m\u001b[0;34m(\u001b[0m\u001b[0;34m[\u001b[0m\u001b[0;34m[\u001b[0m\u001b[0;36m0\u001b[0m\u001b[0;34m,\u001b[0m \u001b[0;36m0\u001b[0m\u001b[0;34m]\u001b[0m\u001b[0;34m,\u001b[0m \u001b[0;34m[\u001b[0m\u001b[0;36m1\u001b[0m\u001b[0;34m,\u001b[0m \u001b[0;36m0\u001b[0m\u001b[0;34m]\u001b[0m\u001b[0;34m]\u001b[0m\u001b[0;34m)\u001b[0m\u001b[0;34m\u001b[0m\u001b[0;34m\u001b[0m\u001b[0m\n\u001b[1;32m   2189\u001b[0m         \u001b[0mlength\u001b[0m \u001b[0;34m=\u001b[0m \u001b[0;34m(\u001b[0m\u001b[0;34m(\u001b[0m\u001b[0mends\u001b[0m\u001b[0;34m[\u001b[0m\u001b[0;36m1\u001b[0m\u001b[0;34m]\u001b[0m\u001b[0;34m[\u001b[0m\u001b[0;36m0\u001b[0m\u001b[0;34m]\u001b[0m \u001b[0;34m-\u001b[0m \u001b[0mends\u001b[0m\u001b[0;34m[\u001b[0m\u001b[0;36m0\u001b[0m\u001b[0;34m]\u001b[0m\u001b[0;34m[\u001b[0m\u001b[0;36m0\u001b[0m\u001b[0;34m]\u001b[0m\u001b[0;34m)\u001b[0m \u001b[0;34m/\u001b[0m \u001b[0mself\u001b[0m\u001b[0;34m.\u001b[0m\u001b[0maxes\u001b[0m\u001b[0;34m.\u001b[0m\u001b[0mfigure\u001b[0m\u001b[0;34m.\u001b[0m\u001b[0mdpi\u001b[0m\u001b[0;34m)\u001b[0m \u001b[0;34m*\u001b[0m \u001b[0;36m72\u001b[0m\u001b[0;34m\u001b[0m\u001b[0;34m\u001b[0m\u001b[0m\n\u001b[0;32m-> 2190\u001b[0;31m         \u001b[0mtick\u001b[0m \u001b[0;34m=\u001b[0m \u001b[0mself\u001b[0m\u001b[0;34m.\u001b[0m\u001b[0m_get_tick\u001b[0m\u001b[0;34m(\u001b[0m\u001b[0;32mTrue\u001b[0m\u001b[0;34m)\u001b[0m\u001b[0;34m\u001b[0m\u001b[0;34m\u001b[0m\u001b[0m\n\u001b[0m\u001b[1;32m   2191\u001b[0m         \u001b[0;31m# There is a heuristic here that the aspect ratio of tick text\u001b[0m\u001b[0;34m\u001b[0m\u001b[0;34m\u001b[0m\u001b[0;34m\u001b[0m\u001b[0m\n\u001b[1;32m   2192\u001b[0m         \u001b[0;31m# is no more than 3:1\u001b[0m\u001b[0;34m\u001b[0m\u001b[0;34m\u001b[0m\u001b[0;34m\u001b[0m\u001b[0m\n",
            "\u001b[0;32m/usr/local/lib/python3.7/dist-packages/matplotlib/axis.py\u001b[0m in \u001b[0;36m_get_tick\u001b[0;34m(self, major)\u001b[0m\n\u001b[1;32m   1941\u001b[0m         \u001b[0;32melse\u001b[0m\u001b[0;34m:\u001b[0m\u001b[0;34m\u001b[0m\u001b[0;34m\u001b[0m\u001b[0m\n\u001b[1;32m   1942\u001b[0m             \u001b[0mtick_kw\u001b[0m \u001b[0;34m=\u001b[0m \u001b[0mself\u001b[0m\u001b[0;34m.\u001b[0m\u001b[0m_minor_tick_kw\u001b[0m\u001b[0;34m\u001b[0m\u001b[0;34m\u001b[0m\u001b[0m\n\u001b[0;32m-> 1943\u001b[0;31m         \u001b[0;32mreturn\u001b[0m \u001b[0mXTick\u001b[0m\u001b[0;34m(\u001b[0m\u001b[0mself\u001b[0m\u001b[0;34m.\u001b[0m\u001b[0maxes\u001b[0m\u001b[0;34m,\u001b[0m \u001b[0;36m0\u001b[0m\u001b[0;34m,\u001b[0m \u001b[0;34m''\u001b[0m\u001b[0;34m,\u001b[0m \u001b[0mmajor\u001b[0m\u001b[0;34m=\u001b[0m\u001b[0mmajor\u001b[0m\u001b[0;34m,\u001b[0m \u001b[0;34m**\u001b[0m\u001b[0mtick_kw\u001b[0m\u001b[0;34m)\u001b[0m\u001b[0;34m\u001b[0m\u001b[0;34m\u001b[0m\u001b[0m\n\u001b[0m\u001b[1;32m   1944\u001b[0m \u001b[0;34m\u001b[0m\u001b[0m\n\u001b[1;32m   1945\u001b[0m     \u001b[0;32mdef\u001b[0m \u001b[0m_get_label\u001b[0m\u001b[0;34m(\u001b[0m\u001b[0mself\u001b[0m\u001b[0;34m)\u001b[0m\u001b[0;34m:\u001b[0m\u001b[0;34m\u001b[0m\u001b[0;34m\u001b[0m\u001b[0m\n",
            "\u001b[0;32m/usr/local/lib/python3.7/dist-packages/matplotlib/axis.py\u001b[0m in \u001b[0;36m__init__\u001b[0;34m(self, axes, loc, label, size, width, color, tickdir, pad, labelsize, labelcolor, zorder, gridOn, tick1On, tick2On, label1On, label2On, major, labelrotation, grid_color, grid_linestyle, grid_linewidth, grid_alpha, **kw)\u001b[0m\n\u001b[1;32m    157\u001b[0m         \u001b[0mself\u001b[0m\u001b[0;34m.\u001b[0m\u001b[0mtick1line\u001b[0m \u001b[0;34m=\u001b[0m \u001b[0mself\u001b[0m\u001b[0;34m.\u001b[0m\u001b[0m_get_tick1line\u001b[0m\u001b[0;34m(\u001b[0m\u001b[0;34m)\u001b[0m\u001b[0;34m\u001b[0m\u001b[0;34m\u001b[0m\u001b[0m\n\u001b[1;32m    158\u001b[0m         \u001b[0mself\u001b[0m\u001b[0;34m.\u001b[0m\u001b[0mtick2line\u001b[0m \u001b[0;34m=\u001b[0m \u001b[0mself\u001b[0m\u001b[0;34m.\u001b[0m\u001b[0m_get_tick2line\u001b[0m\u001b[0;34m(\u001b[0m\u001b[0;34m)\u001b[0m\u001b[0;34m\u001b[0m\u001b[0;34m\u001b[0m\u001b[0m\n\u001b[0;32m--> 159\u001b[0;31m         \u001b[0mself\u001b[0m\u001b[0;34m.\u001b[0m\u001b[0mgridline\u001b[0m \u001b[0;34m=\u001b[0m \u001b[0mself\u001b[0m\u001b[0;34m.\u001b[0m\u001b[0m_get_gridline\u001b[0m\u001b[0;34m(\u001b[0m\u001b[0;34m)\u001b[0m\u001b[0;34m\u001b[0m\u001b[0;34m\u001b[0m\u001b[0m\n\u001b[0m\u001b[1;32m    160\u001b[0m         \u001b[0mself\u001b[0m\u001b[0;34m.\u001b[0m\u001b[0mlabel1\u001b[0m \u001b[0;34m=\u001b[0m \u001b[0mself\u001b[0m\u001b[0;34m.\u001b[0m\u001b[0m_get_text1\u001b[0m\u001b[0;34m(\u001b[0m\u001b[0;34m)\u001b[0m\u001b[0;34m\u001b[0m\u001b[0;34m\u001b[0m\u001b[0m\n\u001b[1;32m    161\u001b[0m         \u001b[0mself\u001b[0m\u001b[0;34m.\u001b[0m\u001b[0mlabel2\u001b[0m \u001b[0;34m=\u001b[0m \u001b[0mself\u001b[0m\u001b[0;34m.\u001b[0m\u001b[0m_get_text2\u001b[0m\u001b[0;34m(\u001b[0m\u001b[0;34m)\u001b[0m\u001b[0;34m\u001b[0m\u001b[0;34m\u001b[0m\u001b[0m\n",
            "\u001b[0;32m/usr/local/lib/python3.7/dist-packages/matplotlib/axis.py\u001b[0m in \u001b[0;36m_get_gridline\u001b[0;34m(self)\u001b[0m\n\u001b[1;32m    492\u001b[0m                           \u001b[0malpha\u001b[0m\u001b[0;34m=\u001b[0m\u001b[0mself\u001b[0m\u001b[0;34m.\u001b[0m\u001b[0m_grid_alpha\u001b[0m\u001b[0;34m,\u001b[0m\u001b[0;34m\u001b[0m\u001b[0;34m\u001b[0m\u001b[0m\n\u001b[1;32m    493\u001b[0m                           \u001b[0mmarkersize\u001b[0m\u001b[0;34m=\u001b[0m\u001b[0;36m0\u001b[0m\u001b[0;34m,\u001b[0m\u001b[0;34m\u001b[0m\u001b[0;34m\u001b[0m\u001b[0m\n\u001b[0;32m--> 494\u001b[0;31m                           **self._grid_kw)\n\u001b[0m\u001b[1;32m    495\u001b[0m         \u001b[0ml\u001b[0m\u001b[0;34m.\u001b[0m\u001b[0mset_transform\u001b[0m\u001b[0;34m(\u001b[0m\u001b[0mself\u001b[0m\u001b[0;34m.\u001b[0m\u001b[0maxes\u001b[0m\u001b[0;34m.\u001b[0m\u001b[0mget_xaxis_transform\u001b[0m\u001b[0;34m(\u001b[0m\u001b[0mwhich\u001b[0m\u001b[0;34m=\u001b[0m\u001b[0;34m'grid'\u001b[0m\u001b[0;34m)\u001b[0m\u001b[0;34m)\u001b[0m\u001b[0;34m\u001b[0m\u001b[0;34m\u001b[0m\u001b[0m\n\u001b[1;32m    496\u001b[0m         \u001b[0ml\u001b[0m\u001b[0;34m.\u001b[0m\u001b[0mget_path\u001b[0m\u001b[0;34m(\u001b[0m\u001b[0;34m)\u001b[0m\u001b[0;34m.\u001b[0m\u001b[0m_interpolation_steps\u001b[0m \u001b[0;34m=\u001b[0m \u001b[0mGRIDLINE_INTERPOLATION_STEPS\u001b[0m\u001b[0;34m\u001b[0m\u001b[0;34m\u001b[0m\u001b[0m\n",
            "\u001b[0;32m/usr/local/lib/python3.7/dist-packages/matplotlib/lines.py\u001b[0m in \u001b[0;36m__init__\u001b[0;34m(self, xdata, ydata, linewidth, linestyle, color, marker, markersize, markeredgewidth, markeredgecolor, markerfacecolor, markerfacecoloralt, fillstyle, antialiased, dash_capstyle, solid_capstyle, dash_joinstyle, solid_joinstyle, pickradius, drawstyle, markevery, **kwargs)\u001b[0m\n\u001b[1;32m    404\u001b[0m             \u001b[0mself\u001b[0m\u001b[0;34m.\u001b[0m\u001b[0mpickradius\u001b[0m \u001b[0;34m=\u001b[0m \u001b[0mself\u001b[0m\u001b[0;34m.\u001b[0m\u001b[0m_picker\u001b[0m\u001b[0;34m\u001b[0m\u001b[0;34m\u001b[0m\u001b[0m\n\u001b[1;32m    405\u001b[0m \u001b[0;34m\u001b[0m\u001b[0m\n\u001b[0;32m--> 406\u001b[0;31m         \u001b[0mself\u001b[0m\u001b[0;34m.\u001b[0m\u001b[0m_xorig\u001b[0m \u001b[0;34m=\u001b[0m \u001b[0mnp\u001b[0m\u001b[0;34m.\u001b[0m\u001b[0masarray\u001b[0m\u001b[0;34m(\u001b[0m\u001b[0;34m[\u001b[0m\u001b[0;34m]\u001b[0m\u001b[0;34m)\u001b[0m\u001b[0;34m\u001b[0m\u001b[0;34m\u001b[0m\u001b[0m\n\u001b[0m\u001b[1;32m    407\u001b[0m         \u001b[0mself\u001b[0m\u001b[0;34m.\u001b[0m\u001b[0m_yorig\u001b[0m \u001b[0;34m=\u001b[0m \u001b[0mnp\u001b[0m\u001b[0;34m.\u001b[0m\u001b[0masarray\u001b[0m\u001b[0;34m(\u001b[0m\u001b[0;34m[\u001b[0m\u001b[0;34m]\u001b[0m\u001b[0;34m)\u001b[0m\u001b[0;34m\u001b[0m\u001b[0;34m\u001b[0m\u001b[0m\n\u001b[1;32m    408\u001b[0m         \u001b[0mself\u001b[0m\u001b[0;34m.\u001b[0m\u001b[0m_invalidx\u001b[0m \u001b[0;34m=\u001b[0m \u001b[0;32mTrue\u001b[0m\u001b[0;34m\u001b[0m\u001b[0;34m\u001b[0m\u001b[0m\n",
            "\u001b[0;32m/usr/local/lib/python3.7/dist-packages/numpy/core/_asarray.py\u001b[0m in \u001b[0;36masarray\u001b[0;34m(a, dtype, order)\u001b[0m\n\u001b[1;32m     81\u001b[0m \u001b[0;34m\u001b[0m\u001b[0m\n\u001b[1;32m     82\u001b[0m     \"\"\"\n\u001b[0;32m---> 83\u001b[0;31m     \u001b[0;32mreturn\u001b[0m \u001b[0marray\u001b[0m\u001b[0;34m(\u001b[0m\u001b[0ma\u001b[0m\u001b[0;34m,\u001b[0m \u001b[0mdtype\u001b[0m\u001b[0;34m,\u001b[0m \u001b[0mcopy\u001b[0m\u001b[0;34m=\u001b[0m\u001b[0;32mFalse\u001b[0m\u001b[0;34m,\u001b[0m \u001b[0morder\u001b[0m\u001b[0;34m=\u001b[0m\u001b[0morder\u001b[0m\u001b[0;34m)\u001b[0m\u001b[0;34m\u001b[0m\u001b[0;34m\u001b[0m\u001b[0m\n\u001b[0m\u001b[1;32m     84\u001b[0m \u001b[0;34m\u001b[0m\u001b[0m\n\u001b[1;32m     85\u001b[0m \u001b[0;34m\u001b[0m\u001b[0m\n",
            "\u001b[0;31mKeyboardInterrupt\u001b[0m: "
          ]
        }
      ]
    }
  ]
}